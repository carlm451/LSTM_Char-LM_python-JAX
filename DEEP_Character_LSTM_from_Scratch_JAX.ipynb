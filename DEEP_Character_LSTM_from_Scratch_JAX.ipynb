{
  "cells": [
    {
      "cell_type": "code",
      "execution_count": 1,
      "metadata": {
        "id": "OD2YpM0yclp0"
      },
      "outputs": [],
      "source": [
        "import jax.numpy as jnp\n",
        "from jax import grad, jit, vmap\n",
        "from jax import random\n",
        "\n",
        "from textwrap import wrap\n",
        "\n",
        "from copy import deepcopy"
      ]
    },
    {
      "cell_type": "code",
      "execution_count": 2,
      "metadata": {
        "colab": {
          "base_uri": "https://localhost:8080/"
        },
        "id": "Pf1oQlfWdPEV",
        "outputId": "de26b6ac-e148-43be-c901-0d21f936fae8"
      },
      "outputs": [
        {
          "output_type": "stream",
          "name": "stdout",
          "text": [
            "26 unique characters\n",
            "52000 total characters\n"
          ]
        }
      ],
      "source": [
        "training_data = 'abcdefghijklmnopqrstuvwxyz'*2000\n",
        "\n",
        "chars = set(list(training_data))\n",
        "\n",
        "vocab_size = len(chars)\n",
        "\n",
        "char_to_ix = {ch:i for i,ch in enumerate(chars)}\n",
        "ix_to_char = {i:ch for i,ch in enumerate(chars)}\n",
        "\n",
        "print(f'{vocab_size} unique characters')\n",
        "print(f'{len(training_data)} total characters')"
      ]
    },
    {
      "cell_type": "code",
      "execution_count": 3,
      "metadata": {
        "colab": {
          "base_uri": "https://localhost:8080/"
        },
        "id": "lVYosrYdc6GU",
        "outputId": "a30b553d-9b10-4f4e-f6bc-a94a3993aafe"
      },
      "outputs": [
        {
          "output_type": "stream",
          "name": "stdout",
          "text": [
            "LSTM with 30 hidden units\n",
            "Single layer LSTM has 7646 total parameters\n",
            "Will train on character sequences of length 10\n",
            "\n",
            "Training data sample: \n",
            "\n",
            "               abcdefghijklmnopqrstuvwxyzabcdefghijklmnopqrstuvwxyzabcdefghijklmnopqr               \n",
            "               stuvwxyzabcdefghijklmnopqrstuvwxyzabcdefghijklmnopqrstuvwxyzabcdefghij               \n",
            "                    klmnopqrstuvwxyzabcdefghijklmnopqrstuvwxyzabcdefghijklmnopqr                    \n",
            "\n"
          ]
        }
      ],
      "source": [
        "hidden_size = 30\n",
        "\n",
        "seq_length = 10\n",
        "\n",
        "total_params = 5 * hidden_size * vocab_size + 4 * hidden_size**2 + 4 * hidden_size + vocab_size \n",
        "\n",
        "print(f'LSTM with {hidden_size} hidden units')\n",
        "print(f'Single layer LSTM has {total_params} total parameters')\n",
        "print(f'Will train on character sequences of length {seq_length}')\n",
        "print()\n",
        "txt = wrap(training_data[len(training_data)//2:(len(training_data)//2)+200])\n",
        "txt = [line.center(100) for line in txt]\n",
        "txt = '\\n'.join(txt)\n",
        "print('Training data sample: \\n')\n",
        "print(txt)\n",
        "print()"
      ]
    },
    {
      "cell_type": "code",
      "execution_count": 5,
      "metadata": {
        "id": "wVrhDpOidnkE"
      },
      "outputs": [],
      "source": [
        "def initialize_lstm_weights(key,n_h,n_x):\n",
        "    \n",
        "    subkeys=random.split(key,9)\n",
        "\n",
        "    params = dict()\n",
        "\n",
        "    params['Wxc'] = random.normal(subkeys[1],(n_h,n_x))*0.01 # input to cell state\n",
        "    params['Wxu'] = random.normal(subkeys[2],(n_h,n_x))*0.01 # input to update\n",
        "    params['Wxf'] = random.normal(subkeys[3],(n_h,n_x))*0.01 # input to forget\n",
        "    params['Wxo'] = random.normal(subkeys[4],(n_h,n_x))*0.01 # input to output\n",
        "\n",
        "    params['bc'] = jnp.zeros((n_h, 1)) # hidden bias\n",
        "    params['bu'] = jnp.zeros((n_h, 1)) # forget bias\n",
        "    params['bf'] = jnp.zeros((n_h, 1)) # update bias\n",
        "    params['bo'] = jnp.zeros((n_h, 1)) # output bias\n",
        "\n",
        "    params['Whc'] = random.normal(subkeys[5],(n_h,n_h))*0.01 # hidden to cell\n",
        "    params['Whu'] = random.normal(subkeys[6],(n_h,n_h))*0.01 # hidden to update\n",
        "    params['Whf'] = random.normal(subkeys[7],(n_h,n_h))*0.01 # hidden to forget\n",
        "    params['Who'] = random.normal(subkeys[8],(n_h,n_h))*0.01 # hidden to output\n",
        "\n",
        "    grad_mems = dict()\n",
        "    sqrd_mems = dict()\n",
        "\n",
        "    for parameter in params.keys():\n",
        "\n",
        "        shape = params[parameter].shape\n",
        "\n",
        "        grad_mems[parameter]=jnp.zeros(shape)\n",
        "        sqrd_mems[parameter]=jnp.zeros(shape)\n",
        "\n",
        "    return subkeys[0], params, grad_mems, sqrd_mems\n",
        "\n",
        "def initialize_dense_weights(key,n_h,n_x):\n",
        "    \n",
        "    subkeys=random.split(key,2)\n",
        "\n",
        "    params = dict()\n",
        "\n",
        "    params['Why'] = random.normal(subkeys[1],(n_x,n_h))*0.01 # hidden to output\n",
        "    params['by'] = jnp.zeros((n_x, 1)) # output bias\n",
        "\n",
        "    grad_mems = dict()\n",
        "    sqrd_mems = dict()\n",
        "\n",
        "    for parameter in params.keys():\n",
        "\n",
        "        shape = params[parameter].shape\n",
        "\n",
        "        grad_mems[parameter]=jnp.zeros(shape)\n",
        "        sqrd_mems[parameter]=jnp.zeros(shape)\n",
        "\n",
        "    return subkeys[0], params, grad_mems, sqrd_mems"
      ]
    },
    {
      "cell_type": "code",
      "execution_count": 27,
      "metadata": {
        "colab": {
          "base_uri": "https://localhost:8080/"
        },
        "id": "NtiIlmbjfRYj",
        "outputId": "dedc66c9-917e-422a-f763-dddbfc1f560f"
      },
      "outputs": [
        {
          "output_type": "stream",
          "name": "stdout",
          "text": [
            "Layer 0:  dict_keys(['Wxc', 'Wxu', 'Wxf', 'Wxo', 'bc', 'bu', 'bf', 'bo', 'Whc', 'Whu', 'Whf', 'Who'])\n",
            "Layer 1:  dict_keys(['Wxc', 'Wxu', 'Wxf', 'Wxo', 'bc', 'bu', 'bf', 'bo', 'Whc', 'Whu', 'Whf', 'Who'])\n",
            "Layer 2:  dict_keys(['Why', 'by'])\n",
            "0 Wxc (30, 26) 780\n",
            "0 Wxu (30, 26) 780\n",
            "0 Wxf (30, 26) 780\n",
            "0 Wxo (30, 26) 780\n",
            "0 bc (30, 1) 30\n",
            "0 bu (30, 1) 30\n",
            "0 bf (30, 1) 30\n",
            "0 bo (30, 1) 30\n",
            "0 Whc (30, 30) 900\n",
            "0 Whu (30, 30) 900\n",
            "0 Whf (30, 30) 900\n",
            "0 Who (30, 30) 900\n",
            "1 Wxc (30, 30) 900\n",
            "1 Wxu (30, 30) 900\n",
            "1 Wxf (30, 30) 900\n",
            "1 Wxo (30, 30) 900\n",
            "1 bc (30, 1) 30\n",
            "1 bu (30, 1) 30\n",
            "1 bf (30, 1) 30\n",
            "1 bo (30, 1) 30\n",
            "1 Whc (30, 30) 900\n",
            "1 Whu (30, 30) 900\n",
            "1 Whf (30, 30) 900\n",
            "1 Who (30, 30) 900\n",
            "2 Why (26, 30) 780\n",
            "2 by (26, 1) 26\n",
            "14966\n"
          ]
        }
      ],
      "source": [
        "start_key = random.PRNGKey(0)\n",
        "\n",
        "all_params, all_grads, all_sqrd = {},{},{}\n",
        "\n",
        "key, all_params[0],all_grads[0],all_sqrd[0] = initialize_lstm_weights(start_key,hidden_size,vocab_size)\n",
        "\n",
        "key, all_params[1],all_grads[1],all_sqrd[1] = initialize_lstm_weights(key,hidden_size,hidden_size)\n",
        "\n",
        "key, all_params[2],all_grads[2],all_sqrd[2] = initialize_dense_weights(key,hidden_size,vocab_size)\n",
        "\n",
        "print('Layer 0: ',all_params[0].keys())\n",
        "print('Layer 1: ',all_params[1].keys())\n",
        "print('Layer 2: ',all_params[2].keys())\n",
        "\n",
        "total_params = 0\n",
        "\n",
        "for k1,v1 in all_params.items():\n",
        "\n",
        "    for k2,v2 in v1.items():\n",
        "\n",
        "        print(k1,k2,v2.shape,v2.size)\n",
        "\n",
        "        total_params += v2.size\n",
        "\n",
        "print(total_params)"
      ]
    },
    {
      "cell_type": "code",
      "execution_count": 28,
      "metadata": {
        "id": "nfih6PcffY4S"
      },
      "outputs": [],
      "source": [
        "def get_mini_batch(mini_batch_size,seq_length,char_to_ix,data):\n",
        "    '''\n",
        "    generator to continuous loop the data and pull out mini batches\n",
        "    '''\n",
        "    p = 0\n",
        "    epoch = 0\n",
        "\n",
        "    batch_character_size = mini_batch_size*(seq_length)\n",
        "\n",
        "    while True:\n",
        "\n",
        "        if p+batch_character_size+1>=len(data):\n",
        "            p=0\n",
        "            epoch = epoch + 1\n",
        "\n",
        "            # need to reset hprev,cprev if it loops?\n",
        "\n",
        "        inputs,targets = [],[]\n",
        "\n",
        "        for _ in range(mini_batch_size):\n",
        "\n",
        "            inputs.append([char_to_ix[ch] for ch in data[p:p+seq_length]])\n",
        "            targets.append([char_to_ix[ch] for ch in data[p+1:p+seq_length+1]])\n",
        "\n",
        "            p += seq_length\n",
        "\n",
        "        inputs = jnp.array(inputs)\n",
        "        targets = jnp.array(targets)\n",
        "\n",
        "        yield inputs,targets,epoch"
      ]
    },
    {
      "cell_type": "code",
      "execution_count": 35,
      "metadata": {
        "colab": {
          "base_uri": "https://localhost:8080/",
          "height": 191
        },
        "id": "CDlL1PFOio0A",
        "outputId": "9f0e790f-17d1-46a5-b3de-3085e31f87af"
      },
      "outputs": [
        {
          "output_type": "display_data",
          "data": {
            "text/plain": [
              "Array([[ 5,  9, 17, 21, 24, 12, 23, 19, 25, 20],\n",
              "       [ 6, 16,  3,  2,  4,  7, 10, 14, 11, 15],\n",
              "       [22,  0,  1, 18, 13,  8,  5,  9, 17, 21],\n",
              "       [24, 12, 23, 19, 25, 20,  6, 16,  3,  2]], dtype=int32)"
            ]
          },
          "metadata": {}
        },
        {
          "output_type": "display_data",
          "data": {
            "text/plain": [
              "Array([[ 9, 17, 21, 24, 12, 23, 19, 25, 20,  6],\n",
              "       [16,  3,  2,  4,  7, 10, 14, 11, 15, 22],\n",
              "       [ 0,  1, 18, 13,  8,  5,  9, 17, 21, 24],\n",
              "       [12, 23, 19, 25, 20,  6, 16,  3,  2,  4]], dtype=int32)"
            ]
          },
          "metadata": {}
        },
        {
          "output_type": "display_data",
          "data": {
            "text/plain": [
              "0"
            ]
          },
          "metadata": {}
        },
        {
          "output_type": "stream",
          "name": "stdout",
          "text": [
            "m = 4 seq_length = 10\n"
          ]
        }
      ],
      "source": [
        "batch_gen = get_mini_batch(4,seq_length,char_to_ix,training_data)\n",
        "\n",
        "inp,targ,epoch_test = next(batch_gen)\n",
        "\n",
        "display(inp,targ,epoch_test)\n",
        "\n",
        "print(f'm = {inp.shape[0]} seq_length = {inp.shape[1]}')"
      ]
    },
    {
      "cell_type": "code",
      "execution_count": 54,
      "metadata": {
        "id": "kkNHK-6EjYHh"
      },
      "outputs": [],
      "source": [
        "def sigmoid(z):\n",
        "    return 1.0/(1.0 + jnp.exp(-z))\n",
        "\n",
        "def softmax(y):\n",
        "    return jnp.exp(y) / jnp.sum(jnp.exp(y),axis=0)\n",
        "\n",
        "def encode_inputs(inputs,vocab_size):\n",
        "    '''\n",
        "    inputs - batch of tokens (m,seq_length)\n",
        "\n",
        "    vocab_size - needs to know number of characters in vocab to one-hot encode\n",
        "\n",
        "    xs dictionary indexed by time t , each item has shape (n_x, m)\n",
        "\n",
        "    '''\n",
        "\n",
        "    xs = {}\n",
        "\n",
        "    xs[-1] = None  # need hs and xs dicts to have same length = seq_length + 1\n",
        "\n",
        "    mini_batch_size = inputs.shape[0]\n",
        "    seq_length = inputs.shape[1]\n",
        "    \n",
        "    for t in range(seq_length):\n",
        "        xs[t] = jnp.zeros((vocab_size,mini_batch_size))\n",
        "        xs[t] = xs[t].at[inputs[:,t],jnp.arange(mini_batch_size)].set(1) # batch of one-hot vectors for time t\n",
        "\n",
        "    return xs\n",
        "\n",
        "\n",
        "\n",
        "def lstm_forward(inputs,hprev,cprev,params):\n",
        "    '''\n",
        "    single forward pass of the LSTM\n",
        "\n",
        "    returns loss for this mini-batch\n",
        "\n",
        "    returns cache of variables needed for backwards pass\n",
        "    '''\n",
        "\n",
        "    # dims\n",
        "    mini_batch_size = inputs[0].shape[1]\n",
        "    seq_length = len(inputs) - 1\n",
        "    #print(\"SEQ LENGTH \",seq_length)\n",
        "\n",
        "    hidden_size = hprev.shape[0]\n",
        "\n",
        "    vocab_size = params['Wxc'].shape[1]\n",
        "\n",
        "    # unpack params\n",
        "\n",
        "    Wxc = params['Wxc']\n",
        "    Wxu = params['Wxu']\n",
        "    Wxf = params['Wxf']\n",
        "    Wxo = params['Wxo']\n",
        "\n",
        "    Whc = params['Whc']\n",
        "    Whu = params['Whu']\n",
        "    Whf = params['Whf']\n",
        "    Who = params['Who']\n",
        "\n",
        "    bc = params['bc']\n",
        "    bu = params['bu']\n",
        "    bf = params['bf']\n",
        "    bo = params['bo']\n",
        "\n",
        "    #Why = params['Why']\n",
        "    #by = params['by']\n",
        "\n",
        "    # caches for forward pass\n",
        "\n",
        "    #xs, hs, cs, c_tildes = {}, {}, {}, {}\n",
        "\n",
        "    xs = inputs  # inputs should be given as dict with seq_length entries, each item = (n_x,m) array of vectors\n",
        "\n",
        "    hs, cs, c_tildes = {},{},{}\n",
        "\n",
        "    gamma_us, gamma_fs, gamma_os = {}, {}, {}\n",
        "\n",
        "    hs[-1] = jnp.tile(hprev,(1,mini_batch_size))\n",
        "    cs[-1] = jnp.tile(cprev,(1,mini_batch_size))\n",
        "\n",
        "    for t in range(seq_length):\n",
        "        #xs[t] = jnp.zeros((vocab_size,mini_batch_size))\n",
        "\n",
        "        #xs[t] = xs[t].at[inputs[:,t],jnp.arange(mini_batch_size)].set(1) # batch of one-hot vectors for time t\n",
        "\n",
        "        zc = jnp.dot(Wxc,xs[t]) + jnp.dot(Whc,hs[t-1]) + bc  # linear activation for candidate cell state C~\n",
        "        zu = jnp.dot(Wxu,xs[t]) + jnp.dot(Whu,hs[t-1]) + bu  # linear activation for update gate\n",
        "        zf = jnp.dot(Wxf,xs[t]) + jnp.dot(Whf,hs[t-1]) + bf  # linear activation for forget gate\n",
        "        zo = jnp.dot(Wxo,xs[t]) + jnp.dot(Who,hs[t-1]) + bo  # linear activation for output gate\n",
        "\n",
        "        c_tildes[t] = jnp.tanh(zc) # canidate for new c state\n",
        "\n",
        "        gamma_us[t] = sigmoid(zu)\n",
        "        gamma_fs[t] = sigmoid(zf)\n",
        "        gamma_os[t] = sigmoid(zo)\n",
        "\n",
        "        cs[t] = jnp.tanh(jnp.multiply(c_tildes[t],gamma_us[t]) + jnp.multiply(cs[t-1],gamma_fs[t]))  # tanh here is import!!!\n",
        "\n",
        "        hs[t] = jnp.multiply(cs[t],gamma_os[t]) # hidden state\n",
        "\n",
        "    gates = (gamma_us,gamma_fs,gamma_os)\n",
        "\n",
        "    states = (xs,hs,cs,c_tildes)\n",
        "\n",
        "    return states, gates\n",
        "\n",
        "def loss_function(targets,hidden_states,Why,by):\n",
        "    '''\n",
        "    hidden_states - dict of LSTM activations from last LSTM layer\n",
        "    '''\n",
        "\n",
        "    mini_batch_size=targets.shape[0]\n",
        "    seq_length = targets.shape[1]\n",
        "\n",
        "    ys, ps = {},{}\n",
        "\n",
        "    loss = 0\n",
        "\n",
        "    for t in range(seq_length):\n",
        "\n",
        "        ys[t] = jnp.dot(Why, hidden_states[t]) + by # unnormalized log probabilities for next chars\n",
        "\n",
        "        ps[t] = softmax(ys[t]) # probabilities for next chars  #  ps[t] should be shape (vocab_size,mini_batch_size)\n",
        "\n",
        "        loss += jnp.mean(jnp.log(jnp.sum(jnp.exp(ys[t]),axis=0)) - ys[t][targets[:,t],jnp.arange(mini_batch_size)])\n",
        "        #loss += -jnp.mean(jnp.log(ps[t][targets[:,t],jnp.arange(mini_batch_size)]))\n",
        "\n",
        "    p_cache = (ys,ps)\n",
        "\n",
        "    return loss, p_cache\n",
        "\n"
      ]
    },
    {
      "cell_type": "code",
      "execution_count": 55,
      "metadata": {
        "id": "UxIUNno4oiKU",
        "colab": {
          "base_uri": "https://localhost:8080/"
        },
        "outputId": "2cf6cdc6-b1fe-4df5-c27f-c510317d4678"
      },
      "outputs": [
        {
          "output_type": "stream",
          "name": "stdout",
          "text": [
            "10 (26, 4)\n",
            "<class 'tuple'> 4 <class 'tuple'> 3\n",
            "<class 'tuple'> 4 <class 'tuple'> 3\n",
            "<class 'dict'> 11\n"
          ]
        }
      ],
      "source": [
        "\n",
        "#initial zeros for hidden and cell states\n",
        "h = jnp.zeros((hidden_size,1))\n",
        "c = jnp.zeros((hidden_size,1))\n",
        "\n",
        "#one-hot encode batch of input tokens\n",
        "inputs_onehot = encode_inputs(inp,26)\n",
        "\n",
        "print(len(inputs_onehot)-1,inputs_onehot[0].shape)\n",
        "\n",
        "#dicts to hold lstm states and lstm gates each layer \n",
        "s_cache,g_cache = {},{}\n",
        "\n",
        "#forward pass through first lstm layer \n",
        "s_cache[0], g_cache[0] = lstm_forward(inputs_onehot,h,c,all_params[0])\n",
        "\n",
        "print(type(s_cache[0]),len(s_cache[0]),type(g_cache[0]),len(g_cache[0]))\n",
        "\n",
        "hs_layer0 = s_cache[0][1]  # hidden states from layer zero\n",
        "\n",
        "#forward pass through second lstm layer \n",
        "s_cache[1], g_cache[1] = lstm_forward(hs_layer0,h,c,all_params[1])\n",
        "\n",
        "print(type(s_cache[0]),len(s_cache[0]),type(g_cache[0]),len(g_cache[0]))\n",
        "\n",
        "hs_layer1 = s_cache[1][1]  # hidden states from layer 1\n",
        "\n",
        "print(type(hs_layer1),len(hs_layer1))\n",
        "\n",
        "# pass final hidden states to dense + softmax to get probs and loss \n",
        "test_loss,p_cache = loss_function(targ,hs_layer1,all_params[2]['Why'],all_params[2]['by'])\n",
        "\n"
      ]
    },
    {
      "cell_type": "code",
      "execution_count": 56,
      "metadata": {
        "colab": {
          "base_uri": "https://localhost:8080/"
        },
        "id": "2WrNAE9ao4fO",
        "outputId": "68b8ea2a-c445-4d1e-8348-594f62b2ea31"
      },
      "outputs": [
        {
          "output_type": "execute_result",
          "data": {
            "text/plain": [
              "Array(32.580967, dtype=float32)"
            ]
          },
          "metadata": {},
          "execution_count": 56
        }
      ],
      "source": [
        "test_loss"
      ]
    },
    {
      "cell_type": "code",
      "execution_count": 58,
      "metadata": {
        "colab": {
          "base_uri": "https://localhost:8080/"
        },
        "id": "H6uPaSKyrW5A",
        "outputId": "0b08cf30-58e5-4246-fbce-46aaedd11ebc"
      },
      "outputs": [
        {
          "output_type": "stream",
          "name": "stdout",
          "text": [
            "<class 'tuple'> 2\n",
            "<class 'tuple'> 3\n",
            "<class 'tuple'> 4\n"
          ]
        }
      ],
      "source": [
        "print(type(p_cache),len(p_cache))\n",
        "print(type(g_cache[0]),len(g_cache[0]))\n",
        "print(type(s_cache[0]),len(s_cache[0]))"
      ]
    },
    {
      "cell_type": "code",
      "execution_count": 68,
      "metadata": {
        "id": "M9URF-wmqYhY"
      },
      "outputs": [],
      "source": [
        "def loss_backward(targets,probs_cache,final_hidden_states,dense_params):\n",
        "\n",
        "    #unpack caches\n",
        "\n",
        "    ys,ps = probs_cache\n",
        "\n",
        "    hs = final_hidden_states  # dictionary with hidden states from last layer\n",
        "\n",
        "    #weights for dense output to softmax layer\n",
        "    Why = dense_params['Why']\n",
        "    by = dense_params['by']\n",
        "\n",
        "    # dims\n",
        "    mini_batch_size = targets.shape[0]  # targets = (m,seq_length) rows of tokens each sample\n",
        "    seq_length = targets.shape[1]\n",
        "\n",
        "    hidden_size = Why.shape[1]\n",
        "    vocab_size = Why.shape[0]\n",
        "\n",
        "    #initialize grads\n",
        "    dWhy,dby = jnp.zeros_like(Why), jnp.zeros_like(by)\n",
        "\n",
        "    #cache to pass gradients back to lstm_backwards\n",
        "    dhs = {}\n",
        "\n",
        "    #backward pass\n",
        "\n",
        "    for t in reversed(range(seq_length)):\n",
        "        dy = jnp.copy(ps[t])\n",
        "\n",
        "        dy = dy.at[targets[:,t],jnp.arange(mini_batch_size)].add(-1) #backprop into y\n",
        "\n",
        "        dWhy += jnp.dot(dy, hs[t].T)\n",
        "        dby += jnp.sum(dy,axis=1,keepdims=True)\n",
        "\n",
        "        dhs[t] = jnp.dot(Why.T, dy)\n",
        "\n",
        "    grads = dict()\n",
        "\n",
        "    grads['Why']=dWhy\n",
        "    grads['by']=dby\n",
        "\n",
        "    for parameter in grads.keys():\n",
        "        grads[parameter] = jnp.clip(grads[parameter], -5, 5) # clip to mitigate exploding gradients\n",
        "\n",
        "    return dhs, grads\n",
        "\n",
        "def lstm_layer_backward(dh_next_layer,gates_cache,states_cache,params):\n",
        "    '''\n",
        "    backward pass of the LSTM\n",
        "\n",
        "    return gradients for all parameters\n",
        "    '''\n",
        "    #unpack caches\n",
        "\n",
        "    gamma_us,gamma_fs,gamma_os = gates_cache\n",
        "\n",
        "    xs,hs,cs,c_tildes = states_cache\n",
        "\n",
        "    # dh_next_layer # dictionary of derivatives from backpass of higher layer \n",
        "\n",
        "    # dims\n",
        "    mini_batch_size = hs[-1].shape[1]  # note -1 is dict key for initilized h state , not last \n",
        "    seq_length = len(xs)-1 # make sure this works every layer ?\n",
        "\n",
        "    hidden_size = hs[-1].shape[0]\n",
        "\n",
        "    vocab_size = params['Wxc'].shape[1]\n",
        "\n",
        "    # unpack parameters\n",
        "\n",
        "    Wxc = params['Wxc']\n",
        "    Wxu = params['Wxu']\n",
        "    Wxf = params['Wxf']\n",
        "    Wxo = params['Wxo']\n",
        "\n",
        "    Whc = params['Whc']\n",
        "    Whu = params['Whu']\n",
        "    Whf = params['Whf']\n",
        "    Who = params['Who']\n",
        "\n",
        "    bc = params['bc']\n",
        "    bu = params['bu']\n",
        "    bf = params['bf']\n",
        "    bo = params['bo']\n",
        "\n",
        "    #initialize gradients to zero\n",
        "\n",
        "    dWxc,dWxu,dWxf,dWxo = jnp.zeros_like(Wxc), jnp.zeros_like(Wxu), jnp.zeros_like(Wxf), jnp.zeros_like(Wxo)\n",
        "    dWhc,dWhu,dWhf,dWho = jnp.zeros_like(Whc), jnp.zeros_like(Whu), jnp.zeros_like(Whf), jnp.zeros_like(Who)\n",
        "    dbc,dbu,dbf,dbo = jnp.zeros_like(bc), jnp.zeros_like(bu), jnp.zeros_like(bf), jnp.zeros_like(bo)\n",
        "    \n",
        "    # tmp variables to accumulate gradients over the backprop -- see differentiation graph\n",
        "    dhnext, dcnext = jnp.zeros_like(hs[0]), jnp.zeros_like(cs[0])\n",
        "\n",
        "    #need dictionary to pass dh derivative each t to earlier layer\n",
        "\n",
        "    dh_previous_layer = {}\n",
        "\n",
        "    #backward pass\n",
        "\n",
        "    for t in reversed(range(seq_length)):\n",
        "        \n",
        "        dh = dh_next_layer[t] + dhnext # backprop into h\n",
        "\n",
        "        dc = jnp.multiply((1-cs[t]**2),jnp.multiply(gamma_os[t],dh) + dcnext) #backprop into c\n",
        "\n",
        "        dcnext = jnp.multiply(gamma_fs[t],dc)\n",
        "\n",
        "        dzc = jnp.multiply((1-c_tildes[t]**2),jnp.multiply(gamma_us[t],dc))  # backprop through tanh\n",
        "\n",
        "        dzu = jnp.multiply(gamma_us[t]*(1-gamma_us[t]),jnp.multiply(c_tildes[t],dc))  # sigmoid prime\n",
        "\n",
        "        dzf = jnp.multiply(gamma_fs[t]*(1-gamma_fs[t]),jnp.multiply(cs[t-1],dc))\n",
        "\n",
        "        dzo = jnp.multiply(gamma_os[t]*(1-gamma_os[t]),jnp.multiply(cs[t],dh))\n",
        "\n",
        "        dbc += jnp.sum(dzc,axis=1,keepdims=True)\n",
        "        dbu += jnp.sum(dzu,axis=1,keepdims=True)\n",
        "        dbf += jnp.sum(dzf,axis=1,keepdims=True)\n",
        "        dbo += jnp.sum(dzo,axis=1,keepdims=True)\n",
        "\n",
        "        dWhc += jnp.dot(dzc,hs[t-1].T)\n",
        "        dWhu += jnp.dot(dzu,hs[t-1].T)\n",
        "        dWhf += jnp.dot(dzf,hs[t-1].T)\n",
        "        dWho += jnp.dot(dzo,hs[t-1].T)\n",
        "\n",
        "        dWxc += jnp.dot(dzc,xs[t].T)\n",
        "        dWxu += jnp.dot(dzu,xs[t].T)\n",
        "        dWxf += jnp.dot(dzf,xs[t].T)\n",
        "        dWxo += jnp.dot(dzo,xs[t].T)\n",
        "\n",
        "        # four contributions to dhnext,one from each gate\n",
        "        dhnext = jnp.dot(Whc.T,dzc) + jnp.dot(Whu.T,dzu) + jnp.dot(Whf.T,dzf) + jnp.dot(Who.T,dzo)\n",
        "\n",
        "        dh_previous_layer[t] = jnp.dot(Wxc.T,dzc) + jnp.dot(Wxu.T,dzu) + jnp.dot(Wxf.T,dzf) + jnp.dot(Wxo.T,dzo)\n",
        "\n",
        "    grads = dict()\n",
        "\n",
        "    grads['Wxc']=dWxc\n",
        "    grads['Wxu']=dWxu\n",
        "    grads['Wxf']=dWxf\n",
        "    grads['Wxo']=dWxo\n",
        "\n",
        "    grads['Whc']=dWhc\n",
        "    grads['Whu']=dWhu\n",
        "    grads['Whf']=dWhf\n",
        "    grads['Who']=dWho\n",
        "\n",
        "    grads['bc']=dbc\n",
        "    grads['bu']=dbu\n",
        "    grads['bf']=dbf\n",
        "    grads['bo']=dbo\n",
        "\n",
        "    for parameter in grads.keys():\n",
        "        grads[parameter] = jnp.clip(grads[parameter], -5, 5) # clip to mitigate exploding gradients\n",
        "\n",
        "    return dh_previous_layer, grads"
      ]
    },
    {
      "cell_type": "code",
      "source": [
        "targ"
      ],
      "metadata": {
        "colab": {
          "base_uri": "https://localhost:8080/"
        },
        "id": "IQM7lWq8fiHy",
        "outputId": "1ad20d32-cc32-4e9e-9a06-d32bfdb5df96"
      },
      "execution_count": 69,
      "outputs": [
        {
          "output_type": "execute_result",
          "data": {
            "text/plain": [
              "Array([[ 9, 17, 21, 24, 12, 23, 19, 25, 20,  6],\n",
              "       [16,  3,  2,  4,  7, 10, 14, 11, 15, 22],\n",
              "       [ 0,  1, 18, 13,  8,  5,  9, 17, 21, 24],\n",
              "       [12, 23, 19, 25, 20,  6, 16,  3,  2,  4]], dtype=int32)"
            ]
          },
          "metadata": {},
          "execution_count": 69
        }
      ]
    },
    {
      "cell_type": "code",
      "source": [
        "type(s_cache[1][1])"
      ],
      "metadata": {
        "colab": {
          "base_uri": "https://localhost:8080/"
        },
        "id": "cDQ5jkjQfkf-",
        "outputId": "8b6c8f53-4928-4a9b-96b2-9f4fba5d5b26"
      },
      "execution_count": 70,
      "outputs": [
        {
          "output_type": "execute_result",
          "data": {
            "text/plain": [
              "dict"
            ]
          },
          "metadata": {},
          "execution_count": 70
        }
      ]
    },
    {
      "cell_type": "code",
      "source": [
        "print(len(all_params))"
      ],
      "metadata": {
        "colab": {
          "base_uri": "https://localhost:8080/"
        },
        "id": "aUh3M6K_rY3i",
        "outputId": "09768195-816a-448d-8f2f-ecec95350872"
      },
      "execution_count": 78,
      "outputs": [
        {
          "output_type": "stream",
          "name": "stdout",
          "text": [
            "3\n"
          ]
        }
      ]
    },
    {
      "cell_type": "code",
      "source": [
        "# test the loss_backward function\n",
        "\n",
        "dh_cache = {}\n",
        "\n",
        "dh_cache[2], all_grads[2] = loss_backward(targ,p_cache,s_cache[1][1],all_params[2])\n",
        "\n",
        "print(len(dh_cache[2]))\n",
        "print(all_grads[2].keys())"
      ],
      "metadata": {
        "colab": {
          "base_uri": "https://localhost:8080/"
        },
        "id": "oOQBE04iWDkS",
        "outputId": "11f70706-8380-4cdd-f084-ba580c9ad2a9"
      },
      "execution_count": 71,
      "outputs": [
        {
          "output_type": "stream",
          "name": "stdout",
          "text": [
            "10\n",
            "dict_keys(['Why', 'by'])\n"
          ]
        }
      ]
    },
    {
      "cell_type": "code",
      "execution_count": 76,
      "metadata": {
        "colab": {
          "base_uri": "https://localhost:8080/"
        },
        "id": "aFjznK680ytU",
        "outputId": "585a0e08-f439-4396-a17e-a99ad9cb19de"
      },
      "outputs": [
        {
          "output_type": "stream",
          "name": "stdout",
          "text": [
            "<class 'dict'> 12\n",
            "dict_keys(['Wxc', 'Wxu', 'Wxf', 'Wxo', 'Whc', 'Whu', 'Whf', 'Who', 'bc', 'bu', 'bf', 'bo'])\n"
          ]
        }
      ],
      "source": [
        "#backprop lstm layer 1\n",
        "\n",
        "dh_cache[1],all_grads[1] = lstm_layer_backward(dh_cache[2],g_cache[1],s_cache[1],all_params[1])\n",
        "\n",
        "print(type(all_grads[1]),len(all_grads[1]))\n",
        "print(all_grads[1].keys())"
      ]
    },
    {
      "cell_type": "code",
      "source": [
        "#backprop lstm layer 2\n",
        "\n",
        "dh_cache[0],all_grads[0] = lstm_layer_backward(dh_cache[1],g_cache[0],s_cache[0],all_params[0])\n",
        "\n",
        "print(type(all_grads[0]),len(all_grads[0]))\n",
        "print(all_grads[0].keys())"
      ],
      "metadata": {
        "colab": {
          "base_uri": "https://localhost:8080/"
        },
        "id": "OgB24gfyiGmo",
        "outputId": "4b599acf-4f2d-4b85-efe2-f5c0c8d1d044"
      },
      "execution_count": 75,
      "outputs": [
        {
          "output_type": "stream",
          "name": "stdout",
          "text": [
            "<class 'dict'> 12\n",
            "dict_keys(['Wxc', 'Wxu', 'Wxf', 'Wxo', 'Whc', 'Whu', 'Whf', 'Who', 'bc', 'bu', 'bf', 'bo'])\n"
          ]
        }
      ]
    },
    {
      "cell_type": "code",
      "execution_count": 88,
      "metadata": {
        "id": "y4-IR4i6u4G5"
      },
      "outputs": [],
      "source": [
        "\n",
        "def sgd_step_adam(current_step,inputs,targets,h_inputs,c_inputs,all_params,all_grads_mems,all_sqrd_mems,beta1,beta2,learning_rate):\n",
        "    '''\n",
        "    performs a single step of SGD optimization using the ADAM algorithm \n",
        "\n",
        "    current_step - count of SGD steps performed so far\n",
        "\n",
        "    inputs (m,seq_length) - mini_batch arranged as rows of character tokens each seq_length long\n",
        "    targets (m,seq_length) - inputs shifted right by 1\n",
        "\n",
        "    h_inputs,c_inputs [dict] - dictionaries holding previus hidden/cell states for lstm layers numbered 0,1, ... num_layers-1\n",
        "\n",
        "                                example: h_inputs[0] (hidden_size,1) - vector with hidden state to initialize lstm layer 0 \n",
        "\n",
        "    all_params - dictionary holding params dictionaries for each layer \n",
        "\n",
        "                  all_params[0] - dictionary with 12 matrices for lstm layer 0 \n",
        "\n",
        "                  all_params[num_layers] - dictionary with 2 matrices fof Why, by params of the output layer \n",
        "\n",
        "    all_grads_mems - copy of gradients computed last sgd step\n",
        "\n",
        "    all_sqrd_mems  - copy of sqrd gradients from lst sgd step\n",
        "\n",
        "    beta1,beta2,learning_rate - hyperparameters for ADAM optimization \n",
        "    '''\n",
        "\n",
        "    # extract dimensions\n",
        "    mini_batch_size = inputs.shape[0]\n",
        "    seq_length = inputs.shape[1]\n",
        "\n",
        "    hidden_size = h_inputs[0].shape[0]\n",
        "\n",
        "    num_layers = len(all_params)-1  # this is number of lstm layers \n",
        "\n",
        "    vocab_size = all_params[0]['Wxc'].shape[1]\n",
        "\n",
        "    n = current_step\n",
        "\n",
        "    #one-hot encode the input batch\n",
        "\n",
        "    layer_inputs = {}\n",
        "\n",
        "    layer_inputs[0] = encode_inputs(inputs,vocab_size)\n",
        "\n",
        "    s_cache_dict,g_cache_dict = {},{}\n",
        "\n",
        "    dh_cache_dict = {}\n",
        "    all_grads = {} # holds gradients for parameters each layer 0,1,..num_layers-1 = LSTM and num_layers = dense \n",
        "\n",
        "    h_inputs_next = {} # need to pass final hidden states to next sgd_step\n",
        "    c_inputs_next = {}\n",
        "\n",
        "    #forwad pass\n",
        "    for l in range(num_layers):\n",
        "\n",
        "        h = h_inputs[l]\n",
        "        c = c_inputs[l]\n",
        "\n",
        "        x = layer_inputs[l]\n",
        "\n",
        "        layer_params = all_params[l]\n",
        "\n",
        "        s_cache_dict[l], g_cache_dict[l] = lstm_forward(x,h,c,layer_params)\n",
        "\n",
        "        layer_inputs[l+1] = s_cache_dict[l][1]  # hidden states from this layer\n",
        "\n",
        "        h_inputs_next[l]=jnp.mean(layer_inputs[l+1][seq_length-1],axis=1,keepdims=True)\n",
        "        c_inputs_next[l]=jnp.mean(layer_inputs[l+1][seq_length-1],axis=1,keepdims=True)\n",
        "\n",
        "    #compute loss\n",
        "    loss,p_cache = loss_function(targets,layer_inputs[num_layers],all_params[num_layers]['Why'],all_params[num_layers]['by'])\n",
        "  \n",
        "    #loss backward \n",
        "    dh_cache_dict[num_layers], all_grads[num_layers] = loss_backward(targets,p_cache,s_cache_dict[num_layers-1][1],all_params[num_layers])\n",
        "\n",
        "    #lstm backwards\n",
        "    for l in reversed(range(num_layers)):\n",
        "\n",
        "        dh_cache[l],all_grads[l] = lstm_layer_backward(dh_cache[l+1],g_cache[l],s_cache[l],all_params[l])\n",
        "\n",
        "    new_all_params = deepcopy(all_params)\n",
        "    new_all_grads_mems = deepcopy(all_grads_mems)\n",
        "    new_all_sqrd_mems = deepcopy(all_sqrd_mems)\n",
        "\n",
        "    #ADAM for all layers\n",
        "\n",
        "    #loop throuh lstm layers = 0,1,...num_layers-1\n",
        "\n",
        "    # dense layer = num_layers\n",
        "\n",
        "    for l in range(num_layers+1):\n",
        "\n",
        "        # perform parameter update with ADAM \n",
        "        for parameter in new_all_params[l].keys():\n",
        "\n",
        "            dparam = all_grads[l][parameter] / mini_batch_size\n",
        "\n",
        "            new_all_grads_mems[l][parameter] = beta1*new_all_grads_mems[l][parameter] + (1-beta1)*dparam\n",
        "\n",
        "            new_all_sqrd_mems[l][parameter] = beta2*new_all_sqrd_mems[l][parameter] + (1-beta2)*dparam*dparam\n",
        "\n",
        "            grad_hat = new_all_grads_mems[l][parameter] / (1-beta1**(n+1))\n",
        "            sqrd_hat = new_all_grads_mems[l][parameter] / (1-beta2**(n+1))\n",
        "\n",
        "            new_all_params[l][parameter] += -learning_rate * grad_hat / (jnp.sqrt(sqrd_hat + 1e-8)) # ADAM update\n",
        "\n",
        "    params_cache = (new_all_params,new_all_grads_mems,new_all_sqrd_mems)\n",
        "\n",
        "    hidden_cache = (h_inputs_next,c_inputs_next)\n",
        "    \n",
        "    return loss, params_cache, hidden_cache\n",
        "\n",
        "#jit the function, hope it runs Fast !!! \n",
        "sgd_step_adam_jit = jit(sgd_step_adam)"
      ]
    },
    {
      "cell_type": "code",
      "source": [
        "print(len(all_params),len(all_grads),len(all_sqrd))\n",
        "\n",
        "num_layers = len(all_params)-1\n",
        "\n",
        "h_inp = {}\n",
        "c_inp = {}\n",
        "\n",
        "for l in range(num_layers):\n",
        "    h_inp[l] = jnp.zeros((hidden_size,1))\n",
        "    c_inp[l] = jnp.zeros((hidden_size,1))\n",
        "\n",
        "print(len(h_inp),len(c_inp))\n",
        "\n",
        "test_loss, test_params_cache,test_hidden_cache = sgd_step_adam_jit(\n",
        "                                                                    current_step=0,\n",
        "                                                                    inputs=inp,\n",
        "                                                                    targets=targ,\n",
        "                                                                    h_inputs=h_inp,\n",
        "                                                                    c_inputs=c_inp,\n",
        "                                                                    all_params=all_params,\n",
        "                                                                    all_grads_mems=all_grads,\n",
        "                                                                    all_sqrd_mems=all_sqrd,\n",
        "                                                                    beta1=0.9,\n",
        "                                                                    beta2=0.99,\n",
        "                                                                    learning_rate=0.01)"
      ],
      "metadata": {
        "colab": {
          "base_uri": "https://localhost:8080/"
        },
        "id": "1EivFfmguSrl",
        "outputId": "c0529ee3-4642-4914-95b2-748c5a3f0195"
      },
      "execution_count": 89,
      "outputs": [
        {
          "output_type": "stream",
          "name": "stdout",
          "text": [
            "3 3 3\n",
            "2 2\n"
          ]
        }
      ]
    },
    {
      "cell_type": "code",
      "source": [
        "test_loss"
      ],
      "metadata": {
        "colab": {
          "base_uri": "https://localhost:8080/"
        },
        "id": "rr3FFPYRw-Dw",
        "outputId": "89f1a24c-aab2-44df-8ccd-527de792887e"
      },
      "execution_count": 90,
      "outputs": [
        {
          "output_type": "execute_result",
          "data": {
            "text/plain": [
              "Array(32.580967, dtype=float32)"
            ]
          },
          "metadata": {},
          "execution_count": 90
        }
      ]
    },
    {
      "cell_type": "code",
      "execution_count": null,
      "metadata": {
        "id": "cfHeUnxT-NxV"
      },
      "outputs": [],
      "source": [
        "def sample(seed_ix, n, key, hidden_cache, params):\n",
        "    \"\"\"\n",
        "    sample a sequence of integers from the model\n",
        "    h is memory state, seed_ix is seed letter for first time step\n",
        "    \"\"\"\n",
        "\n",
        "    h = hidden_cache[0]\n",
        "    c = hidden_cache[1]\n",
        "\n",
        "    Wxc = params['Wxc']\n",
        "    Wxu = params['Wxu']\n",
        "    Wxf = params['Wxf']\n",
        "    Wxo = params['Wxo']\n",
        "\n",
        "    Whc = params['Whc']\n",
        "    Whu = params['Whu']\n",
        "    Whf = params['Whf']\n",
        "    Who = params['Who']\n",
        "\n",
        "    bc = params['bc']\n",
        "    bu = params['bu']\n",
        "    bf = params['bf']\n",
        "    bo = params['bo']\n",
        "\n",
        "    Why = params['Why']\n",
        "    by = params['by']\n",
        "\n",
        "    vocab_size = Wxc.shape[1]\n",
        "\n",
        "    x = jnp.zeros((vocab_size, 1))\n",
        "    x = x.at[seed_ix].set(1)\n",
        "    ixes = []\n",
        "    for t in range(n):\n",
        "\n",
        "        zc = jnp.dot(Wxc,x) + jnp.dot(Whc,h) + bc  # linear activation for candidate cell state C~\n",
        "        zu = jnp.dot(Wxu,x) + jnp.dot(Whu,h) + bu  # linear activation for update gate\n",
        "        zf = jnp.dot(Wxf,x) + jnp.dot(Whf,h) + bf  # linear activation for forget gate\n",
        "        zo = jnp.dot(Wxo,x) + jnp.dot(Who,h) + bo  # linear activation for output gate\n",
        "\n",
        "        c_tilde = jnp.tanh(zc)\n",
        "\n",
        "        gamma_u = sigmoid(zu)\n",
        "        gamma_f = sigmoid(zf)\n",
        "        gamma_o = sigmoid(zo)\n",
        "\n",
        "        c = jnp.tanh(jnp.multiply(c_tilde,gamma_u) + jnp.multiply(c,gamma_f))\n",
        "\n",
        "        h = jnp.multiply(c,gamma_o) # hidden state\n",
        "\n",
        "        y = jnp.dot(Why, h) + by\n",
        "\n",
        "        p = softmax(y)\n",
        "\n",
        "        key,subkey = random.split(key)  #use key to split, subkey for next random number\n",
        "\n",
        "        ix = random.choice(subkey,vocab_size,p=p.reshape(-1,))\n",
        "\n",
        "        x = jnp.zeros((vocab_size, 1))\n",
        "        x = x.at[ix].set(1)\n",
        "\n",
        "        ixes.append(int(ix))\n",
        "\n",
        "    return ixes\n",
        "\n",
        "def validation_loss(inputs,targets,h,c,params):\n",
        "\n",
        "    s_cache, _ = lstm_forward(inputs,h,c,params)\n",
        "\n",
        "    h_states = s_cache[1]\n",
        "\n",
        "    val_loss, _ = loss_function(targets,h_states,params['Why'],params['by'])\n",
        "\n",
        "    return val_loss"
      ]
    },
    {
      "cell_type": "code",
      "execution_count": null,
      "metadata": {
        "id": "4tm0YeJQ0Cod"
      },
      "outputs": [],
      "source": [
        "sgd_step_adam_jit = jit(sgd_step_adam)\n",
        "\n",
        "validation_loss_jit = jit(validation_loss)\n",
        "\n",
        "def train_character_lstm(seq_length,hidden_size,mini_batch_size,learning_rate,total_steps,steps_sample_freq,initial_key,training_data,validation_data=None):\n",
        "    '''\n",
        "    fingers crossed!\n",
        "    '''\n",
        "\n",
        "    #unique characters in the data set\n",
        "    chars = set(list(training_data))\n",
        "    vocab_size = len(chars)\n",
        "\n",
        "    #character encoding\n",
        "    char_to_ix = {ch:i for i,ch in enumerate(chars)}\n",
        "    ix_to_char = {i:ch for i,ch in enumerate(chars)}\n",
        "\n",
        "    # initialize data generators\n",
        "    training_generator = get_mini_batch(mini_batch_size,seq_length,char_to_ix,training_data)\n",
        "    if validation_data:\n",
        "       validation_generator = get_mini_batch(mini_batch_size,seq_length,char_to_ix,validation_data)\n",
        "\n",
        "    #current training step counter\n",
        "    n = 0\n",
        "\n",
        "    #initialize the model weight matrices\n",
        "    params_cache = initialize_weights(initial_key,hidden_size,vocab_size)\n",
        "\n",
        "    #keep list of loss each training step\n",
        "    \n",
        "    step_list = [0]\n",
        "\n",
        "    tau = len(training_data) / (mini_batch_size * seq_length)\n",
        "\n",
        "    alpha = jnp.exp(-4/tau).item()\n",
        "\n",
        "    print(f'tau: {tau} alpha: {alpha}')\n",
        "\n",
        "    smooth_loss = -jnp.log(1.0/vocab_size)*seq_length\n",
        "\n",
        "    train_losses,smooth_losses,val_losses = [smooth_loss],[smooth_loss],[smooth_loss]\n",
        "\n",
        "    last_epoch = 0\n",
        "\n",
        "    h_next,c_next = jnp.zeros((hidden_size,1)), jnp.zeros((hidden_size,1))\n",
        "\n",
        "    key = initial_key\n",
        "\n",
        "    sample_size = 200\n",
        "\n",
        "    sample_ix = [0]*sample_size\n",
        "\n",
        "    while n < total_steps:\n",
        "          \n",
        "          inputs,targets,current_epoch = next(training_generator)\n",
        "\n",
        "          if current_epoch > last_epoch:\n",
        "\n",
        "             last_epoch = current_epoch\n",
        "             \n",
        "             h_next,c_next = jnp.zeros((hidden_size,1)),jnp.zeros((hidden_size,1))\n",
        "          \n",
        "          current_loss, params_cache, hidden_cache = sgd_step_adam_jit(current_step=n,\n",
        "                                                     inputs=inputs,\n",
        "                                                     targets=targets,\n",
        "                                                     h=h_next,\n",
        "                                                     c=c_next,\n",
        "                                                     params=params_cache[0],\n",
        "                                                     grads_mems=params_cache[1],\n",
        "                                                     sqrd_mems=params_cache[2],\n",
        "                                                     beta1=0.9,\n",
        "                                                     beta2=0.999,\n",
        "                                                     learning_rate=learning_rate)\n",
        "          \n",
        "          \n",
        "          \n",
        "          smooth_loss = alpha*smooth_loss + (1-alpha)*current_loss\n",
        "\n",
        "          # sample from the model now and then\n",
        "          if n % steps_sample_freq == 0:\n",
        "             key,subkey=random.split(key) #key to split, subkey to gen next random sample\n",
        "\n",
        "             sample_ix = sample(sample_ix[-1],sample_size,subkey,hidden_cache,params_cache[0])\n",
        "\n",
        "             txt = ''.join(ix_to_char[ix] for ix in sample_ix)\n",
        "             txt_wrap = wrap(txt,80)\n",
        "             txt_wrap = [line.center(100) for line in txt_wrap]\n",
        "             txt = '\\n'.join(txt_wrap)  # \\n aren't in the character set so wrap text to make readable\n",
        "\n",
        "             print('----\\n %s \\n----' % (txt,))\n",
        "\n",
        "             print(f'Step n: {n}\\t Epoch: {current_epoch}')\n",
        "\n",
        "             print(f'Train Current: {current_loss:.4f}\\tTrain Smoothed: {smooth_loss:.4f}')\n",
        "\n",
        "             step_list.append(n)\n",
        "             train_losses.append(current_loss)\n",
        "             smooth_losses.append(smooth_loss)\n",
        "\n",
        "             #compute_validation_loss\n",
        "             if validation_generator:\n",
        "                inputs_val,targets_val,val_epoch = next(validation_generator)\n",
        "\n",
        "                val_loss = validation_loss_jit(inputs_val,targets_val,h=h_next,c=c_next,params=params_cache[0])\n",
        "\n",
        "                print(f'Val Current: {val_loss:.4f}') \n",
        "\n",
        "                val_losses.append(val_loss)       \n",
        "\n",
        "          n+=1\n",
        "\n",
        "    history = (step_list,smooth_losses,train_losses,val_losses)\n",
        "\n",
        "    return history, params_cache, hidden_cache"
      ]
    },
    {
      "cell_type": "code",
      "source": [
        "12.75/32.58"
      ],
      "metadata": {
        "colab": {
          "base_uri": "https://localhost:8080/"
        },
        "id": "3AP-8VALOSkx",
        "outputId": "2c182e0f-8803-4024-ab74-5437dd95a499"
      },
      "execution_count": null,
      "outputs": [
        {
          "output_type": "execute_result",
          "data": {
            "text/plain": [
              "0.39134438305709024"
            ]
          },
          "metadata": {},
          "execution_count": 25
        }
      ]
    },
    {
      "cell_type": "code",
      "execution_count": null,
      "metadata": {
        "colab": {
          "base_uri": "https://localhost:8080/"
        },
        "id": "zqn98JR26NIi",
        "outputId": "70e8e5b9-1671-4b58-b653-0a9d4a8f9ee6"
      },
      "outputs": [
        {
          "output_type": "stream",
          "name": "stdout",
          "text": [
            "tau: 325.0 alpha: 0.98776775598526\n",
            "----\n",
            "           gsroyzefifqjgkjkblxcdkljbxsfkkfmdrnitstqaobskmpwzfxvvgxxksqgnobgnsaebsteblskjkmc          \n",
            "          lvrawahplltnnuglwljrsiukjkexkefasooqyjfensbhzgudeawtkvypulajfqfsqxsmgmkrhjkwwivh          \n",
            "                              oigvzjjqwtszsupwchndztwuqpamwlvszmvjaqyc                               \n",
            "----\n",
            "Step n: 0\t Epoch: 0\n",
            "Train Current: 32.5816\tTrain Smoothed: 32.5810\n",
            "Val Current: 32.5702\n",
            "----\n",
            "           defghijklmnopqrstuvwxyzabcdefghijklmnopqrstuvwxyzabcdefghijklmnopqrstuvwxyzabcde          \n",
            "          fghijklmnopqrstuvwxyzabcdefghijklmnopqrstuvwxyzabcdefghijklmnopqrstuvwxyzabcdefg          \n",
            "                              hijklmnopqrstuvwxyzabcdefghijklmnopqrstu                               \n",
            "----\n",
            "Step n: 250\t Epoch: 0\n",
            "Train Current: 0.0378\tTrain Smoothed: 2.2744\n",
            "Val Current: 0.3834\n",
            "----\n",
            "           vwxyzabcdefghijklmnopqrstuvwyyzabcdefghijklmnopqrstuvwxyzabcdefghijklmnopqrstuvw          \n",
            "          xyzabcdefghijklmnopqrstuvwxyzabcdefghijklmnopqrstuvwxyzabcdefghijklmnopqrstuvwxy          \n",
            "                              zabcdefghijklmnopqrstuvwxyzabcdefghijklm                               \n",
            "----\n",
            "Step n: 500\t Epoch: 1\n",
            "Train Current: 0.0108\tTrain Smoothed: 0.1190\n",
            "Val Current: 0.2324\n",
            "----\n",
            "           nopqrstuvwxyzabcdefghijklmnopqrstuvwxyzabcdefghijklmnopqrstuvwxyzabcdefghijklmno          \n",
            "          pqrstuvwxyzabcdefghijklmnopqrstuvwxyzabcdefghijklmnopqrstuvwxyzabcdefghijklmnopq          \n",
            "                              rstuvwxyzabcdefghijklmnopqrstuvwxyzabcde                               \n",
            "----\n",
            "Step n: 750\t Epoch: 2\n",
            "Train Current: 0.0053\tTrain Smoothed: 0.0115\n",
            "Val Current: 0.1936\n",
            "----\n",
            "           fghijklmnopqrstuvwxyzabcdefghijklmnopqrstuvwxyzabcdefghijklmnopqrstuvwxyzabcdefg          \n",
            "          hijklmnopqrstuvwxyzabcdefghijklmnopqrstuvwxyzabcdefghijklmnopqrstuvwxyzabcdefghi          \n",
            "                              jklmnopqrstuvwxyzabcdefghijklmnopqrstuvw                               \n",
            "----\n",
            "Step n: 1000\t Epoch: 3\n",
            "Train Current: 0.0031\tTrain Smoothed: 0.0040\n",
            "Val Current: 0.1530\n",
            "----\n",
            "           xyzabcdefghijklmnopqrstuvwxyzabcdefghijklmnopqrstuvwxyzabcdefghijklmnopqrstuvwxy          \n",
            "          zabcdefghijklmnopqrstuvwxyzabcdefghijklmnopqrstuvwxyzabcdefghijklmnopqrstuvwxyza          \n",
            "                              bcdefghijklmnopqrstuvwxyzabcdefghijklmno                               \n",
            "----\n",
            "Step n: 1250\t Epoch: 3\n",
            "Train Current: 0.0021\tTrain Smoothed: 0.0024\n",
            "Val Current: 0.1529\n",
            "----\n",
            "           pqrstuvwxyzabcdefghijklmnopqrstuvwxyzabcdefghijklmnopqrstuvwxyzabcdefghijklmnopq          \n",
            "          rstuvwxyzabcdefghijklmnopqrstuvwxyzabcdefghijklmnopqrstuvwxyzabcdefghijklmnopqrs          \n",
            "                              tuvwxyzabcdefghijklmnopqrstuvwxyzabcdefg                               \n",
            "----\n",
            "Step n: 1500\t Epoch: 4\n",
            "Train Current: 0.0015\tTrain Smoothed: 0.0017\n",
            "Val Current: 0.1212\n",
            "----\n",
            "           hijklmnopqrstuvwxyzabcdefghijklmnopqrstuvwxyzabcdefghijklmnopqrstuvwxyzabcdefghi          \n",
            "          jklmnopqrstuvwxyzabcdefghijklmnopqrstuvwxyzabcdefghijklmnopqrstuvwxyzabcdefghijk          \n",
            "                              lmnopqrstuvwxyzabcdefghijklmnopqrstuvwxy                               \n",
            "----\n",
            "Step n: 1750\t Epoch: 5\n",
            "Train Current: 0.0011\tTrain Smoothed: 0.0012\n",
            "Val Current: 0.1110\n",
            "----\n",
            "           zabcdefghijklmnopqrstuvwxyzabcdefghijklmnopqrstuvwxyzabcdefghijklmnopqrstuvwxyza          \n",
            "          bcdefghijklmnopqrstuvwxyzabcdefghijklmnopqrstuvwxyzabcdefghijklmnopqrstuvwxyzabc          \n",
            "                              defghijklmnopqrstuvwxyzabcdefghijklmnopq                               \n",
            "----\n",
            "Step n: 2000\t Epoch: 6\n",
            "Train Current: 0.0009\tTrain Smoothed: 0.0009\n",
            "Val Current: 0.1027\n",
            "----\n",
            "           rstuvwxyzabcdefghijklmnopqrstuvwxyzabcdefghijklmnopqrstuvwxyzabcdefghijklmnopqrs          \n",
            "          tuvwxyzabcdefghijklmnopqrstuvwxyzabcdefghijklmnopqrstuvwxyzabcdefghijklmnopqrstu          \n",
            "                              vwxyzabcdefghijklmnopqrstuvwxyzabcdefghi                               \n",
            "----\n",
            "Step n: 2250\t Epoch: 6\n",
            "Train Current: 0.0007\tTrain Smoothed: 0.0007\n",
            "Val Current: 0.1056\n",
            "----\n",
            "           jklmnopqrstuvwxyzabcdefghijklmnopqrstuvwxyzabcdefghijklmnopqrstuvwxyzabcdefghijk          \n",
            "          lmnopqrstuvwxyzabcdefghijklmnopqrstuvwxyzabcdefghijklmnopqrstuvwxyzabcdefghijklm          \n",
            "                              nopqrstuvwxyzabcdefghijklmnopqrstuvwxyza                               \n",
            "----\n",
            "Step n: 2500\t Epoch: 7\n",
            "Train Current: 0.0006\tTrain Smoothed: 0.0006\n",
            "Val Current: 0.0870\n",
            "----\n",
            "           bcdefghijklmnopqrstuvwxyzabcdefghijklmnopqrstuvwxyzabcdefghijklmnopqrstuvwxyzabc          \n",
            "          defghijklmnopqrstuvwxyzabcdefghijklmnopqrstuvwxyzabcdefghijklmnopqrstuvwxyzabcde          \n",
            "                              fghijklmnopqrstuvwxyzabcdefghijklmnopqrs                               \n",
            "----\n",
            "Step n: 2750\t Epoch: 8\n",
            "Train Current: 0.0004\tTrain Smoothed: 0.0005\n",
            "Val Current: 0.0787\n",
            "----\n",
            "           tuvwxyzabcdefghijklmnopqrstuvwxyzabcdefghijklmnopqrstuvwxyzabcdefghijklmnopqrstu          \n",
            "          vwxyzabcdefghijklmnopqrstuvwxyzabcdefghijklmnopqrstuvwxyzabcdefghijklmnopqrstuvw          \n",
            "                              xyzabcdefghijklmnopqrstuvwxyzabcdefghijk                               \n",
            "----\n",
            "Step n: 3000\t Epoch: 9\n",
            "Train Current: 0.0004\tTrain Smoothed: 0.0004\n",
            "Val Current: 0.0781\n",
            "----\n",
            "           lmnopqrstuvwxyzabcdefghijklmnopqrstuvwxyzabcdefghijklmnopqrstuvwxyzabcdefghijklm          \n",
            "          nopqrstuvwxyzabcdefghijklmnopqrstuvwxyzabcdefghijklmnopqrstuvwxyzabcdefghijklmno          \n",
            "                              pqrstuvwxyzabcdefghijklmnopqrstuvwxyzabc                               \n",
            "----\n",
            "Step n: 3250\t Epoch: 10\n",
            "Train Current: 0.0003\tTrain Smoothed: 0.0003\n",
            "Val Current: 0.0706\n",
            "----\n",
            "           defghijklmnopqrstuvwxyzabcdefghijklmnopqrstuvwxyzabcdefghijklmnopqrstuvwxyzabcde          \n",
            "          fghijklmnopqrstuvwxyzabcdefghijklmnopqrstuvwxyzabcdefghijklmnopqrstuvwxyzabcdefg          \n",
            "                              hijklmnopqrstuvwxyzabcdefghijklmnopqrstu                               \n",
            "----\n",
            "Step n: 3500\t Epoch: 10\n",
            "Train Current: 0.0003\tTrain Smoothed: 0.0003\n",
            "Val Current: 0.0813\n",
            "----\n",
            "           vwxyzabcdefghijklmnopqrstuvwxyzabcdefghijklmnopqrstuvwxyzabcdefghijklmnopqrstuvw          \n",
            "          xyzabcdefghijklmnopqrstuvwxyzabcdefghijklmnopqrstuvwxyzabcdefghijklmnopqrstuvwxy          \n",
            "                              zabcdefghijklmnopqrstuvwxyzabcdefghijklm                               \n",
            "----\n",
            "Step n: 3750\t Epoch: 11\n",
            "Train Current: 0.0002\tTrain Smoothed: 0.0002\n",
            "Val Current: 0.0602\n"
          ]
        }
      ],
      "source": [
        "mykey = random.PRNGKey(1)\n",
        "\n",
        "seq_length = 10\n",
        "hidden_size = 32\n",
        "mini_batch_size = 16\n",
        "\n",
        "train_data = training_data\n",
        "val_data = training_data[513:]\n",
        "\n",
        "history,out_params,out_hidden = train_character_lstm(                  \n",
        "                                  seq_length=seq_length,\n",
        "                                  hidden_size=hidden_size,\n",
        "                                  mini_batch_size=mini_batch_size,\n",
        "                                  learning_rate=0.01,\n",
        "                                  total_steps=4000,\n",
        "                                  steps_sample_freq=250,\n",
        "                                  initial_key=mykey,\n",
        "                                  training_data=train_data,\n",
        "                                  validation_data=val_data)                "
      ]
    },
    {
      "cell_type": "code",
      "source": [
        "import matplotlib.pyplot as plt\n",
        "\n",
        "import numpy as np\n",
        "\n",
        "def plot_training_history(history,mini_batch_size,seq_length,training_length,plot_smooth=False,plot_val=True):\n",
        "\n",
        "    step_list,smooth_losses,train_losses,val_losses = history\n",
        "\n",
        "    fig,ax = plt.subplots(figsize=(10,6))\n",
        "\n",
        "    t_list = np.array(step_list)\n",
        "\n",
        "    t_list = t_list * mini_batch_size * seq_length / training_length\n",
        "\n",
        "    train_log_loss = np.log10(np.array(train_losses))\n",
        "\n",
        "    if plot_smooth:\n",
        "       smooth_log_loss = np.log10(np.array(smooth_losses))\n",
        "       ax.plot(t_list,smooth_log_loss,'bo-')\n",
        "\n",
        "    ax.plot(t_list,train_log_loss,'go-')\n",
        "\n",
        "    if len(val_losses)==len(step_list) and plot_val:\n",
        "       val_log_loss = np.log10(np.array(val_losses))\n",
        "\n",
        "       ax.plot(t_list,val_log_loss,'ro-')\n",
        "\n",
        "    ax.set_ylabel('$Log_{10}(L)$')\n",
        "    ax.set_xlabel('Epochs')\n",
        "\n",
        "    plt.show()"
      ],
      "metadata": {
        "id": "8u4x8mh3YfIZ"
      },
      "execution_count": null,
      "outputs": []
    },
    {
      "cell_type": "code",
      "source": [
        "plot_training_history(history,\n",
        "                      mini_batch_size,\n",
        "                      seq_length,\n",
        "                      len(training_data),\n",
        "                      plot_smooth=True,\n",
        "                      plot_val=True)"
      ],
      "metadata": {
        "colab": {
          "base_uri": "https://localhost:8080/",
          "height": 542
        },
        "id": "-IZoPwacZcd6",
        "outputId": "e87c699d-73ab-416e-c75b-d581877e00ab"
      },
      "execution_count": null,
      "outputs": [
        {
          "output_type": "display_data",
          "data": {
            "text/plain": [
              "<Figure size 1000x600 with 1 Axes>"
            ],
            "image/png": "[encoded data removed]"
          },
          "metadata": {}
        }
      ]
    },
    {
      "cell_type": "code",
      "execution_count": null,
      "metadata": {
        "colab": {
          "base_uri": "https://localhost:8080/"
        },
        "id": "IRb-QXmT8X-4",
        "outputId": "7c011cd8-ec9a-4a2f-d01c-607984a05b5a"
      },
      "outputs": [
        {
          "output_type": "stream",
          "name": "stdout",
          "text": [
            "73 unique characters\n",
            "Training has 740442 total characters\n",
            "Validation has 130667 total characters\n",
            "LSTM with 128 hidden units\n",
            "Single layer LSTM has 112841 total parameters\n",
            "Will train on character sequences of length 100\n",
            "\n",
            "Training data sample: \n",
            "\n",
            "               ide, At once a virgin, and at once a bride! No more with presents her                \n",
            "               embraces meet, Or lay the spoils of conquest at her feet, On whom his                \n",
            "                    passion, lavish of his store, Bestow’d so much, and vainly p                    \n",
            "\n"
          ]
        }
      ],
      "source": [
        "import re\n",
        "\n",
        "with open('illiad_clean.txt','r') as file:\n",
        "  text_data = file.read()\n",
        "\n",
        "text_data = re.sub(r\"\\[.\\]\",\" \",text_data)\n",
        "\n",
        "text_data = re.sub(r\"[^a-zA-Z0-9.,?!:;“”'`’ ]+\", \" \", text_data)\n",
        "\n",
        "text_data = re.sub(r\"[\\s]+\",\" \",text_data)\n",
        "\n",
        "train_split = 0.85\n",
        "n_train = int(len(text_data)*train_split)\n",
        "\n",
        "training_data = text_data[:n_train]\n",
        "validation_data = text_data[n_train:]\n",
        "\n",
        "chars = set(list(training_data))\n",
        "\n",
        "vocab_size = len(chars)\n",
        "\n",
        "char_to_ix = {ch:i for i,ch in enumerate(chars)}\n",
        "ix_to_char = {i:ch for i,ch in enumerate(chars)}\n",
        "\n",
        "print(f'{vocab_size} unique characters')\n",
        "print(f'Training has {len(training_data)} total characters')\n",
        "print(f'Validation has {len(validation_data)} total characters')\n",
        "\n",
        "seq_length = 100\n",
        "hidden_size = 128\n",
        "\n",
        "total_params = 5 * hidden_size * vocab_size + 4 * hidden_size**2 + 4 * hidden_size + vocab_size\n",
        "\n",
        "print(f'LSTM with {hidden_size} hidden units')\n",
        "print(f'Single layer LSTM has {total_params} total parameters')\n",
        "print(f'Will train on character sequences of length {seq_length}')\n",
        "print()\n",
        "txt = wrap(training_data[len(training_data)//2:(len(training_data)//2)+200])\n",
        "txt = [line.center(100) for line in txt]\n",
        "txt = '\\n'.join(txt)\n",
        "print('Training data sample: \\n')\n",
        "print(txt)\n",
        "print()"
      ]
    },
    {
      "cell_type": "code",
      "execution_count": null,
      "metadata": {
        "colab": {
          "base_uri": "https://localhost:8080/"
        },
        "id": "CsqhhSKiEnuV",
        "outputId": "e04d3cd9-ea6f-4f26-9e86-a207d388c251"
      },
      "outputs": [
        {
          "output_type": "stream",
          "name": "stdout",
          "text": [
            "tau: 231.388125 alpha: 0.9828615784645081\n"
          ]
        }
      ],
      "source": [
        "mykey = random.PRNGKey(1)\n",
        "\n",
        "mini_batch_size = 32\n",
        "\n",
        "total_steps = 2000\n",
        "\n",
        "history,out_params,out_hidden = train_character_lstm(                  \n",
        "                                  seq_length=seq_length,\n",
        "                                  hidden_size=hidden_size,\n",
        "                                  mini_batch_size=mini_batch_size,\n",
        "                                  learning_rate=0.01,\n",
        "                                  total_steps=total_steps,\n",
        "                                  steps_sample_freq=100,\n",
        "                                  initial_key=mykey,\n",
        "                                  training_data=training_data,\n",
        "                                  validation_data=validation_data)     "
      ]
    },
    {
      "cell_type": "code",
      "execution_count": null,
      "metadata": {
        "colab": {
          "base_uri": "https://localhost:8080/",
          "height": 542
        },
        "id": "6bo7iM2-EuMr",
        "outputId": "eebd5a61-eeaf-46d3-db74-11867bdca655"
      },
      "outputs": [
        {
          "output_type": "display_data",
          "data": {
            "text/plain": [
              "<Figure size 1000x600 with 1 Axes>"
            ],
            "image/png": "[encoded data removed]"
          },
          "metadata": {}
        }
      ],
      "source": [
        "plot_training_history(history,\n",
        "                      mini_batch_size,\n",
        "                      seq_length,\n",
        "                      len(training_data),\n",
        "                      plot_smooth=True,\n",
        "                      plot_val=True)"
      ]
    },
    {
      "cell_type": "code",
      "source": [
        "mykey = random.PRNGKey(1)\n",
        "\n",
        "seq_length = 100\n",
        "\n",
        "hidden_size = 256\n",
        "\n",
        "mini_batch_size = 32\n",
        "\n",
        "total_steps = 9000\n",
        "\n",
        "history,out_params,out_hidden = train_character_lstm(                  \n",
        "                                  seq_length=seq_length,\n",
        "                                  hidden_size=hidden_size,\n",
        "                                  mini_batch_size=mini_batch_size,\n",
        "                                  learning_rate=0.01,\n",
        "                                  total_steps=total_steps,\n",
        "                                  steps_sample_freq=500,\n",
        "                                  initial_key=mykey,\n",
        "                                  training_data=training_data,\n",
        "                                  validation_data=validation_data)  "
      ],
      "metadata": {
        "colab": {
          "base_uri": "https://localhost:8080/"
        },
        "id": "qF8GIaXhodUq",
        "outputId": "633a0728-1c8c-4a00-a993-cc807f4d2e12"
      },
      "execution_count": null,
      "outputs": [
        {
          "output_type": "stream",
          "name": "stdout",
          "text": [
            "tau: 231.388125 alpha: 0.9828615784645081\n",
            "----\n",
            "           gp3C BOazc!dt”d”E“X5I'“S;LYa''c4v?87SYF!6CEx”rAjBasMMgXs”p!t0Cet0pQTeVSTe“p'9'4w          \n",
            "          l’N6k6KAblW08:t“,l;’pznm9'uL”TcQx.bD 9au8YUVRtnvEJjW'2iAPl69cDaxDsxrtrm’Vdmj,z’K          \n",
            "                              C1o’R;dujWxRpPIjwq8GBS,C!A6rk“2xRr2d6D 5                               \n",
            "----\n",
            "Step n: 0\t Epoch: 0\n",
            "Train Current: 429.0483\tTrain Smoothed: 429.0460\n",
            "Val Current: 426.9324\n",
            "----\n",
            "             that chublor shore, A valiant all have anthir sect.” With him weonal lengely            \n",
            "           sail are Jush, or the flame Reloust the heaven’s arror dies the gallet straise           \n",
            "                            thy godle’s warled his round the Thoutiousy                              \n",
            "----\n",
            "Step n: 500\t Epoch: 2\n",
            "Train Current: 149.7946\tTrain Smoothed: 157.3479\n",
            "Val Current: 154.2207\n",
            "----\n",
            "             way; That plain the sire. RFistus’ blamhifal of the somb in this will combat            \n",
            "          labour of my fate for men The mace advice my powers remeives the dows my offers           \n",
            "                             here The spurce the Trojan race sunk my re                              \n",
            "----\n",
            "Step n: 1000\t Epoch: 4\n",
            "Train Current: 134.7997\tTrain Smoothed: 135.3259\n",
            "Val Current: 144.1489\n",
            "----\n",
            "            complumnes pass’d; Weak the full front by tuning thunder tremble yet heave they          \n",
            "          slain, And glarl, and a whither now, and wave that shade the old refulg Scheed,           \n",
            "                              a mixtering to the battle gold Or s1cal                                \n",
            "----\n",
            "Step n: 1500\t Epoch: 6\n",
            "Train Current: 117.1835\tTrain Smoothed: 127.8535\n",
            "Val Current: 152.5549\n",
            "----\n",
            "              e those to fathel flow, Skill’d to the god offending colox’s to be Alceno              \n",
            "              weigh’d Sponed in vain in dips the hour innear a pain? And conquer from               \n",
            "                       impervious’ oams exhapp of heaven repair, With equal f                        \n",
            "----\n",
            "Step n: 2000\t Epoch: 8\n",
            "Train Current: 130.7122\tTrain Smoothed: 123.8322\n",
            "Val Current: 145.1786\n",
            "----\n",
            "           ul force save led: His brother mark’d to all thy quiver seize, The war be prize.          \n",
            "          Achilles we the mighty dusting to the skies: A brother o’er the bjunk, supremelt          \n",
            "                               chief, and mountain’s dame, Full wheng                                \n",
            "----\n",
            "Step n: 2500\t Epoch: 10\n",
            "Train Current: 116.3689\tTrain Smoothed: 121.3247\n",
            "Val Current: 134.8633\n",
            "----\n",
            "           od’st Tas nations! endies, whose thirld burst him boar, For he partial furious,           \n",
            "           raim’d her golden valy. But have the god witnout from man angeter part Apollo            \n",
            "                             plain their eonour direct remount thy righ                              \n",
            "----\n",
            "Step n: 3000\t Epoch: 12\n",
            "Train Current: 119.0363\tTrain Smoothed: 119.5789\n",
            "Val Current: 135.5301\n",
            "----\n",
            "             this all javelin bee: Ye battle through the monarch of bent and the sire; The           \n",
            "             smoke as conquering instant from his vessellus head!” Hush’ former tower’d             \n",
            "                           command the vessels sfock; Tell; fus his targe                            \n",
            "----\n",
            "Step n: 3500\t Epoch: 15\n",
            "Train Current: 116.9890\tTrain Smoothed: 118.9128\n",
            "Val Current: 142.0053\n",
            "----\n",
            "            s from last reventing friend. Maid as his ranks old glitter’d oo front Heaven            \n",
            "           was heard, her insumbs they to the future ride, And first and ill that our had           \n",
            "                            beeral birts, Eurypylus alail bestown to fl                              \n",
            "----\n",
            "Step n: 4000\t Epoch: 17\n",
            "Train Current: 113.3134\tTrain Smoothed: 116.7177\n",
            "Val Current: 137.7480\n",
            "----\n",
            "              ing guide, For prince, but ulsurging o’er the botter prince! With fat for              \n",
            "           Bacchian, cu elucter mine The fatal strong Like the slyves, and her feast. For           \n",
            "                          Troy; be humbled, yealks he shall thy breast? F                            \n",
            "----\n",
            "Step n: 4500\t Epoch: 19\n",
            "Train Current: 119.2525\tTrain Smoothed: 116.4215\n",
            "Val Current: 140.4630\n",
            "----\n",
            "           righted to encounter crest. Then sounding host, the Grecian helm in through the           \n",
            "            crow wound bleed.” So Nelerian of the shores you deedless fall; Had spoplus             \n",
            "                            this, that here, so made I sail’d the war, B                             \n",
            "----\n",
            "Step n: 5000\t Epoch: 21\n",
            "Train Current: 114.1768\tTrain Smoothed: 114.8123\n",
            "Val Current: 153.6437\n",
            "----\n",
            "             iliy buckler bone. Not fierced where thou, the king to great Hector’s sage:             \n",
            "             Whenies Kniky the ravish’d first a foreign hand Bigar hands the black eyed             \n",
            "                         suppliant beauty wall: Each hopes and succour wit                           \n",
            "----\n",
            "Step n: 5500\t Epoch: 23\n",
            "Train Current: 107.4340\tTrain Smoothed: 113.6260\n",
            "Val Current: 154.5750\n",
            "----\n",
            "             he day straids Revere From all the close impended on the shores stood here;             \n",
            "             Warm’d from against warrior’s willing blaze To one the field on earth that             \n",
            "                         length, re rive, With praised Scome warriors what                           \n",
            "----\n",
            "Step n: 6000\t Epoch: 25\n",
            "Train Current: 112.0253\tTrain Smoothed: 113.6582\n",
            "Val Current: 127.7703\n",
            "----\n",
            "            thou be supplike a point they stay: Race still who flung, some fearage throne;           \n",
            "           The wrath of carnage loud his country’s hearts. To Jove in such the chief with           \n",
            "                             parterate and appear Pallos, Arotymus, or                               \n",
            "----\n",
            "Step n: 6500\t Epoch: 28\n",
            "Train Current: 110.3994\tTrain Smoothed: 113.7828\n",
            "Val Current: 155.7536\n",
            "----\n",
            "            on good ; Not till thy head in vain.” “Obey, Lycaon’s walls to stop our helmet           \n",
            "          bounds. Those shout thou keep their gloomy presence gave: Where great Misesates           \n",
            "                              his helmet throw, So whirl, with flaming                               \n",
            "----\n",
            "Step n: 7000\t Epoch: 30\n",
            "Train Current: 112.2314\tTrain Smoothed: 112.6450\n",
            "Val Current: 132.6427\n",
            "----\n",
            "            with woe with mortal rate Thes shalt from life, and then revolved: I host the            \n",
            "              laborions, nor is fates, explore our walant quarter’s grace To leves at               \n",
            "                         friendship feast o’erspeat, G’e tear the faithful                           \n",
            "----\n",
            "Step n: 7500\t Epoch: 32\n",
            "Train Current: 114.0448\tTrain Smoothed: 113.2729\n",
            "Val Current: 137.1637\n",
            "----\n",
            "           glory lay; My friend, that shining, as that queen of one Satures they: Junoment,          \n",
            "            they medate beholding darts arise, And first of all his saopy tears; Hector             \n",
            "                            Sarpedon’s ruin fled, and fight, each couns                              \n",
            "----\n",
            "Step n: 8000\t Epoch: 34\n",
            "Train Current: 108.5715\tTrain Smoothed: 110.7860\n",
            "Val Current: 142.8001\n",
            "----\n",
            "             his constalsed wrong,, and yet return’d, And drive the eyes he drew a crest.            \n",
            "            Then let us glitter’d forth besst the god desire; The truce, proud Ida lust             \n",
            "                           beheld, With shouts high fall oddaus’d, throug                            \n",
            "----\n",
            "Step n: 8500\t Epoch: 36\n",
            "Train Current: 110.1273\tTrain Smoothed: 110.4909\n",
            "Val Current: 144.6127\n"
          ]
        }
      ]
    },
    {
      "cell_type": "code",
      "source": [
        "plot_training_history(history,\n",
        "                      mini_batch_size,\n",
        "                      seq_length,\n",
        "                      len(training_data),\n",
        "                      plot_smooth=True,\n",
        "                      plot_val=True)"
      ],
      "metadata": {
        "colab": {
          "base_uri": "https://localhost:8080/",
          "height": 542
        },
        "id": "AXzkFCJwpkuC",
        "outputId": "34572f28-278a-4c39-ae6d-05b569ec0585"
      },
      "execution_count": null,
      "outputs": [
        {
          "output_type": "display_data",
          "data": {
            "text/plain": [
              "<Figure size 1000x600 with 1 Axes>"
            ],
            "image/png": "[encoded data removed]"
          },
          "metadata": {}
        }
      ]
    },
    {
      "cell_type": "code",
      "source": [
        "\n",
        "key = random.PRNGKey(7)\n",
        "\n",
        "sample_size = 2000\n",
        "\n",
        "key,subkey=random.split(key) #use key to get next key, subkey for random number\n",
        "\n",
        "sample_ix = sample(12,sample_size,subkey,out_hidden,out_params[0])"
      ],
      "metadata": {
        "id": "zuYRhpuAqcZj"
      },
      "execution_count": null,
      "outputs": []
    },
    {
      "cell_type": "code",
      "source": [
        "txt = ''.join(ix_to_char[ix] for ix in sample_ix)\n",
        "txt_wrap = wrap(txt,80)\n",
        "txt_wrap = [line.center(100) for line in txt_wrap]\n",
        "txt = '\\n'.join(txt_wrap)  # \\n aren't in the character set so wrap text to make readable\n",
        "\n",
        "print('----\\n %s \\n----' % (txt,))"
      ],
      "metadata": {
        "colab": {
          "base_uri": "https://localhost:8080/"
        },
        "id": "y5KR9Lz1yLsg",
        "outputId": "ca9943d6-e4d3-48cb-def1-04680fc3310a"
      },
      "execution_count": null,
      "outputs": [
        {
          "output_type": "stream",
          "name": "stdout",
          "text": [
            "----\n",
            "            42 Once first, immortal now debate.” “My, sunk to Ph lus! to your message turns          \n",
            "          In form so great in Jove enlades his prayer, Till his bright steel the carrious           \n",
            "          blast couse; The god, more honour’d is no time remain! Once from your figst? Thy          \n",
            "          friend.” The host boldeying to his breast: Ler Priam’s rymatyring mandal nightle          \n",
            "          lost, And permsos, glides on wish with joy compell’d! Bore gmoded is the decree;          \n",
            "          And loXdress o’er the ensangs of war. Fath not thy words, whence in your guide!           \n",
            "            Fierce as my Telamon drove as thy dart Trow stand for safety the whole host             \n",
            "          address’d, Slow they by Priam, and bold my soul? Charm’d by great Idomen, raging          \n",
            "           run Juno wield, Arm’d oo some seats, not mingled with debate, Yet pleased the            \n",
            "            yoke, and match’d it firs; They hung Hypserous, coldenser point Their brazen            \n",
            "          princes bend him on the plain: Where, with cilacted hero’s field he drew, Swift           \n",
            "          as the battles, and the noblest mind. “’tis he decree; Atreum’d, thy force, nor           \n",
            "            this at once to engage, Forbids, with face his prowess won To thee the massy            \n",
            "          trabest or thy flight, Gegive’s streams of conquest with a god. But Nestor thus           \n",
            "          retir, confess thy throng; Close, with smooting, o’er the tall below, Supremply           \n",
            "          tolds, and send byatilests rise; The shape tell heads to save the victor flies,           \n",
            "          And he, whom Jove with streggon’s golden heeps; Axers’ sandive bless’d givit on           \n",
            "           his breast. Swift, with the plains, the falsely gore I go; Jove honours him to           \n",
            "             try imparts From one extent those deluge rear, Nor spear, by Jove’s adred              \n",
            "          disguares thy pride? His strongest spear, my and, your hearts Inspire, And hopes          \n",
            "           not man who wakes are thrown; If you thy destur? is my silver bire, If thou at           \n",
            "              least erect these eyes sage, Not old one Nestor’s forces  in thy found?               \n",
            "           Enchanged he thought defended day, Close in their wings, and seek one fiercer            \n",
            "           rear; While thes, the warriors’ stroke repell’d Their lines and far from some            \n",
            "             famed fruethful rage; His hollen hearts they run, and scuppoberous shine.              \n",
            "                                  Remove, thy tremble, great decre                                   \n",
            "----\n"
          ]
        }
      ]
    },
    {
      "cell_type": "code",
      "source": [
        "\n"
      ],
      "metadata": {
        "id": "ruQhIMd1yZ2x"
      },
      "execution_count": null,
      "outputs": []
    }
  ],
  "metadata": {
    "accelerator": "GPU",
    "colab": {
      "provenance": []
    },
    "gpuClass": "standard",
    "kernelspec": {
      "display_name": "Python 3",
      "name": "python3"
    },
    "language_info": {
      "name": "python"
    }
  },
  "nbformat": 4,
  "nbformat_minor": 0
}