{
  "cells": [
    {
      "cell_type": "code",
      "execution_count": 1,
      "metadata": {
        "id": "OD2YpM0yclp0"
      },
      "outputs": [],
      "source": [
        "import jax.numpy as jnp\n",
        "from jax import grad, jit, vmap\n",
        "from jax import random\n",
        "\n",
        "from textwrap import wrap\n",
        "\n",
        "from copy import deepcopy\n",
        "\n",
        "from jax import config\n",
        "config.update(\"jax_debug_nans\", True)"
      ]
    },
    {
      "cell_type": "code",
      "execution_count": 2,
      "metadata": {
        "colab": {
          "base_uri": "https://localhost:8080/"
        },
        "id": "Pf1oQlfWdPEV",
        "outputId": "03e6ceaa-3bae-4116-c607-859bf924a09c"
      },
      "outputs": [
        {
          "output_type": "stream",
          "name": "stdout",
          "text": [
            "26 unique characters\n",
            "52000 total characters\n"
          ]
        }
      ],
      "source": [
        "training_data = 'abcdefghijklmnopqrstuvwxyz'*2000\n",
        "\n",
        "chars = set(list(training_data))\n",
        "\n",
        "vocab_size = len(chars)\n",
        "\n",
        "char_to_ix = {ch:i for i,ch in enumerate(chars)}\n",
        "ix_to_char = {i:ch for i,ch in enumerate(chars)}\n",
        "\n",
        "print(f'{vocab_size} unique characters')\n",
        "print(f'{len(training_data)} total characters')"
      ]
    },
    {
      "cell_type": "code",
      "execution_count": 3,
      "metadata": {
        "colab": {
          "base_uri": "https://localhost:8080/"
        },
        "id": "lVYosrYdc6GU",
        "outputId": "7fbad808-093d-4311-c44a-6114dac0b02d"
      },
      "outputs": [
        {
          "output_type": "stream",
          "name": "stdout",
          "text": [
            "LSTM with 11 hidden units\n",
            "Single layer LSTM has 1984 total parameters\n",
            "Will train on character sequences of length 8\n",
            "\n",
            "Training data sample: \n",
            "\n",
            "               abcdefghijklmnopqrstuvwxyzabcdefghijklmnopqrstuvwxyzabcdefghijklmnopqr               \n",
            "               stuvwxyzabcdefghijklmnopqrstuvwxyzabcdefghijklmnopqrstuvwxyzabcdefghij               \n",
            "                    klmnopqrstuvwxyzabcdefghijklmnopqrstuvwxyzabcdefghijklmnopqr                    \n",
            "\n"
          ]
        }
      ],
      "source": [
        "hidden_size = 11\n",
        "\n",
        "seq_length = 8\n",
        "\n",
        "total_params = 5 * hidden_size * vocab_size + 4 * hidden_size**2 + 4 * hidden_size + vocab_size \n",
        "\n",
        "print(f'LSTM with {hidden_size} hidden units')\n",
        "print(f'Single layer LSTM has {total_params} total parameters')\n",
        "print(f'Will train on character sequences of length {seq_length}')\n",
        "print()\n",
        "txt = wrap(training_data[len(training_data)//2:(len(training_data)//2)+200])\n",
        "txt = [line.center(100) for line in txt]\n",
        "txt = '\\n'.join(txt)\n",
        "print('Training data sample: \\n')\n",
        "print(txt)\n",
        "print()"
      ]
    },
    {
      "cell_type": "code",
      "execution_count": 4,
      "metadata": {
        "id": "wVrhDpOidnkE"
      },
      "outputs": [],
      "source": [
        "def initialize_lstm_weights(key,n_h,n_x):\n",
        "    \n",
        "    subkeys=random.split(key,9)\n",
        "\n",
        "    params = dict()\n",
        "\n",
        "    params['Wxc'] = random.normal(subkeys[1],(n_h,n_x))*0.01 # input to cell state\n",
        "    params['Wxu'] = random.normal(subkeys[2],(n_h,n_x))*0.01 # input to update\n",
        "    params['Wxf'] = random.normal(subkeys[3],(n_h,n_x))*0.01 # input to forget\n",
        "    params['Wxo'] = random.normal(subkeys[4],(n_h,n_x))*0.01 # input to output\n",
        "\n",
        "    params['bc'] = jnp.zeros((n_h, 1)) # hidden bias\n",
        "    params['bu'] = jnp.zeros((n_h, 1)) # forget bias\n",
        "    params['bf'] = jnp.zeros((n_h, 1)) # update bias\n",
        "    params['bo'] = jnp.zeros((n_h, 1)) # output bias\n",
        "\n",
        "    params['Whc'] = random.normal(subkeys[5],(n_h,n_h))*0.01 # hidden to cell\n",
        "    params['Whu'] = random.normal(subkeys[6],(n_h,n_h))*0.01 # hidden to update\n",
        "    params['Whf'] = random.normal(subkeys[7],(n_h,n_h))*0.01 # hidden to forget\n",
        "    params['Who'] = random.normal(subkeys[8],(n_h,n_h))*0.01 # hidden to output\n",
        "\n",
        "    grad_mems = dict()\n",
        "    sqrd_mems = dict()\n",
        "\n",
        "    for parameter in params.keys():\n",
        "\n",
        "        shape = params[parameter].shape\n",
        "\n",
        "        grad_mems[parameter]=jnp.zeros(shape)\n",
        "        sqrd_mems[parameter]=jnp.zeros(shape)\n",
        "\n",
        "    return subkeys[0], params, grad_mems, sqrd_mems\n",
        "\n",
        "def initialize_dense_weights(key,n_h,n_x):\n",
        "    \n",
        "    subkeys=random.split(key,2)\n",
        "\n",
        "    params = dict()\n",
        "\n",
        "    params['Why'] = random.normal(subkeys[1],(n_x,n_h))*0.01 # hidden to output\n",
        "    params['by'] = jnp.zeros((n_x, 1)) # output bias\n",
        "\n",
        "    grad_mems = dict()\n",
        "    sqrd_mems = dict()\n",
        "\n",
        "    for parameter in params.keys():\n",
        "\n",
        "        shape = params[parameter].shape\n",
        "\n",
        "        grad_mems[parameter]=jnp.zeros(shape)\n",
        "        sqrd_mems[parameter]=jnp.zeros(shape)\n",
        "\n",
        "    return subkeys[0], params, grad_mems, sqrd_mems"
      ]
    },
    {
      "cell_type": "code",
      "execution_count": 5,
      "metadata": {
        "colab": {
          "base_uri": "https://localhost:8080/"
        },
        "id": "NtiIlmbjfRYj",
        "outputId": "536bbdd3-c3db-4385-f6da-2367dfd86795"
      },
      "outputs": [
        {
          "output_type": "stream",
          "name": "stdout",
          "text": [
            "Layer 0:  dict_keys(['Wxc', 'Wxu', 'Wxf', 'Wxo', 'bc', 'bu', 'bf', 'bo', 'Whc', 'Whu', 'Whf', 'Who'])\n",
            "Layer 1:  dict_keys(['Wxc', 'Wxu', 'Wxf', 'Wxo', 'bc', 'bu', 'bf', 'bo', 'Whc', 'Whu', 'Whf', 'Who'])\n",
            "Layer 2:  dict_keys(['Why', 'by'])\n",
            "0 Wxc (11, 26) 286\n",
            "0 Wxu (11, 26) 286\n",
            "0 Wxf (11, 26) 286\n",
            "0 Wxo (11, 26) 286\n",
            "0 bc (11, 1) 11\n",
            "0 bu (11, 1) 11\n",
            "0 bf (11, 1) 11\n",
            "0 bo (11, 1) 11\n",
            "0 Whc (11, 11) 121\n",
            "0 Whu (11, 11) 121\n",
            "0 Whf (11, 11) 121\n",
            "0 Who (11, 11) 121\n",
            "1 Wxc (11, 11) 121\n",
            "1 Wxu (11, 11) 121\n",
            "1 Wxf (11, 11) 121\n",
            "1 Wxo (11, 11) 121\n",
            "1 bc (11, 1) 11\n",
            "1 bu (11, 1) 11\n",
            "1 bf (11, 1) 11\n",
            "1 bo (11, 1) 11\n",
            "1 Whc (11, 11) 121\n",
            "1 Whu (11, 11) 121\n",
            "1 Whf (11, 11) 121\n",
            "1 Who (11, 11) 121\n",
            "2 Why (26, 11) 286\n",
            "2 by (26, 1) 26\n",
            "2996\n"
          ]
        }
      ],
      "source": [
        "start_key = random.PRNGKey(0)\n",
        "\n",
        "all_params, all_grads, all_sqrd = {},{},{}\n",
        "\n",
        "key, all_params[0],all_grads[0],all_sqrd[0] = initialize_lstm_weights(start_key,hidden_size,vocab_size)\n",
        "\n",
        "key, all_params[1],all_grads[1],all_sqrd[1] = initialize_lstm_weights(key,hidden_size,hidden_size)\n",
        "\n",
        "key, all_params[2],all_grads[2],all_sqrd[2] = initialize_dense_weights(key,hidden_size,vocab_size)\n",
        "\n",
        "print('Layer 0: ',all_params[0].keys())\n",
        "print('Layer 1: ',all_params[1].keys())\n",
        "print('Layer 2: ',all_params[2].keys())\n",
        "\n",
        "total_params = 0\n",
        "\n",
        "for k1,v1 in all_params.items():\n",
        "\n",
        "    for k2,v2 in v1.items():\n",
        "\n",
        "        print(k1,k2,v2.shape,v2.size)\n",
        "\n",
        "        total_params += v2.size\n",
        "\n",
        "print(total_params)"
      ]
    },
    {
      "cell_type": "code",
      "execution_count": 6,
      "metadata": {
        "id": "nfih6PcffY4S"
      },
      "outputs": [],
      "source": [
        "def get_mini_batch(mini_batch_size,seq_length,char_to_ix,data):\n",
        "    '''\n",
        "    generator to continuous loop the data and pull out mini batches\n",
        "    '''\n",
        "    p = 0\n",
        "    epoch = 0\n",
        "\n",
        "    batch_character_size = mini_batch_size*(seq_length)\n",
        "\n",
        "    while True:\n",
        "\n",
        "        if p+batch_character_size+1>=len(data):\n",
        "            p=0\n",
        "            epoch = epoch + 1\n",
        "\n",
        "            # need to reset hprev,cprev if it loops?\n",
        "\n",
        "        inputs,targets = [],[]\n",
        "\n",
        "        for _ in range(mini_batch_size):\n",
        "\n",
        "            inputs.append([char_to_ix[ch] for ch in data[p:p+seq_length]])\n",
        "            targets.append([char_to_ix[ch] for ch in data[p+1:p+seq_length+1]])\n",
        "\n",
        "            p += seq_length\n",
        "\n",
        "        inputs = jnp.array(inputs)\n",
        "        targets = jnp.array(targets)\n",
        "\n",
        "        yield inputs,targets,epoch"
      ]
    },
    {
      "cell_type": "code",
      "execution_count": 7,
      "metadata": {
        "colab": {
          "base_uri": "https://localhost:8080/",
          "height": 191
        },
        "id": "CDlL1PFOio0A",
        "outputId": "7125b704-c5ee-40a8-e61a-cccbb739217b"
      },
      "outputs": [
        {
          "output_type": "display_data",
          "data": {
            "text/plain": [
              "Array([[17, 12, 16, 19,  4, 10,  2,  7],\n",
              "       [ 9, 25, 13, 18,  6,  3, 22,  0],\n",
              "       [14, 20, 21, 15, 23, 11,  5, 24],\n",
              "       [ 8,  1, 17, 12, 16, 19,  4, 10]], dtype=int32)"
            ]
          },
          "metadata": {}
        },
        {
          "output_type": "display_data",
          "data": {
            "text/plain": [
              "Array([[12, 16, 19,  4, 10,  2,  7,  9],\n",
              "       [25, 13, 18,  6,  3, 22,  0, 14],\n",
              "       [20, 21, 15, 23, 11,  5, 24,  8],\n",
              "       [ 1, 17, 12, 16, 19,  4, 10,  2]], dtype=int32)"
            ]
          },
          "metadata": {}
        },
        {
          "output_type": "display_data",
          "data": {
            "text/plain": [
              "0"
            ]
          },
          "metadata": {}
        },
        {
          "output_type": "stream",
          "name": "stdout",
          "text": [
            "m = 4 seq_length = 8\n"
          ]
        }
      ],
      "source": [
        "batch_gen = get_mini_batch(4,seq_length,char_to_ix,training_data)\n",
        "\n",
        "inp,targ,epoch_test = next(batch_gen)\n",
        "\n",
        "display(inp,targ,epoch_test)\n",
        "\n",
        "print(f'm = {inp.shape[0]} seq_length = {inp.shape[1]}')"
      ]
    },
    {
      "cell_type": "code",
      "execution_count": 8,
      "metadata": {
        "id": "kkNHK-6EjYHh"
      },
      "outputs": [],
      "source": [
        "def sigmoid(z):\n",
        "    return 1.0/(1.0 + jnp.exp(-z))\n",
        "\n",
        "def softmax(y):\n",
        "    return jnp.exp(y) / jnp.sum(jnp.exp(y),axis=0)\n",
        "\n",
        "def encode_inputs(inputs,vocab_size):\n",
        "    '''\n",
        "    inputs - batch of tokens (m,seq_length)\n",
        "\n",
        "    vocab_size - needs to know number of characters in vocab to one-hot encode\n",
        "\n",
        "    xs dictionary indexed by time t , each item has shape (n_x, m)\n",
        "\n",
        "    '''\n",
        "\n",
        "    xs = {}\n",
        "\n",
        "    xs[-1] = None  # need hs and xs dicts to have same length = seq_length + 1\n",
        "\n",
        "    mini_batch_size = inputs.shape[0]\n",
        "    seq_length = inputs.shape[1]\n",
        "    \n",
        "    for t in range(seq_length):\n",
        "        xs[t] = jnp.zeros((vocab_size,mini_batch_size))\n",
        "        xs[t] = xs[t].at[inputs[:,t],jnp.arange(mini_batch_size)].set(1) # batch of one-hot vectors for time t\n",
        "\n",
        "    return xs\n",
        "\n",
        "\n",
        "\n",
        "def lstm_forward(inputs,hprev,cprev,params):\n",
        "    '''\n",
        "    single forward pass of the LSTM\n",
        "\n",
        "    returns loss for this mini-batch\n",
        "\n",
        "    returns cache of variables needed for backwards pass\n",
        "    '''\n",
        "\n",
        "    # dims\n",
        "    mini_batch_size = inputs[0].shape[1]\n",
        "    seq_length = len(inputs) - 1\n",
        "    #print(\"SEQ LENGTH \",seq_length)\n",
        "\n",
        "    vocab_size = params['Wxc'].shape[1]\n",
        "\n",
        "    # unpack params\n",
        "\n",
        "    Wxc = params['Wxc']\n",
        "    Wxu = params['Wxu']\n",
        "    Wxf = params['Wxf']\n",
        "    Wxo = params['Wxo']\n",
        "\n",
        "    Whc = params['Whc']\n",
        "    Whu = params['Whu']\n",
        "    Whf = params['Whf']\n",
        "    Who = params['Who']\n",
        "\n",
        "    bc = params['bc']\n",
        "    bu = params['bu']\n",
        "    bf = params['bf']\n",
        "    bo = params['bo']\n",
        "\n",
        "    #Why = params['Why']\n",
        "    #by = params['by']\n",
        "\n",
        "    # caches for forward pass\n",
        "\n",
        "    #xs, hs, cs, c_tildes = {}, {}, {}, {}\n",
        "\n",
        "    xs = inputs  # inputs should be given as dict with seq_length entries, each item = (n_x,m) array of vectors\n",
        "\n",
        "    hs, cs, c_tildes = {},{},{}\n",
        "\n",
        "    gamma_us, gamma_fs, gamma_os = {}, {}, {}\n",
        "\n",
        "    hs[-1] = jnp.tile(hprev,(1,mini_batch_size))\n",
        "    cs[-1] = jnp.tile(cprev,(1,mini_batch_size))\n",
        "\n",
        "    for t in range(seq_length):\n",
        "        #xs[t] = jnp.zeros((vocab_size,mini_batch_size))\n",
        "\n",
        "        #xs[t] = xs[t].at[inputs[:,t],jnp.arange(mini_batch_size)].set(1) # batch of one-hot vectors for time t\n",
        "\n",
        "        zc = jnp.dot(Wxc,xs[t]) + jnp.dot(Whc,hs[t-1]) + bc  # linear activation for candidate cell state C~\n",
        "        zu = jnp.dot(Wxu,xs[t]) + jnp.dot(Whu,hs[t-1]) + bu  # linear activation for update gate\n",
        "        zf = jnp.dot(Wxf,xs[t]) + jnp.dot(Whf,hs[t-1]) + bf  # linear activation for forget gate\n",
        "        zo = jnp.dot(Wxo,xs[t]) + jnp.dot(Who,hs[t-1]) + bo  # linear activation for output gate\n",
        "\n",
        "        c_tildes[t] = jnp.tanh(zc) # canidate for new c state\n",
        "\n",
        "        gamma_us[t] = sigmoid(zu)\n",
        "        gamma_fs[t] = sigmoid(zf)\n",
        "        gamma_os[t] = sigmoid(zo)\n",
        "\n",
        "        cs[t] = jnp.tanh(jnp.multiply(c_tildes[t],gamma_us[t]) + jnp.multiply(cs[t-1],gamma_fs[t]))  # tanh here is import!!!\n",
        "\n",
        "        hs[t] = jnp.multiply(cs[t],gamma_os[t]) # hidden state\n",
        "\n",
        "    gates = (gamma_us,gamma_fs,gamma_os)\n",
        "\n",
        "    states = (xs,hs,cs,c_tildes)\n",
        "\n",
        "    return states, gates\n",
        "\n",
        "def loss_function(targets,hidden_states,Why,by):\n",
        "    '''\n",
        "    hidden_states - dict of LSTM activations from last LSTM layer\n",
        "    '''\n",
        "\n",
        "    mini_batch_size=targets.shape[0]\n",
        "    seq_length = targets.shape[1]\n",
        "\n",
        "    ys, ps = {},{}\n",
        "\n",
        "    loss = 0\n",
        "\n",
        "    for t in range(seq_length):\n",
        "\n",
        "        ys[t] = jnp.dot(Why, hidden_states[t]) + by # unnormalized log probabilities for next chars\n",
        "\n",
        "        ps[t] = softmax(ys[t]) # probabilities for next chars  #  ps[t] should be shape (vocab_size,mini_batch_size)\n",
        "\n",
        "        loss += jnp.mean(jnp.log(jnp.sum(jnp.exp(ys[t]),axis=0)) - ys[t][targets[:,t],jnp.arange(mini_batch_size)])\n",
        "        #loss += -jnp.mean(jnp.log(ps[t][targets[:,t],jnp.arange(mini_batch_size)]))\n",
        "\n",
        "    p_cache = (ys,ps)\n",
        "\n",
        "    return loss, p_cache"
      ]
    },
    {
      "cell_type": "code",
      "execution_count": 9,
      "metadata": {
        "id": "UxIUNno4oiKU",
        "colab": {
          "base_uri": "https://localhost:8080/"
        },
        "outputId": "7099575e-2bf2-43c4-cfe4-85a9e35f0cb0"
      },
      "outputs": [
        {
          "output_type": "stream",
          "name": "stdout",
          "text": [
            "8 (26, 4)\n",
            "<class 'tuple'> 4 <class 'tuple'> 3\n",
            "<class 'tuple'> 4 <class 'tuple'> 3\n",
            "<class 'dict'> 9\n"
          ]
        }
      ],
      "source": [
        "\n",
        "#initial zeros for hidden and cell states\n",
        "h = jnp.zeros((hidden_size,1))\n",
        "c = jnp.zeros((hidden_size,1))\n",
        "\n",
        "#one-hot encode batch of input tokens\n",
        "inputs_onehot = encode_inputs(inp,26)\n",
        "\n",
        "print(len(inputs_onehot)-1,inputs_onehot[0].shape)\n",
        "\n",
        "#dicts to hold lstm states and lstm gates each layer \n",
        "s_cache,g_cache = {},{}\n",
        "\n",
        "#forward pass through first lstm layer \n",
        "s_cache[0], g_cache[0] = lstm_forward(inputs_onehot,h,c,all_params[0])\n",
        "\n",
        "print(type(s_cache[0]),len(s_cache[0]),type(g_cache[0]),len(g_cache[0]))\n",
        "\n",
        "hs_layer0 = s_cache[0][1]  # hidden states from layer zero\n",
        "\n",
        "#forward pass through second lstm layer \n",
        "s_cache[1], g_cache[1] = lstm_forward(hs_layer0,h,c,all_params[1])\n",
        "\n",
        "print(type(s_cache[0]),len(s_cache[0]),type(g_cache[0]),len(g_cache[0]))\n",
        "\n",
        "hs_layer1 = s_cache[1][1]  # hidden states from layer 1\n",
        "\n",
        "print(type(hs_layer1),len(hs_layer1))\n",
        "\n",
        "# pass final hidden states to dense + softmax to get probs and loss \n",
        "test_loss,p_cache = loss_function(targ,hs_layer1,all_params[2]['Why'],all_params[2]['by'])\n",
        "\n"
      ]
    },
    {
      "cell_type": "code",
      "execution_count": 10,
      "metadata": {
        "colab": {
          "base_uri": "https://localhost:8080/"
        },
        "id": "2WrNAE9ao4fO",
        "outputId": "3e1fcb4b-322e-4e6c-a756-a313604cac1a"
      },
      "outputs": [
        {
          "output_type": "execute_result",
          "data": {
            "text/plain": [
              "Array(26.064774, dtype=float32)"
            ]
          },
          "metadata": {},
          "execution_count": 10
        }
      ],
      "source": [
        "test_loss"
      ]
    },
    {
      "cell_type": "code",
      "execution_count": 11,
      "metadata": {
        "colab": {
          "base_uri": "https://localhost:8080/"
        },
        "id": "H6uPaSKyrW5A",
        "outputId": "477f659c-ad2f-47d7-dbfa-00ae1d3c3661"
      },
      "outputs": [
        {
          "output_type": "stream",
          "name": "stdout",
          "text": [
            "<class 'tuple'> 2\n",
            "<class 'tuple'> 3\n",
            "<class 'tuple'> 4\n"
          ]
        }
      ],
      "source": [
        "print(type(p_cache),len(p_cache))\n",
        "print(type(g_cache[0]),len(g_cache[0]))\n",
        "print(type(s_cache[0]),len(s_cache[0]))"
      ]
    },
    {
      "cell_type": "code",
      "execution_count": 12,
      "metadata": {
        "id": "M9URF-wmqYhY"
      },
      "outputs": [],
      "source": [
        "def loss_backward(targets,probs_cache,final_hidden_states,dense_params):\n",
        "\n",
        "    #unpack caches\n",
        "\n",
        "    ys,ps = probs_cache\n",
        "\n",
        "    hs = final_hidden_states  # dictionary with hidden states from last layer\n",
        "\n",
        "    #weights for dense output to softmax layer\n",
        "    Why = dense_params['Why']\n",
        "    by = dense_params['by']\n",
        "\n",
        "    # dims\n",
        "    mini_batch_size = targets.shape[0]  # targets = (m,seq_length) rows of tokens each sample\n",
        "    seq_length = targets.shape[1]\n",
        "\n",
        "    vocab_size = Why.shape[0]\n",
        "\n",
        "    #initialize grads\n",
        "    dWhy,dby = jnp.zeros_like(Why), jnp.zeros_like(by)\n",
        "\n",
        "    #cache to pass gradients back to lstm_backwards\n",
        "    dhs = {}\n",
        "\n",
        "    #backward pass\n",
        "\n",
        "    for t in reversed(range(seq_length)):\n",
        "        dy = jnp.copy(ps[t])\n",
        "\n",
        "        dy = dy.at[targets[:,t],jnp.arange(mini_batch_size)].add(-1) #backprop into y\n",
        "\n",
        "        dWhy += jnp.dot(dy, hs[t].T)\n",
        "        dby += jnp.sum(dy,axis=1,keepdims=True)\n",
        "\n",
        "        dhs[t] = jnp.dot(Why.T, dy)\n",
        "\n",
        "    grads = dict()\n",
        "\n",
        "    grads['Why']=dWhy\n",
        "    grads['by']=dby\n",
        "\n",
        "    for parameter in grads.keys():\n",
        "        grads[parameter] = jnp.clip(grads[parameter], -5, 5) # clip to mitigate exploding gradients\n",
        "\n",
        "    return dhs, grads\n",
        "\n",
        "def lstm_layer_backward(dh_next_layer,gates_cache,states_cache,params):\n",
        "    '''\n",
        "    backward pass of the LSTM\n",
        "\n",
        "    return gradients for all parameters\n",
        "    '''\n",
        "    #unpack caches\n",
        "\n",
        "    gamma_us,gamma_fs,gamma_os = gates_cache\n",
        "\n",
        "    xs,hs,cs,c_tildes = states_cache\n",
        "\n",
        "    # dh_next_layer # dictionary of derivatives from backpass of higher layer \n",
        "\n",
        "    # dims\n",
        "    mini_batch_size = hs[-1].shape[1]  # note -1 is dict key for initilized h state , not last \n",
        "    seq_length = len(xs)-1 # make sure this works every layer ?\n",
        "\n",
        "    vocab_size = params['Wxc'].shape[1]\n",
        "\n",
        "    # unpack parameters\n",
        "\n",
        "    Wxc = params['Wxc']\n",
        "    Wxu = params['Wxu']\n",
        "    Wxf = params['Wxf']\n",
        "    Wxo = params['Wxo']\n",
        "\n",
        "    Whc = params['Whc']\n",
        "    Whu = params['Whu']\n",
        "    Whf = params['Whf']\n",
        "    Who = params['Who']\n",
        "\n",
        "    bc = params['bc']\n",
        "    bu = params['bu']\n",
        "    bf = params['bf']\n",
        "    bo = params['bo']\n",
        "\n",
        "    #initialize gradients to zero\n",
        "\n",
        "    dWxc,dWxu,dWxf,dWxo = jnp.zeros_like(Wxc), jnp.zeros_like(Wxu), jnp.zeros_like(Wxf), jnp.zeros_like(Wxo)\n",
        "    dWhc,dWhu,dWhf,dWho = jnp.zeros_like(Whc), jnp.zeros_like(Whu), jnp.zeros_like(Whf), jnp.zeros_like(Who)\n",
        "    dbc,dbu,dbf,dbo = jnp.zeros_like(bc), jnp.zeros_like(bu), jnp.zeros_like(bf), jnp.zeros_like(bo)\n",
        "    \n",
        "    # tmp variables to accumulate gradients over the backprop -- see differentiation graph\n",
        "    dhnext, dcnext = jnp.zeros_like(hs[0]), jnp.zeros_like(cs[0])\n",
        "\n",
        "    #need dictionary to pass dh derivative each t to earlier layer\n",
        "\n",
        "    dh_previous_layer = {}\n",
        "\n",
        "    #backward pass\n",
        "\n",
        "    for t in reversed(range(seq_length)):\n",
        "        \n",
        "        dh = dh_next_layer[t] + dhnext # backprop into h\n",
        "\n",
        "        dc = jnp.multiply((1-cs[t]**2),jnp.multiply(gamma_os[t],dh) + dcnext) #backprop into c\n",
        "\n",
        "        dcnext = jnp.multiply(gamma_fs[t],dc)\n",
        "\n",
        "        dzc = jnp.multiply((1-c_tildes[t]**2),jnp.multiply(gamma_us[t],dc))  # backprop through tanh\n",
        "\n",
        "        dzu = jnp.multiply(gamma_us[t]*(1-gamma_us[t]),jnp.multiply(c_tildes[t],dc))  # sigmoid prime\n",
        "\n",
        "        dzf = jnp.multiply(gamma_fs[t]*(1-gamma_fs[t]),jnp.multiply(cs[t-1],dc))\n",
        "\n",
        "        dzo = jnp.multiply(gamma_os[t]*(1-gamma_os[t]),jnp.multiply(cs[t],dh))\n",
        "\n",
        "        dbc += jnp.sum(dzc,axis=1,keepdims=True)\n",
        "        dbu += jnp.sum(dzu,axis=1,keepdims=True)\n",
        "        dbf += jnp.sum(dzf,axis=1,keepdims=True)\n",
        "        dbo += jnp.sum(dzo,axis=1,keepdims=True)\n",
        "\n",
        "        dWhc += jnp.dot(dzc,hs[t-1].T)\n",
        "        dWhu += jnp.dot(dzu,hs[t-1].T)\n",
        "        dWhf += jnp.dot(dzf,hs[t-1].T)\n",
        "        dWho += jnp.dot(dzo,hs[t-1].T)\n",
        "\n",
        "        dWxc += jnp.dot(dzc,xs[t].T)\n",
        "        dWxu += jnp.dot(dzu,xs[t].T)\n",
        "        dWxf += jnp.dot(dzf,xs[t].T)\n",
        "        dWxo += jnp.dot(dzo,xs[t].T)\n",
        "\n",
        "        # four contributions to dhnext,one from each gate\n",
        "        dhnext = jnp.dot(Whc.T,dzc) + jnp.dot(Whu.T,dzu) + jnp.dot(Whf.T,dzf) + jnp.dot(Who.T,dzo)\n",
        "\n",
        "        dh_previous_layer[t] = jnp.dot(Wxc.T,dzc) + jnp.dot(Wxu.T,dzu) + jnp.dot(Wxf.T,dzf) + jnp.dot(Wxo.T,dzo)\n",
        "\n",
        "    grads = dict()\n",
        "\n",
        "    grads['Wxc']=dWxc\n",
        "    grads['Wxu']=dWxu\n",
        "    grads['Wxf']=dWxf\n",
        "    grads['Wxo']=dWxo\n",
        "\n",
        "    grads['Whc']=dWhc\n",
        "    grads['Whu']=dWhu\n",
        "    grads['Whf']=dWhf\n",
        "    grads['Who']=dWho\n",
        "\n",
        "    grads['bc']=dbc\n",
        "    grads['bu']=dbu\n",
        "    grads['bf']=dbf\n",
        "    grads['bo']=dbo\n",
        "\n",
        "    for parameter in grads.keys():\n",
        "        grads[parameter] = jnp.clip(grads[parameter], -5, 5) # clip to mitigate exploding gradients\n",
        "\n",
        "    return dh_previous_layer, grads"
      ]
    },
    {
      "cell_type": "code",
      "source": [
        "targ"
      ],
      "metadata": {
        "colab": {
          "base_uri": "https://localhost:8080/"
        },
        "id": "IQM7lWq8fiHy",
        "outputId": "e61b5b2c-1b13-41ab-e50a-143b4bec2524"
      },
      "execution_count": 13,
      "outputs": [
        {
          "output_type": "execute_result",
          "data": {
            "text/plain": [
              "Array([[12, 16, 19,  4, 10,  2,  7,  9],\n",
              "       [25, 13, 18,  6,  3, 22,  0, 14],\n",
              "       [20, 21, 15, 23, 11,  5, 24,  8],\n",
              "       [ 1, 17, 12, 16, 19,  4, 10,  2]], dtype=int32)"
            ]
          },
          "metadata": {},
          "execution_count": 13
        }
      ]
    },
    {
      "cell_type": "code",
      "source": [
        "type(s_cache[1][1])"
      ],
      "metadata": {
        "colab": {
          "base_uri": "https://localhost:8080/"
        },
        "id": "cDQ5jkjQfkf-",
        "outputId": "bf8284ee-fb30-4351-ff02-ce232c4c01a2"
      },
      "execution_count": 14,
      "outputs": [
        {
          "output_type": "execute_result",
          "data": {
            "text/plain": [
              "dict"
            ]
          },
          "metadata": {},
          "execution_count": 14
        }
      ]
    },
    {
      "cell_type": "code",
      "source": [
        "print(len(all_params))"
      ],
      "metadata": {
        "colab": {
          "base_uri": "https://localhost:8080/"
        },
        "id": "aUh3M6K_rY3i",
        "outputId": "35d1b60e-8c20-4e82-8eab-5f8f3c5a589d"
      },
      "execution_count": 15,
      "outputs": [
        {
          "output_type": "stream",
          "name": "stdout",
          "text": [
            "3\n"
          ]
        }
      ]
    },
    {
      "cell_type": "code",
      "source": [
        "# test the loss_backward function\n",
        "\n",
        "dh_cache = {}\n",
        "\n",
        "dh_cache[2], all_grads[2] = loss_backward(targ,p_cache,s_cache[1][1],all_params[2])\n",
        "\n",
        "print(len(dh_cache[2]))\n",
        "print(all_grads[2].keys())"
      ],
      "metadata": {
        "colab": {
          "base_uri": "https://localhost:8080/"
        },
        "id": "oOQBE04iWDkS",
        "outputId": "123b5ae4-6fc6-4f21-e2c1-fe88187308d5"
      },
      "execution_count": 16,
      "outputs": [
        {
          "output_type": "stream",
          "name": "stdout",
          "text": [
            "8\n",
            "dict_keys(['Why', 'by'])\n"
          ]
        }
      ]
    },
    {
      "cell_type": "code",
      "execution_count": 17,
      "metadata": {
        "colab": {
          "base_uri": "https://localhost:8080/"
        },
        "id": "aFjznK680ytU",
        "outputId": "79c47bb4-5231-4bf4-aec4-7bdafe4d6efb"
      },
      "outputs": [
        {
          "output_type": "stream",
          "name": "stdout",
          "text": [
            "<class 'dict'> 12\n",
            "dict_keys(['Wxc', 'Wxu', 'Wxf', 'Wxo', 'Whc', 'Whu', 'Whf', 'Who', 'bc', 'bu', 'bf', 'bo'])\n"
          ]
        }
      ],
      "source": [
        "#backprop lstm layer 1\n",
        "\n",
        "dh_cache[1],all_grads[1] = lstm_layer_backward(dh_cache[2],g_cache[1],s_cache[1],all_params[1])\n",
        "\n",
        "print(type(all_grads[1]),len(all_grads[1]))\n",
        "print(all_grads[1].keys())"
      ]
    },
    {
      "cell_type": "code",
      "source": [
        "#backprop lstm layer 2\n",
        "\n",
        "dh_cache[0],all_grads[0] = lstm_layer_backward(dh_cache[1],g_cache[0],s_cache[0],all_params[0])\n",
        "\n",
        "print(type(all_grads[0]),len(all_grads[0]))\n",
        "print(all_grads[0].keys())"
      ],
      "metadata": {
        "colab": {
          "base_uri": "https://localhost:8080/"
        },
        "id": "OgB24gfyiGmo",
        "outputId": "e026361a-857f-40c1-e7a1-efeb612a3496"
      },
      "execution_count": 18,
      "outputs": [
        {
          "output_type": "stream",
          "name": "stdout",
          "text": [
            "<class 'dict'> 12\n",
            "dict_keys(['Wxc', 'Wxu', 'Wxf', 'Wxo', 'Whc', 'Whu', 'Whf', 'Who', 'bc', 'bu', 'bf', 'bo'])\n"
          ]
        }
      ]
    },
    {
      "cell_type": "code",
      "execution_count": 19,
      "metadata": {
        "id": "y4-IR4i6u4G5"
      },
      "outputs": [],
      "source": [
        "\n",
        "def sgd_step_adam(current_step,inputs,targets,h_inputs,c_inputs,all_params,all_grads_mems,all_sqrd_mems,beta1,beta2,learning_rate):\n",
        "    '''\n",
        "    performs a single step of SGD optimization using the ADAM algorithm \n",
        "\n",
        "    current_step - count of SGD steps performed so far\n",
        "\n",
        "    inputs (m,seq_length) - mini_batch arranged as rows of character tokens each seq_length long\n",
        "    targets (m,seq_length) - inputs shifted right by 1\n",
        "\n",
        "    h_inputs,c_inputs [dict] - dictionaries holding previus hidden/cell states for lstm layers numbered 0,1, ... num_layers-1\n",
        "\n",
        "                                example: h_inputs[0] (hidden_size,1) - vector with hidden state to initialize lstm layer 0 \n",
        "\n",
        "    all_params - dictionary holding params dictionaries for each layer \n",
        "\n",
        "                  all_params[0] - dictionary with 12 matrices for lstm layer 0 \n",
        "\n",
        "                  all_params[num_layers] - dictionary with 2 matrices fof Why, by params of the output layer \n",
        "\n",
        "    all_grads_mems - copy of gradients computed last sgd step\n",
        "\n",
        "    all_sqrd_mems  - copy of sqrd gradients from lst sgd step\n",
        "\n",
        "    beta1,beta2,learning_rate - hyperparameters for ADAM optimization \n",
        "    '''\n",
        "\n",
        "    # extract dimensions\n",
        "    mini_batch_size = inputs.shape[0]\n",
        "    seq_length = inputs.shape[1]\n",
        "\n",
        "    num_layers = len(all_params)-1  # this is number of lstm layers \n",
        "\n",
        "    vocab_size = all_params[0]['Wxc'].shape[1]\n",
        "\n",
        "    n = current_step\n",
        "\n",
        "    #one-hot encode the input batch\n",
        "\n",
        "    layer_inputs = {}\n",
        "\n",
        "    layer_inputs[0] = encode_inputs(inputs,vocab_size)\n",
        "\n",
        "    s_cache_dict,g_cache_dict = {},{}\n",
        "\n",
        "    dh_cache_dict = {}\n",
        "    all_grads_dict = {} # holds gradients for parameters each layer 0,1,..num_layers-1 = LSTM and num_layers = dense \n",
        "\n",
        "    h_inputs_next = {} # need to pass final hidden states to next sgd_step\n",
        "    c_inputs_next = {}\n",
        "\n",
        "    #forwad pass\n",
        "    for l in range(num_layers):\n",
        "\n",
        "        h = h_inputs[l]\n",
        "        c = c_inputs[l]\n",
        "\n",
        "        x = layer_inputs[l]\n",
        "\n",
        "        layer_params = all_params[l]\n",
        "\n",
        "        s_cache_dict[l], g_cache_dict[l] = lstm_forward(x,h,c,layer_params)\n",
        "\n",
        "        layer_inputs[l+1] = s_cache_dict[l][1]  # hidden states from this layer\n",
        "\n",
        "        #h_inputs_next[l]=jnp.mean(layer_inputs[l+1][seq_length-1],axis=1,keepdims=True)\n",
        "        #c_inputs_next[l]=jnp.mean(layer_inputs[l+1][seq_length-1],axis=1,keepdims=True)\n",
        "\n",
        "        h_inputs_next[l]=jnp.expand_dims(layer_inputs[l+1][seq_length-1][:,-1],axis=1)\n",
        "        c_inputs_next[l]=jnp.expand_dims(layer_inputs[l+1][seq_length-1][:,-1],axis=1)\n",
        "\n",
        "    #compute loss\n",
        "    loss,p_cache = loss_function(targets,layer_inputs[num_layers],all_params[num_layers]['Why'],all_params[num_layers]['by'])\n",
        "  \n",
        "    #loss backward \n",
        "    dh_cache_dict[num_layers], all_grads_dict[num_layers] = loss_backward(targets,p_cache,s_cache_dict[num_layers-1][1],all_params[num_layers])\n",
        "\n",
        "    #lstm backwards\n",
        "    for l in reversed(range(num_layers)):\n",
        "\n",
        "        dh_cache_dict[l],all_grads_dict[l] = lstm_layer_backward(dh_cache_dict[l+1],g_cache_dict[l],s_cache_dict[l],all_params[l])\n",
        "\n",
        "    new_all_params = deepcopy(all_params)\n",
        "    new_all_grads_mems = deepcopy(all_grads_mems)\n",
        "    new_all_sqrd_mems = deepcopy(all_sqrd_mems)\n",
        "\n",
        "    #ADAM for all layers\n",
        "\n",
        "    #loop throuh lstm layers = 0,1,...num_layers-1\n",
        "\n",
        "    # dense layer = num_layers\n",
        "\n",
        "    for l in range(num_layers+1):\n",
        "\n",
        "        # perform parameter update with ADAM \n",
        "        for parameter in new_all_params[l].keys():\n",
        "\n",
        "            dparam = all_grads_dict[l][parameter] / mini_batch_size\n",
        "\n",
        "            new_all_grads_mems[l][parameter] = beta1*new_all_grads_mems[l][parameter] + (1-beta1)*dparam\n",
        "\n",
        "            new_all_sqrd_mems[l][parameter] = beta2*new_all_sqrd_mems[l][parameter] + (1-beta2)*dparam*dparam\n",
        "\n",
        "            grad_hat = new_all_grads_mems[l][parameter] / (1-beta1**(n+1))\n",
        "            sqrd_hat = new_all_sqrd_mems[l][parameter] / (1-beta2**(n+1))\n",
        "\n",
        "            new_all_params[l][parameter] += -learning_rate * grad_hat / (jnp.sqrt(sqrd_hat + 1e-8)) # ADAM update\n",
        "\n",
        "    params_cache = (new_all_params,new_all_grads_mems,new_all_sqrd_mems)\n",
        "\n",
        "    hidden_cache = (h_inputs_next,c_inputs_next)\n",
        "    \n",
        "    return loss, params_cache, hidden_cache\n",
        "\n",
        "#jit the function, hope it runs Fast !!! \n",
        "sgd_step_adam_jit = jit(sgd_step_adam)"
      ]
    },
    {
      "cell_type": "code",
      "source": [
        "print(len(all_params),len(all_grads),len(all_sqrd))\n",
        "\n",
        "num_layers = len(all_params)-1\n",
        "\n",
        "h_inp = {}\n",
        "c_inp = {}\n",
        "\n",
        "for l in range(num_layers):\n",
        "    h_inp[l] = jnp.zeros((hidden_size,1))\n",
        "    c_inp[l] = jnp.zeros((hidden_size,1))\n",
        "\n",
        "print(len(h_inp),len(c_inp))\n",
        "\n",
        "test_loss, test_params_cache,test_hidden_cache = sgd_step_adam_jit(\n",
        "                                                                    current_step=0,\n",
        "                                                                    inputs=inp,\n",
        "                                                                    targets=targ,\n",
        "                                                                    h_inputs=h_inp,\n",
        "                                                                    c_inputs=c_inp,\n",
        "                                                                    all_params=all_params,\n",
        "                                                                    all_grads_mems=all_grads,\n",
        "                                                                    all_sqrd_mems=all_sqrd,\n",
        "                                                                    beta1=0.9,\n",
        "                                                                    beta2=0.99,\n",
        "                                                                    learning_rate=0.01)"
      ],
      "metadata": {
        "colab": {
          "base_uri": "https://localhost:8080/"
        },
        "id": "1EivFfmguSrl",
        "outputId": "a9f8b95a-d6db-4c58-d516-5d2deaec3db7"
      },
      "execution_count": 20,
      "outputs": [
        {
          "output_type": "stream",
          "name": "stdout",
          "text": [
            "3 3 3\n",
            "2 2\n"
          ]
        }
      ]
    },
    {
      "cell_type": "code",
      "source": [
        "test_loss"
      ],
      "metadata": {
        "colab": {
          "base_uri": "https://localhost:8080/"
        },
        "id": "rr3FFPYRw-Dw",
        "outputId": "136c71de-df1c-45ec-e21a-3c213fa87933"
      },
      "execution_count": 21,
      "outputs": [
        {
          "output_type": "execute_result",
          "data": {
            "text/plain": [
              "Array(26.064774, dtype=float32)"
            ]
          },
          "metadata": {},
          "execution_count": 21
        }
      ]
    },
    {
      "cell_type": "code",
      "execution_count": 22,
      "metadata": {
        "id": "cfHeUnxT-NxV"
      },
      "outputs": [],
      "source": [
        "def sample(seed_ix,n,key,h_inputs,c_inputs,all_params,temperature=1.0):\n",
        "\n",
        "    num_layers = len(all_params)-1\n",
        "\n",
        "    vocab_size = all_params[0]['Wxc'].shape[1]\n",
        "\n",
        "    #unpack params for output layer\n",
        "    Why = all_params[num_layers]['Why']\n",
        "    by = all_params[num_layers]['by']\n",
        "\n",
        "    x = jnp.zeros((vocab_size, 1))\n",
        "    x = x.at[seed_ix].set(1)\n",
        "\n",
        "    layer_inputs = {}\n",
        "\n",
        "    layer_inputs[0] = x\n",
        "\n",
        "    xs_layers = {}\n",
        "    hs_layers = {}\n",
        "    cs_layers = {}\n",
        "\n",
        "    for t in range(n+1):\n",
        "        xs_layers[t]={}\n",
        "        hs_layers[t]={}\n",
        "        cs_layers[t]={}\n",
        "\n",
        "    hs_layers[0]=h_inputs\n",
        "    cs_layers[0]=c_inputs\n",
        "\n",
        "    xs_layers[0][0] = x\n",
        "\n",
        "    ixes = [seed_ix]\n",
        "    for t in range(n):\n",
        "\n",
        "        for l in range(num_layers):\n",
        "            \n",
        "            h = hs_layers[t][l]\n",
        "            c = cs_layers[t][l]\n",
        "\n",
        "            x = xs_layers[t][l]\n",
        "\n",
        "            Wxc = all_params[l]['Wxc']\n",
        "            Wxu = all_params[l]['Wxu']\n",
        "            Wxf = all_params[l]['Wxf']\n",
        "            Wxo = all_params[l]['Wxo']\n",
        "\n",
        "            Whc = all_params[l]['Whc']\n",
        "            Whu = all_params[l]['Whu']\n",
        "            Whf = all_params[l]['Whf']\n",
        "            Who = all_params[l]['Who']\n",
        "\n",
        "            bc = all_params[l]['bc']\n",
        "            bu = all_params[l]['bu']\n",
        "            bf = all_params[l]['bf']\n",
        "            bo = all_params[l]['bo']    \n",
        "\n",
        "            zc = jnp.dot(Wxc,x) + jnp.dot(Whc,h) + bc  # linear activation for candidate cell state C~\n",
        "            zu = jnp.dot(Wxu,x) + jnp.dot(Whu,h) + bu  # linear activation for update gate\n",
        "            zf = jnp.dot(Wxf,x) + jnp.dot(Whf,h) + bf  # linear activation for forget gate\n",
        "            zo = jnp.dot(Wxo,x) + jnp.dot(Who,h) + bo  # linear activation for output gate\n",
        "\n",
        "            c_tilde = jnp.tanh(zc)\n",
        "\n",
        "            gamma_u = sigmoid(zu)\n",
        "            gamma_f = sigmoid(zf)\n",
        "            gamma_o = sigmoid(zo)\n",
        "\n",
        "            cs_layers[t+1][l] = jnp.tanh(jnp.multiply(c_tilde,gamma_u) + jnp.multiply(c,gamma_f))\n",
        "\n",
        "            hs_layers[t+1][l] = jnp.multiply(cs_layers[t+1][l],gamma_o) # hidden state\n",
        "\n",
        "            xs_layers[t][l+1] = hs_layers[t+1][l]\n",
        "\n",
        "        y = jnp.dot(Why,xs_layers[t][l+1]) + by\n",
        "\n",
        "        p = softmax(y/temperature)\n",
        "\n",
        "        key,subkey = random.split(key)  #use key to split, subkey for next random number\n",
        "\n",
        "        ix = random.choice(subkey,vocab_size,p=p.reshape(-1,))\n",
        "\n",
        "        x_new = jnp.zeros((vocab_size, 1))\n",
        "        x_new = x_new.at[ix].set(1)\n",
        "\n",
        "        #ixes.append(int(ix))\n",
        "        ixes.append(int(ix))\n",
        "\n",
        "        xs_layers[t+1][0] = x_new\n",
        "\n",
        "    return ixes    \n",
        "\n",
        "def validation_loss(inputs,targets,h_inputs,c_inputs,all_params):\n",
        "\n",
        "    num_layers = len(all_params)-1\n",
        "\n",
        "    vocab_size = all_params[0]['Wxc'].shape[1]\n",
        "\n",
        "    layer_inputs={}\n",
        "\n",
        "    layer_inputs[0] = encode_inputs(inputs,vocab_size)\n",
        "\n",
        "    for l in range(num_layers):\n",
        "\n",
        "        h = h_inputs[l]\n",
        "        c = c_inputs[l]\n",
        "\n",
        "        x = layer_inputs[l]\n",
        "\n",
        "        layer_params = all_params[l]\n",
        "\n",
        "        s_cache, _ = lstm_forward(x,h,c,layer_params)\n",
        "\n",
        "        layer_inputs[l+1]=s_cache[1] #hidden outputs this layer\n",
        "\n",
        "    val_loss,val_p_cache = loss_function(targets,layer_inputs[num_layers],all_params[num_layers]['Why'],all_params[num_layers]['by'])\n",
        "\n",
        "    return val_loss\n",
        "\n",
        "validation_loss_jit = jit(validation_loss)"
      ]
    },
    {
      "cell_type": "code",
      "source": [
        "h_inp = {}\n",
        "c_inp = {}\n",
        "\n",
        "for l in range(num_layers):\n",
        "    h_inp[l] = jnp.zeros((hidden_size,1))\n",
        "    c_inp[l] = jnp.zeros((hidden_size,1))\n",
        "\n",
        "test_val_loss = validation_loss_jit(inp,targ,h_inp,c_inp,all_params)\n",
        "\n",
        "print(test_val_loss)"
      ],
      "metadata": {
        "colab": {
          "base_uri": "https://localhost:8080/"
        },
        "id": "GD-UkVzDM9BJ",
        "outputId": "a4fe68a7-c3fa-488b-a3ba-9fd45da4b89f"
      },
      "execution_count": 23,
      "outputs": [
        {
          "output_type": "stream",
          "name": "stdout",
          "text": [
            "26.064774\n"
          ]
        }
      ]
    },
    {
      "cell_type": "code",
      "execution_count": 26,
      "metadata": {
        "id": "4tm0YeJQ0Cod"
      },
      "outputs": [],
      "source": [
        "\n",
        "def train_character_lstm(seq_length,hidden_sizes,mini_batch_size,learning_rate,total_steps,steps_sample_freq,initial_key,training_data,validation_data=None):\n",
        "    '''\n",
        "    fingers crossed!\n",
        "    '''\n",
        "\n",
        "    #unique characters in the data set\n",
        "    chars = set(list(training_data))\n",
        "    vocab_size = len(chars)\n",
        "\n",
        "    #character encoding\n",
        "    char_to_ix = {ch:i for i,ch in enumerate(chars)}\n",
        "    ix_to_char = {i:ch for i,ch in enumerate(chars)}\n",
        "\n",
        "    # initialize data generators\n",
        "    training_generator = get_mini_batch(mini_batch_size,seq_length,char_to_ix,training_data)\n",
        "    if validation_data:\n",
        "       validation_generator = get_mini_batch(mini_batch_size,seq_length,char_to_ix,validation_data)\n",
        "\n",
        "    #current training step counter\n",
        "    n = 0\n",
        "\n",
        "    num_layers = len(hidden_sizes)   # number of lstm layers \n",
        "\n",
        "    #initialize the model weight matrices\n",
        "\n",
        "    all_params = {}\n",
        "    all_grads = {}\n",
        "    all_sqrd = {}\n",
        "\n",
        "    h_inputs,c_inputs = {},{}\n",
        "\n",
        "    for l in range(num_layers):\n",
        "\n",
        "        if l==0:\n",
        "           prev_layer_size = vocab_size\n",
        "        elif l>0:\n",
        "           prev_layer_size = hidden_sizes[l-1]\n",
        "\n",
        "        key, all_params[l],all_grads[l],all_sqrd[l] = initialize_lstm_weights(initial_key,hidden_sizes[l],prev_layer_size)\n",
        "\n",
        "        h_inputs[l] = jnp.zeros((hidden_sizes[l],1))\n",
        "        c_inputs[l] = jnp.zeros((hidden_sizes[l],1))\n",
        "\n",
        "    key, all_params[num_layers],all_grads[num_layers],all_sqrd[num_layers] = initialize_dense_weights(key,hidden_sizes[num_layers-1],vocab_size)\n",
        "\n",
        "    total_params = 0\n",
        "\n",
        "    for k1,v1 in all_params.items():\n",
        "        layer_total = 0\n",
        "        for k2,v2 in v1.items():\n",
        "            layer_total += v2.size\n",
        "            print(k1,k2,v2.shape)\n",
        "\n",
        "        total_params += layer_total\n",
        "        print(f'Layer {k1}: {layer_total} parameters')\n",
        "\n",
        "    print(f'LSTM Model has {num_layers+1} layers with {total_params} parameters')\n",
        "\n",
        "    #keep list of loss each training step\n",
        "    \n",
        "    step_list = [0]\n",
        "\n",
        "    tau = len(training_data) / (mini_batch_size * seq_length)\n",
        "\n",
        "    alpha = jnp.exp(-4./tau).item()\n",
        "\n",
        "    print(f'tau: {tau} alpha: {alpha}')\n",
        "\n",
        "    smooth_loss = -jnp.log(1.0/vocab_size)*seq_length\n",
        "\n",
        "    train_losses,smooth_losses,val_losses = [smooth_loss],[smooth_loss],[smooth_loss]\n",
        "\n",
        "    last_epoch = 0\n",
        "\n",
        "    sample_size = 200\n",
        "\n",
        "    sample_ix = [0]*sample_size\n",
        "\n",
        "    while n < total_steps:\n",
        "          \n",
        "          inputs,targets,current_epoch = next(training_generator)\n",
        "\n",
        "          if current_epoch > last_epoch:\n",
        "\n",
        "             last_epoch = current_epoch\n",
        "             \n",
        "             for l in range(num_layers):\n",
        "                 h_inputs[l] = jnp.zeros((hidden_sizes[l],1))\n",
        "                 c_inputs[l] = jnp.zeros((hidden_sizes[l],1))\n",
        "          \n",
        "          current_loss, params_cache, hidden_cache = sgd_step_adam_jit(\n",
        "                                                                current_step=n,\n",
        "                                                                inputs=inputs,\n",
        "                                                                targets=targets,\n",
        "                                                                h_inputs=h_inputs,\n",
        "                                                                c_inputs=c_inputs,\n",
        "                                                                all_params=all_params,\n",
        "                                                                all_grads_mems=all_grads,\n",
        "                                                                all_sqrd_mems=all_sqrd,\n",
        "                                                                beta1=0.9,\n",
        "                                                                beta2=0.999,\n",
        "                                                                learning_rate=learning_rate)   \n",
        "          \n",
        "          smooth_loss = alpha*smooth_loss + (1-alpha)*current_loss\n",
        "\n",
        "          # need to unpack caches so they are passed to next step\n",
        "          h_inputs,c_inputs = hidden_cache\n",
        "          all_params,all_grads,all_sqrd=params_cache\n",
        "\n",
        "          # sample from the model now and then\n",
        "          if n % steps_sample_freq == 0:\n",
        "             key,subkey=random.split(key) #key to split, subkey to gen next random sample\n",
        "\n",
        "             sample_ix = sample(sample_ix[-1],sample_size,subkey,h_inputs,c_inputs,all_params)\n",
        "\n",
        "             txt = ''.join(ix_to_char[int(ix)] for ix in sample_ix)\n",
        "             txt_wrap = wrap(txt,80)\n",
        "             txt_wrap = [line.center(100) for line in txt_wrap]\n",
        "             txt = '\\n'.join(txt_wrap)  # \\n aren't in the character set so wrap text to make readable\n",
        "\n",
        "             print('----\\n %s \\n----' % (txt,))\n",
        "\n",
        "             print(f'Step n: {n}\\t Epoch: {current_epoch}')\n",
        "\n",
        "             print(f'Train Current: {current_loss:.4f}\\tTrain Smoothed: {smooth_loss:.4f}')\n",
        "\n",
        "             step_list.append(n)\n",
        "             train_losses.append(current_loss)\n",
        "             smooth_losses.append(smooth_loss)\n",
        "\n",
        "             #compute_validation_loss\n",
        "             if validation_generator:\n",
        "                inputs_val,targets_val,val_epoch = next(validation_generator)\n",
        "\n",
        "                val_loss = validation_loss_jit(inputs_val,targets_val,h_inputs,c_inputs,all_params)\n",
        "\n",
        "                print(f'Val Current: {val_loss:.4f}') \n",
        "\n",
        "                val_losses.append(val_loss)       \n",
        "\n",
        "          n+=1\n",
        "\n",
        "    history = (step_list,smooth_losses,train_losses,val_losses)\n",
        "\n",
        "    return history, params_cache, hidden_cache"
      ]
    },
    {
      "cell_type": "code",
      "execution_count": 27,
      "metadata": {
        "colab": {
          "base_uri": "https://localhost:8080/"
        },
        "id": "zqn98JR26NIi",
        "outputId": "06c8c12c-42e2-4ce7-fc5d-ca71eea0e16c"
      },
      "outputs": [
        {
          "output_type": "stream",
          "name": "stdout",
          "text": [
            "0 Wxc (32, 26)\n",
            "0 Wxu (32, 26)\n",
            "0 Wxf (32, 26)\n",
            "0 Wxo (32, 26)\n",
            "0 bc (32, 1)\n",
            "0 bu (32, 1)\n",
            "0 bf (32, 1)\n",
            "0 bo (32, 1)\n",
            "0 Whc (32, 32)\n",
            "0 Whu (32, 32)\n",
            "0 Whf (32, 32)\n",
            "0 Who (32, 32)\n",
            "Layer 0: 7552 parameters\n",
            "1 Why (26, 32)\n",
            "1 by (26, 1)\n",
            "Layer 1: 858 parameters\n",
            "LSTM Model has 2 layers with 8410 parameters\n",
            "tau: 325.0 alpha: 0.98776775598526\n",
            "----\n",
            "           pmzfphamdxasnjbnhbfjiejetaknogubqsssbpwxkzycbuhwgqrufptgbsfxtuxasjltiuzontedbxcb          \n",
            "          ykxtsmgerbnlixvgvdhwjqxatpbvzwwabrakadnspntsudzniqaiofbuutukosrvrpcfexgqleuporwx          \n",
            "                             pkzcndyjuerdwngdfqkvylcqsisnlyqotclhoarmx                               \n",
            "----\n",
            "Step n: 0\t Epoch: 0\n",
            "Train Current: 32.5806\tTrain Smoothed: 32.5810\n",
            "Val Current: 32.5674\n",
            "----\n",
            "           xyzabcdefghijklmnopqrstuvwxyzabcdefghijklmnopqrstuvwxyzabcdefghijklmnopqrstuvwxy          \n",
            "          zabcdefghijklmnopqrstuvwxyzabcdefghijklmnopqrstuvwxyzabcdefghijklmnopqrstuvwxyza          \n",
            "                             bcdefghijklmnopqrstuvwxyzabcdefghijklmnop                               \n",
            "----\n",
            "Step n: 250\t Epoch: 0\n",
            "Train Current: 0.0320\tTrain Smoothed: 2.3572\n",
            "Val Current: 0.0959\n",
            "----\n",
            "           pqrstuvwxyzabcdefghijklmnopqrstuvwxyzabcdefghijklmnopqrstuvwxyzabcdefghijklmnopq          \n",
            "          rstuvwxyzabcdefghijklmnopqrstuvwxyzabcdefghijklmnopqrstuvwxyzabcdefghijklmnopqrs          \n",
            "                             tuvwxyzabcdefghijklmnopqrstuvwxyzabcdefgh                               \n",
            "----\n",
            "Step n: 500\t Epoch: 1\n",
            "Train Current: 0.0120\tTrain Smoothed: 0.1228\n",
            "Val Current: 0.0385\n",
            "----\n",
            "           hijklmnopqrstuvwxyzabcdefghijklmnopqrstuvwxyzabcdefghijklmnopqrstuvwxyzabcdefghi          \n",
            "          jklmnopqrstuvwxyzabcdefghijklmnopqrstuvwxyzabcdefghijklmnopqrstuvwxyzabcdefghijk          \n",
            "                             lmnopqrstuvwxyzabcdefghijklmnopqrstuvwxyz                               \n",
            "----\n",
            "Step n: 750\t Epoch: 2\n",
            "Train Current: 0.0047\tTrain Smoothed: 0.0119\n",
            "Val Current: 0.0321\n"
          ]
        }
      ],
      "source": [
        "mykey = random.PRNGKey(1)\n",
        "\n",
        "seq_length = 10\n",
        "\n",
        "hidden_sizes = [32]\n",
        "\n",
        "mini_batch_size = 16\n",
        "\n",
        "train_data = training_data\n",
        "val_data = training_data[513:]\n",
        "\n",
        "history,out_params,out_hidden = train_character_lstm(                  \n",
        "                                  seq_length=seq_length,\n",
        "                                  hidden_sizes=hidden_sizes,\n",
        "                                  mini_batch_size=mini_batch_size,\n",
        "                                  learning_rate=0.01,\n",
        "                                  total_steps=1000,\n",
        "                                  steps_sample_freq=250,\n",
        "                                  initial_key=mykey,\n",
        "                                  training_data=train_data,\n",
        "                                  validation_data=val_data)                "
      ]
    },
    {
      "cell_type": "code",
      "source": [
        "import matplotlib.pyplot as plt\n",
        "\n",
        "import numpy as np\n",
        "\n",
        "def plot_training_history(history,mini_batch_size,seq_length,training_length,plot_smooth=False,plot_val=True):\n",
        "\n",
        "    step_list,smooth_losses,train_losses,val_losses = history\n",
        "\n",
        "    fig,ax = plt.subplots(figsize=(10,6))\n",
        "\n",
        "    t_list = np.array(step_list)\n",
        "\n",
        "    t_list = t_list * mini_batch_size * seq_length / training_length\n",
        "\n",
        "    train_log_loss = np.log10(np.array(train_losses))\n",
        "\n",
        "    if plot_smooth:\n",
        "       smooth_log_loss = np.log10(np.array(smooth_losses))\n",
        "       ax.plot(t_list,smooth_log_loss,'bo-')\n",
        "\n",
        "    ax.plot(t_list,train_log_loss,'go-')\n",
        "\n",
        "    if len(val_losses)==len(step_list) and plot_val:\n",
        "       val_log_loss = np.log10(np.array(val_losses))\n",
        "\n",
        "       ax.plot(t_list,val_log_loss,'ro-')\n",
        "\n",
        "    ax.set_ylabel('$Log_{10}(L)$')\n",
        "    ax.set_xlabel('Epochs')\n",
        "\n",
        "    plt.show()"
      ],
      "metadata": {
        "id": "8u4x8mh3YfIZ"
      },
      "execution_count": 28,
      "outputs": []
    },
    {
      "cell_type": "code",
      "source": [
        "plot_training_history(history,\n",
        "                      mini_batch_size,\n",
        "                      seq_length,\n",
        "                      len(training_data),\n",
        "                      plot_smooth=True,\n",
        "                      plot_val=True)"
      ],
      "metadata": {
        "colab": {
          "base_uri": "https://localhost:8080/",
          "height": 542
        },
        "id": "-IZoPwacZcd6",
        "outputId": "54983f54-2f79-4835-a2a6-3ff05e84d9cb"
      },
      "execution_count": 29,
      "outputs": [
        {
          "output_type": "display_data",
          "data": {
            "text/plain": [
              "<Figure size 1000x600 with 1 Axes>"
            ],
            "image/png": "[encoded data removed]"
          },
          "metadata": {}
        }
      ]
    },
    {
      "cell_type": "code",
      "source": [
        "import re\n",
        "\n",
        "with open('illiad_clean.txt','r') as file:\n",
        "  text_data = file.read()\n",
        "\n",
        "text_data = re.sub(r\"\\[.\\]\",\" \",text_data)\n",
        "\n",
        "text_data = re.sub(r\"[^a-zA-Z0-9.,?!:;“”'`’ ]+\", \" \", text_data)\n",
        "\n",
        "text_data = re.sub(r\"[\\s]+\",\" \",text_data)\n",
        "\n",
        "train_split = 0.85\n",
        "n_train = int(len(text_data)*train_split)\n",
        "\n",
        "training_data = text_data[:n_train]\n",
        "validation_data = text_data[n_train:]\n",
        "\n",
        "chars = set(list(training_data))\n",
        "\n",
        "vocab_size = len(chars)\n",
        "\n",
        "char_to_ix = {ch:i for i,ch in enumerate(chars)}\n",
        "ix_to_char = {i:ch for i,ch in enumerate(chars)}\n",
        "\n",
        "print(f'{vocab_size} unique characters')\n",
        "print(f'Training has {len(training_data)} total characters')\n",
        "print(f'Validation has {len(validation_data)} total characters')\n",
        "\n",
        "seq_length = 100\n",
        "\n",
        "print(f'Will train on character sequences of length {seq_length}')\n",
        "print()\n",
        "txt = wrap(training_data[len(training_data)//2:(len(training_data)//2)+200])\n",
        "txt = [line.center(100) for line in txt]\n",
        "txt = '\\n'.join(txt)\n",
        "print('Training data sample: \\n')\n",
        "print(txt)\n",
        "print()"
      ],
      "metadata": {
        "colab": {
          "base_uri": "https://localhost:8080/"
        },
        "id": "bGCs9Q6ikp6S",
        "outputId": "f9a4abc0-63b4-447b-a214-e972bb949c11"
      },
      "execution_count": 30,
      "outputs": [
        {
          "output_type": "stream",
          "name": "stdout",
          "text": [
            "73 unique characters\n",
            "Training has 740442 total characters\n",
            "Validation has 130667 total characters\n",
            "Will train on character sequences of length 100\n",
            "\n",
            "Training data sample: \n",
            "\n",
            "               ide, At once a virgin, and at once a bride! No more with presents her                \n",
            "               embraces meet, Or lay the spoils of conquest at her feet, On whom his                \n",
            "                    passion, lavish of his store, Bestow’d so much, and vainly p                    \n",
            "\n"
          ]
        }
      ]
    },
    {
      "cell_type": "code",
      "source": [
        "mykey = random.PRNGKey(1)\n",
        "\n",
        "seq_length = 100\n",
        "\n",
        "hidden_sizes = [64,64]\n",
        "\n",
        "mini_batch_size = 64\n",
        "\n",
        "history,out_params,out_hidden = train_character_lstm(                  \n",
        "                                  seq_length=seq_length,\n",
        "                                  hidden_sizes=hidden_sizes,\n",
        "                                  mini_batch_size=mini_batch_size,\n",
        "                                  learning_rate=0.02,\n",
        "                                  total_steps=2000,\n",
        "                                  steps_sample_freq=250,\n",
        "                                  initial_key=mykey,\n",
        "                                  training_data=training_data,\n",
        "                                  validation_data=validation_data)\n",
        "\n",
        "plot_training_history(history,\n",
        "                      mini_batch_size,\n",
        "                      seq_length,\n",
        "                      len(training_data),\n",
        "                      plot_smooth=True,\n",
        "                      plot_val=True)"
      ],
      "metadata": {
        "colab": {
          "base_uri": "https://localhost:8080/",
          "height": 1000
        },
        "id": "XYjwknZjmXll",
        "outputId": "3997af4e-d98f-4551-8435-4993e433721a"
      },
      "execution_count": 31,
      "outputs": [
        {
          "output_type": "stream",
          "name": "stdout",
          "text": [
            "0 Wxc (64, 73)\n",
            "0 Wxu (64, 73)\n",
            "0 Wxf (64, 73)\n",
            "0 Wxo (64, 73)\n",
            "0 bc (64, 1)\n",
            "0 bu (64, 1)\n",
            "0 bf (64, 1)\n",
            "0 bo (64, 1)\n",
            "0 Whc (64, 64)\n",
            "0 Whu (64, 64)\n",
            "0 Whf (64, 64)\n",
            "0 Who (64, 64)\n",
            "Layer 0: 35328 parameters\n",
            "1 Wxc (64, 64)\n",
            "1 Wxu (64, 64)\n",
            "1 Wxf (64, 64)\n",
            "1 Wxo (64, 64)\n",
            "1 bc (64, 1)\n",
            "1 bu (64, 1)\n",
            "1 bf (64, 1)\n",
            "1 bo (64, 1)\n",
            "1 Whc (64, 64)\n",
            "1 Whu (64, 64)\n",
            "1 Whf (64, 64)\n",
            "1 Who (64, 64)\n",
            "Layer 1: 33024 parameters\n",
            "2 Why (73, 64)\n",
            "2 by (73, 1)\n",
            "Layer 2: 4745 parameters\n",
            "LSTM Model has 3 layers with 73097 parameters\n",
            "tau: 115.6940625 alpha: 0.966016948223114\n",
            "----\n",
            "                   A:DyOZ :ox Mg’vV4kC0WRXFJ QVEgSbt,MMbKHjtPmdf5ZngB85YAJ'vMy.aUj                   \n",
            "          ,X;3“SDM93RovjlvGQjJM:DFuv1shxf'f64n0BxL3KbIP7H v8LQ2ogTAg3,UNOgWtlWUYv.SJUqU,?i          \n",
            "                     uAlCR.zasRUOMuHxOQDlgo”0SRuNH1'NycqImslcMW,g2GBMJr24E28:.                       \n",
            "----\n",
            "Step n: 0\t Epoch: 0\n",
            "Train Current: 429.0464\tTrain Smoothed: 429.0460\n",
            "Val Current: 426.4463\n",
            "----\n",
            "              . The merloang, prordse the drith nith daid daster forvestir the the mand,             \n",
            "          Whiif, extenind lar, wher! Theiodwd bets the fat, Treys, Thrals anr hader, kars,          \n",
            "                           in loys to conves, ,eauld his gaad, frengs th                             \n",
            "----\n",
            "Step n: 250\t Epoch: 2\n",
            "Train Current: 205.1367\tTrain Smoothed: 211.4453\n",
            "Val Current: 208.1362\n",
            "----\n",
            "             hwy gare; and our bown, ’tamps senoulsed Hehis sast, Dilch, whereal bestaul             \n",
            "             gore. But vishled to turn chare:, the vice. Thow, Prife, throws wadch his              \n",
            "                        apparmant, and to Meturn the conshee to kniase whor                          \n",
            "----\n",
            "Step n: 500\t Epoch: 4\n",
            "Train Current: 172.1656\tTrain Smoothed: 178.3642\n",
            "Val Current: 177.3861\n",
            "----\n",
            "            re be glows the dest his sage; When lipht doss’d and the care liped the king,            \n",
            "            And clody rest; A monours the pliine ruth now rend: Meeting indroy hostires             \n",
            "                          share the barks thom brown’d I shiad, of refull                            \n",
            "----\n",
            "Step n: 750\t Epoch: 6\n",
            "Train Current: 156.1531\tTrain Smoothed: 163.0136\n",
            "Val Current: 166.8380\n",
            "----\n",
            "           ly bosound To ’twaen, and at his eye. The drows; But liels unusple on fly to no           \n",
            "          Greece impetar alonish king: ““What falr, his found, the love in just Whing, the          \n",
            "                              rluceled, And beneath and each wrebe to                                \n",
            "----\n",
            "Step n: 1000\t Epoch: 8\n",
            "Train Current: 152.7022\tTrain Smoothed: 155.8276\n",
            "Val Current: 160.2521\n",
            "----\n",
            "              last; Of toculy clouding mens Plead: Taris him Even their clash the Grecian            \n",
            "          Troy in a prize. Alminded tateron’s all return in youd but alone; By led.” “What          \n",
            "                            thus the day. Thus weaids Had your gods! Di                              \n",
            "----\n",
            "Step n: 1250\t Epoch: 10\n",
            "Train Current: 145.1320\tTrain Smoothed: 150.0162\n",
            "Val Current: 163.9112\n",
            "----\n",
            "              in the van yur, river; While upon ’mides of man his faced the sorrow? Then             \n",
            "          regade the can. But martial head, On the gods power’d on his poce Iluscent ensam          \n",
            "                            replimours Achilles a purple to the G dysong                             \n",
            "----\n",
            "Step n: 1500\t Epoch: 13\n",
            "Train Current: 148.0706\tTrain Smoothed: 148.6200\n",
            "Val Current: 155.3976\n",
            "----\n",
            "            sevos artigh, this dase once to with bow Tydieithful spread: Leedful flote with          \n",
            "          all altatite Ilian but shake, Seuteous caro, and hoary sajase to the viece from           \n",
            "                              walls with grace in stand, on Fuld an th                               \n",
            "----\n",
            "Step n: 1750\t Epoch: 15\n",
            "Train Current: 143.6985\tTrain Smoothed: 146.6933\n",
            "Val Current: 148.0356\n"
          ]
        },
        {
          "output_type": "display_data",
          "data": {
            "text/plain": [
              "<Figure size 1000x600 with 1 Axes>"
            ],
            "image/png": "[encoded data removed]"
          },
          "metadata": {}
        }
      ]
    },
    {
      "cell_type": "code",
      "source": [
        "key = random.PRNGKey(7)\n",
        "\n",
        "sample_size = 2000\n",
        "\n",
        "key,subkey=random.split(key) #use key to get next key, subkey for random number\n",
        "\n",
        "h_zeros_start = {l:jnp.zeros_like(out_hidden[0][l]) for l in range(2)}\n",
        "c_zeros_start = {l:jnp.zeros_like(out_hidden[1][l]) for l in range(2)}\n",
        "\n",
        "sample_ix = sample(char_to_ix['T'],sample_size,subkey,h_zeros_start,c_zeros_start,out_params[0],temperature=0.6)\n",
        "\n",
        "txt = ''.join(ix_to_char[ix] for ix in sample_ix)\n",
        "txt_wrap = wrap(txt,80)\n",
        "txt_wrap = [line.center(100) for line in txt_wrap]\n",
        "txt = '\\n'.join(txt_wrap)  # \\n aren't in the character set so wrap text to make readable\n",
        "\n",
        "print('----\\n %s \\n----' % (txt,))"
      ],
      "metadata": {
        "id": "mE_gChPW5Vpi",
        "colab": {
          "base_uri": "https://localhost:8080/"
        },
        "outputId": "ef1f8d48-4c1b-4b7e-ca24-cd70efe086e5"
      },
      "execution_count": 33,
      "outputs": [
        {
          "output_type": "stream",
          "name": "stdout",
          "text": [
            "----\n",
            "           T. the day’d: Unjust the soul give the sounds the spoke imperon sat that charge           \n",
            "           the solred, or shall free the generous friends the skies, In the plain, While            \n",
            "          the loud son Their fear, The son of battle steeds the gold, High at leaders o’er          \n",
            "           the stand the prince the spear the words from but the brief the son; The plain           \n",
            "           the chiefs of the ground, The sacred string the steeds his guide the generous            \n",
            "           way, Hector, and the steeds the soul the field, She standing o’er the land the           \n",
            "           glory stronger host. The skill with the fields. The call’d his sorrows beneath           \n",
            "            the field of said. So stands, and rage the sudden of where the sounding the             \n",
            "             sands of the word bear the fight; The field: The seat I bends the part the             \n",
            "            martial parting as the deed the sent his warrior deed the heavenly prove the            \n",
            "           goddess large the pleased her prince of the sky. Atrest the day, And heavenly            \n",
            "           the near the train descend on the great Ascend Greeks his walls her tried the            \n",
            "           words realms, and thinks the sacred strength of Jove the skill the forest, and           \n",
            "           ranks of the soul resistled spear, as they sickles the flight the shore: With            \n",
            "           for heaven of the strength the soul a mortal all the great Along. Alless’d the           \n",
            "            word a dreadful train, The strean bestow’d the foe in the gods the sande the            \n",
            "           same delent noble bold replied, And all the soul in the march and A shore: The           \n",
            "           scene drown, the words, whose hands! Our wrath shall stand the fleed the shine           \n",
            "          the steel of the each starry field, And said, and restore Hector the proph sighs          \n",
            "           to earth of golden trembling continus of Juno’s lacks breathless prince in the           \n",
            "          gods as the matchless should the glorious war, Hector great And their deathless           \n",
            "          rage the arms I bear the nations of the gold; The gods she flame, he stridecius,          \n",
            "           and the chariot her breast be great Ajax from his eyes his field the goat The            \n",
            "          son in Greece the gods to the ground for Troy, where the warrias sunk the starts          \n",
            "            to the field the foe! the plain; Then shall roll unvain, The shoulder to the            \n",
            "                                strunk in flew; There well heaven s                                  \n",
            "----\n"
          ]
        }
      ]
    },
    {
      "cell_type": "code",
      "source": [],
      "metadata": {
        "id": "gQQ6EF0aB3tG"
      },
      "execution_count": null,
      "outputs": []
    }
  ],
  "metadata": {
    "colab": {
      "provenance": []
    },
    "gpuClass": "standard",
    "kernelspec": {
      "display_name": "Python 3",
      "name": "python3"
    },
    "language_info": {
      "name": "python"
    },
    "accelerator": "GPU"
  },
  "nbformat": 4,
  "nbformat_minor": 0
}