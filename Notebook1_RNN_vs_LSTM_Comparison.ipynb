{
  "nbformat": 4,
  "nbformat_minor": 0,
  "metadata": {
    "colab": {
      "provenance": [],
      "authorship_tag": "ABX9TyObcODAFgLyRcx5NWFLKUSw",
      "include_colab_link": true
    },
    "kernelspec": {
      "name": "python3",
      "display_name": "Python 3"
    },
    "language_info": {
      "name": "python"
    }
  },
  "cells": [
    {
      "cell_type": "markdown",
      "metadata": {
        "id": "view-in-github",
        "colab_type": "text"
      },
      "source": [
        "<a href=\"https://colab.research.google.com/github/carlm451/LSTM_Character_Language_Model/blob/main/Notebook1_RNN_vs_LSTM_Comparison.ipynb\" target=\"_parent\"><img src=\"https://colab.research.google.com/assets/colab-badge.svg\" alt=\"Open In Colab\"/></a>"
      ]
    },
    {
      "cell_type": "markdown",
      "source": [
        "# Performance comparison between basic RNN and GPU enabled LSTM"
      ],
      "metadata": {
        "id": "QHSjof2TOWWb"
      }
    },
    {
      "cell_type": "markdown",
      "source": [
        "## Training Data: Homer's Illiad \n",
        "\n",
        "![picture](https://upload.wikimedia.org/wikipedia/commons/0/0d/Iliad_VIII_245-253_in_cod_F205%2C_Milan%2C_Biblioteca_Ambrosiana%2C_late_5c_or_early_6c.jpg)\n",
        "\n"
      ],
      "metadata": {
        "id": "w4arB_D1PXD5"
      }
    },
    {
      "cell_type": "code",
      "source": [
        "import requests\n",
        "\n"
      ],
      "metadata": {
        "id": "q2Dmh_tIREfj"
      },
      "execution_count": null,
      "outputs": []
    },
    {
      "cell_type": "code",
      "source": [
        "# data I/O\n",
        "data = open('illiad_clean.txt', 'r').read() # should be simple plain text file\n",
        "\n",
        "\n",
        "\n",
        "\n",
        "\n",
        "#data = 'abcdefghijklmnopqrstuvwxyz0123456789'*1000\n",
        "chars = list(set(data))\n",
        "data_size, vocab_size = len(data), len(chars)\n",
        "print('data has %d characters, %d unique.' % (data_size, vocab_size))\n",
        "char_to_ix = { ch:i for i,ch in enumerate(chars) }\n",
        "ix_to_char = { i:ch for i,ch in enumerate(chars) }"
      ],
      "metadata": {
        "id": "auVV0HLPQT3P"
      },
      "execution_count": null,
      "outputs": []
    },
    {
      "cell_type": "markdown",
      "source": [
        "## vanilla RNN min-char-rnn.py by Andrej Karpathy"
      ],
      "metadata": {
        "id": "jdLrKxOLOsrN"
      }
    },
    {
      "cell_type": "code",
      "source": [
        "import numpy as np\n",
        "\n",
        "# hyperparameters\n",
        "hidden_size = 128 # size of hidden layer of neurons\n",
        "seq_length = 100 # number of steps to unroll the RNN for\n",
        "learning_rate = 1e-1\n",
        "\n",
        "# model parameters\n",
        "Wxh = np.random.randn(hidden_size, vocab_size)*0.01 # input to hidden\n",
        "Whh = np.random.randn(hidden_size, hidden_size)*0.01 # hidden to hidden\n",
        "Why = np.random.randn(vocab_size, hidden_size)*0.01 # hidden to output\n",
        "bh = np.zeros((hidden_size, 1)) # hidden bias\n",
        "by = np.zeros((vocab_size, 1)) # output bias"
      ],
      "metadata": {
        "id": "ppOIhnL-OzoU"
      },
      "execution_count": null,
      "outputs": []
    },
    {
      "cell_type": "code",
      "source": [
        "import requests\n",
        "\n",
        "url = 'https://raw.githubusercontent.com/carlm451/LSTM_Character_Language_Model/main/jax_char_lstm.py?token=GHSAT0AAAAAACCB2Q2HCKE6IPMH4BBMK3KYZCRGQMA'\n",
        "r = requests.get(url)\n",
        "\n",
        "with open('jax_char_lstm.py','w') as file:\n",
        "     file.write(r.text)"
      ],
      "metadata": {
        "id": "4aRnQ_AWMOUH"
      },
      "execution_count": 4,
      "outputs": []
    },
    {
      "cell_type": "code",
      "source": [
        "import jax_char_lstm as lstm"
      ],
      "metadata": {
        "id": "itJ5LHfgM8JQ"
      },
      "execution_count": 5,
      "outputs": []
    },
    {
      "cell_type": "code",
      "source": [],
      "metadata": {
        "id": "Q9G7C4cANEQt"
      },
      "execution_count": null,
      "outputs": []
    },
    {
      "cell_type": "code",
      "source": [],
      "metadata": {
        "id": "5GPB9yqdOsKd"
      },
      "execution_count": null,
      "outputs": []
    },
    {
      "cell_type": "markdown",
      "source": [
        "## LSTM module --- JAX + Adam optimizations + embedding layer "
      ],
      "metadata": {
        "id": "qZ65qbdxO8SL"
      }
    },
    {
      "cell_type": "code",
      "source": [],
      "metadata": {
        "id": "eOdMWKpJPG_Z"
      },
      "execution_count": null,
      "outputs": []
    }
  ]
}