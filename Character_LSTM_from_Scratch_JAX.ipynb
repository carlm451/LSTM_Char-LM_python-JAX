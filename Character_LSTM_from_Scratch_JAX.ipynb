{
  "cells": [
    {
      "cell_type": "code",
      "execution_count": 1,
      "metadata": {
        "id": "OD2YpM0yclp0"
      },
      "outputs": [],
      "source": [
        "import jax.numpy as jnp\n",
        "from jax import grad, jit, vmap\n",
        "from jax import random\n",
        "\n",
        "from textwrap import wrap\n",
        "\n",
        "from copy import deepcopy"
      ]
    },
    {
      "cell_type": "code",
      "execution_count": 2,
      "metadata": {
        "colab": {
          "base_uri": "https://localhost:8080/"
        },
        "id": "Pf1oQlfWdPEV",
        "outputId": "2a7b751e-b9cc-4e91-d991-f37614fc1c9c"
      },
      "outputs": [
        {
          "output_type": "stream",
          "name": "stdout",
          "text": [
            "26 unique characters\n",
            "5200 total characters\n"
          ]
        }
      ],
      "source": [
        "training_data = 'abcdefghijklmnopqrstuvwxyz'*200\n",
        "\n",
        "chars = set(list(training_data))\n",
        "\n",
        "vocab_size = len(chars)\n",
        "\n",
        "char_to_ix = {ch:i for i,ch in enumerate(chars)}\n",
        "ix_to_char = {i:ch for i,ch in enumerate(chars)}\n",
        "\n",
        "print(f'{vocab_size} unique characters')\n",
        "print(f'{len(training_data)} total characters')"
      ]
    },
    {
      "cell_type": "code",
      "execution_count": 3,
      "metadata": {
        "colab": {
          "base_uri": "https://localhost:8080/"
        },
        "id": "lVYosrYdc6GU",
        "outputId": "1283ab68-9327-4152-af16-290954da896c"
      },
      "outputs": [
        {
          "output_type": "stream",
          "name": "stdout",
          "text": [
            "LSTM with 30 hidden units\n",
            "Will train on character sequences of length 10\n",
            "\n",
            "Training data sample: \n",
            "\n",
            "               abcdefghijklmnopqrstuvwxyzabcdefghijklmnopqrstuvwxyzabcdefghijklmnopqr               \n",
            "               stuvwxyzabcdefghijklmnopqrstuvwxyzabcdefghijklmnopqrstuvwxyzabcdefghij               \n",
            "                    klmnopqrstuvwxyzabcdefghijklmnopqrstuvwxyzabcdefghijklmnopqr                    \n",
            "\n"
          ]
        }
      ],
      "source": [
        "hidden_size = 30\n",
        "\n",
        "seq_length = 10\n",
        "\n",
        "print(f'LSTM with {hidden_size} hidden units')\n",
        "print(f'Will train on character sequences of length {seq_length}')\n",
        "print()\n",
        "txt = wrap(training_data[len(training_data)//2:(len(training_data)//2)+200])\n",
        "txt = [line.center(100) for line in txt]\n",
        "txt = '\\n'.join(txt)\n",
        "print('Training data sample: \\n')\n",
        "print(txt)\n",
        "print()"
      ]
    },
    {
      "cell_type": "code",
      "execution_count": 4,
      "metadata": {
        "id": "wVrhDpOidnkE"
      },
      "outputs": [],
      "source": [
        "def initialize_weights(key,n_h,n_x):\n",
        "    \n",
        "    subkeys=random.split(key)\n",
        "\n",
        "    params = dict()\n",
        "\n",
        "    params['Wxc'] = random.normal(subkeys[0],(n_h,n_x))*0.01 # input to cell state\n",
        "    params['Wxu'] = random.normal(subkeys[1],(n_h,n_x))*0.01 # input to update\n",
        "    params['Wxf'] = random.normal(subkeys[2],(n_h,n_x))*0.01 # input to forget\n",
        "    params['Wxo'] = random.normal(subkeys[3],(n_h,n_x))*0.01 # input to output\n",
        "\n",
        "    params['bc'] = jnp.zeros((n_h, 1)) # hidden bias\n",
        "    params['bu'] = jnp.zeros((n_h, 1)) # forget bias\n",
        "    params['bf'] = jnp.zeros((n_h, 1)) # update bias\n",
        "    params['bo'] = jnp.zeros((n_h, 1)) # output bias\n",
        "\n",
        "    params['Whc'] = random.normal(subkeys[4],(n_h,n_h))*0.01 # hidden to cell\n",
        "    params['Whu'] = random.normal(subkeys[5],(n_h,n_h))*0.01 # hidden to update\n",
        "    params['Whf'] = random.normal(subkeys[6],(n_h,n_h))*0.01 # hidden to forget\n",
        "    params['Who'] = random.normal(subkeys[7],(n_h,n_h))*0.01 # hidden to output\n",
        "\n",
        "    params['Why'] = random.normal(subkeys[8],(n_x,n_h))*0.01 # hidden to output\n",
        "    params['by'] = jnp.zeros((n_x, 1)) # output bias\n",
        "\n",
        "    grad_mems = dict()\n",
        "    sqrd_mems = dict()\n",
        "\n",
        "    for parameter in params.keys():\n",
        "\n",
        "        shape = params[parameter].shape\n",
        "\n",
        "        grad_mems[parameter]=jnp.zeros(shape)\n",
        "        sqrd_mems[parameter]=jnp.zeros(shape)\n",
        "\n",
        "    return params, grad_mems, sqrd_mems"
      ]
    },
    {
      "cell_type": "code",
      "execution_count": 5,
      "metadata": {
        "colab": {
          "base_uri": "https://localhost:8080/"
        },
        "id": "NtiIlmbjfRYj",
        "outputId": "644802df-9830-4094-dd55-4079660937f7"
      },
      "outputs": [
        {
          "output_type": "stream",
          "name": "stdout",
          "text": [
            "dict_keys(['Wxc', 'Wxu', 'Wxf', 'Wxo', 'bc', 'bu', 'bf', 'bo', 'Whc', 'Whu', 'Whf', 'Who', 'Why', 'by'])\n",
            "-0.0005330194\n",
            "0.0\n",
            "0.0\n"
          ]
        }
      ],
      "source": [
        "start_key = random.PRNGKey(0)\n",
        "\n",
        "params,grad_mems,sqrd_mems = initialize_weights(start_key,hidden_size,vocab_size)\n",
        "\n",
        "print(params.keys())\n",
        "print(jnp.mean(params['Wxc']))\n",
        "print(jnp.mean(grad_mems['Wxc']))\n",
        "print(jnp.mean(sqrd_mems['Wxc']))"
      ]
    },
    {
      "cell_type": "code",
      "execution_count": 6,
      "metadata": {
        "id": "nfih6PcffY4S"
      },
      "outputs": [],
      "source": [
        "def get_mini_batch(mini_batch_size,seq_length,char_to_ix,data):\n",
        "    '''\n",
        "    generator to continuous loop the data and pull out mini batches\n",
        "    '''\n",
        "    p = 0\n",
        "\n",
        "    batch_character_size = mini_batch_size*(seq_length)\n",
        "\n",
        "    while True:\n",
        "\n",
        "        if p+batch_character_size+1>=len(data):\n",
        "            p=0\n",
        "\n",
        "            # need to reset hprev,cprev if it loops?\n",
        "\n",
        "        inputs,targets = [],[]\n",
        "\n",
        "        for _ in range(mini_batch_size):\n",
        "\n",
        "            inputs.append([char_to_ix[ch] for ch in data[p:p+seq_length]])\n",
        "            targets.append([char_to_ix[ch] for ch in data[p+1:p+seq_length+1]])\n",
        "\n",
        "            p += seq_length\n",
        "\n",
        "        inputs = jnp.array(inputs)\n",
        "        targets = jnp.array(targets)\n",
        "\n",
        "        yield inputs,targets"
      ]
    },
    {
      "cell_type": "code",
      "execution_count": 7,
      "metadata": {
        "colab": {
          "base_uri": "https://localhost:8080/",
          "height": 156
        },
        "id": "CDlL1PFOio0A",
        "outputId": "a31e46b2-0a1a-4c0a-aef1-2c72b77a5351"
      },
      "outputs": [
        {
          "output_type": "display_data",
          "data": {
            "text/plain": [
              "Array([[ 5,  2, 17, 19, 21, 25,  6, 23, 14, 24],\n",
              "       [10,  7, 22, 20, 15, 12,  4,  9,  1, 11],\n",
              "       [ 0, 18,  8, 16, 13,  3,  5,  2, 17, 19],\n",
              "       [21, 25,  6, 23, 14, 24, 10,  7, 22, 20]], dtype=int32)"
            ]
          },
          "metadata": {}
        },
        {
          "output_type": "display_data",
          "data": {
            "text/plain": [
              "Array([[ 2, 17, 19, 21, 25,  6, 23, 14, 24, 10],\n",
              "       [ 7, 22, 20, 15, 12,  4,  9,  1, 11,  0],\n",
              "       [18,  8, 16, 13,  3,  5,  2, 17, 19, 21],\n",
              "       [25,  6, 23, 14, 24, 10,  7, 22, 20, 15]], dtype=int32)"
            ]
          },
          "metadata": {}
        }
      ],
      "source": [
        "batch_gen = get_mini_batch(4,seq_length,char_to_ix,training_data)\n",
        "\n",
        "inp,targ = next(batch_gen)\n",
        "\n",
        "display(inp,targ)"
      ]
    },
    {
      "cell_type": "code",
      "execution_count": 8,
      "metadata": {
        "id": "kkNHK-6EjYHh"
      },
      "outputs": [],
      "source": [
        "def sigmoid(z):\n",
        "    return 1.0/(1.0 + jnp.exp(-z))\n",
        "\n",
        "def softmax(y):\n",
        "    return jnp.exp(y) / jnp.sum(jnp.exp(y),axis=0)\n",
        "\n",
        "def lstm_forward(inputs,targets,hprev,cprev,params):\n",
        "    '''\n",
        "    single forward pass of the LSTM\n",
        "\n",
        "    returns loss for this mini-batch\n",
        "\n",
        "    returns cache of variables needed for backwards pass\n",
        "    '''\n",
        "\n",
        "    # dims\n",
        "    mini_batch_size = inputs.shape[0]\n",
        "    seq_length = inputs.shape[1]\n",
        "\n",
        "    hidden_size = hprev.shape[0]\n",
        "\n",
        "    vocab_size = params['Wxc'].shape[1]\n",
        "\n",
        "    # unpack params\n",
        "\n",
        "    Wxc = params['Wxc']\n",
        "    Wxu = params['Wxu']\n",
        "    Wxf = params['Wxf']\n",
        "    Wxo = params['Wxo']\n",
        "\n",
        "    Whc = params['Whc']\n",
        "    Whu = params['Whu']\n",
        "    Whf = params['Whf']\n",
        "    Who = params['Who']\n",
        "\n",
        "    bc = params['bc']\n",
        "    bu = params['bu']\n",
        "    bf = params['bf']\n",
        "    bo = params['bo']\n",
        "\n",
        "    Why = params['Why']\n",
        "    by = params['by']\n",
        "\n",
        "    # caches for forward pass\n",
        "\n",
        "    xs, hs, cs, c_tildes = {}, {}, {}, {}\n",
        "\n",
        "    gamma_us, gamma_fs, gamma_os = {}, {}, {}\n",
        "\n",
        "    ys, ps = {},{}\n",
        "\n",
        "    hs[-1] = jnp.tile(hprev,(1,mini_batch_size))\n",
        "    cs[-1] = jnp.tile(cprev,(1,mini_batch_size))\n",
        "\n",
        "    loss = 0\n",
        "\n",
        "    for t in range(seq_length):\n",
        "        xs[t] = jnp.zeros((vocab_size,mini_batch_size))\n",
        "\n",
        "        xs[t] = xs[t].at[inputs[:,t],jnp.arange(mini_batch_size)].set(1) # batch of one-hot vectors for time t\n",
        "\n",
        "        zc = jnp.dot(Wxc,xs[t]) + jnp.dot(Whc,hs[t-1]) + bc  # linear activation for candidate cell state C~\n",
        "        zu = jnp.dot(Wxu,xs[t]) + jnp.dot(Whu,hs[t-1]) + bu  # linear activation for update gate\n",
        "        zf = jnp.dot(Wxf,xs[t]) + jnp.dot(Whf,hs[t-1]) + bf  # linear activation for forget gate\n",
        "        zo = jnp.dot(Wxo,xs[t]) + jnp.dot(Who,hs[t-1]) + bo  # linear activation for output gate\n",
        "\n",
        "        c_tildes[t] = jnp.tanh(zc) # canidate for new c state\n",
        "\n",
        "        gamma_us[t] = sigmoid(zu)\n",
        "        gamma_fs[t] = sigmoid(zf)\n",
        "        gamma_os[t] = sigmoid(zo)\n",
        "\n",
        "        cs[t] = jnp.tanh(jnp.multiply(c_tildes[t],gamma_us[t]) + jnp.multiply(cs[t-1],gamma_fs[t]))  # tanh here is import!!!\n",
        "\n",
        "        hs[t] = jnp.multiply(cs[t],gamma_os[t]) # hidden state\n",
        "\n",
        "        ys[t] = jnp.dot(Why, hs[t]) + by # unnormalized log probabilities for next chars\n",
        "\n",
        "        ps[t] = softmax(ys[t]) # probabilities for next chars\n",
        "\n",
        "        loss += -jnp.mean(jnp.log(ps[t][targets[:,t],jnp.arange(mini_batch_size)]))   #  ps[t] should be shape (vocab_size,mini_batch_size)\n",
        "\n",
        "    p_cache = (ys,ps)\n",
        "\n",
        "    gates = (gamma_us,gamma_fs,gamma_os)\n",
        "\n",
        "    states = (xs,hs,cs,c_tildes)\n",
        "\n",
        "    return loss, p_cache, gates, states"
      ]
    },
    {
      "cell_type": "code",
      "execution_count": 9,
      "metadata": {
        "id": "UxIUNno4oiKU"
      },
      "outputs": [],
      "source": [
        "h = jnp.zeros((hidden_size,1))\n",
        "c = jnp.zeros((hidden_size,1))\n",
        "\n",
        "test_loss, p_cache, g_cache, s_cache = lstm_forward(inp,targ,h,c,params)"
      ]
    },
    {
      "cell_type": "code",
      "execution_count": 10,
      "metadata": {
        "colab": {
          "base_uri": "https://localhost:8080/"
        },
        "id": "2WrNAE9ao4fO",
        "outputId": "40931c30-3d5f-4bdc-bd6e-032f5f144269"
      },
      "outputs": [
        {
          "output_type": "execute_result",
          "data": {
            "text/plain": [
              "Array(32.580753, dtype=float32)"
            ]
          },
          "metadata": {},
          "execution_count": 10
        }
      ],
      "source": [
        "test_loss"
      ]
    },
    {
      "cell_type": "code",
      "execution_count": 11,
      "metadata": {
        "colab": {
          "base_uri": "https://localhost:8080/"
        },
        "id": "H6uPaSKyrW5A",
        "outputId": "9f65d9d9-c57a-417c-b583-1cc8669830d1"
      },
      "outputs": [
        {
          "output_type": "stream",
          "name": "stdout",
          "text": [
            "<class 'tuple'> 2\n",
            "<class 'tuple'> 3\n",
            "<class 'tuple'> 4\n"
          ]
        }
      ],
      "source": [
        "print(type(p_cache),len(p_cache))\n",
        "print(type(g_cache),len(g_cache))\n",
        "print(type(s_cache),len(s_cache))"
      ]
    },
    {
      "cell_type": "code",
      "execution_count": 12,
      "metadata": {
        "colab": {
          "base_uri": "https://localhost:8080/"
        },
        "id": "saQwgUaCpHTx",
        "outputId": "da467998-7ef2-490f-d2c9-071d105e2daa"
      },
      "outputs": [
        {
          "output_type": "stream",
          "name": "stdout",
          "text": [
            "302 ms ± 39.1 ms per loop (mean ± std. dev. of 7 runs, 1 loop each)\n"
          ]
        }
      ],
      "source": [
        "%timeit lstm_forward(inp,targ,h,c,params)[0].block_until_ready()"
      ]
    },
    {
      "cell_type": "code",
      "execution_count": 13,
      "metadata": {
        "colab": {
          "base_uri": "https://localhost:8080/"
        },
        "id": "yIRyLFTvpaia",
        "outputId": "4e6cac77-1309-4498-9b92-b0e0e57fa77d"
      },
      "outputs": [
        {
          "output_type": "stream",
          "name": "stdout",
          "text": [
            "700 µs ± 36.8 µs per loop (mean ± std. dev. of 7 runs, 1000 loops each)\n"
          ]
        }
      ],
      "source": [
        "lstm_forward_jit = jit(lstm_forward)\n",
        "\n",
        "#warmup\n",
        "lstm_forward_jit(inp,targ,h,c,params)[0].block_until_ready()\n",
        "\n",
        "%timeit lstm_forward_jit(inp,targ,h,c,params)[0].block_until_ready()"
      ]
    },
    {
      "cell_type": "code",
      "execution_count": 14,
      "metadata": {
        "colab": {
          "base_uri": "https://localhost:8080/"
        },
        "id": "zXr32xhgqGO4",
        "outputId": "ef4614d5-4098-41f8-eb6e-b5e8123513bb"
      },
      "outputs": [
        {
          "output_type": "execute_result",
          "data": {
            "text/plain": [
              "257.28987993138935"
            ]
          },
          "metadata": {},
          "execution_count": 14
        }
      ],
      "source": [
        "150*1000/583"
      ]
    },
    {
      "cell_type": "code",
      "execution_count": 15,
      "metadata": {
        "id": "M9URF-wmqYhY"
      },
      "outputs": [],
      "source": [
        "\n",
        "def lstm_backward(targets,probs_cache,gates_cache,states_cache,params):\n",
        "    '''\n",
        "    backward pass of the LSTM\n",
        "\n",
        "    return gradients for all parameters\n",
        "    '''\n",
        "    #unpack caches\n",
        "\n",
        "    ys,ps = probs_cache\n",
        "\n",
        "    gamma_us,gamma_fs,gamma_os = gates_cache\n",
        "\n",
        "    xs,hs,cs,c_tildes = states_cache\n",
        "\n",
        "    # dims\n",
        "    mini_batch_size = targets.shape[0]\n",
        "    seq_length = targets.shape[1]\n",
        "\n",
        "    hidden_size = hs[-1].shape[0]\n",
        "\n",
        "    vocab_size = params['Wxc'].shape[1]\n",
        "\n",
        "    # unpack parameters\n",
        "\n",
        "    Wxc = params['Wxc']\n",
        "    Wxu = params['Wxu']\n",
        "    Wxf = params['Wxf']\n",
        "    Wxo = params['Wxo']\n",
        "\n",
        "    Whc = params['Whc']\n",
        "    Whu = params['Whu']\n",
        "    Whf = params['Whf']\n",
        "    Who = params['Who']\n",
        "\n",
        "    bc = params['bc']\n",
        "    bu = params['bu']\n",
        "    bf = params['bf']\n",
        "    bo = params['bo']\n",
        "\n",
        "    Why = params['Why']\n",
        "    by = params['by']\n",
        "\n",
        "    #initialize gradients to zero\n",
        "\n",
        "    dWxc,dWxu,dWxf,dWxo = jnp.zeros_like(Wxc), jnp.zeros_like(Wxu), jnp.zeros_like(Wxf), jnp.zeros_like(Wxo)\n",
        "    dWhc,dWhu,dWhf,dWho = jnp.zeros_like(Whc), jnp.zeros_like(Whu), jnp.zeros_like(Whf), jnp.zeros_like(Who)\n",
        "    dbc,dbu,dbf,dbo = jnp.zeros_like(bc), jnp.zeros_like(bu), jnp.zeros_like(bf), jnp.zeros_like(bo)\n",
        "    dWhy,dby = jnp.zeros_like(Why), jnp.zeros_like(by)\n",
        "\n",
        "    # tmp variables to accumulate gradients over the backprop -- see differentiation graph\n",
        "    dhnext, dcnext = jnp.zeros_like(hs[0]), jnp.zeros_like(cs[0])\n",
        "\n",
        "    #backward pass\n",
        "\n",
        "    for t in reversed(range(seq_length)):\n",
        "        dy = jnp.copy(ps[t])\n",
        "\n",
        "        dy = dy.at[targets[:,t],jnp.arange(mini_batch_size)].add(-1) #backprop into y\n",
        "\n",
        "        dWhy += jnp.dot(dy, hs[t].T)\n",
        "        dby += jnp.sum(dy,axis=1,keepdims=True)\n",
        "\n",
        "        dh = jnp.dot(Why.T, dy) + dhnext # backprop into h\n",
        "\n",
        "        dc = jnp.multiply((1-cs[t]**2),jnp.multiply(gamma_os[t],dh) + dcnext) #backprop into c\n",
        "\n",
        "        dcnext = jnp.multiply(gamma_fs[t],dc)\n",
        "\n",
        "        dzc = jnp.multiply((1-c_tildes[t]**2),jnp.multiply(gamma_us[t],dc))  # backprop through tanh\n",
        "\n",
        "        dzu = jnp.multiply(gamma_us[t]*(1-gamma_us[t]),jnp.multiply(c_tildes[t],dc))  # sigmoid prime\n",
        "\n",
        "        dzf = jnp.multiply(gamma_fs[t]*(1-gamma_fs[t]),jnp.multiply(cs[t-1],dc))\n",
        "\n",
        "        dzo = jnp.multiply(gamma_os[t]*(1-gamma_os[t]),jnp.multiply(cs[t],dh))\n",
        "\n",
        "        dbc += jnp.sum(dzc,axis=1,keepdims=True)\n",
        "        dbu += jnp.sum(dzu,axis=1,keepdims=True)\n",
        "        dbf += jnp.sum(dzf,axis=1,keepdims=True)\n",
        "        dbo += jnp.sum(dzo,axis=1,keepdims=True)\n",
        "\n",
        "        dWhc += jnp.dot(dzc,hs[t-1].T)\n",
        "        dWhu += jnp.dot(dzu,hs[t-1].T)\n",
        "        dWhf += jnp.dot(dzf,hs[t-1].T)\n",
        "        dWho += jnp.dot(dzo,hs[t-1].T)\n",
        "\n",
        "        dWxc += jnp.dot(dzc,xs[t].T)\n",
        "        dWxu += jnp.dot(dzu,xs[t].T)\n",
        "        dWxf += jnp.dot(dzf,xs[t].T)\n",
        "        dWxo += jnp.dot(dzo,xs[t].T)\n",
        "\n",
        "        # four contributions to dhnext,one from each gate\n",
        "        dhnext = jnp.dot(Whc.T,dzc) + jnp.dot(Whu.T,dzu) + jnp.dot(Whf.T,dzf) + jnp.dot(Who.T,dzo)\n",
        "\n",
        "    grads = dict()\n",
        "\n",
        "    grads['Wxc']=dWxc\n",
        "    grads['Wxu']=dWxu\n",
        "    grads['Wxf']=dWxf\n",
        "    grads['Wxo']=dWxo\n",
        "\n",
        "    grads['Whc']=dWhc\n",
        "    grads['Whu']=dWhu\n",
        "    grads['Whf']=dWhf\n",
        "    grads['Who']=dWho\n",
        "\n",
        "    grads['bc']=dbc\n",
        "    grads['bu']=dbu\n",
        "    grads['bf']=dbf\n",
        "    grads['bo']=dbo\n",
        "\n",
        "    grads['Why']=dWhy\n",
        "    grads['by']=dby\n",
        "\n",
        "    for parameter in grads.keys():\n",
        "        grads[parameter] = jnp.clip(grads[parameter], -5, 5) # clip to mitigate exploding gradients\n",
        "\n",
        "    return grads"
      ]
    },
    {
      "cell_type": "code",
      "execution_count": 16,
      "metadata": {
        "colab": {
          "base_uri": "https://localhost:8080/"
        },
        "id": "aFjznK680ytU",
        "outputId": "d1c8a3c0-d4d7-4345-c882-53b52e97bec5"
      },
      "outputs": [
        {
          "output_type": "stream",
          "name": "stdout",
          "text": [
            "<class 'dict'> 14\n"
          ]
        }
      ],
      "source": [
        "grads_test = lstm_backward(targ,p_cache,g_cache,s_cache,params)\n",
        "\n",
        "print(type(grads_test),len(grads_test))"
      ]
    },
    {
      "cell_type": "code",
      "execution_count": 17,
      "metadata": {
        "id": "y4-IR4i6u4G5"
      },
      "outputs": [],
      "source": [
        "\n",
        "def sgd_step_adam(current_step,inputs,targets,h,c,params,grads_mems,sqrd_mems,beta1,beta2,learning_rate):\n",
        "\n",
        "    # dims\n",
        "    mini_batch_size = inputs.shape[0]\n",
        "    seq_length = inputs.shape[1]\n",
        "\n",
        "    hidden_size = h.shape[0]\n",
        "\n",
        "    vocab_size = params['Wxc'].shape[1]\n",
        "\n",
        "    n = current_step\n",
        "\n",
        "    #forward pass\n",
        "    loss, p_cache, g_cache, s_cache = lstm_forward(inputs,targets,h,c,params)\n",
        "    \n",
        "    #need hs, cs\n",
        "\n",
        "    xs,hs,cs,c_tildes = s_cache\n",
        "\n",
        "    h_next = jnp.mean(hs[seq_length-1],axis=1,keepdims=True)\n",
        "    c_next = jnp.mean(cs[seq_length-1],axis=1,keepdims=True)\n",
        "\n",
        "    new_params = deepcopy(params)\n",
        "\n",
        "    new_mems1 = deepcopy(grads_mems)\n",
        "    new_mems2 = deepcopy(sqrd_mems)\n",
        "\n",
        "    #backward pass\n",
        "    grads = lstm_backward(targets,p_cache,g_cache,s_cache,params)\n",
        "\n",
        "    # perform parameter update with ADAM \n",
        "    for parameter in new_params.keys():\n",
        "\n",
        "        dparam = grads[parameter] / mini_batch_size\n",
        "\n",
        "        new_mems1[parameter] = beta1*new_mems1[parameter] + (1-beta1)*dparam\n",
        "\n",
        "        new_mems2[parameter] = beta2*new_mems2[parameter] + (1-beta2)*dparam*dparam\n",
        "\n",
        "        grad_hat = new_mems1[parameter] / (1-beta1**(n+1))\n",
        "        sqrd_hat = new_mems2[parameter] / (1-beta2**(n+1))\n",
        "\n",
        "        new_params[parameter] += -learning_rate * grad_hat / (jnp.sqrt(sqrd_hat + 1e-8)) # ADAM update\n",
        "\n",
        "    params_cache = (new_params,new_mems1,new_mems2)\n",
        "\n",
        "    hidden_cache = (h_next,c_next)\n",
        "    \n",
        "    return loss, params_cache, hidden_cache"
      ]
    },
    {
      "cell_type": "code",
      "execution_count": 19,
      "metadata": {
        "id": "4tm0YeJQ0Cod"
      },
      "outputs": [],
      "source": [
        "sgd_step_adam_jit = jit(sgd_step_adam)\n",
        "\n",
        "def train_character_lstm(train_data,seq_length,hidden_size,mini_batch_size,learning_rate,total_steps,initial_key):\n",
        "    '''\n",
        "    fingers crossed!\n",
        "    '''\n",
        "\n",
        "    #current training step counter\n",
        "    n = 0\n",
        "\n",
        "    #unique characters in the data set\n",
        "    chars = set(list(training_data))\n",
        "    vocab_size = len(chars)\n",
        "\n",
        "    #character encoding\n",
        "    char_to_ix = {ch:i for i,ch in enumerate(chars)}\n",
        "    ix_to_char = {i:ch for i,ch in enumerate(chars)}\n",
        "\n",
        "    #generator to get mini-batches\n",
        "    training_gen = get_mini_batch(mini_batch_size,seq_length,char_to_ix,training_data)\n",
        "\n",
        "    #initialize the model weight matrices\n",
        "    params_cache = initialize_weights(initial_key,hidden_size,vocab_size)\n",
        "\n",
        "    #keep list of loss each training step\n",
        "    losses = []\n",
        "    smooth_loss = -jnp.log(1.0/vocab_size)*seq_length\n",
        "    losses.append(smooth_loss)\n",
        "\n",
        "    h_next = jnp.zeros((hidden_size,1))\n",
        "    c_next = jnp.zeros((hidden_size,1))\n",
        "\n",
        "    key = initial_key\n",
        "\n",
        "    sample_size = 200\n",
        "\n",
        "    sample_ix = [0]*sample_size\n",
        "\n",
        "    while n < total_steps:\n",
        "          \n",
        "          inputs,targets = next(training_gen)\n",
        "          \n",
        "          current_loss, params_cache, hidden_cache = sgd_step_adam_jit(current_step=n,\n",
        "                                                     inputs=inputs,\n",
        "                                                     targets=targets,\n",
        "                                                     h=h_next,\n",
        "                                                     c=c_next,\n",
        "                                                     params=params_cache[0],\n",
        "                                                     grads_mems=params_cache[1],\n",
        "                                                     sqrd_mems=params_cache[2],\n",
        "                                                     beta1=0.9,\n",
        "                                                     beta2=0.999,\n",
        "                                                     learning_rate=learning_rate)\n",
        "          \n",
        "          smooth_loss = 0.999*smooth_loss + 0.001*current_loss\n",
        "          losses.append(smooth_loss)\n",
        "\n",
        "          # sample from the model now and then\n",
        "          if n % 1000 == 0:\n",
        "             key,subkey=random.split(key)\n",
        "\n",
        "             sample_ix = sample(sample_ix[-1],sample_size,key,hidden_cache,params_cache[0])\n",
        "\n",
        "             txt = ''.join(ix_to_char[ix] for ix in sample_ix)\n",
        "             txt_wrap = wrap(txt,80)\n",
        "             txt_wrap = [line.center(100) for line in txt_wrap]\n",
        "             txt = '\\n'.join(txt_wrap)  # \\n aren't in the character set so wrap text to make readable\n",
        "\n",
        "             print('----\\n %s \\n----' % (txt,))\n",
        "\n",
        "          if n%1000==0:\n",
        "             print(f'Loss: {smooth_loss:.4f}\\tRelative: {100*smooth_loss/losses[0]:.4f}')\n",
        "\n",
        "          n+=1\n",
        "\n",
        "    return losses, params_cache, hidden_cache"
      ]
    },
    {
      "cell_type": "code",
      "execution_count": 20,
      "metadata": {
        "id": "cfHeUnxT-NxV"
      },
      "outputs": [],
      "source": [
        "def sample(seed_ix, n, key, hidden_cache, params):\n",
        "    \"\"\"\n",
        "    sample a sequence of integers from the model\n",
        "    h is memory state, seed_ix is seed letter for first time step\n",
        "    \"\"\"\n",
        "\n",
        "    h = hidden_cache[0]\n",
        "    c = hidden_cache[1]\n",
        "\n",
        "    Wxc = params['Wxc']\n",
        "    Wxu = params['Wxu']\n",
        "    Wxf = params['Wxf']\n",
        "    Wxo = params['Wxo']\n",
        "\n",
        "    Whc = params['Whc']\n",
        "    Whu = params['Whu']\n",
        "    Whf = params['Whf']\n",
        "    Who = params['Who']\n",
        "\n",
        "    bc = params['bc']\n",
        "    bu = params['bu']\n",
        "    bf = params['bf']\n",
        "    bo = params['bo']\n",
        "\n",
        "    Why = params['Why']\n",
        "    by = params['by']\n",
        "\n",
        "    vocab_size = Wxc.shape[1]\n",
        "\n",
        "    x = jnp.zeros((vocab_size, 1))\n",
        "    x = x.at[seed_ix].set(1)\n",
        "    ixes = []\n",
        "    for t in range(n):\n",
        "\n",
        "        zc = jnp.dot(Wxc,x) + jnp.dot(Whc,h) + bc  # linear activation for candidate cell state C~\n",
        "        zu = jnp.dot(Wxu,x) + jnp.dot(Whu,h) + bu  # linear activation for update gate\n",
        "        zf = jnp.dot(Wxf,x) + jnp.dot(Whf,h) + bf  # linear activation for forget gate\n",
        "        zo = jnp.dot(Wxo,x) + jnp.dot(Who,h) + bo  # linear activation for output gate\n",
        "\n",
        "        c_tilde = jnp.tanh(zc)\n",
        "\n",
        "        gamma_u = sigmoid(zu)\n",
        "        gamma_f = sigmoid(zf)\n",
        "        gamma_o = sigmoid(zo)\n",
        "\n",
        "        c = jnp.tanh(jnp.multiply(c_tilde,gamma_u) + jnp.multiply(c,gamma_f))\n",
        "\n",
        "        h = jnp.multiply(c,gamma_o) # hidden state\n",
        "\n",
        "        y = jnp.dot(Why, h) + by\n",
        "\n",
        "        p = softmax(y)\n",
        "\n",
        "        key,subkey = random.split(key)\n",
        "\n",
        "        ix = random.choice(key,vocab_size,p=p.reshape(-1,))\n",
        "\n",
        "        x = jnp.zeros((vocab_size, 1))\n",
        "        x = x.at[ix].set(1)\n",
        "\n",
        "        ixes.append(int(ix))\n",
        "\n",
        "    return ixes"
      ]
    },
    {
      "cell_type": "code",
      "execution_count": 21,
      "metadata": {
        "colab": {
          "base_uri": "https://localhost:8080/"
        },
        "id": "zqn98JR26NIi",
        "outputId": "b8448e55-0fea-4f1b-d0fb-e33fb3e6212c"
      },
      "outputs": [
        {
          "output_type": "stream",
          "name": "stdout",
          "text": [
            "----\n",
            "           qgnyxankwnvtfsuqlwokmimcseucyfdzcdkgkvveeggyrdnxkojffwzhynctlsgszhtbzyadbdwkoovh          \n",
            "          czgunrryxhlnoknhxpcgsjalxykwqpfpctqjwhpeoepihxlsmlgcvffqokkzlsertwgqlygmvkelpfot          \n",
            "                              hdvaedmoyrtjvhgjlrornozglqxvhtltgxowufnv                               \n",
            "----\n",
            "Loss: 32.5810\tRelative: 100.0000\n",
            "----\n",
            "           wxyzabcdefghijklmnopqrstuvwxyzabcdefghijklmnopqrstuvwxyzabcdefghijklmnopqrstuvwx          \n",
            "          yzabcdefghijklmnopqrstuvwxyzabcdefghijklmnopqrstuvwxyzabcdefghijklmnopqrstuvwxyz          \n",
            "                              abcdefghijklmnopqrstuvwxyzabcdefghijklmn                               \n",
            "----\n",
            "Loss: 12.3658\tRelative: 37.9541\n",
            "----\n",
            "           opqrstuvwxyzabcdefghijklmnopqrstuvwxyzabcdefghijklmnopqrstuvwxyzabcdefghijklmnop          \n",
            "          qrstuvwxyzabcdefghijklmnopqrstuvwxyzabcdefghijklmnopqrstuvwxyzabcdefghijklmnopqr          \n",
            "                              stuvwxyzabcdefghijklmnopqrstuvwxyzabcdef                               \n",
            "----\n",
            "Loss: 4.5479\tRelative: 13.9588\n",
            "----\n",
            "           ghklmnopqrstuvwxyzabcdefghijklmnopqrstuvwxyzabcdefghijklmnopqrstuvwxyzabcdefghij          \n",
            "          klmnopqrstuvwxyzabcdefghijklmnopqrstuvwxyzabcdefghijklmnopqrstuvwxyzabcdefghijkl          \n",
            "                              mnopqrstuvwxyzabcdefghijklmnopqrstuvwxyz                               \n",
            "----\n",
            "Loss: 1.6726\tRelative: 5.1337\n",
            "----\n",
            "           rklmnopqrstuvwxyzabcdefghijklmnopqrstuvwxyzabcdefghijklmnopqrstuvwxyzabcdefghijk          \n",
            "          lmnopqrstuvwxyzabcdefghijklmnopqrstuvwxyzabcdefghijklmnopqrstuvwxyzabcdefghijklm          \n",
            "                              nopqrstuvwxyzabcdefghijklmnopqrstuvwxyza                               \n",
            "----\n",
            "Loss: 0.6152\tRelative: 1.8882\n",
            "----\n",
            "           bcdefghijklmnopqrstuvwxyzabcdefghijklmnopqrstuvwxyzabcdefghijklmnopqrstuvwxyzabc          \n",
            "          defghijklmnopqrstuvwxyzabcdefghijklmnopqrstuvwxyzabcdefghijklmnopqrstuvwxyzabcde          \n",
            "                              fghijklmnopqrstuvwxyzabcdefghijklmnopqrs                               \n",
            "----\n",
            "Loss: 0.2263\tRelative: 0.6946\n",
            "----\n",
            "           tuvwxyzabcdefghijklmnopqrstuvwxyzabcdefghijklmnopqrstuvwxyzabcdefghijklmnopqrstu          \n",
            "          vwxyzabcdefghijklmnopqrstuvwxyzabcdefghijklmnopqrstuvwxyzabcdefghijklmnopqrstuvw          \n",
            "                              xyzabcdefghijklmnopqrstuvwxyzabcdefghijk                               \n",
            "----\n",
            "Loss: 0.0833\tRelative: 0.2556\n",
            "----\n",
            "           lmnopqrstuvwxyzabcdefghijklmnopqrstuvwxyzabcdefghijklmnopqrstuvwxyzabcdefghijklm          \n",
            "          nopqrstuvwxyzabcdefghijklmnopqrstuvwxyzabcdefghijklmnopqrstuvwxyzabcdefghijklmno          \n",
            "                              pqrstuvwxyzabcdefghijklmnopqrstuvwxyzabc                               \n",
            "----\n",
            "Loss: 0.0306\tRelative: 0.0941\n",
            "----\n",
            "           defghijklmnopqrstuvwxyzabcdefghijklmnopqrstuvwxyzabcdefghijklmnopqrstuvwxyzabcde          \n",
            "          fghijklmnopqrstuvwxyzabcdefghijklmnopqrstuvwxyzabcdefghijklmnopqrstuvwxyzabcdefg          \n",
            "                              hijklmnopqrstuvwxyzabcdefghijklmnopqrstu                               \n",
            "----\n",
            "Loss: 0.0113\tRelative: 0.0346\n",
            "----\n",
            "           vwxyzabcdefghijklmnopqrstuvwxyzabcdefghijklmnopqrstuvwxyzabcdefghijklmnopqrstuvw          \n",
            "          xyzabcdefghijklmnopqrstuvwxyzabcdefghijklmnopqrstuvwxyzabcdefghijklmnopqrstuvwxy          \n",
            "                              zabcdefghijklmnopqrstuvwxyzabcdefghijklm                               \n",
            "----\n",
            "Loss: 0.0042\tRelative: 0.0128\n"
          ]
        }
      ],
      "source": [
        "mykey = random.PRNGKey(1)\n",
        "\n",
        "loss_l,out_params,out_hidden = train_character_lstm(train_data=training_data,\n",
        "                                  seq_length=seq_length,\n",
        "                                  hidden_size=hidden_size,\n",
        "                                  mini_batch_size=20,\n",
        "                                  learning_rate=0.01,\n",
        "                                  total_steps=10000,\n",
        "                                  initial_key=mykey)                "
      ]
    },
    {
      "cell_type": "code",
      "execution_count": 22,
      "metadata": {
        "colab": {
          "base_uri": "https://localhost:8080/"
        },
        "id": "IRb-QXmT8X-4",
        "outputId": "c69343ce-5990-41f8-9f82-6d034c6bb510"
      },
      "outputs": [
        {
          "output_type": "stream",
          "name": "stdout",
          "text": [
            "73 unique characters\n",
            "1108394 total characters\n",
            "LSTM with 256 hidden units\n",
            "Will train on character sequences of length 100\n",
            "\n",
            "Training data sample: \n",
            "\n",
            "                r; For he that Juno’s heavenly bosom warms, The first of gods, this                 \n",
            "               day inspires our arms.” He said; and roused the soul in every breast:                \n",
            "                   Urged with desire of fame, beyond the rest, Forth march’d Deip                   \n",
            "\n"
          ]
        }
      ],
      "source": [
        "import re\n",
        "\n",
        "with open('illiad.txt','r') as file:\n",
        "  training_data = file.read()\n",
        "\n",
        "training_data = re.sub(r\"[^a-zA-Z0-9.,?!:;“”'`’ ]+\", \" \", training_data)\n",
        "training_data = re.sub(r\"[\\s]+\",\" \",training_data)\n",
        "\n",
        "chars = set(list(training_data))\n",
        "\n",
        "vocab_size = len(chars)\n",
        "\n",
        "char_to_ix = {ch:i for i,ch in enumerate(chars)}\n",
        "ix_to_char = {i:ch for i,ch in enumerate(chars)}\n",
        "\n",
        "print(f'{vocab_size} unique characters')\n",
        "print(f'{len(training_data)} total characters')\n",
        "\n",
        "hidden_size = 256\n",
        "\n",
        "seq_length = 100\n",
        "\n",
        "print(f'LSTM with {hidden_size} hidden units')\n",
        "print(f'Will train on character sequences of length {seq_length}')\n",
        "print()\n",
        "txt = wrap(training_data[len(training_data)//2:(len(training_data)//2)+200])\n",
        "txt = [line.center(100) for line in txt]\n",
        "txt = '\\n'.join(txt)\n",
        "print('Training data sample: \\n')\n",
        "print(txt)\n",
        "print()"
      ]
    },
    {
      "cell_type": "code",
      "execution_count": 23,
      "metadata": {
        "colab": {
          "base_uri": "https://localhost:8080/"
        },
        "id": "CsqhhSKiEnuV",
        "outputId": "c7cf08cd-199a-4fa7-c1de-3a5f78cb67b2"
      },
      "outputs": [
        {
          "output_type": "stream",
          "name": "stdout",
          "text": [
            "----\n",
            "           DOv4iJ6g36MLfbu7X'pHEtEZsePZk;cSZRHzHM1en!54NRvYgIB;f3Shk6Z.zszbWm.’W4OcQc“gpGK”          \n",
            "          ZW5u6qNCihX6pgdhYwx!U8:XGka37r;roL7B'”rnInrChyFb”V!i1;fAIggSVbn“l'5AF?!E1HeXrfpL          \n",
            "                              hRKJnRTI4qLjKm58FqGNvIW5z7yM”.XL!YI“P;v1                               \n",
            "----\n",
            "Loss: 429.0460\tRelative: 100.0000\n",
            "----\n",
            "             , Here ledg; 253 Him mountain seeds of may we one fear; Then, sands, Nestor             \n",
            "            Greeces replored? The queen then ficties the king! The vembers, better, with            \n",
            "                          maimpend He more he shall design’d; And plume r                            \n",
            "----\n",
            "Loss: 260.7658\tRelative: 60.7781\n",
            "----\n",
            "            thy kind.” Priam, these, their traversion’s crown to the guard to tent replied,          \n",
            "           Unroll repaid their love: generate the to the glooming ratter’d all his lofty            \n",
            "                              drive the fields, and all on wise run My                               \n",
            "----\n",
            "Loss: 184.0766\tRelative: 42.9037\n",
            "----\n",
            "            thy rival; say, whom shall nature. Then the invending down’d, That antme, the            \n",
            "          sway: Compreath they are read; Invesion, when believe; In aclest. Are more thou           \n",
            "                             not vents him, and now gave the impund the                              \n",
            "----\n",
            "Loss: 152.8653\tRelative: 35.6291\n",
            "----\n",
            "             d eye, Ah, by the mountain both the day. The pome, The wastis tract beneath             \n",
            "           their wind, and in the gift, the rank the rivals laid; So wasted with who have           \n",
            "                           the body on his father blaze not let unnumbra                             \n",
            "----\n",
            "Loss: 138.9071\tRelative: 32.3758\n",
            "----\n",
            "           rds Methius lordly shunted of the mountain’s female down’d, That Nestor pierces           \n",
            "           rise; The first, and with the fleet determs the fear, Skill’d as the main the            \n",
            "                             bowering dead. In old Neptune, thuches to                               \n",
            "----\n",
            "Loss: 133.4443\tRelative: 31.1026\n",
            "----\n",
            "            discounts like these, where to prevails divine; Shook was a rage. Seized from            \n",
            "            his vervious tear; And large to the Greeks berinde gives a lion’s boy, Onher            \n",
            "                           every pride majestined armies race unhappy no                             \n",
            "----\n",
            "Loss: 131.0875\tRelative: 30.5532\n",
            "----\n",
            "           rate fabled the cap: their trade virtue of he was death, A was a sort of Grecian          \n",
            "          of other this always the tremble dophating inhebitizing to Aris of Homer of ded           \n",
            "                              to her friendly glorically .w0 of the L                                \n",
            "----\n",
            "Loss: 129.3530\tRelative: 30.1490\n",
            "----\n",
            "           ow res’d the Grecian fore the dead: “I I Ime laid Minos, earth! bold the blue or          \n",
            "          high deprive are will the field of fight: In face, At length let Tydeus courage           \n",
            "                               ringle life is all his arms, or else a                                \n",
            "----\n",
            "Loss: 127.9383\tRelative: 29.8193\n",
            "----\n",
            "             deaf, And whom A sire and growing to convened, and asks, around, And certal             \n",
            "            tripod pledged beneath the country in the smoke jealous, closed: For hirmous            \n",
            "                          o’er the fields: “Yet let my trenches give exce                            \n",
            "----\n",
            "Loss: 127.9748\tRelative: 29.8278\n"
          ]
        }
      ],
      "source": [
        "mykey = random.PRNGKey(1)\n",
        "\n",
        "loss_l,out_params,out_hidden = train_character_lstm(train_data=training_data,\n",
        "                                  seq_length=seq_length,\n",
        "                                  hidden_size=hidden_size,\n",
        "                                  mini_batch_size=30,\n",
        "                                  learning_rate=0.02,\n",
        "                                  total_steps=10000,\n",
        "                                  initial_key=mykey) "
      ]
    },
    {
      "cell_type": "code",
      "execution_count": 24,
      "metadata": {
        "colab": {
          "base_uri": "https://localhost:8080/",
          "height": 388
        },
        "id": "6bo7iM2-EuMr",
        "outputId": "a0c73705-cf18-4a7a-8cbe-5ad15b674b29"
      },
      "outputs": [
        {
          "output_type": "display_data",
          "data": {
            "text/plain": [
              "<Figure size 800x400 with 1 Axes>"
            ],
            "image/png": "[encoded data removed]"
          },
          "metadata": {}
        }
      ],
      "source": [
        "import matplotlib.pyplot as plt\n",
        "\n",
        "import numpy as np\n",
        "\n",
        "fig,ax = plt.subplots(figsize=(8,4))\n",
        "\n",
        "loss_array = np.log10(np.array(loss_l))\n",
        "\n",
        "ax.plot(np.arange(len(loss_array)),loss_array,'g-')\n",
        "\n",
        "ax.set_ylabel('$Log_{10}(L)$')\n",
        "ax.set_xlabel('n')\n",
        "\n",
        "plt.show()"
      ]
    },
    {
      "cell_type": "code",
      "execution_count": 26,
      "metadata": {
        "colab": {
          "base_uri": "https://localhost:8080/"
        },
        "id": "SJ-m5jABKqe-",
        "outputId": "35aa68c2-4150-41a4-e822-e017af932529"
      },
      "outputs": [
        {
          "output_type": "stream",
          "name": "stdout",
          "text": [
            "----\n",
            "           Kv?lJK”cLcz5NJwT“yO :rQ7YIHsFZZBoz26“LaBW?ocA!GbVEjtFuGNt8;K65IEj;0cHtde“4:“z'iJ          \n",
            "          H2dHs'3q8'GhuX6X9l2BPoGsA’.E”L:VoT1gsDRyiQbZM;7eUkW8ZgG8D,Xy0rMMz,JXadSL2.zK7”'G          \n",
            "                              79F:Db“2iy,K ?JzLsO”Vo47Vgth6RGTLy1yC:My                               \n",
            "----\n",
            "Loss: 429.0460\tRelative: 100.0000\n",
            "----\n",
            "             thire the warrior air, Host of the waving blow, my sorrops green vain Hector            \n",
            "             ’tsetus! his steps shun slain the molarch said; To shoreels yet otty! Mats             \n",
            "                          wounded gliges or might, The black come of a yo                            \n",
            "----\n",
            "Loss: 267.8727\tRelative: 62.4345\n",
            "----\n",
            "           wly enter: And your alters: point the steeds saded sold; The memory enter’d o’er          \n",
            "            the rest; A lioneus sage he goddesses back; Till Greece the cloudy state and            \n",
            "                             brows, Where thou, no train; 160 He tried;                              \n",
            "----\n",
            "Loss: 182.7935\tRelative: 42.6046\n",
            "----\n",
            "            And this army a space retain: While Nestor stove, the field he drew; and this,           \n",
            "             with just, In pais is speech the same battle splendots: the vigarical, and             \n",
            "                           requises so long. Have content jointed schom,                             \n",
            "----\n",
            "Loss: 144.3849\tRelative: 33.6525\n",
            "----\n",
            "              the victor thus: “So talk my sorrows of the Thracian foe. The coursers are             \n",
            "           troops which, in their state; And inst thou mostry, or his vein and gold, And            \n",
            "                           gild the sons of Verut: to the die. Meantime,                             \n",
            "----\n",
            "Loss: 124.7906\tRelative: 29.0856\n",
            "----\n",
            "             voice, and lost: Since, deep unonieat dryten mounts, he seem mere horse: In             \n",
            "           secret, and what shunn’d horsels of a pilian blade; From Hector’s breast with            \n",
            "                           clouds: Ulysses’ salca gate, Yet those: to she                            \n",
            "----\n",
            "Loss: 114.9389\tRelative: 26.7894\n",
            "----\n",
            "              deny: And pleasure to the autumnal coursers rise, Embrace her ponderous and            \n",
            "            transfix, and taxus slain; And draw this dead, and pour The course bestow’d,            \n",
            "                           Swift to the race, ere lowned of our arms; The                            \n",
            "----\n",
            "Loss: 108.4283\tRelative: 25.2720\n",
            "----\n",
            "             nt to account flames, I fell the blood of Enor’. General feeling the largest            \n",
            "          spoke: Till once, rriobs to vinyias to ocean, Shone Xanthus. Although a servant,          \n",
            "                             but it is giar a wise neas to the Muting d                              \n",
            "----\n",
            "Loss: 103.0995\tRelative: 24.0299\n",
            "----\n",
            "             on the quivering rage.” “Patroclus gave, her, Hector yee he led, And Ilion’s            \n",
            "            Hector’s soul so stay, And Troy’s pure furgos with such force in vain. Then             \n",
            "                           Neptune shall the wors of Tydeus, with his aim                            \n",
            "----\n",
            "Loss: 98.2118\tRelative: 22.8907\n",
            "----\n",
            "            ent, and whole hosts omen: Or have their flowery foes enjoy, 165 Swift as the            \n",
            "            whirlwind wre,ch, blind, the same band Of the wing’d her altars say, And all            \n",
            "                           their bones indolent armour laid: Let Schollo                             \n",
            "----\n",
            "Loss: 94.3077\tRelative: 21.9808\n",
            "----\n",
            "              st and ornanced in the great manners are tolerad on the heroes of gods and             \n",
            "           wished by an Oduce’s Life, If wostens of a splendour, than to account for the            \n",
            "                          grace IN will be looked when the inheritance of                            \n",
            "----\n",
            "Loss: 90.4669\tRelative: 21.0856\n",
            "----\n",
            "             ul tears bestow’d, Nor unregarded with his parents’ feeping fate, And ships,            \n",
            "             dishonour’d Pelasgi Enopposius is still . A rage recitsed the brazen dome:             \n",
            "                          “Arcurd, ye wall, the riven downw the face of He                           \n",
            "----\n",
            "Loss: 85.9672\tRelative: 20.0368\n",
            "----\n",
            "             rs dropp’d the skies. Soon can you seen to wait them form, Had trembling, at            \n",
            "          their arms upon an ear. This deed, perfume the blaze of battle slain? Yet live,           \n",
            "                            thy courage let us join, the dismay rorr, A                              \n",
            "----\n",
            "Loss: 82.5608\tRelative: 19.2429\n",
            "----\n",
            "            stypian land. Were now the breaking Emais led; The hero, rest, with snows the            \n",
            "           just exqubis, but raging steeds, 187 Spon accent for the king, and gore, And,            \n",
            "                            pale and goddess, from the pathshookind: The                             \n",
            "----\n",
            "Loss: 79.1644\tRelative: 18.4513\n",
            "----\n",
            "             p those alarms, Held, from the rize can our fierce meeter of Coleridge, was             \n",
            "             throws in Phthians, Diomed, in all mankind in war?” “old Sleeps the gilded             \n",
            "                         baldring bays he is removing copyrightes.” 7 Repe                           \n",
            "----\n",
            "Loss: 75.6220\tRelative: 17.6256\n",
            "----\n",
            "            nt to the plain; His sides, that lend thee fresh of dart; And whit, black dear           \n",
            "              excepts his poems, they meet, And stretch the flaming, haste, by our own              \n",
            "                          univenting sound, Flows on the verge of man to r                           \n",
            "----\n",
            "Loss: 72.0746\tRelative: 16.7988\n",
            "----\n",
            "            ous spoke: “Diomed, awaked the spear, and fires his labouring hand: With these           \n",
            "           against successful glittering javelin rends: Eten, as he seized the babe, the            \n",
            "                            walls extends his flame, And show’d the hop                              \n",
            "----\n",
            "Loss: 69.2679\tRelative: 16.1446\n",
            "----\n",
            "           olests that one might have been mentioned all ome victoriously raison. The sweet          \n",
            "          starting insulting we can betale, you in theme but from affords without a fault:          \n",
            "                               it is the first positive views produce                                \n",
            "----\n",
            "Loss: 66.2462\tRelative: 15.4404\n",
            "----\n",
            "              , and you, without a fate. Achilles, gave his feet, e words the fatal fly;             \n",
            "           Through yon sqq. , or but oh! removed, gramp’d his swiftness shake: “Agattles,           \n",
            "                           neas succeeds; I done, with shouts divine; Roa                            \n",
            "----\n",
            "Loss: 62.7603\tRelative: 14.6279\n",
            "----\n",
            "            pports, and health of Troy, Jove great Ereyan force he went; The sylvan fleet            \n",
            "          their stately dwe subduebs resound; They broke the rout, and sparkled there they          \n",
            "                             load, Which I in councils has been Greece                               \n",
            "----\n",
            "Loss: 59.9409\tRelative: 13.9707\n"
          ]
        }
      ],
      "source": [
        "mykey = random.PRNGKey(99)\n",
        "\n",
        "loss_l2,out_params2,out_hidden2 = train_character_lstm(train_data=training_data,\n",
        "                                  seq_length=seq_length,\n",
        "                                  hidden_size=1024,\n",
        "                                  mini_batch_size=30,\n",
        "                                  learning_rate=0.005,\n",
        "                                  total_steps=20000,\n",
        "                                  initial_key=mykey) "
      ]
    },
    {
      "cell_type": "code",
      "execution_count": 27,
      "metadata": {
        "colab": {
          "base_uri": "https://localhost:8080/",
          "height": 542
        },
        "id": "q5SKjsYtL6Po",
        "outputId": "b36c93c5-c2d5-4a27-b978-57a2b568da10"
      },
      "outputs": [
        {
          "output_type": "display_data",
          "data": {
            "text/plain": [
              "<Figure size 1000x600 with 1 Axes>"
            ],
            "image/png": "[encoded data removed]"
          },
          "metadata": {}
        }
      ],
      "source": [
        "fig,ax = plt.subplots(figsize=(10,6))\n",
        "\n",
        "loss_array1 = np.log10(np.array(loss_l))\n",
        "loss_array2 = np.log10(np.array(loss_l2))\n",
        "\n",
        "ax.plot(np.arange(len(loss_array1))*0.02,loss_array1,'g-')\n",
        "ax.plot(np.arange(len(loss_array2))*0.007,loss_array2,'r-')\n",
        "\n",
        "ax.set_ylabel('$Log_{10}(L)$')\n",
        "ax.set_xlabel('n*eta')\n",
        "\n",
        "plt.show()"
      ]
    },
    {
      "cell_type": "code",
      "source": [],
      "metadata": {
        "id": "zuYRhpuAqcZj"
      },
      "execution_count": null,
      "outputs": []
    }
  ],
  "metadata": {
    "accelerator": "GPU",
    "colab": {
      "provenance": []
    },
    "gpuClass": "standard",
    "kernelspec": {
      "display_name": "Python 3",
      "name": "python3"
    },
    "language_info": {
      "name": "python"
    }
  },
  "nbformat": 4,
  "nbformat_minor": 0
}