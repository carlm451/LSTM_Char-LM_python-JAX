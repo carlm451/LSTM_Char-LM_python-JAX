{
  "cells": [
    {
      "cell_type": "code",
      "execution_count": 1,
      "metadata": {
        "id": "OD2YpM0yclp0"
      },
      "outputs": [],
      "source": [
        "import jax.numpy as jnp\n",
        "from jax import grad, jit, vmap\n",
        "from jax import random\n",
        "\n",
        "from textwrap import wrap\n",
        "\n",
        "from copy import deepcopy"
      ]
    },
    {
      "cell_type": "code",
      "source": [
        "test = jnp.exp(-1/500).item()\n",
        "\n",
        "test"
      ],
      "metadata": {
        "colab": {
          "base_uri": "https://localhost:8080/"
        },
        "id": "rgTjJYX9Wc7X",
        "outputId": "ff81a8b4-6215-4584-d399-19cb0be3e25f"
      },
      "execution_count": 2,
      "outputs": [
        {
          "output_type": "execute_result",
          "data": {
            "text/plain": [
              "0.9980019927024841"
            ]
          },
          "metadata": {},
          "execution_count": 2
        }
      ]
    },
    {
      "cell_type": "code",
      "execution_count": 3,
      "metadata": {
        "colab": {
          "base_uri": "https://localhost:8080/"
        },
        "id": "Pf1oQlfWdPEV",
        "outputId": "04e4b535-5316-4b31-bf53-6bf54850f2f9"
      },
      "outputs": [
        {
          "output_type": "stream",
          "name": "stdout",
          "text": [
            "26 unique characters\n",
            "52000 total characters\n"
          ]
        }
      ],
      "source": [
        "training_data = 'abcdefghijklmnopqrstuvwxyz'*2000\n",
        "\n",
        "chars = set(list(training_data))\n",
        "\n",
        "vocab_size = len(chars)\n",
        "\n",
        "char_to_ix = {ch:i for i,ch in enumerate(chars)}\n",
        "ix_to_char = {i:ch for i,ch in enumerate(chars)}\n",
        "\n",
        "print(f'{vocab_size} unique characters')\n",
        "print(f'{len(training_data)} total characters')"
      ]
    },
    {
      "cell_type": "code",
      "execution_count": 4,
      "metadata": {
        "colab": {
          "base_uri": "https://localhost:8080/"
        },
        "id": "lVYosrYdc6GU",
        "outputId": "4b35e6bf-5949-468b-ae1b-a78d2a7356ff"
      },
      "outputs": [
        {
          "output_type": "stream",
          "name": "stdout",
          "text": [
            "LSTM with 30 hidden units\n",
            "Will train on character sequences of length 10\n",
            "\n",
            "Training data sample: \n",
            "\n",
            "               abcdefghijklmnopqrstuvwxyzabcdefghijklmnopqrstuvwxyzabcdefghijklmnopqr               \n",
            "               stuvwxyzabcdefghijklmnopqrstuvwxyzabcdefghijklmnopqrstuvwxyzabcdefghij               \n",
            "                    klmnopqrstuvwxyzabcdefghijklmnopqrstuvwxyzabcdefghijklmnopqr                    \n",
            "\n"
          ]
        }
      ],
      "source": [
        "hidden_size = 30\n",
        "\n",
        "seq_length = 10\n",
        "\n",
        "print(f'LSTM with {hidden_size} hidden units')\n",
        "print(f'Will train on character sequences of length {seq_length}')\n",
        "print()\n",
        "txt = wrap(training_data[len(training_data)//2:(len(training_data)//2)+200])\n",
        "txt = [line.center(100) for line in txt]\n",
        "txt = '\\n'.join(txt)\n",
        "print('Training data sample: \\n')\n",
        "print(txt)\n",
        "print()"
      ]
    },
    {
      "cell_type": "code",
      "execution_count": 5,
      "metadata": {
        "id": "wVrhDpOidnkE"
      },
      "outputs": [],
      "source": [
        "def initialize_weights(key,n_h,n_x):\n",
        "    \n",
        "    subkeys=random.split(key,9)\n",
        "\n",
        "    params = dict()\n",
        "\n",
        "    params['Wxc'] = random.normal(subkeys[0],(n_h,n_x))*0.01 # input to cell state\n",
        "    params['Wxu'] = random.normal(subkeys[1],(n_h,n_x))*0.01 # input to update\n",
        "    params['Wxf'] = random.normal(subkeys[2],(n_h,n_x))*0.01 # input to forget\n",
        "    params['Wxo'] = random.normal(subkeys[3],(n_h,n_x))*0.01 # input to output\n",
        "\n",
        "    params['bc'] = jnp.zeros((n_h, 1)) # hidden bias\n",
        "    params['bu'] = jnp.zeros((n_h, 1)) # forget bias\n",
        "    params['bf'] = jnp.zeros((n_h, 1)) # update bias\n",
        "    params['bo'] = jnp.zeros((n_h, 1)) # output bias\n",
        "\n",
        "    params['Whc'] = random.normal(subkeys[4],(n_h,n_h))*0.01 # hidden to cell\n",
        "    params['Whu'] = random.normal(subkeys[5],(n_h,n_h))*0.01 # hidden to update\n",
        "    params['Whf'] = random.normal(subkeys[6],(n_h,n_h))*0.01 # hidden to forget\n",
        "    params['Who'] = random.normal(subkeys[7],(n_h,n_h))*0.01 # hidden to output\n",
        "\n",
        "    params['Why'] = random.normal(subkeys[8],(n_x,n_h))*0.01 # hidden to output\n",
        "    params['by'] = jnp.zeros((n_x, 1)) # output bias\n",
        "\n",
        "    grad_mems = dict()\n",
        "    sqrd_mems = dict()\n",
        "\n",
        "    for parameter in params.keys():\n",
        "\n",
        "        shape = params[parameter].shape\n",
        "\n",
        "        grad_mems[parameter]=jnp.zeros(shape)\n",
        "        sqrd_mems[parameter]=jnp.zeros(shape)\n",
        "\n",
        "    return params, grad_mems, sqrd_mems"
      ]
    },
    {
      "cell_type": "code",
      "execution_count": 6,
      "metadata": {
        "colab": {
          "base_uri": "https://localhost:8080/"
        },
        "id": "NtiIlmbjfRYj",
        "outputId": "8d1ba853-0ebd-4006-f9a9-3942b3e24d07"
      },
      "outputs": [
        {
          "output_type": "stream",
          "name": "stdout",
          "text": [
            "dict_keys(['Wxc', 'Wxu', 'Wxf', 'Wxo', 'bc', 'bu', 'bf', 'bo', 'Whc', 'Whu', 'Whf', 'Who', 'Why', 'by'])\n",
            "-9.268721e-05\n",
            "0.0\n",
            "0.0\n"
          ]
        }
      ],
      "source": [
        "start_key = random.PRNGKey(0)\n",
        "\n",
        "params,grad_mems,sqrd_mems = initialize_weights(start_key,hidden_size,vocab_size)\n",
        "\n",
        "print(params.keys())\n",
        "print(jnp.mean(params['Wxc']))\n",
        "print(jnp.mean(grad_mems['Wxc']))\n",
        "print(jnp.mean(sqrd_mems['Wxc']))"
      ]
    },
    {
      "cell_type": "code",
      "execution_count": 7,
      "metadata": {
        "id": "nfih6PcffY4S"
      },
      "outputs": [],
      "source": [
        "def get_mini_batch(mini_batch_size,seq_length,char_to_ix,data):\n",
        "    '''\n",
        "    generator to continuous loop the data and pull out mini batches\n",
        "    '''\n",
        "    p = 0\n",
        "    epoch = 0\n",
        "\n",
        "    batch_character_size = mini_batch_size*(seq_length)\n",
        "\n",
        "    while True:\n",
        "\n",
        "        if p+batch_character_size+1>=len(data):\n",
        "            p=0\n",
        "            epoch = epoch + 1\n",
        "\n",
        "            # need to reset hprev,cprev if it loops?\n",
        "\n",
        "        inputs,targets = [],[]\n",
        "\n",
        "        for _ in range(mini_batch_size):\n",
        "\n",
        "            inputs.append([char_to_ix[ch] for ch in data[p:p+seq_length]])\n",
        "            targets.append([char_to_ix[ch] for ch in data[p+1:p+seq_length+1]])\n",
        "\n",
        "            p += seq_length\n",
        "\n",
        "        inputs = jnp.array(inputs)\n",
        "        targets = jnp.array(targets)\n",
        "\n",
        "        yield inputs,targets,epoch"
      ]
    },
    {
      "cell_type": "code",
      "execution_count": 8,
      "metadata": {
        "colab": {
          "base_uri": "https://localhost:8080/",
          "height": 173
        },
        "id": "CDlL1PFOio0A",
        "outputId": "69a5cda4-ad4d-48ec-ec00-9c387d5820b8"
      },
      "outputs": [
        {
          "output_type": "display_data",
          "data": {
            "text/plain": [
              "Array([[19, 22, 21,  0,  1, 23, 18,  8,  7,  3],\n",
              "       [ 4, 20,  6, 24, 17, 11, 13, 10, 25, 16],\n",
              "       [ 2,  5, 14, 12, 15,  9, 19, 22, 21,  0],\n",
              "       [ 1, 23, 18,  8,  7,  3,  4, 20,  6, 24]], dtype=int32)"
            ]
          },
          "metadata": {}
        },
        {
          "output_type": "display_data",
          "data": {
            "text/plain": [
              "Array([[22, 21,  0,  1, 23, 18,  8,  7,  3,  4],\n",
              "       [20,  6, 24, 17, 11, 13, 10, 25, 16,  2],\n",
              "       [ 5, 14, 12, 15,  9, 19, 22, 21,  0,  1],\n",
              "       [23, 18,  8,  7,  3,  4, 20,  6, 24, 17]], dtype=int32)"
            ]
          },
          "metadata": {}
        },
        {
          "output_type": "display_data",
          "data": {
            "text/plain": [
              "0"
            ]
          },
          "metadata": {}
        }
      ],
      "source": [
        "batch_gen = get_mini_batch(4,seq_length,char_to_ix,training_data)\n",
        "\n",
        "inp,targ,epoch_test = next(batch_gen)\n",
        "\n",
        "display(inp,targ,epoch_test)"
      ]
    },
    {
      "cell_type": "code",
      "execution_count": 9,
      "metadata": {
        "id": "kkNHK-6EjYHh"
      },
      "outputs": [],
      "source": [
        "def sigmoid(z):\n",
        "    return 1.0/(1.0 + jnp.exp(-z))\n",
        "\n",
        "def softmax(y):\n",
        "    return jnp.exp(y) / jnp.sum(jnp.exp(y),axis=0)\n",
        "\n",
        "def lstm_forward(inputs,hprev,cprev,params):\n",
        "    '''\n",
        "    single forward pass of the LSTM\n",
        "\n",
        "    returns loss for this mini-batch\n",
        "\n",
        "    returns cache of variables needed for backwards pass\n",
        "    '''\n",
        "\n",
        "    # dims\n",
        "    mini_batch_size = inputs.shape[0]\n",
        "    seq_length = inputs.shape[1]\n",
        "\n",
        "    hidden_size = hprev.shape[0]\n",
        "\n",
        "    vocab_size = params['Wxc'].shape[1]\n",
        "\n",
        "    # unpack params\n",
        "\n",
        "    Wxc = params['Wxc']\n",
        "    Wxu = params['Wxu']\n",
        "    Wxf = params['Wxf']\n",
        "    Wxo = params['Wxo']\n",
        "\n",
        "    Whc = params['Whc']\n",
        "    Whu = params['Whu']\n",
        "    Whf = params['Whf']\n",
        "    Who = params['Who']\n",
        "\n",
        "    bc = params['bc']\n",
        "    bu = params['bu']\n",
        "    bf = params['bf']\n",
        "    bo = params['bo']\n",
        "\n",
        "    #Why = params['Why']\n",
        "    #by = params['by']\n",
        "\n",
        "    # caches for forward pass\n",
        "\n",
        "    xs, hs, cs, c_tildes = {}, {}, {}, {}\n",
        "\n",
        "    gamma_us, gamma_fs, gamma_os = {}, {}, {}\n",
        "\n",
        "    hs[-1] = jnp.tile(hprev,(1,mini_batch_size))\n",
        "    cs[-1] = jnp.tile(cprev,(1,mini_batch_size))\n",
        "\n",
        "    for t in range(seq_length):\n",
        "        xs[t] = jnp.zeros((vocab_size,mini_batch_size))\n",
        "\n",
        "        xs[t] = xs[t].at[inputs[:,t],jnp.arange(mini_batch_size)].set(1) # batch of one-hot vectors for time t\n",
        "\n",
        "        zc = jnp.dot(Wxc,xs[t]) + jnp.dot(Whc,hs[t-1]) + bc  # linear activation for candidate cell state C~\n",
        "        zu = jnp.dot(Wxu,xs[t]) + jnp.dot(Whu,hs[t-1]) + bu  # linear activation for update gate\n",
        "        zf = jnp.dot(Wxf,xs[t]) + jnp.dot(Whf,hs[t-1]) + bf  # linear activation for forget gate\n",
        "        zo = jnp.dot(Wxo,xs[t]) + jnp.dot(Who,hs[t-1]) + bo  # linear activation for output gate\n",
        "\n",
        "        c_tildes[t] = jnp.tanh(zc) # canidate for new c state\n",
        "\n",
        "        gamma_us[t] = sigmoid(zu)\n",
        "        gamma_fs[t] = sigmoid(zf)\n",
        "        gamma_os[t] = sigmoid(zo)\n",
        "\n",
        "        cs[t] = jnp.tanh(jnp.multiply(c_tildes[t],gamma_us[t]) + jnp.multiply(cs[t-1],gamma_fs[t]))  # tanh here is import!!!\n",
        "\n",
        "        hs[t] = jnp.multiply(cs[t],gamma_os[t]) # hidden state\n",
        "\n",
        "    gates = (gamma_us,gamma_fs,gamma_os)\n",
        "\n",
        "    states = (xs,hs,cs,c_tildes)\n",
        "\n",
        "    return states, gates\n",
        "\n",
        "def loss_function(targets,hidden_states,Why,by):\n",
        "    '''\n",
        "    hidden_states - dict of LSTM activations from last LSTM layer\n",
        "    '''\n",
        "\n",
        "    mini_batch_size=targets.shape[0]\n",
        "    seq_length = targets.shape[1]\n",
        "\n",
        "    ys, ps = {},{}\n",
        "\n",
        "    loss = 0\n",
        "\n",
        "    for t in range(seq_length):\n",
        "\n",
        "        ys[t] = jnp.dot(Why, hidden_states[t]) + by # unnormalized log probabilities for next chars\n",
        "\n",
        "        ps[t] = softmax(ys[t]) # probabilities for next chars  #  ps[t] should be shape (vocab_size,mini_batch_size)\n",
        "\n",
        "        loss += jnp.mean(jnp.log(jnp.sum(jnp.exp(ys[t]),axis=0)) - ys[t][targets[:,t],jnp.arange(mini_batch_size)])\n",
        "        #loss += -jnp.mean(jnp.log(ps[t][targets[:,t],jnp.arange(mini_batch_size)]))\n",
        "\n",
        "    p_cache = (ys,ps)\n",
        "\n",
        "    return loss, p_cache\n",
        "\n"
      ]
    },
    {
      "cell_type": "code",
      "execution_count": 10,
      "metadata": {
        "id": "UxIUNno4oiKU"
      },
      "outputs": [],
      "source": [
        "h = jnp.zeros((hidden_size,1))\n",
        "c = jnp.zeros((hidden_size,1))\n",
        "\n",
        "s_cache, g_cache = lstm_forward(inp,h,c,params)\n",
        "\n",
        "h_states = s_cache[1]\n",
        "\n",
        "test_loss,p_cache = loss_function(targ,h_states,params['Why'],params['by'])"
      ]
    },
    {
      "cell_type": "code",
      "execution_count": 11,
      "metadata": {
        "colab": {
          "base_uri": "https://localhost:8080/"
        },
        "id": "2WrNAE9ao4fO",
        "outputId": "8fc5b82f-201c-4d94-b72c-fdd8d7967b04"
      },
      "outputs": [
        {
          "output_type": "execute_result",
          "data": {
            "text/plain": [
              "Array(32.58083, dtype=float32)"
            ]
          },
          "metadata": {},
          "execution_count": 11
        }
      ],
      "source": [
        "test_loss"
      ]
    },
    {
      "cell_type": "code",
      "execution_count": 12,
      "metadata": {
        "colab": {
          "base_uri": "https://localhost:8080/"
        },
        "id": "H6uPaSKyrW5A",
        "outputId": "028947a7-5d4f-4c86-8e75-11bc03c1d50e"
      },
      "outputs": [
        {
          "output_type": "stream",
          "name": "stdout",
          "text": [
            "<class 'tuple'> 2\n",
            "<class 'tuple'> 3\n",
            "<class 'tuple'> 4\n"
          ]
        }
      ],
      "source": [
        "print(type(p_cache),len(p_cache))\n",
        "print(type(g_cache),len(g_cache))\n",
        "print(type(s_cache),len(s_cache))"
      ]
    },
    {
      "cell_type": "code",
      "execution_count": 13,
      "metadata": {
        "colab": {
          "base_uri": "https://localhost:8080/"
        },
        "id": "saQwgUaCpHTx",
        "outputId": "bb53a1dc-ebc0-4285-8f31-46d0257379c3"
      },
      "outputs": [
        {
          "output_type": "stream",
          "name": "stdout",
          "text": [
            "112 ms ± 23.5 ms per loop (mean ± std. dev. of 7 runs, 10 loops each)\n"
          ]
        }
      ],
      "source": [
        "%timeit lstm_forward(inp,h,c,params)"
      ]
    },
    {
      "cell_type": "code",
      "execution_count": 14,
      "metadata": {
        "colab": {
          "base_uri": "https://localhost:8080/"
        },
        "id": "yIRyLFTvpaia",
        "outputId": "712f0658-01ce-4026-f862-5b1583917387"
      },
      "outputs": [
        {
          "output_type": "stream",
          "name": "stdout",
          "text": [
            "580 µs ± 84.3 µs per loop (mean ± std. dev. of 7 runs, 1000 loops each)\n"
          ]
        }
      ],
      "source": [
        "lstm_forward_jit = jit(lstm_forward)\n",
        "\n",
        "#warmup\n",
        "lstm_forward_jit(inp,h,c,params)\n",
        "\n",
        "%timeit lstm_forward_jit(inp,h,c,params)"
      ]
    },
    {
      "cell_type": "code",
      "execution_count": 15,
      "metadata": {
        "id": "M9URF-wmqYhY"
      },
      "outputs": [],
      "source": [
        "\n",
        "def lstm_backward(targets,probs_cache,gates_cache,states_cache,params):\n",
        "    '''\n",
        "    backward pass of the LSTM\n",
        "\n",
        "    return gradients for all parameters\n",
        "    '''\n",
        "    #unpack caches\n",
        "\n",
        "    ys,ps = probs_cache\n",
        "\n",
        "    gamma_us,gamma_fs,gamma_os = gates_cache\n",
        "\n",
        "    xs,hs,cs,c_tildes = states_cache\n",
        "\n",
        "    # dims\n",
        "    mini_batch_size = targets.shape[0]\n",
        "    seq_length = targets.shape[1]\n",
        "\n",
        "    hidden_size = hs[-1].shape[0]\n",
        "\n",
        "    vocab_size = params['Wxc'].shape[1]\n",
        "\n",
        "    # unpack parameters\n",
        "\n",
        "    Wxc = params['Wxc']\n",
        "    Wxu = params['Wxu']\n",
        "    Wxf = params['Wxf']\n",
        "    Wxo = params['Wxo']\n",
        "\n",
        "    Whc = params['Whc']\n",
        "    Whu = params['Whu']\n",
        "    Whf = params['Whf']\n",
        "    Who = params['Who']\n",
        "\n",
        "    bc = params['bc']\n",
        "    bu = params['bu']\n",
        "    bf = params['bf']\n",
        "    bo = params['bo']\n",
        "\n",
        "    Why = params['Why']\n",
        "    by = params['by']\n",
        "\n",
        "    #initialize gradients to zero\n",
        "\n",
        "    dWxc,dWxu,dWxf,dWxo = jnp.zeros_like(Wxc), jnp.zeros_like(Wxu), jnp.zeros_like(Wxf), jnp.zeros_like(Wxo)\n",
        "    dWhc,dWhu,dWhf,dWho = jnp.zeros_like(Whc), jnp.zeros_like(Whu), jnp.zeros_like(Whf), jnp.zeros_like(Who)\n",
        "    dbc,dbu,dbf,dbo = jnp.zeros_like(bc), jnp.zeros_like(bu), jnp.zeros_like(bf), jnp.zeros_like(bo)\n",
        "    dWhy,dby = jnp.zeros_like(Why), jnp.zeros_like(by)\n",
        "\n",
        "    # tmp variables to accumulate gradients over the backprop -- see differentiation graph\n",
        "    dhnext, dcnext = jnp.zeros_like(hs[0]), jnp.zeros_like(cs[0])\n",
        "\n",
        "    #backward pass\n",
        "\n",
        "    for t in reversed(range(seq_length)):\n",
        "        dy = jnp.copy(ps[t])\n",
        "\n",
        "        dy = dy.at[targets[:,t],jnp.arange(mini_batch_size)].add(-1) #backprop into y\n",
        "\n",
        "        dWhy += jnp.dot(dy, hs[t].T)\n",
        "        dby += jnp.sum(dy,axis=1,keepdims=True)\n",
        "\n",
        "        dh = jnp.dot(Why.T, dy) + dhnext # backprop into h\n",
        "\n",
        "        dc = jnp.multiply((1-cs[t]**2),jnp.multiply(gamma_os[t],dh) + dcnext) #backprop into c\n",
        "\n",
        "        dcnext = jnp.multiply(gamma_fs[t],dc)\n",
        "\n",
        "        dzc = jnp.multiply((1-c_tildes[t]**2),jnp.multiply(gamma_us[t],dc))  # backprop through tanh\n",
        "\n",
        "        dzu = jnp.multiply(gamma_us[t]*(1-gamma_us[t]),jnp.multiply(c_tildes[t],dc))  # sigmoid prime\n",
        "\n",
        "        dzf = jnp.multiply(gamma_fs[t]*(1-gamma_fs[t]),jnp.multiply(cs[t-1],dc))\n",
        "\n",
        "        dzo = jnp.multiply(gamma_os[t]*(1-gamma_os[t]),jnp.multiply(cs[t],dh))\n",
        "\n",
        "        dbc += jnp.sum(dzc,axis=1,keepdims=True)\n",
        "        dbu += jnp.sum(dzu,axis=1,keepdims=True)\n",
        "        dbf += jnp.sum(dzf,axis=1,keepdims=True)\n",
        "        dbo += jnp.sum(dzo,axis=1,keepdims=True)\n",
        "\n",
        "        dWhc += jnp.dot(dzc,hs[t-1].T)\n",
        "        dWhu += jnp.dot(dzu,hs[t-1].T)\n",
        "        dWhf += jnp.dot(dzf,hs[t-1].T)\n",
        "        dWho += jnp.dot(dzo,hs[t-1].T)\n",
        "\n",
        "        dWxc += jnp.dot(dzc,xs[t].T)\n",
        "        dWxu += jnp.dot(dzu,xs[t].T)\n",
        "        dWxf += jnp.dot(dzf,xs[t].T)\n",
        "        dWxo += jnp.dot(dzo,xs[t].T)\n",
        "\n",
        "        # four contributions to dhnext,one from each gate\n",
        "        dhnext = jnp.dot(Whc.T,dzc) + jnp.dot(Whu.T,dzu) + jnp.dot(Whf.T,dzf) + jnp.dot(Who.T,dzo)\n",
        "\n",
        "    grads = dict()\n",
        "\n",
        "    grads['Wxc']=dWxc\n",
        "    grads['Wxu']=dWxu\n",
        "    grads['Wxf']=dWxf\n",
        "    grads['Wxo']=dWxo\n",
        "\n",
        "    grads['Whc']=dWhc\n",
        "    grads['Whu']=dWhu\n",
        "    grads['Whf']=dWhf\n",
        "    grads['Who']=dWho\n",
        "\n",
        "    grads['bc']=dbc\n",
        "    grads['bu']=dbu\n",
        "    grads['bf']=dbf\n",
        "    grads['bo']=dbo\n",
        "\n",
        "    grads['Why']=dWhy\n",
        "    grads['by']=dby\n",
        "\n",
        "    for parameter in grads.keys():\n",
        "        grads[parameter] = jnp.clip(grads[parameter], -5, 5) # clip to mitigate exploding gradients\n",
        "\n",
        "    return grads"
      ]
    },
    {
      "cell_type": "code",
      "execution_count": 16,
      "metadata": {
        "colab": {
          "base_uri": "https://localhost:8080/"
        },
        "id": "aFjznK680ytU",
        "outputId": "921968ca-c24b-4169-d921-ebaa84b36f22"
      },
      "outputs": [
        {
          "output_type": "stream",
          "name": "stdout",
          "text": [
            "<class 'dict'> 14\n"
          ]
        }
      ],
      "source": [
        "grads_test = lstm_backward(targ,p_cache,g_cache,s_cache,params)\n",
        "\n",
        "print(type(grads_test),len(grads_test))"
      ]
    },
    {
      "cell_type": "code",
      "execution_count": 17,
      "metadata": {
        "id": "y4-IR4i6u4G5"
      },
      "outputs": [],
      "source": [
        "\n",
        "def sgd_step_adam(current_step,inputs,targets,h,c,params,grads_mems,sqrd_mems,beta1,beta2,learning_rate):\n",
        "\n",
        "    # dims\n",
        "    mini_batch_size = inputs.shape[0]\n",
        "    seq_length = inputs.shape[1]\n",
        "\n",
        "    hidden_size = h.shape[0]\n",
        "\n",
        "    vocab_size = params['Wxc'].shape[1]\n",
        "\n",
        "    n = current_step\n",
        "\n",
        "    #forward pass\n",
        "    s_cache, g_cache = lstm_forward(inputs,h,c,params)\n",
        "\n",
        "    loss, p_cache = loss_function(targets,s_cache[1],params['Why'],params['by'])\n",
        "    \n",
        "    #need hs, cs\n",
        "\n",
        "    xs,hs,cs,c_tildes = s_cache\n",
        "\n",
        "    h_next = jnp.mean(hs[seq_length-1],axis=1,keepdims=True)\n",
        "    c_next = jnp.mean(cs[seq_length-1],axis=1,keepdims=True)\n",
        "\n",
        "    new_params = deepcopy(params)\n",
        "\n",
        "    new_mems1 = deepcopy(grads_mems)\n",
        "    new_mems2 = deepcopy(sqrd_mems)\n",
        "\n",
        "    #backward pass\n",
        "    grads = lstm_backward(targets,p_cache,g_cache,s_cache,params)\n",
        "\n",
        "    # perform parameter update with ADAM \n",
        "    for parameter in new_params.keys():\n",
        "\n",
        "        dparam = grads[parameter] / mini_batch_size\n",
        "\n",
        "        new_mems1[parameter] = beta1*new_mems1[parameter] + (1-beta1)*dparam\n",
        "\n",
        "        new_mems2[parameter] = beta2*new_mems2[parameter] + (1-beta2)*dparam*dparam\n",
        "\n",
        "        grad_hat = new_mems1[parameter] / (1-beta1**(n+1))\n",
        "        sqrd_hat = new_mems2[parameter] / (1-beta2**(n+1))\n",
        "\n",
        "        new_params[parameter] += -learning_rate * grad_hat / (jnp.sqrt(sqrd_hat + 1e-8)) # ADAM update\n",
        "\n",
        "    params_cache = (new_params,new_mems1,new_mems2)\n",
        "\n",
        "    hidden_cache = (h_next,c_next)\n",
        "    \n",
        "    return loss, params_cache, hidden_cache"
      ]
    },
    {
      "cell_type": "code",
      "execution_count": 18,
      "metadata": {
        "id": "cfHeUnxT-NxV"
      },
      "outputs": [],
      "source": [
        "def sample(seed_ix, n, key, hidden_cache, params):\n",
        "    \"\"\"\n",
        "    sample a sequence of integers from the model\n",
        "    h is memory state, seed_ix is seed letter for first time step\n",
        "    \"\"\"\n",
        "\n",
        "    h = hidden_cache[0]\n",
        "    c = hidden_cache[1]\n",
        "\n",
        "    Wxc = params['Wxc']\n",
        "    Wxu = params['Wxu']\n",
        "    Wxf = params['Wxf']\n",
        "    Wxo = params['Wxo']\n",
        "\n",
        "    Whc = params['Whc']\n",
        "    Whu = params['Whu']\n",
        "    Whf = params['Whf']\n",
        "    Who = params['Who']\n",
        "\n",
        "    bc = params['bc']\n",
        "    bu = params['bu']\n",
        "    bf = params['bf']\n",
        "    bo = params['bo']\n",
        "\n",
        "    Why = params['Why']\n",
        "    by = params['by']\n",
        "\n",
        "    vocab_size = Wxc.shape[1]\n",
        "\n",
        "    x = jnp.zeros((vocab_size, 1))\n",
        "    x = x.at[seed_ix].set(1)\n",
        "    ixes = []\n",
        "    for t in range(n):\n",
        "\n",
        "        zc = jnp.dot(Wxc,x) + jnp.dot(Whc,h) + bc  # linear activation for candidate cell state C~\n",
        "        zu = jnp.dot(Wxu,x) + jnp.dot(Whu,h) + bu  # linear activation for update gate\n",
        "        zf = jnp.dot(Wxf,x) + jnp.dot(Whf,h) + bf  # linear activation for forget gate\n",
        "        zo = jnp.dot(Wxo,x) + jnp.dot(Who,h) + bo  # linear activation for output gate\n",
        "\n",
        "        c_tilde = jnp.tanh(zc)\n",
        "\n",
        "        gamma_u = sigmoid(zu)\n",
        "        gamma_f = sigmoid(zf)\n",
        "        gamma_o = sigmoid(zo)\n",
        "\n",
        "        c = jnp.tanh(jnp.multiply(c_tilde,gamma_u) + jnp.multiply(c,gamma_f))\n",
        "\n",
        "        h = jnp.multiply(c,gamma_o) # hidden state\n",
        "\n",
        "        y = jnp.dot(Why, h) + by\n",
        "\n",
        "        p = softmax(y)\n",
        "\n",
        "        key,subkey = random.split(key)  #use key to split, subkey for next random number\n",
        "\n",
        "        ix = random.choice(subkey,vocab_size,p=p.reshape(-1,))\n",
        "\n",
        "        x = jnp.zeros((vocab_size, 1))\n",
        "        x = x.at[ix].set(1)\n",
        "\n",
        "        ixes.append(int(ix))\n",
        "\n",
        "    return ixes\n",
        "\n",
        "def validation_loss(inputs,targets,h,c,params):\n",
        "\n",
        "    s_cache, _ = lstm_forward(inputs,h,c,params)\n",
        "\n",
        "    h_states = s_cache[1]\n",
        "\n",
        "    val_loss, _ = loss_function(targets,h_states,params['Why'],params['by'])\n",
        "\n",
        "    return val_loss"
      ]
    },
    {
      "cell_type": "code",
      "execution_count": 19,
      "metadata": {
        "id": "4tm0YeJQ0Cod"
      },
      "outputs": [],
      "source": [
        "sgd_step_adam_jit = jit(sgd_step_adam)\n",
        "\n",
        "validation_loss_jit = jit(validation_loss)\n",
        "\n",
        "def train_character_lstm(seq_length,hidden_size,mini_batch_size,learning_rate,total_steps,steps_sample_freq,initial_key,training_data,validation_data=None):\n",
        "    '''\n",
        "    fingers crossed!\n",
        "    '''\n",
        "\n",
        "    #unique characters in the data set\n",
        "    chars = set(list(training_data))\n",
        "    vocab_size = len(chars)\n",
        "\n",
        "    #character encoding\n",
        "    char_to_ix = {ch:i for i,ch in enumerate(chars)}\n",
        "    ix_to_char = {i:ch for i,ch in enumerate(chars)}\n",
        "\n",
        "    # initialize data generators\n",
        "    training_generator = get_mini_batch(mini_batch_size,seq_length,char_to_ix,training_data)\n",
        "    if validation_data:\n",
        "       validation_generator = get_mini_batch(mini_batch_size,seq_length,char_to_ix,validation_data)\n",
        "\n",
        "    #current training step counter\n",
        "    n = 0\n",
        "\n",
        "    #initialize the model weight matrices\n",
        "    params_cache = initialize_weights(initial_key,hidden_size,vocab_size)\n",
        "\n",
        "    #keep list of loss each training step\n",
        "    \n",
        "    step_list = [0]\n",
        "\n",
        "    tau = len(training_data) / (mini_batch_size * seq_length)\n",
        "\n",
        "    alpha = jnp.exp(-4/tau).item()\n",
        "\n",
        "    print(f'tau: {tau} alpha: {alpha}')\n",
        "\n",
        "    smooth_loss = -jnp.log(1.0/vocab_size)*seq_length\n",
        "\n",
        "    train_losses,smooth_losses,val_losses = [smooth_loss],[smooth_loss],[smooth_loss]\n",
        "\n",
        "    last_epoch = 0\n",
        "\n",
        "    h_next,c_next = jnp.zeros((hidden_size,1)), jnp.zeros((hidden_size,1))\n",
        "\n",
        "    key = initial_key\n",
        "\n",
        "    sample_size = 200\n",
        "\n",
        "    sample_ix = [0]*sample_size\n",
        "\n",
        "    while n < total_steps:\n",
        "          \n",
        "          inputs,targets,current_epoch = next(training_generator)\n",
        "\n",
        "          if current_epoch > last_epoch:\n",
        "\n",
        "             last_epoch = current_epoch\n",
        "             \n",
        "             h_next,c_next = jnp.zeros((hidden_size,1)),jnp.zeros((hidden_size,1))\n",
        "          \n",
        "          current_loss, params_cache, hidden_cache = sgd_step_adam_jit(current_step=n,\n",
        "                                                     inputs=inputs,\n",
        "                                                     targets=targets,\n",
        "                                                     h=h_next,\n",
        "                                                     c=c_next,\n",
        "                                                     params=params_cache[0],\n",
        "                                                     grads_mems=params_cache[1],\n",
        "                                                     sqrd_mems=params_cache[2],\n",
        "                                                     beta1=0.9,\n",
        "                                                     beta2=0.999,\n",
        "                                                     learning_rate=learning_rate)\n",
        "          \n",
        "          \n",
        "          \n",
        "          smooth_loss = alpha*smooth_loss + (1-alpha)*current_loss\n",
        "\n",
        "          # sample from the model now and then\n",
        "          if n % steps_sample_freq == 0:\n",
        "             key,subkey=random.split(key) #key to split, subkey to gen next random sample\n",
        "\n",
        "             sample_ix = sample(sample_ix[-1],sample_size,subkey,hidden_cache,params_cache[0])\n",
        "\n",
        "             txt = ''.join(ix_to_char[ix] for ix in sample_ix)\n",
        "             txt_wrap = wrap(txt,80)\n",
        "             txt_wrap = [line.center(100) for line in txt_wrap]\n",
        "             txt = '\\n'.join(txt_wrap)  # \\n aren't in the character set so wrap text to make readable\n",
        "\n",
        "             print('----\\n %s \\n----' % (txt,))\n",
        "\n",
        "             print(f'Step n: {n}\\t Epoch: {current_epoch}')\n",
        "\n",
        "             print(f'Train Current: {current_loss:.4f}\\tTrain Smoothed: {smooth_loss:.4f}')\n",
        "\n",
        "             step_list.append(n)\n",
        "             train_losses.append(current_loss)\n",
        "             smooth_losses.append(smooth_loss)\n",
        "\n",
        "             #compute_validation_loss\n",
        "             if validation_generator:\n",
        "                inputs_val,targets_val,val_epoch = next(validation_generator)\n",
        "\n",
        "                val_loss = validation_loss_jit(inputs_val,targets_val,h=h_next,c=c_next,params=params_cache[0])\n",
        "\n",
        "                print(f'Val Current: {val_loss:.4f}') \n",
        "\n",
        "                val_losses.append(val_loss)       \n",
        "\n",
        "          n+=1\n",
        "\n",
        "    history = (step_list,smooth_losses,train_losses,val_losses)\n",
        "\n",
        "    return history, params_cache, hidden_cache"
      ]
    },
    {
      "cell_type": "code",
      "source": [
        "12.75/32.58"
      ],
      "metadata": {
        "colab": {
          "base_uri": "https://localhost:8080/"
        },
        "id": "3AP-8VALOSkx",
        "outputId": "62a8e244-f9df-409b-d8c3-de9e9358a2ce"
      },
      "execution_count": 20,
      "outputs": [
        {
          "output_type": "execute_result",
          "data": {
            "text/plain": [
              "0.39134438305709024"
            ]
          },
          "metadata": {},
          "execution_count": 20
        }
      ]
    },
    {
      "cell_type": "code",
      "execution_count": 21,
      "metadata": {
        "colab": {
          "base_uri": "https://localhost:8080/"
        },
        "id": "zqn98JR26NIi",
        "outputId": "cc6f9e19-2ef6-4216-b0f7-70ab4e025bfe"
      },
      "outputs": [
        {
          "output_type": "stream",
          "name": "stdout",
          "text": [
            "tau: 325.0 alpha: 0.98776775598526\n",
            "----\n",
            "           owhbpsjlxlkeorerucntircdenwlrrlqihgxdwdkabuwrqmvslnzzgnnrwkogbuogwajuwdjucwrerqt          \n",
            "          czhavaymccdggfocvcezwxfrerjnrjlawbbkpeljgwuysofijavdrzpmfcaelklwknwqoqrhyervvxzy          \n",
            "                              bxozseekvdwswfmvtygisdvfkmaqvczwsqzeakpt                               \n",
            "----\n",
            "Step n: 0\t Epoch: 0\n",
            "Train Current: 32.5813\tTrain Smoothed: 32.5810\n",
            "Val Current: 32.5690\n",
            "----\n",
            "           uwxyzabcdefghijklmnopqrstuvwxyzabcdefghijklmnopqrstuvwxyzabcdefghijklmnopqrstuvw          \n",
            "          xyzabcdefghijklmnopqrstuvwwyzabcdefghijklmnopqrstuvwxyzabcdefghijklmnopqrstuvwxy          \n",
            "                              zabcdefghijklmnopqrstuvwxyzabcdefghijklm                               \n",
            "----\n",
            "Step n: 250\t Epoch: 0\n",
            "Train Current: 0.0396\tTrain Smoothed: 2.2914\n",
            "Val Current: 0.3517\n",
            "----\n",
            "           nopqrstuvwxyzabcdefghijklmnopqrstuvwxyzabcdefghijklmnopqrstuvwxyzabcdefghijklmno          \n",
            "          pqrstuvwxyzabcdefghijklmnopqrstuvwxyzabcdefghijklmnopqrstuvwxyzabcdefghijklmnopq          \n",
            "                              rstuvwxyzabcdefghijklmnopqrstuvwxyzabcde                               \n",
            "----\n",
            "Step n: 500\t Epoch: 1\n",
            "Train Current: 0.0110\tTrain Smoothed: 0.1204\n",
            "Val Current: 0.2362\n",
            "----\n",
            "           fghijklmnopqrstuvwxyzabcdefghijklmnopqrstuvwxyzabcdefghijklmnopqrstuvwxyzabcdefg          \n",
            "          hijklmnopqrstuvwxyzabcdefghijklmnopqrstuvwxyzabcdefghijklmnopqrstuvwxyzabcdefghi          \n",
            "                              jklmnopqrstuvwxyzabcdefghijklmnopqrstuvw                               \n",
            "----\n",
            "Step n: 750\t Epoch: 2\n",
            "Train Current: 0.0054\tTrain Smoothed: 0.0118\n",
            "Val Current: 0.1871\n",
            "----\n",
            "           xyzabcdefghijklmnopqrstuvwxyzabcdefghijklmnopqrstuvwxyzabcdefghijklmnopqrstuvwxy          \n",
            "          zabcdefghijklmnopqrstuvwxyzabcdefghijklmnopqrstuvwxyzabcdefghijklmnopqrstuvwxyza          \n",
            "                              bcdefghijklmnopqrstuvwxyzabcdefghijklmno                               \n",
            "----\n",
            "Step n: 1000\t Epoch: 3\n",
            "Train Current: 0.0032\tTrain Smoothed: 0.0041\n",
            "Val Current: 0.1415\n",
            "----\n",
            "           pqrstuvwxyzabcdefghijklmnopqrstuvwxyzabcdefghijklmnopqrstuvwxyzabcdefghijklmnopq          \n",
            "          rstuvwxyzabcdefghijklmnopqrstuvwxyzabcdefghijklmnopqrstuvwxyzabcdefghijklmnopqrs          \n",
            "                              tuvwxyzabcdefghijklmnopqrstuvwxyzabcdefg                               \n",
            "----\n",
            "Step n: 1250\t Epoch: 3\n",
            "Train Current: 0.0022\tTrain Smoothed: 0.0025\n",
            "Val Current: 0.1288\n",
            "----\n",
            "           hijklmnopqrstuvwxyzabcdefghijklmnopqrstuvwxyzabcdefghijklmnopqrstuvwxyzabcdefghi          \n",
            "          jklmnopqrstuvwxyzabcdefghijklmnopqrstuvwxyzabcdefghijklmnopqrstuvwxyzabcdefghijk          \n",
            "                              lmnopqrstuvwxyzabcdefghijklmnopqrstuvwxy                               \n",
            "----\n",
            "Step n: 1500\t Epoch: 4\n",
            "Train Current: 0.0015\tTrain Smoothed: 0.0017\n",
            "Val Current: 0.1132\n",
            "----\n",
            "           zabcdefghijklmnopqrstuvwxyzabcdefghijklmnopqrstuvwxyzabcdefghijklmnopqrstuvwxyza          \n",
            "          bcdefghijklmnopqrstuvwxyzabcdefghijklmnopqrstuvwxyzabcdefghijklmnopqrstuvwxyzabc          \n",
            "                              defghijklmnopqrstuvwxyzabcdefghijklmnopq                               \n",
            "----\n",
            "Step n: 1750\t Epoch: 5\n",
            "Train Current: 0.0011\tTrain Smoothed: 0.0013\n",
            "Val Current: 0.1068\n",
            "----\n",
            "           rstuvwxyzabcdefghijklmnopqrstuvwxyzabcdefghijklmnopqrstuvwxyzabcdefghijklmnopqrs          \n",
            "          tuvwxyzabcdefghijklmnopqrstuvwxyzabcdefghijklmnopqrstuvwxyzabcdefghijklmnopqrstu          \n",
            "                              vwxyzabcdefghijklmnopqrstuvwxyzabcdefghi                               \n",
            "----\n",
            "Step n: 2000\t Epoch: 6\n",
            "Train Current: 0.0009\tTrain Smoothed: 0.0010\n",
            "Val Current: 0.0934\n",
            "----\n",
            "           jklmnopqrstuvwxyzabcdefghijklmnopqrstuvwxyzabcdefghijklmnopqrstuvwxyzabcdefghijk          \n",
            "          lmnopqrstuvwxyzabcdefghijklmnopqrstuvwxyzabcdefghijklmnopqrstuvwxyzabcdefghijklm          \n",
            "                              nopqrstuvwxyzabcdefghijklmnopqrstuvwxyza                               \n",
            "----\n",
            "Step n: 2250\t Epoch: 6\n",
            "Train Current: 0.0007\tTrain Smoothed: 0.0007\n",
            "Val Current: 0.0867\n",
            "----\n",
            "           bcdefghijklmnopqrstuvwxyzabcdefghijklmnopqrstuvwxyzabcdefghijklmnopqrstuvwxyzabc          \n",
            "          defghijklmnopqrstuvwxyzabcdefghijklmnopqrstuvwxyzabcdefghijklmnopqrstuvwxyzabcde          \n",
            "                              fghijklmnopqrstuvwxyzabcdefghijklmnopqrs                               \n",
            "----\n",
            "Step n: 2500\t Epoch: 7\n",
            "Train Current: 0.0006\tTrain Smoothed: 0.0006\n",
            "Val Current: 0.0749\n",
            "----\n",
            "           tuvwxyzabcdefghijklmnopqrstuvwxyzabcdefghijklmnopqrstuvwxyzabcdefghijklmnopqrstu          \n",
            "          vwxyzabcdefghijklmnopqrstuvwxyzabcdefghijklmnopqrstuvwxyzabcdefghijklmnopqrstuvw          \n",
            "                              xyzabcdefghijklmnopqrstuvwxyzabcdefghijk                               \n",
            "----\n",
            "Step n: 2750\t Epoch: 8\n",
            "Train Current: 0.0004\tTrain Smoothed: 0.0005\n",
            "Val Current: 0.0766\n",
            "----\n",
            "           lmnopqrstuvwxyzabcdefghijklmnopqrstuvwxyzabcdefghijklmnopqrstuvwxyzabcdefghijklm          \n",
            "          nopqrstuvwxyzabcdefghijklmnopqrstuvwxyzabcdefghijklmnopqrstuvwxyzabcdefghijklmno          \n",
            "                              pqrstuvwxyzabcdefghijklmnopqrstuvwxyzabc                               \n",
            "----\n",
            "Step n: 3000\t Epoch: 9\n",
            "Train Current: 0.0004\tTrain Smoothed: 0.0004\n",
            "Val Current: 0.0727\n",
            "----\n",
            "           defghijklmnopqrstuvwxyzabcdefghijklmnopqrstuvwxyzabcdefghijklmnopqrstuvwxyzabcde          \n",
            "          fghijklmnopqrstuvwxyzabcdefghijklmnopqrstuvwxyzabcdefghijklmnopqrstuvwxyzabcdefg          \n",
            "                              hijklmnopqrstuvwxyzabcdefghijklmnopqrstu                               \n",
            "----\n",
            "Step n: 3250\t Epoch: 10\n",
            "Train Current: 0.0003\tTrain Smoothed: 0.0003\n",
            "Val Current: 0.0624\n",
            "----\n",
            "           vwxyzabcdefghijklmnopqrstuvwxyzabcdefghijklmnopqrstuvwxyzabcdefghijklmnopqrstuvw          \n",
            "          xyzabcdefghijklmnopqrstuvwxyzabcdefghijklmnopqrstuvwxyzabcdefghijklmnopqrstuvwxy          \n",
            "                              zabcdefghijklmnopqrstuvwxyzabcdefghijklm                               \n",
            "----\n",
            "Step n: 3500\t Epoch: 10\n",
            "Train Current: 0.0003\tTrain Smoothed: 0.0003\n",
            "Val Current: 0.0575\n",
            "----\n",
            "           nopqrstuvwxyzabcdefghijklmnopqrstuvwxyzabcdefghijklmnopqrstuvwxyzabcdefghijklmno          \n",
            "          pqrstuvwxyzabcdefghijklmnopqrstuvwxyzabcdefghijklmnopqrstuvwxyzabcdefghijklmnopq          \n",
            "                              rstuvwxyzabcdefghijklmnopqrstuvwxyzabcde                               \n",
            "----\n",
            "Step n: 3750\t Epoch: 11\n",
            "Train Current: 0.0002\tTrain Smoothed: 0.0002\n",
            "Val Current: 0.0591\n"
          ]
        }
      ],
      "source": [
        "mykey = random.PRNGKey(1)\n",
        "\n",
        "seq_length = 10\n",
        "hidden_size = 32\n",
        "mini_batch_size = 16\n",
        "\n",
        "train_data = training_data\n",
        "val_data = training_data[513:]\n",
        "\n",
        "history,out_params,out_hidden = train_character_lstm(                  \n",
        "                                  seq_length=seq_length,\n",
        "                                  hidden_size=hidden_size,\n",
        "                                  mini_batch_size=mini_batch_size,\n",
        "                                  learning_rate=0.01,\n",
        "                                  total_steps=4000,\n",
        "                                  steps_sample_freq=250,\n",
        "                                  initial_key=mykey,\n",
        "                                  training_data=train_data,\n",
        "                                  validation_data=val_data)                "
      ]
    },
    {
      "cell_type": "code",
      "source": [
        "import matplotlib.pyplot as plt\n",
        "\n",
        "import numpy as np\n",
        "\n",
        "def plot_training_history(history,mini_batch_size,seq_length,training_length,plot_smooth=False,plot_val=True):\n",
        "\n",
        "    step_list,smooth_losses,train_losses,val_losses = history\n",
        "\n",
        "    fig,ax = plt.subplots(figsize=(10,6))\n",
        "\n",
        "    t_list = np.array(step_list)\n",
        "\n",
        "    t_list = t_list * mini_batch_size * seq_length / training_length\n",
        "\n",
        "    train_log_loss = np.log10(np.array(train_losses))\n",
        "\n",
        "    if plot_smooth:\n",
        "       smooth_log_loss = np.log10(np.array(smooth_losses))\n",
        "       ax.plot(t_list,smooth_log_loss,'bo-')\n",
        "\n",
        "    ax.plot(t_list,train_log_loss,'go-')\n",
        "\n",
        "    if len(val_losses)==len(step_list) and plot_val:\n",
        "       val_log_loss = np.log10(np.array(val_losses))\n",
        "\n",
        "       ax.plot(t_list,val_log_loss,'ro-')\n",
        "\n",
        "    ax.set_ylabel('$Log_{10}(L)$')\n",
        "    ax.set_xlabel('Epochs')\n",
        "\n",
        "    plt.show()"
      ],
      "metadata": {
        "id": "8u4x8mh3YfIZ"
      },
      "execution_count": 22,
      "outputs": []
    },
    {
      "cell_type": "code",
      "source": [
        "plot_training_history(history,\n",
        "                      mini_batch_size,\n",
        "                      seq_length,\n",
        "                      len(training_data),\n",
        "                      plot_smooth=True,\n",
        "                      plot_val=True)"
      ],
      "metadata": {
        "colab": {
          "base_uri": "https://localhost:8080/",
          "height": 542
        },
        "id": "-IZoPwacZcd6",
        "outputId": "74bf19e7-1e18-4160-bd3c-4ba30c31765d"
      },
      "execution_count": 23,
      "outputs": [
        {
          "output_type": "display_data",
          "data": {
            "text/plain": [
              "<Figure size 1000x600 with 1 Axes>"
            ],
            "image/png": "[encoded data removed]"
          },
          "metadata": {}
        }
      ]
    },
    {
      "cell_type": "code",
      "execution_count": 41,
      "metadata": {
        "colab": {
          "base_uri": "https://localhost:8080/"
        },
        "id": "IRb-QXmT8X-4",
        "outputId": "9905640e-3bd8-4598-85c1-c36a15b6a947"
      },
      "outputs": [
        {
          "output_type": "stream",
          "name": "stdout",
          "text": [
            "73 unique characters\n",
            "Training has 740442 total characters\n",
            "Validation has 130667 total characters\n",
            "LSTM with 128 hidden units\n",
            "Will train on character sequences of length 100\n",
            "\n",
            "Training data sample: \n",
            "\n",
            "               ide, At once a virgin, and at once a bride! No more with presents her                \n",
            "               embraces meet, Or lay the spoils of conquest at her feet, On whom his                \n",
            "                    passion, lavish of his store, Bestow’d so much, and vainly p                    \n",
            "\n"
          ]
        }
      ],
      "source": [
        "import re\n",
        "\n",
        "with open('illiad_clean.txt','r') as file:\n",
        "  text_data = file.read()\n",
        "\n",
        "text_data = re.sub(r\"\\[.\\]\",\" \",text_data)\n",
        "\n",
        "text_data = re.sub(r\"[^a-zA-Z0-9.,?!:;“”'`’ ]+\", \" \", text_data)\n",
        "\n",
        "text_data = re.sub(r\"[\\s]+\",\" \",text_data)\n",
        "\n",
        "train_split = 0.85\n",
        "n_train = int(len(text_data)*train_split)\n",
        "\n",
        "training_data = text_data[:n_train]\n",
        "validation_data = text_data[n_train:]\n",
        "\n",
        "chars = set(list(training_data))\n",
        "\n",
        "vocab_size = len(chars)\n",
        "\n",
        "char_to_ix = {ch:i for i,ch in enumerate(chars)}\n",
        "ix_to_char = {i:ch for i,ch in enumerate(chars)}\n",
        "\n",
        "print(f'{vocab_size} unique characters')\n",
        "print(f'Training has {len(training_data)} total characters')\n",
        "print(f'Validation has {len(validation_data)} total characters')\n",
        "\n",
        "seq_length = 100\n",
        "hidden_size = 128\n",
        "\n",
        "print(f'LSTM with {hidden_size} hidden units')\n",
        "print(f'Will train on character sequences of length {seq_length}')\n",
        "print()\n",
        "txt = wrap(training_data[len(training_data)//2:(len(training_data)//2)+200])\n",
        "txt = [line.center(100) for line in txt]\n",
        "txt = '\\n'.join(txt)\n",
        "print('Training data sample: \\n')\n",
        "print(txt)\n",
        "print()"
      ]
    },
    {
      "cell_type": "code",
      "execution_count": 42,
      "metadata": {
        "colab": {
          "base_uri": "https://localhost:8080/"
        },
        "id": "CsqhhSKiEnuV",
        "outputId": "e73e5483-310c-48bf-ddae-ba0c3d13a813"
      },
      "outputs": [
        {
          "output_type": "stream",
          "name": "stdout",
          "text": [
            "tau: 231.388125 alpha: 0.9828615784645081\n",
            "----\n",
            "           gp3C BOazc!dt”d”E“X5I'“S;LYa''c4v?87SYF!6CEx”rAjBasMMgXs”p!t0Cet0pQTeVSTe“p'9'4w          \n",
            "          l’N6k6KAblW08:t“,l;’pznm9'uL”TcQx.bD 9au8YUVRtnvEJjW'2iAPl69cDaxDsxrtrm’Vdmj,z’K          \n",
            "                              C1o’R;dujWxRpPIjwq8GBS,C!A6rk“2xRr2d6D 5                               \n",
            "----\n",
            "Step n: 0\t Epoch: 0\n",
            "Train Current: 429.0482\tTrain Smoothed: 429.0460\n",
            "Val Current: 427.4442\n",
            "----\n",
            "             tho courlerl short, in blood. In chail, for Mysul suldering eyedy so lengent,           \n",
            "           silen his nide.” The flamias lov Phrious brow, and armeart thus so ewell sine.           \n",
            "                             The counden buce! Or dece mortal, be the s                              \n",
            "----\n",
            "Step n: 500\t Epoch: 2\n",
            "Train Current: 167.1659\tTrain Smoothed: 173.4352\n",
            "Val Current: 170.2153\n",
            "----\n",
            "              to dimple was, Jove Behinds; His lancour hands, he sacry Greeks from would             \n",
            "           their Darded throre be he souting feated thion prove shield; He trees strokes,           \n",
            "                           And Troy, Musiot great decarted to Liquart he                             \n",
            "----\n",
            "Step n: 1000\t Epoch: 4\n",
            "Train Current: 151.1671\tTrain Smoothed: 149.4201\n",
            "Val Current: 155.3910\n",
            "----\n",
            "            nt his part proide!” Where Greece! his too tis stood may agrees, and arms, in            \n",
            "          hasst her greathresh of the monarch the fall befores to fury friend what madle,           \n",
            "                             turn; Ulysses’ on the country glied, and o                              \n",
            "----\n",
            "Step n: 1500\t Epoch: 6\n",
            "Train Current: 128.6935\tTrain Smoothed: 140.9062\n",
            "Val Current: 159.9236\n",
            "----\n",
            "           un tranching pause the skilly light perish’d supple stood.” This o’er may turn,           \n",
            "          Or took, each clamo! an with him all. Neat hills, through heaven with death; the          \n",
            "                              sleep. who great white a’s destrey frip                                \n",
            "----\n",
            "Step n: 2000\t Epoch: 8\n",
            "Train Current: 145.2618\tTrain Smoothed: 136.8036\n",
            "Val Current: 148.5020\n",
            "----\n",
            "            ent: his scene must bound. Like shouts for honour’d covered of the plain; The            \n",
            "            want, his mark the reach’d, and vain the skies: A lion’d with the foer. Ton             \n",
            "                           more, Proud leader round the dead, Cheluces, a                            \n",
            "----\n",
            "Step n: 2500\t Epoch: 10\n",
            "Train Current: 127.5750\tTrain Smoothed: 133.0470\n",
            "Val Current: 139.5831\n",
            "----\n",
            "           te in encons stend dark chief the heroes roll’d Spoils opore, Skill’d where him           \n",
            "           hor his hands till flow; The spear to one descends immenarch due provake be of           \n",
            "                              fame. Ontements of manger with furial at                               \n",
            "----\n",
            "Step n: 3000\t Epoch: 12\n",
            "Train Current: 129.7941\tTrain Smoothed: 132.2809\n",
            "Val Current: 142.2750\n",
            "----\n",
            "            of all the Lycian letion of the field, the pride her town, since to the piact            \n",
            "           came. Those shades he tall by heavenly man we ax divides forstibulling pautus’           \n",
            "                            race; Or hear to Plosed weted lessep’d spok                              \n",
            "----\n",
            "Step n: 3500\t Epoch: 15\n",
            "Train Current: 132.3326\tTrain Smoothed: 132.4653\n",
            "Val Current: 144.7894\n"
          ]
        }
      ],
      "source": [
        "mykey = random.PRNGKey(1)\n",
        "\n",
        "mini_batch_size = 32\n",
        "\n",
        "total_steps = 4000\n",
        "\n",
        "history,out_params,out_hidden = train_character_lstm(                  \n",
        "                                  seq_length=seq_length,\n",
        "                                  hidden_size=hidden_size,\n",
        "                                  mini_batch_size=mini_batch_size,\n",
        "                                  learning_rate=0.01,\n",
        "                                  total_steps=total_steps,\n",
        "                                  steps_sample_freq=500,\n",
        "                                  initial_key=mykey,\n",
        "                                  training_data=training_data,\n",
        "                                  validation_data=validation_data)     "
      ]
    },
    {
      "cell_type": "code",
      "execution_count": 43,
      "metadata": {
        "colab": {
          "base_uri": "https://localhost:8080/",
          "height": 542
        },
        "id": "6bo7iM2-EuMr",
        "outputId": "eebd5a61-eeaf-46d3-db74-11867bdca655"
      },
      "outputs": [
        {
          "output_type": "display_data",
          "data": {
            "text/plain": [
              "<Figure size 1000x600 with 1 Axes>"
            ],
            "image/png": "[encoded data removed]"
          },
          "metadata": {}
        }
      ],
      "source": [
        "plot_training_history(history,\n",
        "                      mini_batch_size,\n",
        "                      seq_length,\n",
        "                      len(training_data),\n",
        "                      plot_smooth=True,\n",
        "                      plot_val=True)"
      ]
    },
    {
      "cell_type": "code",
      "source": [
        "mykey = random.PRNGKey(1)\n",
        "\n",
        "seq_length = 200\n",
        "\n",
        "hidden_size = 1024\n",
        "\n",
        "mini_batch_size = 32\n",
        "\n",
        "total_steps = 4000\n",
        "\n",
        "history,out_params,out_hidden = train_character_lstm(                  \n",
        "                                  seq_length=seq_length,\n",
        "                                  hidden_size=hidden_size,\n",
        "                                  mini_batch_size=mini_batch_size,\n",
        "                                  learning_rate=0.01,\n",
        "                                  total_steps=total_steps,\n",
        "                                  steps_sample_freq=500,\n",
        "                                  initial_key=mykey,\n",
        "                                  training_data=training_data,\n",
        "                                  validation_data=validation_data)  "
      ],
      "metadata": {
        "colab": {
          "base_uri": "https://localhost:8080/"
        },
        "id": "qF8GIaXhodUq",
        "outputId": "963f2728-b2cb-48ab-cedb-2b0f591ada16"
      },
      "execution_count": 48,
      "outputs": [
        {
          "output_type": "stream",
          "name": "stdout",
          "text": [
            "tau: 115.6940625 alpha: 0.966016948223114\n",
            "----\n",
            "           gp3C BOazc!dt”d”E“X5I'“S;LYa''c4v?87SYF!6CEx”rAjBas2MgXs'p!tgCet0YQTeVSTe“p'9'4w          \n",
            "          l’N6kQKAblW08:t“,l;’pznm9'uL”TcQx.bD 9au8YUVRtnvEJjW'2iAPl69cDaxDsxrtrm’Vdmj,z’K          \n",
            "                              C1oMR;dujWxRpPIjwq8GBS,C!A6rk“2pRr2d6D 5                               \n",
            "----\n",
            "Step n: 0\t Epoch: 0\n",
            "Train Current: 858.0732\tTrain Smoothed: 858.0913\n",
            "Val Current: 845.0562\n",
            "----\n",
            "              that aid of war and thenteloart and.” This lease to let the dreamons cusses            \n",
            "           man, In vain he learn his halse a scenered brow! My now divine they terrant is           \n",
            "                            aidy arms. Nor pair’d the Trojans just theic                             \n",
            "----\n",
            "Step n: 500\t Epoch: 4\n",
            "Train Current: 257.1637\tTrain Smoothed: 275.7953\n",
            "Val Current: 296.0504\n",
            "----\n",
            "              e abidest applies, Easy whesdess from Chatishus’ loves was a thoush’d his              \n",
            "           father’s breath, ’Tis not ’dis usquing cease, in human shield’s reign! As when           \n",
            "                          he speed the inception mourns a mound: If uniop                            \n",
            "----\n",
            "Step n: 1000\t Epoch: 8\n",
            "Train Current: 226.8467\tTrain Smoothed: 231.5064\n",
            "Val Current: 267.1608\n",
            "----\n",
            "            lumed: The thirg it vent, a caused with streating beave, And had the beam the            \n",
            "            hands he fortacts fired; A reverend wound Perypathus, Phorean throes, Proud             \n",
            "                           furie fled in vanquish’d and less to the sky:                             \n",
            "----\n",
            "Step n: 1500\t Epoch: 13\n",
            "Train Current: 214.4670\tTrain Smoothed: 213.0468\n",
            "Val Current: 268.3245\n",
            "----\n",
            "              Menelaus shall engage To raze around Amphimacon’s high name That overtuned             \n",
            "          Atrides! slownDs his fury, to revere, In such a moming orb the Grecian head; All          \n",
            "                            Troy’s demanders thus the rich weight, To Tr                             \n",
            "----\n",
            "Step n: 2000\t Epoch: 17\n",
            "Train Current: 201.7626\tTrain Smoothed: 199.2024\n",
            "Val Current: 282.8832\n",
            "----\n",
            "             eady Hector’s side: Nor on the Grecians to recend the train The Myrmidonian             \n",
            "           thunder to the dew. If voke I felt this actpos lay No part, A present mothers            \n",
            "                           hang stern died Where lit light every leader g                            \n",
            "----\n",
            "Step n: 2500\t Epoch: 21\n",
            "Train Current: 195.2599\tTrain Smoothed: 190.8634\n",
            "Val Current: 313.0323\n",
            "----\n",
            "           ed with success sends, The river of Achilles’ veil of gore The increls grew in,           \n",
            "          high trembling dangers dwell, The priest these promise, and Pereiun’s coast; Its          \n",
            "                              ease to death, a hundred herald glows A                                \n",
            "----\n",
            "Step n: 3000\t Epoch: 26\n",
            "Train Current: 200.7344\tTrain Smoothed: 185.9687\n",
            "Val Current: 284.2709\n",
            "----\n",
            "            gain of sounds; By volour’d arrows, with his proffer’d bands, And springs, and           \n",
            "           sings to basial to his fate: Then greew’d with melting as in clouds arise; And           \n",
            "                             numerous eyes fro flame disdains repress.                               \n",
            "----\n",
            "Step n: 3500\t Epoch: 30\n",
            "Train Current: 169.5998\tTrain Smoothed: 169.1083\n",
            "Val Current: 285.4225\n"
          ]
        }
      ]
    },
    {
      "cell_type": "code",
      "source": [
        "plot_training_history(history,\n",
        "                      mini_batch_size,\n",
        "                      seq_length,\n",
        "                      len(training_data),\n",
        "                      plot_smooth=True,\n",
        "                      plot_val=True)"
      ],
      "metadata": {
        "colab": {
          "base_uri": "https://localhost:8080/",
          "height": 542
        },
        "id": "AXzkFCJwpkuC",
        "outputId": "e074b53a-99b1-4c66-9e38-bf7b03d08699"
      },
      "execution_count": 49,
      "outputs": [
        {
          "output_type": "display_data",
          "data": {
            "text/plain": [
              "<Figure size 1000x600 with 1 Axes>"
            ],
            "image/png": "[encoded data removed]"
          },
          "metadata": {}
        }
      ]
    },
    {
      "cell_type": "code",
      "source": [
        "\n",
        "key = random.PRNGKey(7)\n",
        "\n",
        "sample_size = 2000\n",
        "\n",
        "key,subkey=random.split(key) #use key to get next key, subkey for random number\n",
        "\n",
        "sample_ix = sample(12,sample_size,subkey,out_hidden,out_params[0])"
      ],
      "metadata": {
        "id": "zuYRhpuAqcZj"
      },
      "execution_count": 50,
      "outputs": []
    },
    {
      "cell_type": "code",
      "source": [
        "txt = ''.join(ix_to_char[ix] for ix in sample_ix)\n",
        "txt_wrap = wrap(txt,80)\n",
        "txt_wrap = [line.center(100) for line in txt_wrap]\n",
        "txt = '\\n'.join(txt_wrap)  # \\n aren't in the character set so wrap text to make readable\n",
        "\n",
        "print('----\\n %s \\n----' % (txt,))"
      ],
      "metadata": {
        "colab": {
          "base_uri": "https://localhost:8080/"
        },
        "id": "y5KR9Lz1yLsg",
        "outputId": "ca9943d6-e4d3-48cb-def1-04680fc3310a"
      },
      "execution_count": 51,
      "outputs": [
        {
          "output_type": "stream",
          "name": "stdout",
          "text": [
            "----\n",
            "            42 Once first, immortal now debate.” “My, sunk to Ph lus! to your message turns          \n",
            "          In form so great in Jove enlades his prayer, Till his bright steel the carrious           \n",
            "          blast couse; The god, more honour’d is no time remain! Once from your figst? Thy          \n",
            "          friend.” The host boldeying to his breast: Ler Priam’s rymatyring mandal nightle          \n",
            "          lost, And permsos, glides on wish with joy compell’d! Bore gmoded is the decree;          \n",
            "          And loXdress o’er the ensangs of war. Fath not thy words, whence in your guide!           \n",
            "            Fierce as my Telamon drove as thy dart Trow stand for safety the whole host             \n",
            "          address’d, Slow they by Priam, and bold my soul? Charm’d by great Idomen, raging          \n",
            "           run Juno wield, Arm’d oo some seats, not mingled with debate, Yet pleased the            \n",
            "            yoke, and match’d it firs; They hung Hypserous, coldenser point Their brazen            \n",
            "          princes bend him on the plain: Where, with cilacted hero’s field he drew, Swift           \n",
            "          as the battles, and the noblest mind. “’tis he decree; Atreum’d, thy force, nor           \n",
            "            this at once to engage, Forbids, with face his prowess won To thee the massy            \n",
            "          trabest or thy flight, Gegive’s streams of conquest with a god. But Nestor thus           \n",
            "          retir, confess thy throng; Close, with smooting, o’er the tall below, Supremply           \n",
            "          tolds, and send byatilests rise; The shape tell heads to save the victor flies,           \n",
            "          And he, whom Jove with streggon’s golden heeps; Axers’ sandive bless’d givit on           \n",
            "           his breast. Swift, with the plains, the falsely gore I go; Jove honours him to           \n",
            "             try imparts From one extent those deluge rear, Nor spear, by Jove’s adred              \n",
            "          disguares thy pride? His strongest spear, my and, your hearts Inspire, And hopes          \n",
            "           not man who wakes are thrown; If you thy destur? is my silver bire, If thou at           \n",
            "              least erect these eyes sage, Not old one Nestor’s forces  in thy found?               \n",
            "           Enchanged he thought defended day, Close in their wings, and seek one fiercer            \n",
            "           rear; While thes, the warriors’ stroke repell’d Their lines and far from some            \n",
            "             famed fruethful rage; His hollen hearts they run, and scuppoberous shine.              \n",
            "                                  Remove, thy tremble, great decre                                   \n",
            "----\n"
          ]
        }
      ]
    },
    {
      "cell_type": "code",
      "source": [
        "\n"
      ],
      "metadata": {
        "id": "ruQhIMd1yZ2x"
      },
      "execution_count": null,
      "outputs": []
    }
  ],
  "metadata": {
    "accelerator": "GPU",
    "colab": {
      "provenance": []
    },
    "gpuClass": "standard",
    "kernelspec": {
      "display_name": "Python 3",
      "name": "python3"
    },
    "language_info": {
      "name": "python"
    }
  },
  "nbformat": 4,
  "nbformat_minor": 0
}