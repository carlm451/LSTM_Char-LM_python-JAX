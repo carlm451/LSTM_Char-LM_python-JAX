{
  "cells": [
    {
      "cell_type": "code",
      "execution_count": 1,
      "metadata": {
        "id": "OD2YpM0yclp0"
      },
      "outputs": [],
      "source": [
        "import jax.numpy as jnp\n",
        "from jax import grad, jit, vmap\n",
        "from jax import random\n",
        "\n",
        "from textwrap import wrap\n",
        "\n",
        "from copy import deepcopy"
      ]
    },
    {
      "cell_type": "code",
      "source": [
        "test = jnp.exp(-1/500).item()\n",
        "\n",
        "test"
      ],
      "metadata": {
        "colab": {
          "base_uri": "https://localhost:8080/"
        },
        "id": "rgTjJYX9Wc7X",
        "outputId": "c2a2f55a-b240-4280-cf7b-c65bfbdb56aa"
      },
      "execution_count": 2,
      "outputs": [
        {
          "output_type": "execute_result",
          "data": {
            "text/plain": [
              "0.9980019927024841"
            ]
          },
          "metadata": {},
          "execution_count": 2
        }
      ]
    },
    {
      "cell_type": "code",
      "execution_count": 3,
      "metadata": {
        "colab": {
          "base_uri": "https://localhost:8080/"
        },
        "id": "Pf1oQlfWdPEV",
        "outputId": "49cf2872-1e79-4339-b2a7-273d54cd1672"
      },
      "outputs": [
        {
          "output_type": "stream",
          "name": "stdout",
          "text": [
            "26 unique characters\n",
            "52000 total characters\n"
          ]
        }
      ],
      "source": [
        "training_data = 'abcdefghijklmnopqrstuvwxyz'*2000\n",
        "\n",
        "chars = set(list(training_data))\n",
        "\n",
        "vocab_size = len(chars)\n",
        "\n",
        "char_to_ix = {ch:i for i,ch in enumerate(chars)}\n",
        "ix_to_char = {i:ch for i,ch in enumerate(chars)}\n",
        "\n",
        "print(f'{vocab_size} unique characters')\n",
        "print(f'{len(training_data)} total characters')"
      ]
    },
    {
      "cell_type": "code",
      "execution_count": 4,
      "metadata": {
        "colab": {
          "base_uri": "https://localhost:8080/"
        },
        "id": "lVYosrYdc6GU",
        "outputId": "fa4bcb4b-c1a4-4b3b-956c-0ce6c36c758e"
      },
      "outputs": [
        {
          "output_type": "stream",
          "name": "stdout",
          "text": [
            "LSTM with 30 hidden units\n",
            "Single layer LSTM has 7646 total parameters\n",
            "Will train on character sequences of length 10\n",
            "\n",
            "Training data sample: \n",
            "\n",
            "               abcdefghijklmnopqrstuvwxyzabcdefghijklmnopqrstuvwxyzabcdefghijklmnopqr               \n",
            "               stuvwxyzabcdefghijklmnopqrstuvwxyzabcdefghijklmnopqrstuvwxyzabcdefghij               \n",
            "                    klmnopqrstuvwxyzabcdefghijklmnopqrstuvwxyzabcdefghijklmnopqr                    \n",
            "\n"
          ]
        }
      ],
      "source": [
        "hidden_size = 30\n",
        "\n",
        "seq_length = 10\n",
        "\n",
        "total_params = 5 * hidden_size * vocab_size + 4 * hidden_size**2 + 4 * hidden_size + vocab_size \n",
        "\n",
        "print(f'LSTM with {hidden_size} hidden units')\n",
        "print(f'Single layer LSTM has {total_params} total parameters')\n",
        "print(f'Will train on character sequences of length {seq_length}')\n",
        "print()\n",
        "txt = wrap(training_data[len(training_data)//2:(len(training_data)//2)+200])\n",
        "txt = [line.center(100) for line in txt]\n",
        "txt = '\\n'.join(txt)\n",
        "print('Training data sample: \\n')\n",
        "print(txt)\n",
        "print()"
      ]
    },
    {
      "cell_type": "code",
      "execution_count": 5,
      "metadata": {
        "id": "wVrhDpOidnkE"
      },
      "outputs": [],
      "source": [
        "def initialize_weights(key,n_h,n_x):\n",
        "    \n",
        "    subkeys=random.split(key,9)\n",
        "\n",
        "    params = dict()\n",
        "\n",
        "    params['Wxc'] = random.normal(subkeys[0],(n_h,n_x))*0.01 # input to cell state\n",
        "    params['Wxu'] = random.normal(subkeys[1],(n_h,n_x))*0.01 # input to update\n",
        "    params['Wxf'] = random.normal(subkeys[2],(n_h,n_x))*0.01 # input to forget\n",
        "    params['Wxo'] = random.normal(subkeys[3],(n_h,n_x))*0.01 # input to output\n",
        "\n",
        "    params['bc'] = jnp.zeros((n_h, 1)) # hidden bias\n",
        "    params['bu'] = jnp.zeros((n_h, 1)) # forget bias\n",
        "    params['bf'] = jnp.zeros((n_h, 1)) # update bias\n",
        "    params['bo'] = jnp.zeros((n_h, 1)) # output bias\n",
        "\n",
        "    params['Whc'] = random.normal(subkeys[4],(n_h,n_h))*0.01 # hidden to cell\n",
        "    params['Whu'] = random.normal(subkeys[5],(n_h,n_h))*0.01 # hidden to update\n",
        "    params['Whf'] = random.normal(subkeys[6],(n_h,n_h))*0.01 # hidden to forget\n",
        "    params['Who'] = random.normal(subkeys[7],(n_h,n_h))*0.01 # hidden to output\n",
        "\n",
        "    params['Why'] = random.normal(subkeys[8],(n_x,n_h))*0.01 # hidden to output\n",
        "    params['by'] = jnp.zeros((n_x, 1)) # output bias\n",
        "\n",
        "    grad_mems = dict()\n",
        "    sqrd_mems = dict()\n",
        "\n",
        "    for parameter in params.keys():\n",
        "\n",
        "        shape = params[parameter].shape\n",
        "\n",
        "        grad_mems[parameter]=jnp.zeros(shape)\n",
        "        sqrd_mems[parameter]=jnp.zeros(shape)\n",
        "\n",
        "    return params, grad_mems, sqrd_mems"
      ]
    },
    {
      "cell_type": "code",
      "execution_count": 6,
      "metadata": {
        "colab": {
          "base_uri": "https://localhost:8080/"
        },
        "id": "NtiIlmbjfRYj",
        "outputId": "cd3ebdcc-154d-48ee-f3bd-4cc4ab31ed31"
      },
      "outputs": [
        {
          "output_type": "stream",
          "name": "stdout",
          "text": [
            "dict_keys(['Wxc', 'Wxu', 'Wxf', 'Wxo', 'bc', 'bu', 'bf', 'bo', 'Whc', 'Whu', 'Whf', 'Who', 'Why', 'by'])\n",
            "-9.268721e-05\n",
            "0.0\n",
            "0.0\n"
          ]
        }
      ],
      "source": [
        "start_key = random.PRNGKey(0)\n",
        "\n",
        "params,grad_mems,sqrd_mems = initialize_weights(start_key,hidden_size,vocab_size)\n",
        "\n",
        "print(params.keys())\n",
        "print(jnp.mean(params['Wxc']))\n",
        "print(jnp.mean(grad_mems['Wxc']))\n",
        "print(jnp.mean(sqrd_mems['Wxc']))"
      ]
    },
    {
      "cell_type": "code",
      "execution_count": 7,
      "metadata": {
        "id": "nfih6PcffY4S"
      },
      "outputs": [],
      "source": [
        "def get_mini_batch(mini_batch_size,seq_length,char_to_ix,data):\n",
        "    '''\n",
        "    generator to continuous loop the data and pull out mini batches\n",
        "    '''\n",
        "    p = 0\n",
        "    epoch = 0\n",
        "\n",
        "    batch_character_size = mini_batch_size*(seq_length)\n",
        "\n",
        "    while True:\n",
        "\n",
        "        if p+batch_character_size+1>=len(data):\n",
        "            p=0\n",
        "            epoch = epoch + 1\n",
        "\n",
        "            # need to reset hprev,cprev if it loops?\n",
        "\n",
        "        inputs,targets = [],[]\n",
        "\n",
        "        for _ in range(mini_batch_size):\n",
        "\n",
        "            inputs.append([char_to_ix[ch] for ch in data[p:p+seq_length]])\n",
        "            targets.append([char_to_ix[ch] for ch in data[p+1:p+seq_length+1]])\n",
        "\n",
        "            p += seq_length\n",
        "\n",
        "        inputs = jnp.array(inputs)\n",
        "        targets = jnp.array(targets)\n",
        "\n",
        "        yield inputs,targets,epoch"
      ]
    },
    {
      "cell_type": "code",
      "execution_count": 8,
      "metadata": {
        "colab": {
          "base_uri": "https://localhost:8080/",
          "height": 173
        },
        "id": "CDlL1PFOio0A",
        "outputId": "9492fe21-78f2-4c3c-9467-a7b54e73cc35"
      },
      "outputs": [
        {
          "output_type": "display_data",
          "data": {
            "text/plain": [
              "Array([[21, 20, 18, 12, 17, 25, 22,  0, 13, 10],\n",
              "       [16,  3, 24,  9,  5,  1,  7, 11, 19,  6],\n",
              "       [ 4, 15, 14,  8,  2, 23, 21, 20, 18, 12],\n",
              "       [17, 25, 22,  0, 13, 10, 16,  3, 24,  9]], dtype=int32)"
            ]
          },
          "metadata": {}
        },
        {
          "output_type": "display_data",
          "data": {
            "text/plain": [
              "Array([[20, 18, 12, 17, 25, 22,  0, 13, 10, 16],\n",
              "       [ 3, 24,  9,  5,  1,  7, 11, 19,  6,  4],\n",
              "       [15, 14,  8,  2, 23, 21, 20, 18, 12, 17],\n",
              "       [25, 22,  0, 13, 10, 16,  3, 24,  9,  5]], dtype=int32)"
            ]
          },
          "metadata": {}
        },
        {
          "output_type": "display_data",
          "data": {
            "text/plain": [
              "0"
            ]
          },
          "metadata": {}
        }
      ],
      "source": [
        "batch_gen = get_mini_batch(4,seq_length,char_to_ix,training_data)\n",
        "\n",
        "inp,targ,epoch_test = next(batch_gen)\n",
        "\n",
        "display(inp,targ,epoch_test)"
      ]
    },
    {
      "cell_type": "code",
      "execution_count": 9,
      "metadata": {
        "id": "kkNHK-6EjYHh"
      },
      "outputs": [],
      "source": [
        "def sigmoid(z):\n",
        "    return 1.0/(1.0 + jnp.exp(-z))\n",
        "\n",
        "def softmax(y):\n",
        "    return jnp.exp(y) / jnp.sum(jnp.exp(y),axis=0)\n",
        "\n",
        "def lstm_forward(inputs,hprev,cprev,params):\n",
        "    '''\n",
        "    single forward pass of the LSTM\n",
        "\n",
        "    returns loss for this mini-batch\n",
        "\n",
        "    returns cache of variables needed for backwards pass\n",
        "    '''\n",
        "\n",
        "    # dims\n",
        "    mini_batch_size = inputs.shape[0]\n",
        "    seq_length = inputs.shape[1]\n",
        "\n",
        "    hidden_size = hprev.shape[0]\n",
        "\n",
        "    vocab_size = params['Wxc'].shape[1]\n",
        "\n",
        "    # unpack params\n",
        "\n",
        "    Wxc = params['Wxc']\n",
        "    Wxu = params['Wxu']\n",
        "    Wxf = params['Wxf']\n",
        "    Wxo = params['Wxo']\n",
        "\n",
        "    Whc = params['Whc']\n",
        "    Whu = params['Whu']\n",
        "    Whf = params['Whf']\n",
        "    Who = params['Who']\n",
        "\n",
        "    bc = params['bc']\n",
        "    bu = params['bu']\n",
        "    bf = params['bf']\n",
        "    bo = params['bo']\n",
        "\n",
        "    #Why = params['Why']\n",
        "    #by = params['by']\n",
        "\n",
        "    # caches for forward pass\n",
        "\n",
        "    xs, hs, cs, c_tildes = {}, {}, {}, {}\n",
        "\n",
        "    gamma_us, gamma_fs, gamma_os = {}, {}, {}\n",
        "\n",
        "    hs[-1] = jnp.tile(hprev,(1,mini_batch_size))\n",
        "    cs[-1] = jnp.tile(cprev,(1,mini_batch_size))\n",
        "\n",
        "    for t in range(seq_length):\n",
        "        xs[t] = jnp.zeros((vocab_size,mini_batch_size))\n",
        "\n",
        "        xs[t] = xs[t].at[inputs[:,t],jnp.arange(mini_batch_size)].set(1) # batch of one-hot vectors for time t\n",
        "\n",
        "        zc = jnp.dot(Wxc,xs[t]) + jnp.dot(Whc,hs[t-1]) + bc  # linear activation for candidate cell state C~\n",
        "        zu = jnp.dot(Wxu,xs[t]) + jnp.dot(Whu,hs[t-1]) + bu  # linear activation for update gate\n",
        "        zf = jnp.dot(Wxf,xs[t]) + jnp.dot(Whf,hs[t-1]) + bf  # linear activation for forget gate\n",
        "        zo = jnp.dot(Wxo,xs[t]) + jnp.dot(Who,hs[t-1]) + bo  # linear activation for output gate\n",
        "\n",
        "        c_tildes[t] = jnp.tanh(zc) # canidate for new c state\n",
        "\n",
        "        gamma_us[t] = sigmoid(zu)\n",
        "        gamma_fs[t] = sigmoid(zf)\n",
        "        gamma_os[t] = sigmoid(zo)\n",
        "\n",
        "        cs[t] = jnp.tanh(jnp.multiply(c_tildes[t],gamma_us[t]) + jnp.multiply(cs[t-1],gamma_fs[t]))  # tanh here is import!!!\n",
        "\n",
        "        hs[t] = jnp.multiply(cs[t],gamma_os[t]) # hidden state\n",
        "\n",
        "    gates = (gamma_us,gamma_fs,gamma_os)\n",
        "\n",
        "    states = (xs,hs,cs,c_tildes)\n",
        "\n",
        "    return states, gates\n",
        "\n",
        "def loss_function(targets,hidden_states,Why,by):\n",
        "    '''\n",
        "    hidden_states - dict of LSTM activations from last LSTM layer\n",
        "    '''\n",
        "\n",
        "    mini_batch_size=targets.shape[0]\n",
        "    seq_length = targets.shape[1]\n",
        "\n",
        "    ys, ps = {},{}\n",
        "\n",
        "    loss = 0\n",
        "\n",
        "    for t in range(seq_length):\n",
        "\n",
        "        ys[t] = jnp.dot(Why, hidden_states[t]) + by # unnormalized log probabilities for next chars\n",
        "\n",
        "        ps[t] = softmax(ys[t]) # probabilities for next chars  #  ps[t] should be shape (vocab_size,mini_batch_size)\n",
        "\n",
        "        loss += jnp.mean(jnp.log(jnp.sum(jnp.exp(ys[t]),axis=0)) - ys[t][targets[:,t],jnp.arange(mini_batch_size)])\n",
        "        #loss += -jnp.mean(jnp.log(ps[t][targets[:,t],jnp.arange(mini_batch_size)]))\n",
        "\n",
        "    p_cache = (ys,ps)\n",
        "\n",
        "    return loss, p_cache\n",
        "\n"
      ]
    },
    {
      "cell_type": "code",
      "execution_count": 10,
      "metadata": {
        "id": "UxIUNno4oiKU"
      },
      "outputs": [],
      "source": [
        "h = jnp.zeros((hidden_size,1))\n",
        "c = jnp.zeros((hidden_size,1))\n",
        "\n",
        "s_cache, g_cache = lstm_forward(inp,h,c,params)\n",
        "\n",
        "h_states = s_cache[1]\n",
        "\n",
        "test_loss,p_cache = loss_function(targ,h_states,params['Why'],params['by'])"
      ]
    },
    {
      "cell_type": "code",
      "execution_count": 11,
      "metadata": {
        "colab": {
          "base_uri": "https://localhost:8080/"
        },
        "id": "2WrNAE9ao4fO",
        "outputId": "ef1d4d99-b0c4-4cf4-973d-84cd5d1aecc9"
      },
      "outputs": [
        {
          "output_type": "execute_result",
          "data": {
            "text/plain": [
              "Array(32.58093, dtype=float32)"
            ]
          },
          "metadata": {},
          "execution_count": 11
        }
      ],
      "source": [
        "test_loss"
      ]
    },
    {
      "cell_type": "code",
      "execution_count": 12,
      "metadata": {
        "colab": {
          "base_uri": "https://localhost:8080/"
        },
        "id": "H6uPaSKyrW5A",
        "outputId": "f6325e0e-f9f5-4bc9-ace9-5d06c5844ad4"
      },
      "outputs": [
        {
          "output_type": "stream",
          "name": "stdout",
          "text": [
            "<class 'tuple'> 2\n",
            "<class 'tuple'> 3\n",
            "<class 'tuple'> 4\n"
          ]
        }
      ],
      "source": [
        "print(type(p_cache),len(p_cache))\n",
        "print(type(g_cache),len(g_cache))\n",
        "print(type(s_cache),len(s_cache))"
      ]
    },
    {
      "cell_type": "code",
      "execution_count": 13,
      "metadata": {
        "colab": {
          "base_uri": "https://localhost:8080/"
        },
        "id": "saQwgUaCpHTx",
        "outputId": "f63056b8-0865-4487-f47a-f7ff4246968b"
      },
      "outputs": [
        {
          "output_type": "stream",
          "name": "stdout",
          "text": [
            "162 ms ± 19.2 ms per loop (mean ± std. dev. of 7 runs, 1 loop each)\n"
          ]
        }
      ],
      "source": [
        "%timeit lstm_forward(inp,h,c,params)"
      ]
    },
    {
      "cell_type": "code",
      "execution_count": 14,
      "metadata": {
        "colab": {
          "base_uri": "https://localhost:8080/"
        },
        "id": "yIRyLFTvpaia",
        "outputId": "eaa6c502-016e-4ed6-e4f5-e659ae6584b4"
      },
      "outputs": [
        {
          "output_type": "stream",
          "name": "stdout",
          "text": [
            "871 µs ± 267 µs per loop (mean ± std. dev. of 7 runs, 1000 loops each)\n"
          ]
        }
      ],
      "source": [
        "lstm_forward_jit = jit(lstm_forward)\n",
        "\n",
        "#warmup\n",
        "lstm_forward_jit(inp,h,c,params)\n",
        "\n",
        "%timeit lstm_forward_jit(inp,h,c,params)"
      ]
    },
    {
      "cell_type": "code",
      "execution_count": 15,
      "metadata": {
        "id": "M9URF-wmqYhY"
      },
      "outputs": [],
      "source": [
        "\n",
        "def lstm_backward(targets,probs_cache,gates_cache,states_cache,params):\n",
        "    '''\n",
        "    backward pass of the LSTM\n",
        "\n",
        "    return gradients for all parameters\n",
        "    '''\n",
        "    #unpack caches\n",
        "\n",
        "    ys,ps = probs_cache\n",
        "\n",
        "    gamma_us,gamma_fs,gamma_os = gates_cache\n",
        "\n",
        "    xs,hs,cs,c_tildes = states_cache\n",
        "\n",
        "    # dims\n",
        "    mini_batch_size = targets.shape[0]\n",
        "    seq_length = targets.shape[1]\n",
        "\n",
        "    hidden_size = hs[-1].shape[0]\n",
        "\n",
        "    vocab_size = params['Wxc'].shape[1]\n",
        "\n",
        "    # unpack parameters\n",
        "\n",
        "    Wxc = params['Wxc']\n",
        "    Wxu = params['Wxu']\n",
        "    Wxf = params['Wxf']\n",
        "    Wxo = params['Wxo']\n",
        "\n",
        "    Whc = params['Whc']\n",
        "    Whu = params['Whu']\n",
        "    Whf = params['Whf']\n",
        "    Who = params['Who']\n",
        "\n",
        "    bc = params['bc']\n",
        "    bu = params['bu']\n",
        "    bf = params['bf']\n",
        "    bo = params['bo']\n",
        "\n",
        "    Why = params['Why']\n",
        "    by = params['by']\n",
        "\n",
        "    #initialize gradients to zero\n",
        "\n",
        "    dWxc,dWxu,dWxf,dWxo = jnp.zeros_like(Wxc), jnp.zeros_like(Wxu), jnp.zeros_like(Wxf), jnp.zeros_like(Wxo)\n",
        "    dWhc,dWhu,dWhf,dWho = jnp.zeros_like(Whc), jnp.zeros_like(Whu), jnp.zeros_like(Whf), jnp.zeros_like(Who)\n",
        "    dbc,dbu,dbf,dbo = jnp.zeros_like(bc), jnp.zeros_like(bu), jnp.zeros_like(bf), jnp.zeros_like(bo)\n",
        "    dWhy,dby = jnp.zeros_like(Why), jnp.zeros_like(by)\n",
        "\n",
        "    # tmp variables to accumulate gradients over the backprop -- see differentiation graph\n",
        "    dhnext, dcnext = jnp.zeros_like(hs[0]), jnp.zeros_like(cs[0])\n",
        "\n",
        "    #backward pass\n",
        "\n",
        "    for t in reversed(range(seq_length)):\n",
        "        dy = jnp.copy(ps[t])\n",
        "\n",
        "        dy = dy.at[targets[:,t],jnp.arange(mini_batch_size)].add(-1) #backprop into y\n",
        "\n",
        "        dWhy += jnp.dot(dy, hs[t].T)\n",
        "        dby += jnp.sum(dy,axis=1,keepdims=True)\n",
        "\n",
        "        dh = jnp.dot(Why.T, dy) + dhnext # backprop into h\n",
        "\n",
        "        dc = jnp.multiply((1-cs[t]**2),jnp.multiply(gamma_os[t],dh) + dcnext) #backprop into c\n",
        "\n",
        "        dcnext = jnp.multiply(gamma_fs[t],dc)\n",
        "\n",
        "        dzc = jnp.multiply((1-c_tildes[t]**2),jnp.multiply(gamma_us[t],dc))  # backprop through tanh\n",
        "\n",
        "        dzu = jnp.multiply(gamma_us[t]*(1-gamma_us[t]),jnp.multiply(c_tildes[t],dc))  # sigmoid prime\n",
        "\n",
        "        dzf = jnp.multiply(gamma_fs[t]*(1-gamma_fs[t]),jnp.multiply(cs[t-1],dc))\n",
        "\n",
        "        dzo = jnp.multiply(gamma_os[t]*(1-gamma_os[t]),jnp.multiply(cs[t],dh))\n",
        "\n",
        "        dbc += jnp.sum(dzc,axis=1,keepdims=True)\n",
        "        dbu += jnp.sum(dzu,axis=1,keepdims=True)\n",
        "        dbf += jnp.sum(dzf,axis=1,keepdims=True)\n",
        "        dbo += jnp.sum(dzo,axis=1,keepdims=True)\n",
        "\n",
        "        dWhc += jnp.dot(dzc,hs[t-1].T)\n",
        "        dWhu += jnp.dot(dzu,hs[t-1].T)\n",
        "        dWhf += jnp.dot(dzf,hs[t-1].T)\n",
        "        dWho += jnp.dot(dzo,hs[t-1].T)\n",
        "\n",
        "        dWxc += jnp.dot(dzc,xs[t].T)\n",
        "        dWxu += jnp.dot(dzu,xs[t].T)\n",
        "        dWxf += jnp.dot(dzf,xs[t].T)\n",
        "        dWxo += jnp.dot(dzo,xs[t].T)\n",
        "\n",
        "        # four contributions to dhnext,one from each gate\n",
        "        dhnext = jnp.dot(Whc.T,dzc) + jnp.dot(Whu.T,dzu) + jnp.dot(Whf.T,dzf) + jnp.dot(Who.T,dzo)\n",
        "\n",
        "    grads = dict()\n",
        "\n",
        "    grads['Wxc']=dWxc\n",
        "    grads['Wxu']=dWxu\n",
        "    grads['Wxf']=dWxf\n",
        "    grads['Wxo']=dWxo\n",
        "\n",
        "    grads['Whc']=dWhc\n",
        "    grads['Whu']=dWhu\n",
        "    grads['Whf']=dWhf\n",
        "    grads['Who']=dWho\n",
        "\n",
        "    grads['bc']=dbc\n",
        "    grads['bu']=dbu\n",
        "    grads['bf']=dbf\n",
        "    grads['bo']=dbo\n",
        "\n",
        "    grads['Why']=dWhy\n",
        "    grads['by']=dby\n",
        "\n",
        "    for parameter in grads.keys():\n",
        "        grads[parameter] = jnp.clip(grads[parameter], -5, 5) # clip to mitigate exploding gradients\n",
        "\n",
        "    return grads"
      ]
    },
    {
      "cell_type": "code",
      "execution_count": 16,
      "metadata": {
        "colab": {
          "base_uri": "https://localhost:8080/"
        },
        "id": "aFjznK680ytU",
        "outputId": "859ca225-bbd5-4759-9e6e-eb009f71acc9"
      },
      "outputs": [
        {
          "output_type": "stream",
          "name": "stdout",
          "text": [
            "<class 'dict'> 14\n"
          ]
        }
      ],
      "source": [
        "grads_test = lstm_backward(targ,p_cache,g_cache,s_cache,params)\n",
        "\n",
        "print(type(grads_test),len(grads_test))"
      ]
    },
    {
      "cell_type": "code",
      "execution_count": 32,
      "metadata": {
        "id": "y4-IR4i6u4G5"
      },
      "outputs": [],
      "source": [
        "\n",
        "def sgd_step_adam(current_step,inputs,targets,h,c,params,grads_mems,sqrd_mems,beta1,beta2,learning_rate):\n",
        "\n",
        "    # dims\n",
        "    mini_batch_size = inputs.shape[0]\n",
        "    seq_length = inputs.shape[1]\n",
        "\n",
        "    hidden_size = h.shape[0]\n",
        "\n",
        "    vocab_size = params['Wxc'].shape[1]\n",
        "\n",
        "    n = current_step\n",
        "\n",
        "    #forward pass\n",
        "    s_cache, g_cache = lstm_forward(inputs,h,c,params)\n",
        "\n",
        "    loss, p_cache = loss_function(targets,s_cache[1],params['Why'],params['by'])\n",
        "    \n",
        "    #need hs, cs\n",
        "\n",
        "    xs,hs,cs,c_tildes = s_cache\n",
        "\n",
        "    #h_next = jnp.mean(hs[seq_length-1],axis=1,keepdims=True)\n",
        "    #c_next = jnp.mean(cs[seq_length-1],axis=1,keepdims=True)\n",
        "\n",
        "    h_next = jnp.expand_dims(hs[seq_length-1][:,-1],1)\n",
        "    c_next = jnp.expand_dims(cs[seq_length-1][:,-1],1)\n",
        "\n",
        "    new_params = deepcopy(params)\n",
        "\n",
        "    new_mems1 = deepcopy(grads_mems)\n",
        "    new_mems2 = deepcopy(sqrd_mems)\n",
        "\n",
        "    #backward pass\n",
        "    grads = lstm_backward(targets,p_cache,g_cache,s_cache,params)\n",
        "\n",
        "    # perform parameter update with ADAM \n",
        "    for parameter in new_params.keys():\n",
        "\n",
        "        dparam = grads[parameter] / mini_batch_size\n",
        "\n",
        "        new_mems1[parameter] = beta1*new_mems1[parameter] + (1-beta1)*dparam\n",
        "\n",
        "        new_mems2[parameter] = beta2*new_mems2[parameter] + (1-beta2)*dparam*dparam\n",
        "\n",
        "        grad_hat = new_mems1[parameter] / (1-beta1**(n+1))\n",
        "        sqrd_hat = new_mems2[parameter] / (1-beta2**(n+1))\n",
        "\n",
        "        new_params[parameter] += -learning_rate * grad_hat / (jnp.sqrt(sqrd_hat + 1e-8)) # ADAM update\n",
        "\n",
        "    params_cache = (new_params,new_mems1,new_mems2)\n",
        "\n",
        "    hidden_cache = (h_next,c_next)\n",
        "    \n",
        "    return loss, params_cache, hidden_cache"
      ]
    },
    {
      "cell_type": "code",
      "execution_count": 29,
      "metadata": {
        "id": "cfHeUnxT-NxV"
      },
      "outputs": [],
      "source": [
        "def sample(seed_ix, n, key, hidden_cache, params):\n",
        "    \"\"\"\n",
        "    sample a sequence of integers from the model\n",
        "    h is memory state, seed_ix is seed letter for first time step\n",
        "    \"\"\"\n",
        "\n",
        "    h = hidden_cache[0]\n",
        "    c = hidden_cache[1]\n",
        "\n",
        "    Wxc = params['Wxc']\n",
        "    Wxu = params['Wxu']\n",
        "    Wxf = params['Wxf']\n",
        "    Wxo = params['Wxo']\n",
        "\n",
        "    Whc = params['Whc']\n",
        "    Whu = params['Whu']\n",
        "    Whf = params['Whf']\n",
        "    Who = params['Who']\n",
        "\n",
        "    bc = params['bc']\n",
        "    bu = params['bu']\n",
        "    bf = params['bf']\n",
        "    bo = params['bo']\n",
        "\n",
        "    Why = params['Why']\n",
        "    by = params['by']\n",
        "\n",
        "    vocab_size = Wxc.shape[1]\n",
        "\n",
        "    x = jnp.zeros((vocab_size, 1))\n",
        "    x = x.at[seed_ix].set(1)\n",
        "    ixes = []\n",
        "    for t in range(n):\n",
        "\n",
        "        zc = jnp.dot(Wxc,x) + jnp.dot(Whc,h) + bc  # linear activation for candidate cell state C~\n",
        "        zu = jnp.dot(Wxu,x) + jnp.dot(Whu,h) + bu  # linear activation for update gate\n",
        "        zf = jnp.dot(Wxf,x) + jnp.dot(Whf,h) + bf  # linear activation for forget gate\n",
        "        zo = jnp.dot(Wxo,x) + jnp.dot(Who,h) + bo  # linear activation for output gate\n",
        "\n",
        "        c_tilde = jnp.tanh(zc)\n",
        "\n",
        "        gamma_u = sigmoid(zu)\n",
        "        gamma_f = sigmoid(zf)\n",
        "        gamma_o = sigmoid(zo)\n",
        "\n",
        "        c = jnp.tanh(jnp.multiply(c_tilde,gamma_u) + jnp.multiply(c,gamma_f))\n",
        "\n",
        "        h = jnp.multiply(c,gamma_o) # hidden state\n",
        "\n",
        "        y = jnp.dot(Why, h) + by\n",
        "\n",
        "        p = softmax(y)\n",
        "\n",
        "        key,subkey = random.split(key)  #use key to split, subkey for next random number\n",
        "\n",
        "        ix = random.choice(subkey,vocab_size,p=p.reshape(-1,))\n",
        "\n",
        "        x = jnp.zeros((vocab_size, 1))\n",
        "        x = x.at[ix].set(1)\n",
        "\n",
        "        ixes.append(int(ix))\n",
        "\n",
        "    return ixes\n",
        "\n",
        "def validation_loss(inputs,targets,h,c,params):\n",
        "\n",
        "    s_cache, _ = lstm_forward(inputs,h,c,params)\n",
        "\n",
        "    h_states = s_cache[1]\n",
        "\n",
        "    val_loss, _ = loss_function(targets,h_states,params['Why'],params['by'])\n",
        "\n",
        "    return val_loss"
      ]
    },
    {
      "cell_type": "code",
      "execution_count": 34,
      "metadata": {
        "id": "4tm0YeJQ0Cod"
      },
      "outputs": [],
      "source": [
        "sgd_step_adam_jit = jit(sgd_step_adam)\n",
        "\n",
        "validation_loss_jit = jit(validation_loss)\n",
        "\n",
        "def train_character_lstm(seq_length,hidden_size,mini_batch_size,learning_rate,total_steps,steps_sample_freq,initial_key,training_data,validation_data=None):\n",
        "    '''\n",
        "    fingers crossed!\n",
        "    '''\n",
        "\n",
        "    #unique characters in the data set\n",
        "    chars = set(list(training_data))\n",
        "    vocab_size = len(chars)\n",
        "\n",
        "    #character encoding\n",
        "    char_to_ix = {ch:i for i,ch in enumerate(chars)}\n",
        "    ix_to_char = {i:ch for i,ch in enumerate(chars)}\n",
        "\n",
        "    # initialize data generators\n",
        "    training_generator = get_mini_batch(mini_batch_size,seq_length,char_to_ix,training_data)\n",
        "    if validation_data:\n",
        "       validation_generator = get_mini_batch(mini_batch_size,seq_length,char_to_ix,validation_data)\n",
        "\n",
        "    #current training step counter\n",
        "    n = 0\n",
        "\n",
        "    #initialize the model weight matrices\n",
        "    params_cache = initialize_weights(initial_key,hidden_size,vocab_size)\n",
        "\n",
        "    #keep list of loss each training step\n",
        "    \n",
        "    step_list = [0]\n",
        "\n",
        "    tau = len(training_data) / (mini_batch_size * seq_length)\n",
        "\n",
        "    alpha = jnp.exp(-4/tau).item()\n",
        "\n",
        "    print(f'tau: {tau} alpha: {alpha}')\n",
        "\n",
        "    smooth_loss = -jnp.log(1.0/vocab_size)*seq_length\n",
        "\n",
        "    train_losses,smooth_losses,val_losses = [smooth_loss],[smooth_loss],[smooth_loss]\n",
        "\n",
        "    last_epoch = 0\n",
        "\n",
        "    h_next,c_next = jnp.zeros((hidden_size,1)), jnp.zeros((hidden_size,1))\n",
        "\n",
        "    key = initial_key\n",
        "\n",
        "    sample_size = 200\n",
        "\n",
        "    sample_ix = [0]*sample_size\n",
        "\n",
        "    while n < total_steps:\n",
        "          \n",
        "          inputs,targets,current_epoch = next(training_generator)\n",
        "\n",
        "          if current_epoch > last_epoch:\n",
        "\n",
        "             last_epoch = current_epoch\n",
        "             \n",
        "             h_next,c_next = jnp.zeros((hidden_size,1)),jnp.zeros((hidden_size,1))\n",
        "          \n",
        "          current_loss, params_cache, hidden_cache = sgd_step_adam_jit(current_step=n,\n",
        "                                                     inputs=inputs,\n",
        "                                                     targets=targets,\n",
        "                                                     h=h_next,\n",
        "                                                     c=c_next,\n",
        "                                                     params=params_cache[0],\n",
        "                                                     grads_mems=params_cache[1],\n",
        "                                                     sqrd_mems=params_cache[2],\n",
        "                                                     beta1=0.9,\n",
        "                                                     beta2=0.999,\n",
        "                                                     learning_rate=learning_rate)\n",
        "          \n",
        "          \n",
        "          \n",
        "          smooth_loss = alpha*smooth_loss + (1-alpha)*current_loss\n",
        "\n",
        "          #unpack hidden_cache so hidden states passed to next sgd step\n",
        "\n",
        "          #makes big difference to performance, instead of zeroing h and c every batch... \n",
        "          h_next,c_next = hidden_cache\n",
        "\n",
        "          # sample from the model now and then\n",
        "          if n % steps_sample_freq == 0:\n",
        "             key,subkey=random.split(key) #key to split, subkey to gen next random sample\n",
        "\n",
        "             sample_ix = sample(sample_ix[-1],sample_size,subkey,hidden_cache,params_cache[0])\n",
        "\n",
        "             txt = ''.join(ix_to_char[ix] for ix in sample_ix)\n",
        "             txt_wrap = wrap(txt,80)\n",
        "             txt_wrap = [line.center(100) for line in txt_wrap]\n",
        "             txt = '\\n'.join(txt_wrap)  # \\n aren't in the character set so wrap text to make readable\n",
        "\n",
        "             print('----\\n %s \\n----' % (txt,))\n",
        "\n",
        "             print(f'Step n: {n}\\t Epoch: {current_epoch}')\n",
        "\n",
        "             print(f'Train Current: {current_loss:.4f}\\tTrain Smoothed: {smooth_loss:.4f}')\n",
        "\n",
        "             step_list.append(n)\n",
        "             train_losses.append(current_loss)\n",
        "             smooth_losses.append(smooth_loss)\n",
        "\n",
        "             #compute_validation_loss\n",
        "             if validation_generator:\n",
        "                inputs_val,targets_val,val_epoch = next(validation_generator)\n",
        "\n",
        "                val_loss = validation_loss_jit(inputs_val,targets_val,h=h_next,c=c_next,params=params_cache[0])\n",
        "\n",
        "                print(f'Val Current: {val_loss:.4f}') \n",
        "\n",
        "                val_losses.append(val_loss)       \n",
        "\n",
        "          n+=1\n",
        "\n",
        "    history = (step_list,smooth_losses,train_losses,val_losses)\n",
        "\n",
        "    return history, params_cache, hidden_cache"
      ]
    },
    {
      "cell_type": "code",
      "source": [
        "12.75/32.58"
      ],
      "metadata": {
        "colab": {
          "base_uri": "https://localhost:8080/"
        },
        "id": "3AP-8VALOSkx",
        "outputId": "3667d9b1-18dc-41bc-f4bb-e6d32e12c562"
      },
      "execution_count": 20,
      "outputs": [
        {
          "output_type": "execute_result",
          "data": {
            "text/plain": [
              "0.39134438305709024"
            ]
          },
          "metadata": {},
          "execution_count": 20
        }
      ]
    },
    {
      "cell_type": "code",
      "execution_count": 35,
      "metadata": {
        "colab": {
          "base_uri": "https://localhost:8080/"
        },
        "id": "zqn98JR26NIi",
        "outputId": "3b52c780-3bb7-4fa7-c86a-7c8c4fde38b0"
      },
      "outputs": [
        {
          "output_type": "stream",
          "name": "stdout",
          "text": [
            "tau: 325.0 alpha: 0.98776775598526\n",
            "----\n",
            "           ewxgrflbdbupejpjyamkqjapymwbjjbiqxcdhwhusgywjitofbmnncmmjwuecgyecwslywhlyawjpjik          \n",
            "          anxsosvtaahcczeaoapnwdzjpjumjlbswggurpbucwyvfezqlsohjnrtzaspbubwumwieijxvpjoodnv          \n",
            "                              gdenfppuohwfwzqokvcqfhozutsioanwfinpsurk                               \n",
            "----\n",
            "Step n: 0\t Epoch: 0\n",
            "Train Current: 32.5813\tTrain Smoothed: 32.5810\n",
            "Val Current: 32.5692\n",
            "----\n",
            "           lmnopqrstuvwxyzabcdefghijklmnopqrstuvwxyzabcdefghijklmnopqrstuvwxyzabcdefghijklm          \n",
            "          nopqrstuvwxyzabcdefghijklmnopqrstuvwxyzabcdefghijklmnopqrstuvwxyzabcdefghijklmno          \n",
            "                              pqrstuvwxyzabcdefghijklmnopqrstuvwxyzabc                               \n",
            "----\n",
            "Step n: 250\t Epoch: 0\n",
            "Train Current: 0.0442\tTrain Smoothed: 2.4042\n",
            "Val Current: 0.0839\n",
            "----\n",
            "           defghijklmnopqrstuvwxxyzabcdhijklmnopqrstuvwxyzabcdefghijklmnopqrstuvwxyzabcdefg          \n",
            "          hijklmnopqrstuvwxyzabcdefghijklmnopqrstuvwxyzabcdefghijklmnopqrstuvwxyzabcdefghi          \n",
            "                              jklmnopqrstuvwxyzabcdefghijklmnopqrstuvw                               \n",
            "----\n",
            "Step n: 500\t Epoch: 1\n",
            "Train Current: 0.0121\tTrain Smoothed: 0.1269\n",
            "Val Current: 0.0482\n",
            "----\n",
            "           xyzabcdefghijklmnopqrstuvwxyzabcdefghijklmnopqrstuvwxyzabcdefghijklmnopqrstuvwxy          \n",
            "          zabcdefghijklmnopqrstuvwxyzabcdefghijklmnopqrstuvwxyzabcdefghijklmnopqrstuvwxyza          \n",
            "                              bcdefghijklmnopqrstuvwxyzabcdefghijklmno                               \n",
            "----\n",
            "Step n: 750\t Epoch: 2\n",
            "Train Current: 0.0061\tTrain Smoothed: 0.0129\n",
            "Val Current: 0.0473\n",
            "----\n",
            "           pqrstuvwxyzabcdefghijklmnopqrstuvwxyzabcdefghijklmnopqrstuvwxyzabcdefghijklmnopq          \n",
            "          rstuvwxyzabcdefghijklmnopqrstuvwxyzabcdefghijklmnopqrstuvwxyzabcdefghijklmnopqrs          \n",
            "                              tuvwxyzabcdefghijklmnopqrstuvwxyzabcdefg                               \n",
            "----\n",
            "Step n: 1000\t Epoch: 3\n",
            "Train Current: 0.0033\tTrain Smoothed: 0.0048\n",
            "Val Current: 0.0402\n",
            "----\n",
            "           hijklmnopqrstuvwxyzabcdefghijklmnopqrstuvwxyzabcdefghijklmnopqrstuvwxyzabcdefghi          \n",
            "          jklmnopqrstuvwxyzabcdefghijklmnopqrstuvwxyzabcdefghijklmnopqrstuvwxyzabcdefghijk          \n",
            "                              lmnopqrstuvwxyzabcdefghijklmnopqrstuvwxy                               \n",
            "----\n",
            "Step n: 1250\t Epoch: 3\n",
            "Train Current: 0.0028\tTrain Smoothed: 0.0028\n",
            "Val Current: 0.0237\n",
            "----\n",
            "           zabcdefghijklmnopqrstuvwxyzabcdefghijklmnopqrstuvwxyzabcdefghijklmnopqrstuvwxyza          \n",
            "          bcdefghijklmnopqrstuvwxyzabcdefghijklmnopqrstuvwxyzabcdefghijklmnopqrstuvwxyzabc          \n",
            "                              defghijklmnopqrstuvwxyzabcdefghijklmnopq                               \n",
            "----\n",
            "Step n: 1500\t Epoch: 4\n",
            "Train Current: 0.0016\tTrain Smoothed: 0.0019\n",
            "Val Current: 0.0156\n",
            "----\n",
            "           rstuvwxyzabcdefghijklmnopqrstuvwxyzabcdefghijklmnopqrstuvwxyzabcdefghijklmnopqrs          \n",
            "          tuvwxyzabcdefghijklmnopqrstuvwxyzabcdefghijklmnopqrstuvwxyzabcdefghijklmnopqrstu          \n",
            "                              vwxyzabcdefghijklmnopqrstuvwxyzabcdefghi                               \n",
            "----\n",
            "Step n: 1750\t Epoch: 5\n",
            "Train Current: 0.0012\tTrain Smoothed: 0.0014\n",
            "Val Current: 0.0135\n",
            "----\n",
            "           jklmnopqrstuvwxyzabcdefghijklmnopqrstuvwxyzabcdefghijklmnopqrstuvwxyzabcdefghijk          \n",
            "          lmnopqrstuvwxyzabcdefghijklmnopqrstuvwxyzabcdefghijklmnopqrstuvwxyzabcdefghijklm          \n",
            "                              nopqrstuvwxyzabcdefghijklmnopqrstuvwxyza                               \n",
            "----\n",
            "Step n: 2000\t Epoch: 6\n",
            "Train Current: 0.0009\tTrain Smoothed: 0.0011\n",
            "Val Current: 0.0182\n",
            "----\n",
            "           bcdefghijklmnopqrstuvwxyzabcdefghijklmnopqrstuvwxyzabcdefghijklmnopqrstuvwxyzabc          \n",
            "          defghijklmnopqrstuvwxyzabcdefghijklmnopqrstuvwxyzabcdefghijklmnopqrstuvwxyzabcde          \n",
            "                              fghijklmnopqrstuvwxyzabcdefghijklmnopqrs                               \n",
            "----\n",
            "Step n: 2250\t Epoch: 6\n",
            "Train Current: 0.0007\tTrain Smoothed: 0.0008\n",
            "Val Current: 0.0121\n",
            "----\n",
            "           tuvwxyzabcdefghijklmnopqrstuvwxyzabcdefghijklmnopqrstuvwxyzabcdefghijklmnopqrstu          \n",
            "          vwxyzabcdefghijklmnopqrstuvwxyzabcdefghijklmnopqrstuvwxyzabcdefghijklmnopqrstuvw          \n",
            "                              xyzabcdefghijklmnopqrstuvwxyzabcdefghijk                               \n",
            "----\n",
            "Step n: 2500\t Epoch: 7\n",
            "Train Current: 0.0006\tTrain Smoothed: 0.0007\n",
            "Val Current: 0.0105\n",
            "----\n",
            "           lmnopqrstuvwxyzabcdefghijklmnopqrstuvwxyzabcdefghijklmnopqrstuvwxyzabcdefghijklm          \n",
            "          nopqrstuvwxyzabcdefghijklmnopqrstuvwxyzabcdefghijklmnopqrstuvwxyzabcdefghijklmno          \n",
            "                              pqrstuvwxyzabcdefghijklmnopqrstuvwxyzabc                               \n",
            "----\n",
            "Step n: 2750\t Epoch: 8\n",
            "Train Current: 0.0005\tTrain Smoothed: 0.0005\n",
            "Val Current: 0.0114\n",
            "----\n",
            "           defghijklmnopqrstuvwxyzabcdefghijklmnopqrstuvwxyzabcdefghijklmnopqrstuvwxyzabcde          \n",
            "          fghijklmnopqrstuvwxyzabcdefghijklmnopqrstuvwxyzabcdefghijklmnopqrstuvwxyzabcdefg          \n",
            "                              hijklmnopqrstuvwxyzabcdefghijklmnopqrstu                               \n",
            "----\n",
            "Step n: 3000\t Epoch: 9\n",
            "Train Current: 0.0004\tTrain Smoothed: 0.0005\n",
            "Val Current: 0.0090\n",
            "----\n",
            "           vwxyzabcdefghijklmnopqrstuvwxyzabcdefghijklmnopqrstuvwxyzabcdefghijklmnopqrstuvw          \n",
            "          xyzabcdefghijklmnopqrstuvwxyzabcdefghijklmnopqrstuvwxyzabcdefghijklmnopqrstuvwxy          \n",
            "                              zabcdefghijklmnopqrstuvwxyzabcdefghijklm                               \n",
            "----\n",
            "Step n: 3250\t Epoch: 10\n",
            "Train Current: 0.0003\tTrain Smoothed: 0.0004\n",
            "Val Current: 0.0162\n",
            "----\n",
            "           nopqrstuvwxyzabcdefghijklmnopqrstuvwxyzabcdefghijklmnopqrstuvwxyzabcdefghijklmno          \n",
            "          pqrstuvwxyzabcdefghijklmnopqrstuvwxyzabcdefghijklmnopqrstuvwxyzabcdefghijklmnopq          \n",
            "                              rstuvwxyzabcdefghijklmnopqrstuvwxyzabcde                               \n",
            "----\n",
            "Step n: 3500\t Epoch: 10\n",
            "Train Current: 0.0003\tTrain Smoothed: 0.0003\n",
            "Val Current: 0.0056\n",
            "----\n",
            "           fghijklmnopqrstuvwxyzabcdefghijklmnopqrstuvwxyzabcdefghijklmnopqrstuvwxyzabcdefg          \n",
            "          hijklmnopqrstuvwxyzabcdefghijklmnopqrstuvwxyzabcdefghijklmnopqrstuvwxyzabcdefghi          \n",
            "                              jklmnopqrstuvwxyzabcdefghijklmnopqrstuvw                               \n",
            "----\n",
            "Step n: 3750\t Epoch: 11\n",
            "Train Current: 0.0002\tTrain Smoothed: 0.0003\n",
            "Val Current: 0.0092\n"
          ]
        }
      ],
      "source": [
        "mykey = random.PRNGKey(1)\n",
        "\n",
        "seq_length = 10\n",
        "hidden_size = 32\n",
        "mini_batch_size = 16\n",
        "\n",
        "train_data = training_data\n",
        "val_data = training_data[513:]\n",
        "\n",
        "history,out_params,out_hidden = train_character_lstm(                  \n",
        "                                  seq_length=seq_length,\n",
        "                                  hidden_size=hidden_size,\n",
        "                                  mini_batch_size=mini_batch_size,\n",
        "                                  learning_rate=0.01,\n",
        "                                  total_steps=4000,\n",
        "                                  steps_sample_freq=250,\n",
        "                                  initial_key=mykey,\n",
        "                                  training_data=train_data,\n",
        "                                  validation_data=val_data)                "
      ]
    },
    {
      "cell_type": "code",
      "source": [
        "import matplotlib.pyplot as plt\n",
        "\n",
        "import numpy as np\n",
        "\n",
        "def plot_training_history(history,mini_batch_size,seq_length,training_length,plot_smooth=False,plot_val=True):\n",
        "\n",
        "    step_list,smooth_losses,train_losses,val_losses = history\n",
        "\n",
        "    fig,ax = plt.subplots(figsize=(10,6))\n",
        "\n",
        "    t_list = np.array(step_list)\n",
        "\n",
        "    t_list = t_list * mini_batch_size * seq_length / training_length\n",
        "\n",
        "    train_log_loss = np.log10(np.array(train_losses))\n",
        "\n",
        "    if plot_smooth:\n",
        "       smooth_log_loss = np.log10(np.array(smooth_losses))\n",
        "       ax.plot(t_list,smooth_log_loss,'bo-')\n",
        "\n",
        "    ax.plot(t_list,train_log_loss,'go-')\n",
        "\n",
        "    if len(val_losses)==len(step_list) and plot_val:\n",
        "       val_log_loss = np.log10(np.array(val_losses))\n",
        "\n",
        "       ax.plot(t_list,val_log_loss,'ro-')\n",
        "\n",
        "    ax.set_ylabel('$Log_{10}(L)$')\n",
        "    ax.set_xlabel('Epochs')\n",
        "\n",
        "    plt.show()"
      ],
      "metadata": {
        "id": "8u4x8mh3YfIZ"
      },
      "execution_count": 36,
      "outputs": []
    },
    {
      "cell_type": "code",
      "source": [
        "plot_training_history(history,\n",
        "                      mini_batch_size,\n",
        "                      seq_length,\n",
        "                      len(training_data),\n",
        "                      plot_smooth=True,\n",
        "                      plot_val=True)"
      ],
      "metadata": {
        "colab": {
          "base_uri": "https://localhost:8080/",
          "height": 542
        },
        "id": "-IZoPwacZcd6",
        "outputId": "1e7750db-8a54-4bd1-97de-86acfbf477c7"
      },
      "execution_count": 37,
      "outputs": [
        {
          "output_type": "display_data",
          "data": {
            "text/plain": [
              "<Figure size 1000x600 with 1 Axes>"
            ],
            "image/png": "[encoded data removed]"
          },
          "metadata": {}
        }
      ]
    },
    {
      "cell_type": "code",
      "execution_count": 38,
      "metadata": {
        "colab": {
          "base_uri": "https://localhost:8080/"
        },
        "id": "IRb-QXmT8X-4",
        "outputId": "81c1190f-82f7-4053-a4a5-4e1c5067d250"
      },
      "outputs": [
        {
          "output_type": "stream",
          "name": "stdout",
          "text": [
            "73 unique characters\n",
            "Training has 740442 total characters\n",
            "Validation has 130667 total characters\n",
            "LSTM with 128 hidden units\n",
            "Single layer LSTM has 112841 total parameters\n",
            "Will train on character sequences of length 100\n",
            "\n",
            "Training data sample: \n",
            "\n",
            "               ide, At once a virgin, and at once a bride! No more with presents her                \n",
            "               embraces meet, Or lay the spoils of conquest at her feet, On whom his                \n",
            "                    passion, lavish of his store, Bestow’d so much, and vainly p                    \n",
            "\n"
          ]
        }
      ],
      "source": [
        "import re\n",
        "\n",
        "with open('illiad_clean.txt','r') as file:\n",
        "  text_data = file.read()\n",
        "\n",
        "text_data = re.sub(r\"\\[.\\]\",\" \",text_data)\n",
        "\n",
        "text_data = re.sub(r\"[^a-zA-Z0-9.,?!:;“”'`’ ]+\", \" \", text_data)\n",
        "\n",
        "text_data = re.sub(r\"[\\s]+\",\" \",text_data)\n",
        "\n",
        "train_split = 0.85\n",
        "n_train = int(len(text_data)*train_split)\n",
        "\n",
        "training_data = text_data[:n_train]\n",
        "validation_data = text_data[n_train:]\n",
        "\n",
        "chars = set(list(training_data))\n",
        "\n",
        "vocab_size = len(chars)\n",
        "\n",
        "char_to_ix = {ch:i for i,ch in enumerate(chars)}\n",
        "ix_to_char = {i:ch for i,ch in enumerate(chars)}\n",
        "\n",
        "print(f'{vocab_size} unique characters')\n",
        "print(f'Training has {len(training_data)} total characters')\n",
        "print(f'Validation has {len(validation_data)} total characters')\n",
        "\n",
        "seq_length = 100\n",
        "hidden_size = 128\n",
        "\n",
        "total_params = 5 * hidden_size * vocab_size + 4 * hidden_size**2 + 4 * hidden_size + vocab_size\n",
        "\n",
        "print(f'LSTM with {hidden_size} hidden units')\n",
        "print(f'Single layer LSTM has {total_params} total parameters')\n",
        "print(f'Will train on character sequences of length {seq_length}')\n",
        "print()\n",
        "txt = wrap(training_data[len(training_data)//2:(len(training_data)//2)+200])\n",
        "txt = [line.center(100) for line in txt]\n",
        "txt = '\\n'.join(txt)\n",
        "print('Training data sample: \\n')\n",
        "print(txt)\n",
        "print()"
      ]
    },
    {
      "cell_type": "code",
      "execution_count": 39,
      "metadata": {
        "colab": {
          "base_uri": "https://localhost:8080/"
        },
        "id": "CsqhhSKiEnuV",
        "outputId": "0ca666a3-177d-4556-b5d0-53e8d0f420a6"
      },
      "outputs": [
        {
          "output_type": "stream",
          "name": "stdout",
          "text": [
            "tau: 231.388125 alpha: 0.9828615784645081\n",
            "----\n",
            "           ”kqmd'Ja0!1pU7p7ugNFQrgMyH4arrP5ZnIiM4X1bmuV7vo6'aW88”NW7k1U;mlU;4K3lVM3lgk7Er5.          \n",
            "                  9YxbBKeoL9h;IfcgR9yYk0SjEr,H73PKVzL dEa,I4T“CUSZu?6hr8GoO9bEP aV                  \n",
            "                      WVvcvjn“pj6R0YemwsYCyp,6hVCkOQ6eDI’'MRm1obvBgAkCvApb dF                        \n",
            "----\n",
            "Step n: 0\t Epoch: 0\n",
            "Train Current: 429.0423\tTrain Smoothed: 429.0459\n",
            "Val Current: 427.1728\n",
            "----\n",
            "             urdaed The cirmondinctulce bee ere. Whe caast, Hucea sh tog dy thedsn shas,             \n",
            "            shaand an sryetht  innthe: 3e Code fand thine stuace Ir the, wit wime hinge             \n",
            "                          fumnen miret wpeene all Rich shitr bethus, dous:                           \n",
            "----\n",
            "Step n: 100\t Epoch: 0\n",
            "Train Current: 242.8136\tTrain Smoothed: 294.9543\n",
            "Val Current: 233.6759\n",
            "----\n",
            "              Ajay damks mal stat’f the Hhis’d. Hemmus of stor’d, OjAms, And wat a deids             \n",
            "           reage. In ullrod wing o opbe, and al al in blainis stan’t, pian thu cofe al a            \n",
            "                           rn! , the stoan Bud toud, cengh and for blarol                            \n",
            "----\n",
            "Step n: 200\t Epoch: 0\n",
            "Train Current: 206.2303\tTrain Smoothed: 228.5225\n",
            "Val Current: 209.5213\n",
            "----\n",
            "            ien walle so con hrulps leal’s, Bytowed arg had. So what knouns, mo lathe the            \n",
            "          ngafce, Fir’d! With Greugh the strast loses troe Ulforg shries TorXn’s of flay,           \n",
            "                             the hir goreath godes’d rate the shirctes                               \n",
            "----\n",
            "Step n: 300\t Epoch: 1\n",
            "Train Current: 191.2792\tTrain Smoothed: 204.2284\n",
            "Val Current: 200.2447\n",
            "----\n",
            "              undeafk daventel: Strenm of careed Grouid, Grgores bedears, the fiold. Nor             \n",
            "           heand, Their shesting preperarour touth mank below, whenkvers this ejan loult            \n",
            "                          thu wertasuroble stroush I drook, Appere, to he                            \n",
            "----\n",
            "Step n: 400\t Epoch: 1\n",
            "Train Current: 176.2686\tTrain Smoothed: 188.4037\n",
            "Val Current: 184.2448\n",
            "----\n",
            "             tise crowfel quitaerce stance the strecs Ajrce fort conday con thive. To the            \n",
            "          disginitt alont the jodeus his molet the sgored. A speel, nount known, formm of           \n",
            "                            whake uppille bronger art hor, to lenchior’                              \n",
            "----\n",
            "Step n: 500\t Epoch: 2\n",
            "Train Current: 173.4071\tTrain Smoothed: 180.9481\n",
            "Val Current: 172.7461\n",
            "----\n",
            "             d, nich!” Haks THE ENTIRIRT For in the ferect, Ills firs, And, to now this,             \n",
            "           thuins, the tarist has manior clow But careaty, Carrim loots theil henor from            \n",
            "                           the warus Atredy, arour, and youth, from just                             \n",
            "----\n",
            "Step n: 600\t Epoch: 2\n",
            "Train Current: 166.7294\tTrain Smoothed: 171.6843\n",
            "Val Current: 172.4331\n",
            "----\n",
            "           IUVAOOK’K THE MOCSIT COLEAND This till to on the roarnd flamest read.” Thy cance          \n",
            "           vain; wito and sprinms. Nir her call fell, Forle thy gad, Strooss aconylies to           \n",
            "                              the scoyst seas: Noppopedy shall thight                                \n",
            "----\n",
            "Step n: 700\t Epoch: 3\n",
            "Train Current: 164.7195\tTrain Smoothed: 166.6951\n",
            "Val Current: 167.2278\n",
            "----\n",
            "                O flax’ddes in then stand By adflode; Agage gofts worsh the field: Let               \n",
            "           countreders, and dread to Jove onat fordite, Thy unpresent a dress’d, But days           \n",
            "                         ploud, and give crattly spereftion, Id my tarks ac                          \n",
            "----\n",
            "Step n: 800\t Epoch: 3\n",
            "Train Current: 156.8886\tTrain Smoothed: 162.3294\n",
            "Val Current: 161.4663\n",
            "----\n",
            "               edent, in the mistan purcle, Comenales encembler’d, and goll’d of fatian              \n",
            "          sfautians, alpheus not, aid the masedes’ feld him or fall wounder of chame. The           \n",
            "                          heady all thes, prows: Not of silkens suncest o                            \n",
            "----\n",
            "Step n: 900\t Epoch: 3\n",
            "Train Current: 166.2063\tTrain Smoothed: 157.8223\n",
            "Val Current: 162.8258\n",
            "----\n",
            "           k you, godding youth in soce ensoft, thou to the swill a mon of now, stees, and           \n",
            "          comged the generous brothering conquess in. The phout to I beauteful nembes the           \n",
            "                              hand: “Ye A tail the powers and breath f                               \n",
            "----\n",
            "Step n: 1000\t Epoch: 4\n",
            "Train Current: 156.6933\tTrain Smoothed: 155.2914\n",
            "Val Current: 166.7597\n",
            "----\n",
            "              deise alout, as Pyleal’d wide two breast, a know’d to dincess to his fates:            \n",
            "          “That sumulgent, nat spulden bleets a ship, be fear, Be lark Greagen he vem the           \n",
            "                            Trojan dreadful at the mank. No flies, Dier                              \n",
            "----\n",
            "Step n: 1100\t Epoch: 4\n",
            "Train Current: 150.1749\tTrain Smoothed: 152.2957\n",
            "Val Current: 164.9007\n",
            "----\n",
            "           eplust and woan! Melish’d ceed; Spriads rolls The valies and us fire, thit, hard          \n",
            "          And sire them angien, The limbs each arts, more of the swarling form the godless          \n",
            "                               of the perpuse bly hand, And ondee cam                                \n",
            "----\n",
            "Step n: 1200\t Epoch: 5\n",
            "Train Current: 144.2165\tTrain Smoothed: 151.3277\n",
            "Val Current: 148.5587\n",
            "----\n",
            "                to goddes who warch disconsuated he fight! The drick; On Cartion blood;              \n",
            "          unithled strien’d the battled like to slain; This fight my war. Graushund of new          \n",
            "                           roy the blows, and such the bebly o’er the pon                            \n",
            "----\n",
            "Step n: 1300\t Epoch: 5\n",
            "Train Current: 147.5369\tTrain Smoothed: 148.3058\n",
            "Val Current: 167.3809\n",
            "----\n",
            "             ng eighty spear, His ample drew To mussems too ear the eggasting chainch to             \n",
            "            shore. With embatal will my unwillen prizen rivels to the mails, the hosting            \n",
            "                          gives The rose, And man! mones eys a gods the b                            \n",
            "----\n",
            "Step n: 1400\t Epoch: 6\n",
            "Train Current: 140.9378\tTrain Smoothed: 147.2908\n",
            "Val Current: 147.8931\n",
            "----\n",
            "             ry glory only to the tentred fage at ard his bupt prowing shathergus of rest            \n",
            "             arms beceur’d the rage Sprung harge A righting fear! Wethess of stoom’d he             \n",
            "                          colles as his skies: “From his his views of the                            \n",
            "----\n",
            "Step n: 1500\t Epoch: 6\n",
            "Train Current: 134.0778\tTrain Smoothed: 145.7816\n",
            "Val Current: 147.5812\n",
            "----\n",
            "           batterigs, and the inarpet forte.” The admists, disdaim the mils, tham burncuid           \n",
            "             spoistly fury loss, and burns of yields at the mighty I fear If Bore, and              \n",
            "                           Stryalusure destents his assistass voice with                             \n",
            "----\n",
            "Step n: 1600\t Epoch: 6\n",
            "Train Current: 139.7514\tTrain Smoothed: 144.3169\n",
            "Val Current: 152.0062\n",
            "----\n",
            "            she proscend; Deien edhe Greeks opposed: High heroes add to should to the gods           \n",
            "              his sunce aray, And toils of baried, with the gose the curns the golsing              \n",
            "                          sorrough his peace shall load: thy chief sharge                            \n",
            "----\n",
            "Step n: 1700\t Epoch: 7\n",
            "Train Current: 142.1661\tTrain Smoothed: 143.2993\n",
            "Val Current: 152.4698\n",
            "----\n",
            "            fameous heart, deadong stood and make my spipid friert away, Unwell, The blat,           \n",
            "            As you which hastest clashing fleets debate; No in Lecheas, the slarthe, and            \n",
            "                            imputeant fillest and tremble combats stands                             \n",
            "----\n",
            "Step n: 1800\t Epoch: 7\n",
            "Train Current: 137.4248\tTrain Smoothed: 141.4590\n",
            "Val Current: 148.0444\n",
            "----\n",
            "             from whom eternal lord! if seeks, succeed. Amanst from he gadless heirst san            \n",
            "          their acting gods; The from me then shall, abodes him, with weys from Troy with           \n",
            "                             thet, whom fair mipplear! him in their foe                              \n",
            "----\n",
            "Step n: 1900\t Epoch: 8\n",
            "Train Current: 134.5126\tTrain Smoothed: 142.1342\n",
            "Val Current: 148.2036\n"
          ]
        }
      ],
      "source": [
        "mykey = random.PRNGKey(1)\n",
        "\n",
        "mini_batch_size = 32\n",
        "\n",
        "total_steps = 2000\n",
        "\n",
        "history,out_params,out_hidden = train_character_lstm(                  \n",
        "                                  seq_length=seq_length,\n",
        "                                  hidden_size=hidden_size,\n",
        "                                  mini_batch_size=mini_batch_size,\n",
        "                                  learning_rate=0.01,\n",
        "                                  total_steps=total_steps,\n",
        "                                  steps_sample_freq=100,\n",
        "                                  initial_key=mykey,\n",
        "                                  training_data=training_data,\n",
        "                                  validation_data=validation_data)     "
      ]
    },
    {
      "cell_type": "code",
      "execution_count": 40,
      "metadata": {
        "colab": {
          "base_uri": "https://localhost:8080/",
          "height": 542
        },
        "id": "6bo7iM2-EuMr",
        "outputId": "b33ab2d2-09da-4824-87c2-54b103661be9"
      },
      "outputs": [
        {
          "output_type": "display_data",
          "data": {
            "text/plain": [
              "<Figure size 1000x600 with 1 Axes>"
            ],
            "image/png": "[encoded data removed]"
          },
          "metadata": {}
        }
      ],
      "source": [
        "plot_training_history(history,\n",
        "                      mini_batch_size,\n",
        "                      seq_length,\n",
        "                      len(training_data),\n",
        "                      plot_smooth=True,\n",
        "                      plot_val=True)"
      ]
    },
    {
      "cell_type": "code",
      "source": [
        "mykey = random.PRNGKey(1)\n",
        "\n",
        "seq_length = 100\n",
        "\n",
        "hidden_size = 256\n",
        "\n",
        "mini_batch_size = 32\n",
        "\n",
        "total_steps = 2000\n",
        "\n",
        "history,out_params,out_hidden = train_character_lstm(                  \n",
        "                                  seq_length=seq_length,\n",
        "                                  hidden_size=hidden_size,\n",
        "                                  mini_batch_size=mini_batch_size,\n",
        "                                  learning_rate=0.01,\n",
        "                                  total_steps=total_steps,\n",
        "                                  steps_sample_freq=100,\n",
        "                                  initial_key=mykey,\n",
        "                                  training_data=training_data,\n",
        "                                  validation_data=validation_data)  "
      ],
      "metadata": {
        "colab": {
          "base_uri": "https://localhost:8080/"
        },
        "id": "qF8GIaXhodUq",
        "outputId": "424478b0-6aba-4d08-a1aa-0dd3655b0f16"
      },
      "execution_count": 41,
      "outputs": [
        {
          "output_type": "stream",
          "name": "stdout",
          "text": [
            "tau: 231.388125 alpha: 0.9828615784645081\n",
            "----\n",
            "           ”kqmd'Ja0!1pU7p7ugNFQrgMyH4arrP5ZnIiM4X1bmuV7vo6'aW88”NW7k1U;mlU;4K3lVM3lgk7Er5.          \n",
            "                  9YxbBKeoL9h;IfcgR9yYk0SjEr,H73PKVzL dEa,I4T“CUSZu?6hr8GoO9bEP aV                  \n",
            "                      WVvcvjY“pj6R0YemwsYCyp,6hVCkOQ6eDI’'MRm1obvBgAkCvApb dF                        \n",
            "----\n",
            "Step n: 0\t Epoch: 0\n",
            "Train Current: 429.0448\tTrain Smoothed: 429.0459\n",
            "Val Current: 426.8568\n",
            "----\n",
            "           urraeve Eneis Nond. mo paenste cies fonttsest, Hus fuipy sat he peage shas, I fa          \n",
            "            cost, eyd pre cood afa goftiet; And on brevesd wed the and congsolt feralans            \n",
            "                             trettond, and ay thenl shitr be plall thea                              \n",
            "----\n",
            "Step n: 100\t Epoch: 0\n",
            "Train Current: 229.6520\tTrain Smoothed: 282.8393\n",
            "Val Current: 221.3626\n",
            "----\n",
            "              rorth refterse, In. aC the Ohres Pare: The feed con asd fel desids to the              \n",
            "          gedreads, re lont and foo The Thee seltel with and sore! th thed the piefe blos           \n",
            "                           nos our clain! the the shorcd. Therd; For at h                            \n",
            "----\n",
            "Step n: 200\t Epoch: 0\n",
            "Train Current: 184.6224\tTrain Smoothed: 211.3749\n",
            "Val Current: 189.2104\n",
            "----\n",
            "            s on Hich surkn’d, Myle unguid, The mainst tha’s soun Priew yow, and spoke of            \n",
            "           tasmanous wite Sarm thit shiold with thy sand; She Hece shound himpings cumps,           \n",
            "                            Royesly pertes of lea. In fow the shire aga                              \n",
            "----\n",
            "Step n: 300\t Epoch: 1\n",
            "Train Current: 168.5134\tTrain Smoothed: 184.0535\n",
            "Val Current: 183.1113\n",
            "----\n",
            "           l insfire; His hands bland? Stern’d the blood: As lack and gods and art; expire.          \n",
            "            Furse he senks; Theue from his owns! I awrow stord’d in the god the hungre,             \n",
            "                            wrong! the black he trect thus his ships he                              \n",
            "----\n",
            "Step n: 400\t Epoch: 1\n",
            "Train Current: 157.7037\tTrain Smoothed: 167.1797\n",
            "Val Current: 166.1413\n",
            "----\n",
            "             nian sweefs inclo!e.” The warrior strength the futerer keurs Apploy from the            \n",
            "           joist of celsile west, all his golding ste! resent, And Meniluctions you trm 3           \n",
            "                            stoke who all her eternal shor otch bur alce                             \n",
            "----\n",
            "Step n: 500\t Epoch: 2\n",
            "Train Current: 151.5361\tTrain Smoothed: 159.7109\n",
            "Val Current: 154.9131\n",
            "----\n",
            "           s, Ajax; Agamampgus, to in the rectile mand; The warms, To roply springs, Muchur          \n",
            "          a pure of the has give, not all the stattlems remoul treacks, Even terroclus ’s           \n",
            "                              prize a host? Peluged, thou may waved w                                \n",
            "----\n",
            "Step n: 600\t Epoch: 2\n",
            "Train Current: 149.5995\tTrain Smoothed: 151.5361\n",
            "Val Current: 153.2814\n",
            "----\n",
            "             IQUG6s Lag gree; So of condient I next to thind? By some offies not we lite             \n",
            "           slack as again: So bring Withovery slain, With pridy on heaven: In immortall,            \n",
            "                           and bent the heaven’s amel the hew, the prayer                            \n",
            "----\n",
            "Step n: 700\t Epoch: 3\n",
            "Train Current: 142.7457\tTrain Smoothed: 147.3960\n",
            "Val Current: 152.3806\n",
            "----\n",
            "              ale morest on his breast, Blesse thee naving javelin flies; Not two moon’d             \n",
            "          predain, Her chief, and suvers till they pluin her chooct of man, our watch, the          \n",
            "                            wa loved debate, The prayer; Within of sacre                             \n",
            "----\n",
            "Step n: 800\t Epoch: 3\n",
            "Train Current: 140.2234\tTrain Smoothed: 144.1871\n",
            "Val Current: 151.0682\n",
            "----\n",
            "              scend, And yet their host risf great deartest son, the war Thus eager are              \n",
            "          Callimns, a hpendering banding gize; Inimb a prerends: But prince, ge nater, and          \n",
            "                           soptill’d Agholions: Nor of Greeces known the                             \n",
            "----\n",
            "Step n: 900\t Epoch: 3\n",
            "Train Current: 149.4106\tTrain Smoothed: 140.6279\n",
            "Val Current: 150.0362\n",
            "----\n",
            "           s uplong reprion, whose sons compassion, in the Greeks by woulder dust. If gives          \n",
            "           the earth aburn’d, and such a strengte digated phood to bear; Stappeous bends.           \n",
            "                              Em of exploy, In vustures, In voice of H                               \n",
            "----\n",
            "Step n: 1000\t Epoch: 4\n",
            "Train Current: 139.9137\tTrain Smoothed: 138.8190\n",
            "Val Current: 154.8128\n",
            "----\n",
            "            is site thy arms; and all Agritated innorter’d through the fates Mingagenemus,           \n",
            "            Once f lew Illustrat her decrers aloud To fight This tired now struct tching            \n",
            "                            porten’d as from Jove. He seeze along the G                              \n",
            "----\n",
            "Step n: 1100\t Epoch: 4\n",
            "Train Current: 133.5969\tTrain Smoothed: 136.4370\n",
            "Val Current: 155.2932\n",
            "----\n",
            "           rounded corvosem he, vulgar domes, and council, such a swarrets first th Epoyfus          \n",
            "           in his arms Withe mourn’d his greating trust the skies, be pier?” To next thy            \n",
            "                             day, The plain vanquish’d powers, ” His f                               \n",
            "----\n",
            "Step n: 1200\t Epoch: 5\n",
            "Train Current: 129.5362\tTrain Smoothed: 135.8757\n",
            "Val Current: 137.6685\n",
            "----\n",
            "             were bound. Their wonted is for all friend? And lift: O’essend, ye join obey,           \n",
            "          Fierce at the brazen ere the dart, And pours despains Or on my hotour power our           \n",
            "                             quivering strand” “Gods and Forcect follo                               \n",
            "----\n",
            "Step n: 1300\t Epoch: 5\n",
            "Train Current: 132.8429\tTrain Smoothed: 133.1561\n",
            "Val Current: 160.0704\n",
            "----\n",
            "             ment with summits descends, unhe blade! Not cated the Grecians and declare;             \n",
            "          Polrects withous fly the monster aids, 290 The thire with many the solter canse           \n",
            "                            of yield, Ot thou my paid bespare and son. S                             \n",
            "----\n",
            "Step n: 1400\t Epoch: 6\n",
            "Train Current: 127.4827\tTrain Smoothed: 132.4193\n",
            "Val Current: 139.0957\n",
            "----\n",
            "            of Troy, By ARGUMENT, THE AROSS BOOK VI., ’Tid, the slain he recall on wnich’d           \n",
            "          the sacred tired by Hector’s rage let pessuestans age, and brave Nestor willied           \n",
            "                              fillow a freen ? Tho delient Greeks the                                \n",
            "----\n",
            "Step n: 1500\t Epoch: 6\n",
            "Train Current: 121.1511\tTrain Smoothed: 131.1877\n",
            "Val Current: 138.9676\n",
            "----\n",
            "              ambush from the libble half: The flying care HoMend attentor’s flies: And              \n",
            "            venish’d tran taught, as sweeping grows, With a courage given Ofe toss’d in             \n",
            "                         arms: the tells the gods, with steeds! it not in a                          \n",
            "----\n",
            "Step n: 1600\t Epoch: 6\n",
            "Train Current: 127.1068\tTrain Smoothed: 129.8055\n",
            "Val Current: 143.4954\n",
            "----\n",
            "             s with air of crown eryted by the wide foe. With earth retire, 136 To urged             \n",
            "             brings the limbs, Minerva’s charge the deathless arms, encourte’s powerful             \n",
            "                         march’d the tends the slaughter’d his Greeks agai                           \n",
            "----\n",
            "Step n: 1700\t Epoch: 7\n",
            "Train Current: 129.0202\tTrain Smoothed: 128.8658\n",
            "Val Current: 145.6421\n",
            "----\n",
            "               ss’d to heaps, confiding round the flock; thy almighty man of death, The              \n",
            "            appleater to the fits. Scarcest all.” He stood; Panal denging Pylinn’s tent,            \n",
            "                         Ex’d the pierced appears: Whom words emplow’d at o                          \n",
            "----\n",
            "Step n: 1800\t Epoch: 7\n",
            "Train Current: 123.6505\tTrain Smoothed: 127.3665\n",
            "Val Current: 140.7424\n",
            "----\n",
            "            oged by laze assern Their fierces, which is immortal braushes hear. Deise call           \n",
            "          the skining arms. The midster theees what afflicty flies: They cauround the main          \n",
            "                              from Apalamidon how a fapoced without th                               \n",
            "----\n",
            "Step n: 1900\t Epoch: 8\n",
            "Train Current: 122.1700\tTrain Smoothed: 127.9270\n",
            "Val Current: 143.0875\n"
          ]
        }
      ]
    },
    {
      "cell_type": "code",
      "source": [
        "plot_training_history(history,\n",
        "                      mini_batch_size,\n",
        "                      seq_length,\n",
        "                      len(training_data),\n",
        "                      plot_smooth=True,\n",
        "                      plot_val=True)"
      ],
      "metadata": {
        "colab": {
          "base_uri": "https://localhost:8080/",
          "height": 542
        },
        "id": "AXzkFCJwpkuC",
        "outputId": "3a84ef52-fec1-43ec-c952-fd0b58520459"
      },
      "execution_count": 42,
      "outputs": [
        {
          "output_type": "display_data",
          "data": {
            "text/plain": [
              "<Figure size 1000x600 with 1 Axes>"
            ],
            "image/png": "[encoded data removed]"
          },
          "metadata": {}
        }
      ]
    },
    {
      "cell_type": "code",
      "source": [
        "\n",
        "key = random.PRNGKey(7)\n",
        "\n",
        "sample_size = 2000\n",
        "\n",
        "key,subkey=random.split(key) #use key to get next key, subkey for random number\n",
        "\n",
        "sample_ix = sample(12,sample_size,subkey,out_hidden,out_params[0])"
      ],
      "metadata": {
        "id": "zuYRhpuAqcZj"
      },
      "execution_count": 43,
      "outputs": []
    },
    {
      "cell_type": "code",
      "source": [
        "txt = ''.join(ix_to_char[ix] for ix in sample_ix)\n",
        "txt_wrap = wrap(txt,80)\n",
        "txt_wrap = [line.center(100) for line in txt_wrap]\n",
        "txt = '\\n'.join(txt_wrap)  # \\n aren't in the character set so wrap text to make readable\n",
        "\n",
        "print('----\\n %s \\n----' % (txt,))"
      ],
      "metadata": {
        "colab": {
          "base_uri": "https://localhost:8080/"
        },
        "id": "y5KR9Lz1yLsg",
        "outputId": "37d0310e-baf8-47ad-9e31-d770f5649516"
      },
      "execution_count": 44,
      "outputs": [
        {
          "output_type": "stream",
          "name": "stdout",
          "text": [
            "----\n",
            "            jent in war, What coursers fell not that has breathed in the prowess, Such old           \n",
            "          encouch’d Him went controld, No wobliks of the charm’d around the battle stands,          \n",
            "          Now all that held, is moved! ’eis that important ponders of the valiant lambs on          \n",
            "           odiot dart, And spreads, and each was his most, O thick not ’vanceristhen for            \n",
            "          some war’s soothous share his arms, with match’d in bleedled mind: By Teriphus,           \n",
            "          and the sigep in solid might; With golden glad each altarsent, though restentle           \n",
            "            of war on hast: And Pleas has wing’d in battle son beent; He insign’d their             \n",
            "          heart; Behold, O Nestor and sons and Ajacem; in fail to renonged and death; The           \n",
            "            foe.” Then thus the weight beast the heaven; Loud in the firlowing Greek and            \n",
            "             hour, And’s weep the hy shuns, up those devouring through their conquest,              \n",
            "              bless’d the changed with heaven, a celt. Men thus, that won he lies from              \n",
            "             Alcidintus the same. Pelides each obound, And thy procraim the throng deep             \n",
            "          Though wounded Hecence gods. Beneath the sleep, and due loud Ascation quepitated          \n",
            "           piercing Trojan steed; He dues, Its safety, and refulgt, and sought The hander           \n",
            "            of my checked by with woons are might: From him the children crush, a combat            \n",
            "            watch’d and loud sustainful, Peleus’  Cease of the nxurtious free,, Are what            \n",
            "           Ajax steel of helent fields, By an a ven the grazen hand, nor such humand o’er           \n",
            "          him or of Cleopour, Whate’er with endatus a, the mighty shower. From Cymomed the          \n",
            "          ranks of Bact ass blood the ponderous slanguined; O Ph bus, and in valour fall;           \n",
            "          But headlong have his own. Steither to commands, and bough the sad, And thus the          \n",
            "           fight: And this what guard the fleet! revices unknown, And life of terrors and           \n",
            "           enormous streptout of delight; But Hector’s fury flew the shame; Like rags he            \n",
            "          cast a that offerious obey.” Theill all, At least, and while a tower. Jovellusks          \n",
            "            awey repress’d his beauterous offspring rage could points you hear? Advised             \n",
            "           their father of in olenching. Shed die to war Delightusious and amaid: Dropp’d           \n",
            "                               his some fur, by the plintle round, Pe                                \n",
            "----\n"
          ]
        }
      ]
    },
    {
      "cell_type": "code",
      "source": [
        "\n"
      ],
      "metadata": {
        "id": "ruQhIMd1yZ2x"
      },
      "execution_count": null,
      "outputs": []
    }
  ],
  "metadata": {
    "accelerator": "GPU",
    "colab": {
      "provenance": []
    },
    "gpuClass": "standard",
    "kernelspec": {
      "display_name": "Python 3",
      "name": "python3"
    },
    "language_info": {
      "name": "python"
    }
  },
  "nbformat": 4,
  "nbformat_minor": 0
}