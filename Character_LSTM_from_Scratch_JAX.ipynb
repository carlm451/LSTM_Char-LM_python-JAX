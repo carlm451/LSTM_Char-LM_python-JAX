{
  "nbformat": 4,
  "nbformat_minor": 0,
  "metadata": {
    "colab": {
      "provenance": []
    },
    "kernelspec": {
      "name": "python3",
      "display_name": "Python 3"
    },
    "language_info": {
      "name": "python"
    },
    "accelerator": "GPU",
    "gpuClass": "standard"
  },
  "cells": [
    {
      "cell_type": "code",
      "execution_count": 1,
      "metadata": {
        "id": "OD2YpM0yclp0"
      },
      "outputs": [],
      "source": [
        "import jax.numpy as jnp\n",
        "from jax import grad, jit, vmap\n",
        "from jax import random\n",
        "\n",
        "from textwrap import wrap\n",
        "\n",
        "from copy import deepcopy"
      ]
    },
    {
      "cell_type": "code",
      "source": [
        "training_data = 'abcdefghijklmnopqrstuvwxyz'*200\n",
        "\n",
        "chars = set(list(training_data))\n",
        "\n",
        "vocab_size = len(chars)\n",
        "\n",
        "char_to_ix = {ch:i for i,ch in enumerate(chars)}\n",
        "ix_to_char = {i:ch for i,ch in enumerate(chars)}\n",
        "\n",
        "print(f'{vocab_size} unique characters')\n",
        "print(f'{len(training_data)} total characters')"
      ],
      "metadata": {
        "colab": {
          "base_uri": "https://localhost:8080/"
        },
        "id": "Pf1oQlfWdPEV",
        "outputId": "b9f8a812-a5e4-4ba6-d70b-0c2f3eef1808"
      },
      "execution_count": 2,
      "outputs": [
        {
          "output_type": "stream",
          "name": "stdout",
          "text": [
            "26 unique characters\n",
            "5200 total characters\n"
          ]
        }
      ]
    },
    {
      "cell_type": "code",
      "source": [
        "hidden_size = 30\n",
        "\n",
        "seq_length = 10\n",
        "\n",
        "print(f'LSTM with {hidden_size} hidden units')\n",
        "print(f'Will train on character sequences of length {seq_length}')\n",
        "print()\n",
        "txt = wrap(training_data[len(training_data)//2:(len(training_data)//2)+200])\n",
        "txt = [line.center(100) for line in txt]\n",
        "txt = '\\n'.join(txt)\n",
        "print('Training data sample: \\n')\n",
        "print(sample)\n",
        "print()"
      ],
      "metadata": {
        "colab": {
          "base_uri": "https://localhost:8080/"
        },
        "id": "lVYosrYdc6GU",
        "outputId": "65541a7a-9739-4ffc-8e4e-4f3d95c83adb"
      },
      "execution_count": 39,
      "outputs": [
        {
          "output_type": "stream",
          "name": "stdout",
          "text": [
            "LSTM with 30 hidden units\n",
            "Will train on character sequences of length 10\n",
            "\n",
            "Training data sample: \n",
            "\n",
            "                 e forceful dart Sung on, and pierced Amphimachus’s heart, Cteatus’                 \n",
            "                son, of Neptune’s forceful line; Vain was his courage, and his race                 \n",
            "                 divine! Prostrate he falls; his clanging arms resound, And his br                  \n",
            "\n"
          ]
        }
      ]
    },
    {
      "cell_type": "code",
      "source": [
        "def initialize_weights(key,n_h,n_x):\n",
        "    \n",
        "    subkeys=random.split(key)\n",
        "\n",
        "    params = dict()\n",
        "\n",
        "    params['Wxc'] = random.normal(subkeys[0],(n_h,n_x))*0.01 # input to cell state\n",
        "    params['Wxu'] = random.normal(subkeys[1],(n_h,n_x))*0.01 # input to update\n",
        "    params['Wxf'] = random.normal(subkeys[2],(n_h,n_x))*0.01 # input to forget\n",
        "    params['Wxo'] = random.normal(subkeys[3],(n_h,n_x))*0.01 # input to output\n",
        "\n",
        "    params['bc'] = jnp.zeros((n_h, 1)) # hidden bias\n",
        "    params['bu'] = jnp.zeros((n_h, 1)) # forget bias\n",
        "    params['bf'] = jnp.zeros((n_h, 1)) # update bias\n",
        "    params['bo'] = jnp.zeros((n_h, 1)) # output bias\n",
        "\n",
        "    params['Whc'] = random.normal(subkeys[4],(n_h,n_h))*0.01 # hidden to cell\n",
        "    params['Whu'] = random.normal(subkeys[5],(n_h,n_h))*0.01 # hidden to update\n",
        "    params['Whf'] = random.normal(subkeys[6],(n_h,n_h))*0.01 # hidden to forget\n",
        "    params['Who'] = random.normal(subkeys[7],(n_h,n_h))*0.01 # hidden to output\n",
        "\n",
        "    params['Why'] = random.normal(subkeys[8],(n_x,n_h))*0.01 # hidden to output\n",
        "    params['by'] = jnp.zeros((n_x, 1)) # output bias\n",
        "\n",
        "    grad_mems = dict()\n",
        "    sqrd_mems = dict()\n",
        "\n",
        "    for parameter in params.keys():\n",
        "\n",
        "        shape = params[parameter].shape\n",
        "\n",
        "        grad_mems[parameter]=jnp.zeros(shape)\n",
        "        sqrd_mems[parameter]=jnp.zeros(shape)\n",
        "\n",
        "    return params, grad_mems, sqrd_mems"
      ],
      "metadata": {
        "id": "wVrhDpOidnkE"
      },
      "execution_count": 4,
      "outputs": []
    },
    {
      "cell_type": "code",
      "source": [
        "start_key = random.PRNGKey(0)\n",
        "\n",
        "params,grad_mems,sqrd_mems = initialize_weights(start_key,hidden_size,vocab_size)\n",
        "\n",
        "print(params.keys())\n",
        "print(jnp.mean(params['Wxc']))\n",
        "print(jnp.mean(grad_mems['Wxc']))\n",
        "print(jnp.mean(sqrd_mems['Wxc']))"
      ],
      "metadata": {
        "colab": {
          "base_uri": "https://localhost:8080/"
        },
        "id": "NtiIlmbjfRYj",
        "outputId": "78d95c38-e479-43fd-8701-9dc5baba1276"
      },
      "execution_count": 5,
      "outputs": [
        {
          "output_type": "stream",
          "name": "stdout",
          "text": [
            "dict_keys(['Wxc', 'Wxu', 'Wxf', 'Wxo', 'bc', 'bu', 'bf', 'bo', 'Whc', 'Whu', 'Whf', 'Who', 'Why', 'by'])\n",
            "-0.0005330194\n",
            "0.0\n",
            "0.0\n"
          ]
        }
      ]
    },
    {
      "cell_type": "code",
      "source": [
        "def get_mini_batch(mini_batch_size,seq_length,char_to_ix,data):\n",
        "    '''\n",
        "    generator to continuous loop the data and pull out mini batches\n",
        "    '''\n",
        "    p = 0\n",
        "\n",
        "    batch_character_size = mini_batch_size*(seq_length)\n",
        "\n",
        "    while True:\n",
        "\n",
        "        if p+batch_character_size+1>=len(data):\n",
        "            p=0\n",
        "\n",
        "            # need to reset hprev,cprev if it loops?\n",
        "\n",
        "        inputs,targets = [],[]\n",
        "\n",
        "        for _ in range(mini_batch_size):\n",
        "\n",
        "            inputs.append([char_to_ix[ch] for ch in data[p:p+seq_length]])\n",
        "            targets.append([char_to_ix[ch] for ch in data[p+1:p+seq_length+1]])\n",
        "\n",
        "            p += seq_length\n",
        "\n",
        "        inputs = jnp.array(inputs)\n",
        "        targets = jnp.array(targets)\n",
        "\n",
        "        yield inputs,targets"
      ],
      "metadata": {
        "id": "nfih6PcffY4S"
      },
      "execution_count": 6,
      "outputs": []
    },
    {
      "cell_type": "code",
      "source": [
        "batch_gen = get_mini_batch(4,seq_length,char_to_ix,training_data)\n",
        "\n",
        "inp,targ = next(batch_gen)\n",
        "\n",
        "display(inp,targ)"
      ],
      "metadata": {
        "colab": {
          "base_uri": "https://localhost:8080/",
          "height": 156
        },
        "id": "CDlL1PFOio0A",
        "outputId": "7b7f2b46-604c-4879-e830-3b0b04a15cf1"
      },
      "execution_count": 7,
      "outputs": [
        {
          "output_type": "display_data",
          "data": {
            "text/plain": [
              "Array([[19, 17,  8, 13,  7, 21,  3,  6,  2,  0],\n",
              "       [15, 20, 16, 14, 11,  9, 25, 22, 10, 23],\n",
              "       [24,  4,  5, 12,  1, 18, 19, 17,  8, 13],\n",
              "       [ 7, 21,  3,  6,  2,  0, 15, 20, 16, 14]], dtype=int32)"
            ]
          },
          "metadata": {}
        },
        {
          "output_type": "display_data",
          "data": {
            "text/plain": [
              "Array([[17,  8, 13,  7, 21,  3,  6,  2,  0, 15],\n",
              "       [20, 16, 14, 11,  9, 25, 22, 10, 23, 24],\n",
              "       [ 4,  5, 12,  1, 18, 19, 17,  8, 13,  7],\n",
              "       [21,  3,  6,  2,  0, 15, 20, 16, 14, 11]], dtype=int32)"
            ]
          },
          "metadata": {}
        }
      ]
    },
    {
      "cell_type": "code",
      "source": [
        "def sigmoid(z):\n",
        "    return 1.0/(1.0 + jnp.exp(-z))\n",
        "\n",
        "def softmax(y):\n",
        "    return jnp.exp(y) / jnp.sum(jnp.exp(y),axis=0)\n",
        "\n",
        "def lstm_forward(inputs,targets,hprev,cprev,params):\n",
        "    '''\n",
        "    single forward pass of the LSTM\n",
        "\n",
        "    returns loss for this mini-batch\n",
        "\n",
        "    returns cache of variables needed for backwards pass\n",
        "    '''\n",
        "\n",
        "    # dims\n",
        "    mini_batch_size = inputs.shape[0]\n",
        "    seq_length = inputs.shape[1]\n",
        "\n",
        "    hidden_size = hprev.shape[0]\n",
        "\n",
        "    vocab_size = params['Wxc'].shape[1]\n",
        "\n",
        "    # unpack params\n",
        "\n",
        "    Wxc = params['Wxc']\n",
        "    Wxu = params['Wxu']\n",
        "    Wxf = params['Wxf']\n",
        "    Wxo = params['Wxo']\n",
        "\n",
        "    Whc = params['Whc']\n",
        "    Whu = params['Whu']\n",
        "    Whf = params['Whf']\n",
        "    Who = params['Who']\n",
        "\n",
        "    bc = params['bc']\n",
        "    bu = params['bu']\n",
        "    bf = params['bf']\n",
        "    bo = params['bo']\n",
        "\n",
        "    Why = params['Why']\n",
        "    by = params['by']\n",
        "\n",
        "    # caches for forward pass\n",
        "\n",
        "    xs, hs, cs, c_tildes = {}, {}, {}, {}\n",
        "\n",
        "    gamma_us, gamma_fs, gamma_os = {}, {}, {}\n",
        "\n",
        "    ys, ps = {},{}\n",
        "\n",
        "    hs[-1] = jnp.tile(hprev,(1,mini_batch_size))\n",
        "    cs[-1] = jnp.tile(cprev,(1,mini_batch_size))\n",
        "\n",
        "    loss = 0\n",
        "\n",
        "    for t in range(seq_length):\n",
        "        xs[t] = jnp.zeros((vocab_size,mini_batch_size))\n",
        "\n",
        "        xs[t] = xs[t].at[inputs[:,t],jnp.arange(mini_batch_size)].set(1) # batch of one-hot vectors for time t\n",
        "\n",
        "        zc = jnp.dot(Wxc,xs[t]) + jnp.dot(Whc,hs[t-1]) + bc  # linear activation for candidate cell state C~\n",
        "        zu = jnp.dot(Wxu,xs[t]) + jnp.dot(Whu,hs[t-1]) + bu  # linear activation for update gate\n",
        "        zf = jnp.dot(Wxf,xs[t]) + jnp.dot(Whf,hs[t-1]) + bf  # linear activation for forget gate\n",
        "        zo = jnp.dot(Wxo,xs[t]) + jnp.dot(Who,hs[t-1]) + bo  # linear activation for output gate\n",
        "\n",
        "        c_tildes[t] = jnp.tanh(zc) # canidate for new c state\n",
        "\n",
        "        gamma_us[t] = sigmoid(zu)\n",
        "        gamma_fs[t] = sigmoid(zf)\n",
        "        gamma_os[t] = sigmoid(zo)\n",
        "\n",
        "        cs[t] = jnp.tanh(jnp.multiply(c_tildes[t],gamma_us[t]) + jnp.multiply(cs[t-1],gamma_fs[t]))  # tanh here is import!!!\n",
        "\n",
        "        hs[t] = jnp.multiply(cs[t],gamma_os[t]) # hidden state\n",
        "\n",
        "        ys[t] = jnp.dot(Why, hs[t]) + by # unnormalized log probabilities for next chars\n",
        "\n",
        "        ps[t] = softmax(ys[t]) # probabilities for next chars\n",
        "\n",
        "        loss += -jnp.mean(jnp.log(ps[t][targets[:,t],jnp.arange(mini_batch_size)]))   #  ps[t] should be shape (vocab_size,mini_batch_size)\n",
        "\n",
        "    p_cache = (ys,ps)\n",
        "\n",
        "    gates = (gamma_us,gamma_fs,gamma_os)\n",
        "\n",
        "    states = (xs,hs,cs,c_tildes)\n",
        "\n",
        "    return loss, p_cache, gates, states"
      ],
      "metadata": {
        "id": "kkNHK-6EjYHh"
      },
      "execution_count": 8,
      "outputs": []
    },
    {
      "cell_type": "code",
      "source": [
        "h = jnp.zeros((hidden_size,1))\n",
        "c = jnp.zeros((hidden_size,1))\n",
        "\n",
        "test_loss, p_cache, g_cache, s_cache = lstm_forward(inp,targ,h,c,params)"
      ],
      "metadata": {
        "id": "UxIUNno4oiKU"
      },
      "execution_count": 9,
      "outputs": []
    },
    {
      "cell_type": "code",
      "source": [
        "test_loss"
      ],
      "metadata": {
        "colab": {
          "base_uri": "https://localhost:8080/"
        },
        "id": "2WrNAE9ao4fO",
        "outputId": "a0849302-0ac7-4132-93ac-6a82eab8bb36"
      },
      "execution_count": 10,
      "outputs": [
        {
          "output_type": "execute_result",
          "data": {
            "text/plain": [
              "Array(32.581303, dtype=float32)"
            ]
          },
          "metadata": {},
          "execution_count": 10
        }
      ]
    },
    {
      "cell_type": "code",
      "source": [
        "print(type(p_cache),len(p_cache))\n",
        "print(type(g_cache),len(g_cache))\n",
        "print(type(s_cache),len(s_cache))"
      ],
      "metadata": {
        "colab": {
          "base_uri": "https://localhost:8080/"
        },
        "id": "H6uPaSKyrW5A",
        "outputId": "8210482c-9d73-454a-967e-b0426da78b22"
      },
      "execution_count": 11,
      "outputs": [
        {
          "output_type": "stream",
          "name": "stdout",
          "text": [
            "<class 'tuple'> 2\n",
            "<class 'tuple'> 3\n",
            "<class 'tuple'> 4\n"
          ]
        }
      ]
    },
    {
      "cell_type": "code",
      "source": [
        "%timeit lstm_forward(inp,targ,h,c,params)[0].block_until_ready()"
      ],
      "metadata": {
        "colab": {
          "base_uri": "https://localhost:8080/"
        },
        "id": "saQwgUaCpHTx",
        "outputId": "8e89fff9-a6e3-4882-a14c-9ff99a8cf09f"
      },
      "execution_count": 12,
      "outputs": [
        {
          "output_type": "stream",
          "name": "stdout",
          "text": [
            "153 ms ± 16.3 ms per loop (mean ± std. dev. of 7 runs, 10 loops each)\n"
          ]
        }
      ]
    },
    {
      "cell_type": "code",
      "source": [
        "lstm_forward_jit = jit(lstm_forward)\n",
        "\n",
        "#warmup\n",
        "lstm_forward_jit(inp,targ,h,c,params)[0].block_until_ready()\n",
        "\n",
        "%timeit lstm_forward_jit(inp,targ,h,c,params)[0].block_until_ready()"
      ],
      "metadata": {
        "colab": {
          "base_uri": "https://localhost:8080/"
        },
        "id": "yIRyLFTvpaia",
        "outputId": "92a71442-fec7-474a-d5f6-b28e4af7be22"
      },
      "execution_count": 13,
      "outputs": [
        {
          "output_type": "stream",
          "name": "stdout",
          "text": [
            "647 µs ± 11.5 µs per loop (mean ± std. dev. of 7 runs, 1000 loops each)\n"
          ]
        }
      ]
    },
    {
      "cell_type": "code",
      "source": [
        "150*1000/583"
      ],
      "metadata": {
        "colab": {
          "base_uri": "https://localhost:8080/"
        },
        "id": "zXr32xhgqGO4",
        "outputId": "373f71b3-e138-4986-fa57-1a96e59b15a9"
      },
      "execution_count": 14,
      "outputs": [
        {
          "output_type": "execute_result",
          "data": {
            "text/plain": [
              "257.28987993138935"
            ]
          },
          "metadata": {},
          "execution_count": 14
        }
      ]
    },
    {
      "cell_type": "code",
      "source": [
        "\n",
        "def lstm_backward(targets,probs_cache,gates_cache,states_cache,params):\n",
        "    '''\n",
        "    backward pass of the LSTM\n",
        "\n",
        "    return gradients for all parameters\n",
        "    '''\n",
        "    #unpack caches\n",
        "\n",
        "    ys,ps = probs_cache\n",
        "\n",
        "    gamma_us,gamma_fs,gamma_os = gates_cache\n",
        "\n",
        "    xs,hs,cs,c_tildes = states_cache\n",
        "\n",
        "    # dims\n",
        "    mini_batch_size = targets.shape[0]\n",
        "    seq_length = targets.shape[1]\n",
        "\n",
        "    hidden_size = hs[-1].shape[0]\n",
        "\n",
        "    vocab_size = params['Wxc'].shape[1]\n",
        "\n",
        "    # unpack parameters\n",
        "\n",
        "    Wxc = params['Wxc']\n",
        "    Wxu = params['Wxu']\n",
        "    Wxf = params['Wxf']\n",
        "    Wxo = params['Wxo']\n",
        "\n",
        "    Whc = params['Whc']\n",
        "    Whu = params['Whu']\n",
        "    Whf = params['Whf']\n",
        "    Who = params['Who']\n",
        "\n",
        "    bc = params['bc']\n",
        "    bu = params['bu']\n",
        "    bf = params['bf']\n",
        "    bo = params['bo']\n",
        "\n",
        "    Why = params['Why']\n",
        "    by = params['by']\n",
        "\n",
        "    #initialize gradients to zero\n",
        "\n",
        "    dWxc,dWxu,dWxf,dWxo = jnp.zeros_like(Wxc), jnp.zeros_like(Wxu), jnp.zeros_like(Wxf), jnp.zeros_like(Wxo)\n",
        "    dWhc,dWhu,dWhf,dWho = jnp.zeros_like(Whc), jnp.zeros_like(Whu), jnp.zeros_like(Whf), jnp.zeros_like(Who)\n",
        "    dbc,dbu,dbf,dbo = jnp.zeros_like(bc), jnp.zeros_like(bu), jnp.zeros_like(bf), jnp.zeros_like(bo)\n",
        "    dWhy,dby = jnp.zeros_like(Why), jnp.zeros_like(by)\n",
        "\n",
        "    # tmp variables to accumulate gradients over the backprop -- see differentiation graph\n",
        "    dhnext, dcnext = jnp.zeros_like(hs[0]), jnp.zeros_like(cs[0])\n",
        "\n",
        "    #backward pass\n",
        "\n",
        "    for t in reversed(range(seq_length)):\n",
        "        dy = jnp.copy(ps[t])\n",
        "\n",
        "        dy = dy.at[targets[:,t],jnp.arange(mini_batch_size)].add(-1) #backprop into y\n",
        "\n",
        "        dWhy += jnp.dot(dy, hs[t].T)\n",
        "        dby += jnp.sum(dy,axis=1,keepdims=True)\n",
        "\n",
        "        dh = jnp.dot(Why.T, dy) + dhnext # backprop into h\n",
        "\n",
        "        dc = jnp.multiply((1-cs[t]**2),jnp.multiply(gamma_os[t],dh) + dcnext) #backprop into c\n",
        "\n",
        "        dcnext = jnp.multiply(gamma_fs[t],dc)\n",
        "\n",
        "        dzc = jnp.multiply((1-c_tildes[t]**2),jnp.multiply(gamma_us[t],dc))  # backprop through tanh\n",
        "\n",
        "        dzu = jnp.multiply(gamma_us[t]*(1-gamma_us[t]),jnp.multiply(c_tildes[t],dc))  # sigmoid prime\n",
        "\n",
        "        dzf = jnp.multiply(gamma_fs[t]*(1-gamma_fs[t]),jnp.multiply(cs[t-1],dc))\n",
        "\n",
        "        dzo = jnp.multiply(gamma_os[t]*(1-gamma_os[t]),jnp.multiply(cs[t],dh))\n",
        "\n",
        "        dbc += jnp.sum(dzc,axis=1,keepdims=True)\n",
        "        dbu += jnp.sum(dzu,axis=1,keepdims=True)\n",
        "        dbf += jnp.sum(dzf,axis=1,keepdims=True)\n",
        "        dbo += jnp.sum(dzo,axis=1,keepdims=True)\n",
        "\n",
        "        dWhc += jnp.dot(dzc,hs[t-1].T)\n",
        "        dWhu += jnp.dot(dzu,hs[t-1].T)\n",
        "        dWhf += jnp.dot(dzf,hs[t-1].T)\n",
        "        dWho += jnp.dot(dzo,hs[t-1].T)\n",
        "\n",
        "        dWxc += jnp.dot(dzc,xs[t].T)\n",
        "        dWxu += jnp.dot(dzu,xs[t].T)\n",
        "        dWxf += jnp.dot(dzf,xs[t].T)\n",
        "        dWxo += jnp.dot(dzo,xs[t].T)\n",
        "\n",
        "        # four contributions to dhnext,one from each gate\n",
        "        dhnext = jnp.dot(Whc.T,dzc) + jnp.dot(Whu.T,dzu) + jnp.dot(Whf.T,dzf) + jnp.dot(Who.T,dzo)\n",
        "\n",
        "    grads = dict()\n",
        "\n",
        "    grads['Wxc']=dWxc\n",
        "    grads['Wxu']=dWxu\n",
        "    grads['Wxf']=dWxf\n",
        "    grads['Wxo']=dWxo\n",
        "\n",
        "    grads['Whc']=dWhc\n",
        "    grads['Whu']=dWhu\n",
        "    grads['Whf']=dWhf\n",
        "    grads['Who']=dWho\n",
        "\n",
        "    grads['bc']=dbc\n",
        "    grads['bu']=dbu\n",
        "    grads['bf']=dbf\n",
        "    grads['bo']=dbo\n",
        "\n",
        "    grads['Why']=dWhy\n",
        "    grads['by']=dby\n",
        "\n",
        "    for parameter in grads.keys():\n",
        "        grads[parameter] = jnp.clip(grads[parameter], -5, 5) # clip to mitigate exploding gradients\n",
        "\n",
        "    return grads"
      ],
      "metadata": {
        "id": "M9URF-wmqYhY"
      },
      "execution_count": 15,
      "outputs": []
    },
    {
      "cell_type": "code",
      "source": [
        "grads_test = lstm_backward(targ,p_cache,g_cache,s_cache,params)\n",
        "\n",
        "print(type(grads_test),len(grads_test))"
      ],
      "metadata": {
        "colab": {
          "base_uri": "https://localhost:8080/"
        },
        "id": "aFjznK680ytU",
        "outputId": "b46cd3c4-d5fe-473d-ccda-cfdfbbad618d"
      },
      "execution_count": 16,
      "outputs": [
        {
          "output_type": "stream",
          "name": "stdout",
          "text": [
            "<class 'dict'> 14\n"
          ]
        }
      ]
    },
    {
      "cell_type": "code",
      "source": [
        "\n",
        "def sgd_step_adam(current_step,inputs,targets,h,c,params,grads_mems,sqrd_mems,beta1,beta2,learning_rate):\n",
        "\n",
        "    # dims\n",
        "    mini_batch_size = inputs.shape[0]\n",
        "    seq_length = inputs.shape[1]\n",
        "\n",
        "    hidden_size = h.shape[0]\n",
        "\n",
        "    vocab_size = params['Wxc'].shape[1]\n",
        "\n",
        "    n = current_step\n",
        "\n",
        "    #forward pass\n",
        "    loss, p_cache, g_cache, s_cache = lstm_forward(inputs,targets,h,c,params)\n",
        "    \n",
        "    #need hs, cs\n",
        "\n",
        "    xs,hs,cs,c_tildes = s_cache\n",
        "\n",
        "    h_next = jnp.mean(hs[seq_length-1],axis=1,keepdims=True)\n",
        "    c_next = jnp.mean(cs[seq_length-1],axis=1,keepdims=True)\n",
        "\n",
        "    new_params = deepcopy(params)\n",
        "\n",
        "    new_mems1 = deepcopy(grads_mems)\n",
        "    new_mems2 = deepcopy(sqrd_mems)\n",
        "\n",
        "    #backward pass\n",
        "    grads = lstm_backward(targets,p_cache,g_cache,s_cache,params)\n",
        "\n",
        "    # perform parameter update with ADAM \n",
        "    for parameter in new_params.keys():\n",
        "\n",
        "        dparam = grads[parameter] / mini_batch_size\n",
        "\n",
        "        new_mems1[parameter] = beta1*new_mems1[parameter] + (1-beta1)*dparam\n",
        "\n",
        "        new_mems2[parameter] = beta2*new_mems2[parameter] + (1-beta2)*dparam*dparam\n",
        "\n",
        "        grad_hat = new_mems1[parameter] / (1-beta1**(n+1))\n",
        "        sqrd_hat = new_mems2[parameter] / (1-beta2**(n+1))\n",
        "\n",
        "        new_params[parameter] += -learning_rate * grad_hat / (jnp.sqrt(sqrd_hat + 1e-8)) # ADAM update\n",
        "\n",
        "    params_cache = (new_params,new_mems1,new_mems2)\n",
        "\n",
        "    hidden_cache = (h_next,c_next)\n",
        "    \n",
        "    return loss, params_cache, hidden_cache"
      ],
      "metadata": {
        "id": "y4-IR4i6u4G5"
      },
      "execution_count": 29,
      "outputs": []
    },
    {
      "cell_type": "code",
      "source": [
        "def train_character_lstm(train_data,seq_length,hidden_size,mini_batch_size,learning_rate,total_steps,initial_key):\n",
        "    '''\n",
        "    fingers crossed!\n",
        "    '''\n",
        "\n",
        "    #current training step counter\n",
        "    n = 0\n",
        "\n",
        "    #unique characters in the data set\n",
        "    chars = set(list(training_data))\n",
        "    vocab_size = len(chars)\n",
        "\n",
        "    #character encoding\n",
        "    char_to_ix = {ch:i for i,ch in enumerate(chars)}\n",
        "    ix_to_char = {i:ch for i,ch in enumerate(chars)}\n",
        "\n",
        "    #generator to get mini-batches\n",
        "    training_gen = get_mini_batch(mini_batch_size,seq_length,char_to_ix,training_data)\n",
        "\n",
        "    #initialize the model weight matrices\n",
        "    params_cache = initialize_weights(initial_key,hidden_size,vocab_size)\n",
        "\n",
        "    #keep list of loss each training step\n",
        "    losses = []\n",
        "    smooth_loss = -jnp.log(1.0/vocab_size)*seq_length\n",
        "    losses.append(smooth_loss)\n",
        "\n",
        "    h_next = jnp.zeros((hidden_size,1))\n",
        "    c_next = jnp.zeros((hidden_size,1))\n",
        "\n",
        "    key = initial_key\n",
        "\n",
        "    sample_size = 200\n",
        "\n",
        "    sample_ix = [0]*sample_size\n",
        "\n",
        "    while n < total_steps:\n",
        "          \n",
        "          inputs,targets = next(training_gen)\n",
        "          \n",
        "          current_loss, params_cache, hidden_cache = jit(sgd_step_adam)(current_step=n,\n",
        "                                                     inputs=inputs,\n",
        "                                                     targets=targets,\n",
        "                                                     h=h_next,\n",
        "                                                     c=c_next,\n",
        "                                                     params=params_cache[0],\n",
        "                                                     grads_mems=params_cache[1],\n",
        "                                                     sqrd_mems=params_cache[2],\n",
        "                                                     beta1=0.9,\n",
        "                                                     beta2=0.999,\n",
        "                                                     learning_rate=learning_rate)\n",
        "          \n",
        "          smooth_loss = 0.999*smooth_loss + 0.001*current_loss\n",
        "          losses.append(smooth_loss)\n",
        "\n",
        "          # sample from the model now and then\n",
        "          if n % 1000 == 0:\n",
        "             key,subkey=random.split(key)\n",
        "\n",
        "             sample_ix = sample(sample_ix[-1],sample_size,key,hidden_cache,params_cache[0])\n",
        "\n",
        "             txt = ''.join(ix_to_char[ix] for ix in sample_ix)\n",
        "             txt_wrap = wrap(txt,80)\n",
        "             txt_wrap = [line.center(100) for line in txt_wrap]\n",
        "             txt = '\\n'.join(txt_wrap)  # \\n aren't in the character set so wrap text to make readable\n",
        "\n",
        "             print('----\\n %s \\n----' % (txt,))\n",
        "\n",
        "          if n%1000==0:\n",
        "             print(f'Loss: {smooth_loss:.4f}\\tRelative: {100*smooth_loss/losses[0]:.4f}')\n",
        "\n",
        "          n+=1\n",
        "\n",
        "    return losses, params_cache, hidden_cache"
      ],
      "metadata": {
        "id": "4tm0YeJQ0Cod"
      },
      "execution_count": 32,
      "outputs": []
    },
    {
      "cell_type": "code",
      "source": [
        "def sample(seed_ix, n, key, hidden_cache, params):\n",
        "    \"\"\"\n",
        "    sample a sequence of integers from the model\n",
        "    h is memory state, seed_ix is seed letter for first time step\n",
        "    \"\"\"\n",
        "\n",
        "    h = hidden_cache[0]\n",
        "    c = hidden_cache[1]\n",
        "\n",
        "    Wxc = params['Wxc']\n",
        "    Wxu = params['Wxu']\n",
        "    Wxf = params['Wxf']\n",
        "    Wxo = params['Wxo']\n",
        "\n",
        "    Whc = params['Whc']\n",
        "    Whu = params['Whu']\n",
        "    Whf = params['Whf']\n",
        "    Who = params['Who']\n",
        "\n",
        "    bc = params['bc']\n",
        "    bu = params['bu']\n",
        "    bf = params['bf']\n",
        "    bo = params['bo']\n",
        "\n",
        "    Why = params['Why']\n",
        "    by = params['by']\n",
        "\n",
        "    vocab_size = Wxc.shape[1]\n",
        "\n",
        "    x = jnp.zeros((vocab_size, 1))\n",
        "    x = x.at[seed_ix].set(1)\n",
        "    ixes = []\n",
        "    for t in range(n):\n",
        "\n",
        "        zc = jnp.dot(Wxc,x) + jnp.dot(Whc,h) + bc  # linear activation for candidate cell state C~\n",
        "        zu = jnp.dot(Wxu,x) + jnp.dot(Whu,h) + bu  # linear activation for update gate\n",
        "        zf = jnp.dot(Wxf,x) + jnp.dot(Whf,h) + bf  # linear activation for forget gate\n",
        "        zo = jnp.dot(Wxo,x) + jnp.dot(Who,h) + bo  # linear activation for output gate\n",
        "\n",
        "        c_tilde = jnp.tanh(zc)\n",
        "\n",
        "        gamma_u = sigmoid(zu)\n",
        "        gamma_f = sigmoid(zf)\n",
        "        gamma_o = sigmoid(zo)\n",
        "\n",
        "        c = jnp.tanh(jnp.multiply(c_tilde,gamma_u) + jnp.multiply(c,gamma_f))\n",
        "\n",
        "        h = jnp.multiply(c,gamma_o) # hidden state\n",
        "\n",
        "        y = jnp.dot(Why, h) + by\n",
        "\n",
        "        p = softmax(y)\n",
        "\n",
        "        key,subkey = random.split(key)\n",
        "\n",
        "        ix = random.choice(key,vocab_size,p=p.reshape(-1,))\n",
        "\n",
        "        x = jnp.zeros((vocab_size, 1))\n",
        "        x = x.at[ix].set(1)\n",
        "\n",
        "        ixes.append(int(ix))\n",
        "\n",
        "    return ixes"
      ],
      "metadata": {
        "id": "cfHeUnxT-NxV"
      },
      "execution_count": 40,
      "outputs": []
    },
    {
      "cell_type": "code",
      "source": [
        "mykey = random.PRNGKey(1)\n",
        "\n",
        "loss_l,out_params,out_hidden = train_character_lstm(train_data=training_data,\n",
        "                                  seq_length=seq_length,\n",
        "                                  hidden_size=hidden_size,\n",
        "                                  mini_batch_size=20,\n",
        "                                  learning_rate=0.01,\n",
        "                                  total_steps=10000,\n",
        "                                  initial_key=mykey)                "
      ],
      "metadata": {
        "colab": {
          "base_uri": "https://localhost:8080/"
        },
        "id": "zqn98JR26NIi",
        "outputId": "af9c840e-781c-4363-f39c-fdd1b7b4d64f"
      },
      "execution_count": 36,
      "outputs": [
        {
          "output_type": "stream",
          "name": "stdout",
          "text": [
            "----\n",
            "           vhldmwlsclzoqyjvecksrnrbyfjbdqagbashszzffhhdpalmskuqqcgtdlboeyhygtoigdwaiacskkzt          \n",
            "          bghjlppdmtelksltmxbhyuwekdscvxqxbovuctxfkfxntmeyrehbzqqvkssgeyfpochvedhrzsfexqko          \n",
            "                              tazwfarkdpouzthuepkplkghevmztoeohmkcjqlz                               \n",
            "----\n",
            "Loss: 32.5810\tRelative: 100.0000\n",
            "----\n",
            "           abcdefghijklmnopqrstuvwxyzabcdefghijklmnopqrstuvwxyzabcdefghijklmnopqrstuvwxyzab          \n",
            "          cdefghijklmnopqrstuvwxyzabcdefghijklmnopqrstuvwxyzabcdefghijklmnopqrstuvwxyzabcd          \n",
            "                              efghijklmnopqrstuvwxyzabcdefghijklmnopqr                               \n",
            "----\n",
            "Loss: 12.3716\tRelative: 37.9719\n",
            "----\n",
            "           stuvwxyzabcdefghijklmnopqrstuvwxyzabcdefghijklmnopqrstuvwxyzabcdefghijklmnopqrst          \n",
            "          uvwxyzabcdefghijklmnopqrstuvwxyzabcdefghijklmnopqrstuvwxyzabcdefghijklmnopqrstuv          \n",
            "                              wxyzabcdefghijklmnopqrstuvwxyzabcdefghij                               \n",
            "----\n",
            "Loss: 4.5501\tRelative: 13.9656\n",
            "----\n",
            "           klmnopqrstuvwxyzabcdefghijklmnopqrstuvwxyzabcdefghijklmnopqrstuvwxyzabcdefghijkl          \n",
            "          mnopqrstuvwxyzabcdefghijklmnopqrstuvwxyzabcdefghijklmnopqrstuvwxyzabcdefghijklmn          \n",
            "                              opqrstuvwxyzabcdefghijklmnopqrstuvwxyzab                               \n",
            "----\n",
            "Loss: 1.6735\tRelative: 5.1363\n",
            "----\n",
            "           vyzabcdefghijklmnopqrstuvwxyzabcdefghijklmnopqrstuvwxyzabcdefghijklmnopqrstuvwxy          \n",
            "          zabcdefghijklmnopqrstuvwxyzabcdefghijklmnopqrstuvwxyzabcdefghijklmnopqrstuvwxyza          \n",
            "                              bcdefghijklmnopqrstuvwxyzabcdefghijklmno                               \n",
            "----\n",
            "Loss: 0.6155\tRelative: 1.8892\n",
            "----\n",
            "           pqrstuvwxyzabcdefghijklmnopqrstuvwxyzabcdefghijklmnopqrstuvwxyzabcdefghijklmnopq          \n",
            "          rstuvwxyzabcdefghijklmnopqrstuvwxyzabcdefghijklmnopqrstuvwxyzabcdefghijklmnopqrs          \n",
            "                              tuvwxyzabcdefghijklmnopqrstuvwxyzabcdefg                               \n",
            "----\n",
            "Loss: 0.2264\tRelative: 0.6950\n",
            "----\n",
            "           hijklmnopqrstuvwxyzabcdefghijklmnopqrstuvwxyzabcdefghijklmnopqrstuvwxyzabcdefghi          \n",
            "          jklmnopqrstuvwxyzabcdefghijklmnopqrstuvwxyzabcdefghijklmnopqrstuvwxyzabcdefghijk          \n",
            "                              lmnopqrstuvwxyzabcdefghijklmnopqrstuvwxy                               \n",
            "----\n",
            "Loss: 0.0833\tRelative: 0.2557\n",
            "----\n",
            "           zabcdefghijklmnopqrstuvwxyzabcdefghijklmnopqrstuvwxyzabcdefghijklmnopqrstuvwxyza          \n",
            "          bcdefghijklmnopqrstuvwxyzabcdefghijklmnopqrstuvwxyzabcdefghijklmnopqrstuvwxyzabc          \n",
            "                              defghijklmnopqrstuvwxyzabcdefghijklmnopq                               \n",
            "----\n",
            "Loss: 0.0307\tRelative: 0.0941\n",
            "----\n",
            "           rstuvwxyzabcdefghijklmnopqrstuvwxyzabcdefghijklmnopqrstuvwxyzabcdefghijklmnopqrs          \n",
            "          tuvwxyzabcdefghijklmnopqrstuvwxyzabcdefghijklmnopqrstuvwxyzabcdefghijklmnopqrstu          \n",
            "                              vwxyzabcdefghijklmnopqrstuvwxyzabcdefghi                               \n",
            "----\n",
            "Loss: 0.0113\tRelative: 0.0347\n",
            "----\n",
            "           jklmnopqrstuvwxyzabcdefghijklmnopqrstuvwxyzabcdefghijklmnopqrstuvwxyzabcdefghijk          \n",
            "          lmnopqrstuvwxyzabcdefghijklmnopqrstuvwxyzabcdefghijklmnopqrstuvwxyzabcdefghijklm          \n",
            "                              nopqrstuvwxyzabcdefghijklmnopqrstuvwxyza                               \n",
            "----\n",
            "Loss: 0.0042\tRelative: 0.0128\n"
          ]
        }
      ]
    },
    {
      "cell_type": "code",
      "source": [
        "import re\n",
        "\n",
        "with open('illiad.txt','r') as file:\n",
        "  training_data = file.read()\n",
        "\n",
        "training_data = re.sub(r\"[^a-zA-Z0-9.,?!:;“”'`’ ]+\", \" \", training_data)\n",
        "training_data = re.sub(r\"[\\s]+\",\" \",training_data)\n",
        "\n",
        "chars = set(list(training_data))\n",
        "\n",
        "vocab_size = len(chars)\n",
        "\n",
        "char_to_ix = {ch:i for i,ch in enumerate(chars)}\n",
        "ix_to_char = {i:ch for i,ch in enumerate(chars)}\n",
        "\n",
        "print(f'{vocab_size} unique characters')\n",
        "print(f'{len(training_data)} total characters')\n",
        "\n",
        "hidden_size = 256\n",
        "\n",
        "seq_length = 100\n",
        "\n",
        "print(f'LSTM with {hidden_size} hidden units')\n",
        "print(f'Will train on character sequences of length {seq_length}')\n",
        "print()\n",
        "txt = wrap(training_data[len(training_data)//2:(len(training_data)//2)+200])\n",
        "txt = [line.center(100) for line in txt]\n",
        "txt = '\\n'.join(txt)\n",
        "print('Training data sample: \\n')\n",
        "print(txt)\n",
        "print()"
      ],
      "metadata": {
        "colab": {
          "base_uri": "https://localhost:8080/"
        },
        "id": "IRb-QXmT8X-4",
        "outputId": "19ccff16-27d3-430f-d387-a438199a09fa"
      },
      "execution_count": 46,
      "outputs": [
        {
          "output_type": "stream",
          "name": "stdout",
          "text": [
            "73 unique characters\n",
            "1108394 total characters\n",
            "LSTM with 256 hidden units\n",
            "Will train on character sequences of length 100\n",
            "\n",
            "Training data sample: \n",
            "\n",
            "                r; For he that Juno’s heavenly bosom warms, The first of gods, this                 \n",
            "               day inspires our arms.” He said; and roused the soul in every breast:                \n",
            "                   Urged with desire of fame, beyond the rest, Forth march’d Deip                   \n",
            "\n"
          ]
        }
      ]
    },
    {
      "cell_type": "code",
      "source": [
        "mykey = random.PRNGKey(1)\n",
        "\n",
        "loss_l,out_params,out_hidden = train_character_lstm(train_data=training_data,\n",
        "                                  seq_length=seq_length,\n",
        "                                  hidden_size=hidden_size,\n",
        "                                  mini_batch_size=30,\n",
        "                                  learning_rate=0.02,\n",
        "                                  total_steps=10000,\n",
        "                                  initial_key=mykey) "
      ],
      "metadata": {
        "colab": {
          "base_uri": "https://localhost:8080/"
        },
        "id": "CsqhhSKiEnuV",
        "outputId": "64034d33-75a3-4960-aee7-47e66ada771b"
      },
      "execution_count": 48,
      "outputs": [
        {
          "output_type": "stream",
          "name": "stdout",
          "text": [
            "----\n",
            "           g Hs.4bc3bm1FM6Wqh8!9x9nLz6npBJ7nD!2!m0z;Iws’DH:c”5BF37tpbnU2L2MiPUKis JyJ3c8?,r          \n",
            "          niw6bC’Y.tqb8cat:VSINTvq?p“3WoBok1W5hro;”;oYtdQMr'In0BFO”cc7'M;CEhwOQGI90!zqoF81          \n",
            "                              tD,4;DX”seEu,PwTQe?’H”iI2WdmPUq1I:”3ZBH0                               \n",
            "----\n",
            "Loss: 429.0460\tRelative: 100.0000\n",
            "----\n",
            "            the lend, Fighted toppityser, and start heald defured; The gods, And rising at           \n",
            "             his short let the charge of munk he fate, nor great Troy show, she spears,             \n",
            "                           Ufferds the pantil force, ghests, or and unmo                             \n",
            "----\n",
            "Loss: 261.0233\tRelative: 60.8381\n",
            "----\n",
            "           us had there with the grinnly knees: the soul of Trojans shine this have startes          \n",
            "          in Hisenze to prevail’d? Asperoous’ arms to guide, For one repainted battles to           \n",
            "                              commands; Through receive. In more, and                                \n",
            "----\n",
            "Loss: 183.9725\tRelative: 42.8794\n",
            "----\n",
            "           en advancuign of the grits; Or should concrated, Think. “With this each sparkles          \n",
            "          respoteds: Blowd for men suspect thou dares the matelia on, when dItable Fambor           \n",
            "                               rabs or, through the warrior bany; the                                \n",
            "----\n",
            "Loss: 152.3657\tRelative: 35.5127\n",
            "----\n",
            "               bears thrown Greece it baff the same, in arms tor wasted in her wood the              \n",
            "            daggies. So forced! knowl not occus’d for that they shaltly spect, 144 With             \n",
            "                        steers to hand as flantic stad on the shore From po                          \n",
            "----\n",
            "Loss: 137.8072\tRelative: 32.1194\n",
            "----\n",
            "             deson’s, in each toil not wounds, To heaven attresped Greece, is he the king            \n",
            "             obey’d, And trembling all him as thou made, O foe toler’d eyes Episted of              \n",
            "                          Jupiter to all the fent and charms pale Lapona’s                           \n",
            "----\n",
            "Loss: 132.3732\tRelative: 30.8529\n",
            "----\n",
            "             lekinguling bound, Till, whose round parts array’d, Deep in, in how, In arm             \n",
            "             opposed, and the hills: “Whole shades lost, o’er Patroclus was seen! Then              \n",
            "                         numbers to the father’s arms he forced, Large scat                          \n",
            "----\n",
            "Loss: 129.9754\tRelative: 30.2941\n",
            "----\n",
            "           her such certain inglitable cord.” 21 , and, unwarlike eyed with woess at which           \n",
            "            mother land. Much “or number. The repulsion of Thessi. , when a town out the            \n",
            "                            round of those of his nather known.” Dryden                              \n",
            "----\n",
            "Loss: 128.0892\tRelative: 29.8544\n",
            "----\n",
            "            to Teene below. Till, whose large dear! but, would even fav aeach ascended the           \n",
            "           masts attend The passades of the tempests of full show. Glow’d to the nervous            \n",
            "                             rage to cries to conquest of Pytheus strik                              \n",
            "----\n",
            "Loss: 126.5445\tRelative: 29.4944\n",
            "----\n",
            "               ’s Thions stampid and whose arms confound; For man his walls how shall a              \n",
            "          chariot, and the event: “What back the rest once all, and o’er the poles, Wrongs          \n",
            "                           heard before, despair her shore? Large scatter                            \n",
            "----\n",
            "Loss: 126.7079\tRelative: 29.5325\n"
          ]
        }
      ]
    },
    {
      "cell_type": "code",
      "source": [
        "import matplotlib.pyplot as plt\n",
        "\n",
        "import numpy as np\n",
        "\n",
        "fig,ax = plt.subplots(figsize=(8,4))\n",
        "\n",
        "loss_array = np.log10(np.array(loss_l))\n",
        "\n",
        "ax.plot(np.arange(len(loss_array)),loss_array,'g-')\n",
        "\n",
        "ax.set_ylabel('$Log_{10}(L)$')\n",
        "ax.set_xlabel('n')\n",
        "\n",
        "plt.show()"
      ],
      "metadata": {
        "colab": {
          "base_uri": "https://localhost:8080/",
          "height": 388
        },
        "id": "6bo7iM2-EuMr",
        "outputId": "dd68042e-e09d-4d3d-dff5-990e644b3067"
      },
      "execution_count": 60,
      "outputs": [
        {
          "output_type": "display_data",
          "data": {
            "text/plain": [
              "<Figure size 800x400 with 1 Axes>"
            ],
            "image/png": "[encoded data removed]"
          },
          "metadata": {}
        }
      ]
    },
    {
      "cell_type": "code",
      "source": [
        "mykey = random.PRNGKey(1)\n",
        "\n",
        "loss_l2,out_params2,out_hidden2 = train_character_lstm(train_data=training_data,\n",
        "                                  seq_length=seq_length,\n",
        "                                  hidden_size=512,\n",
        "                                  mini_batch_size=30,\n",
        "                                  learning_rate=0.01,\n",
        "                                  total_steps=10000,\n",
        "                                  initial_key=mykey) "
      ],
      "metadata": {
        "colab": {
          "base_uri": "https://localhost:8080/"
        },
        "id": "SJ-m5jABKqe-",
        "outputId": "71394a39-14b9-4d50-812a-78d9525201ab"
      },
      "execution_count": 62,
      "outputs": [
        {
          "output_type": "stream",
          "name": "stdout",
          "text": [
            "----\n",
            "           g Hs.4bchbm1FM6Wqh8!9x9nLz6npBJ7nDc2!m0z;IwseDH:c”5BF37tpbnU2L2MiPUKis JyJ3c8?,r          \n",
            "          niw6bC’Y.tqb8cat:VSINTvq?p“3WoBok1W5hro;”;oYtdQMr'I.0BFO”cc7'M;CEhwOQGI90!zqoF81          \n",
            "                              tD,4;DX”se1u,PwTQe?’H”iw2WdmPUq1I:”3ZBH0                               \n",
            "----\n",
            "Loss: 429.0460\tRelative: 100.0000\n",
            "----\n",
            "            the lengthful courage in the war. Undame a lament; dippares o’er I deap’d ample          \n",
            "             own some lost; Greek his should happy breathes; her, whele great Achilles              \n",
            "                            mustard to the fate; 23 The charms my megual                             \n",
            "----\n",
            "Loss: 267.2834\tRelative: 62.2971\n",
            "----\n",
            "           their careful cheer.” May must resounts of armour, dildars in his hand approach           \n",
            "          my soft, and thought consign; His carpet stay the but and charm’d heart?” Hungs           \n",
            "                              return’s from his arm once need, O flows                               \n",
            "----\n",
            "Loss: 186.5574\tRelative: 43.4819\n",
            "----\n",
            "             as shall; Nor not to the unides of the soul. Prarched and e’er I denied these           \n",
            "           eyes: Then small even as one, and start, such recking money their contractite            \n",
            "                             take. The prize, he less heroes have flow,                              \n",
            "----\n",
            "Loss: 150.5633\tRelative: 35.0926\n",
            "----\n",
            "             assembler yield, of it retrious protends: The future lo! in vain dis rival’s            \n",
            "          quires to rest, Or if he spested with the prize, he full’d dispose his age: Far           \n",
            "                            locks the father doar on blast he sits, The                              \n",
            "----\n",
            "Loss: 132.9755\tRelative: 30.9933\n",
            "----\n",
            "             sted rous his sanguing prey, With the mingled fury burns even I desired. The            \n",
            "              hills along the bowl of Greeks display’d! Back on that seed the epithet               \n",
            "                         address’d the plant, For old  his thoughthing of a                          \n",
            "----\n",
            "Loss: 125.2662\tRelative: 29.1964\n",
            "----\n",
            "           rest, Fight Peleus two fair sheathes not Jove; Shall seize this happy darts his           \n",
            "            soul advance, And mother, and Ulysses fold: In funerances shook her fortunes            \n",
            "                            earth! Vance; or thy charms parteyly stood,                              \n",
            "----\n",
            "Loss: 121.1513\tRelative: 28.2374\n",
            "----\n",
            "            earl, is of the impaticity of the Colmander; Even and hisedge employed from the          \n",
            "           mask of long feelware for elengled band upon fulfil him as well assembled the            \n",
            "                             reportence of the echoes of light. The as                               \n",
            "----\n",
            "Loss: 117.8646\tRelative: 27.4713\n",
            "----\n",
            "              there heard, th the unwearied lance renew, Forth and with generous martial             \n",
            "           toils procluim. Now boaster so foretes the ground; With every Greeks not Troy!           \n",
            "                           Once more the Grecian hopes not charge, And t                             \n",
            "----\n",
            "Loss: 115.1268\tRelative: 26.8332\n",
            "----\n",
            "            : “Few shalt thy youth be sold, his lance; For knows no tricops and my bed the           \n",
            "           navy sate. With dark affords the rest compass, ends shall choose, Thet sunk to           \n",
            "                             Jove, thak bear so brave his youthful lead                              \n",
            "----\n",
            "Loss: 113.8763\tRelative: 26.5418\n"
          ]
        }
      ]
    },
    {
      "cell_type": "code",
      "source": [
        "fig,ax = plt.subplots(figsize=(10,6))\n",
        "\n",
        "loss_array1 = np.log10(np.array(loss_l))\n",
        "loss_array2 = np.log10(np.array(loss_l2))\n",
        "\n",
        "ax.plot(np.arange(len(loss_array1))*0.02,loss_array1,'g-')\n",
        "ax.plot(np.arange(len(loss_array2))*0.01,loss_array2,'r-')\n",
        "\n",
        "ax.set_ylabel('$Log_{10}(L)$')\n",
        "ax.set_xlabel('n*eta')\n",
        "\n",
        "plt.show()"
      ],
      "metadata": {
        "colab": {
          "base_uri": "https://localhost:8080/",
          "height": 542
        },
        "id": "q5SKjsYtL6Po",
        "outputId": "423c9a2f-e433-4099-82a8-e1807705a918"
      },
      "execution_count": 67,
      "outputs": [
        {
          "output_type": "display_data",
          "data": {
            "text/plain": [
              "<Figure size 1000x600 with 1 Axes>"
            ],
            "image/png": "[encoded data removed]"
          },
          "metadata": {}
        }
      ]
    },
    {
      "cell_type": "code",
      "source": [],
      "metadata": {
        "id": "eC8EDutFO5CU"
      },
      "execution_count": null,
      "outputs": []
    }
  ]
}